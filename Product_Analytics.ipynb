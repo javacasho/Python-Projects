{
 "cells": [
  {
   "cell_type": "markdown",
   "metadata": {},
   "source": [
    "# Product Analytics with SQL and Python"
   ]
  },
  {
   "cell_type": "markdown",
   "metadata": {},
   "source": [
    "This is an analytics report which analyzes consumer behavior, trends and significant findings for relationships between Thumbtack service professionals"
   ]
  },
  {
   "cell_type": "code",
   "execution_count": null,
   "metadata": {},
   "outputs": [],
   "source": [
    "import pandas as pd\n",
    "import numpy as np\n",
    "import sqlite3\n",
    "import sys\n",
    "!{sys.executable} -m pip install pandasql\n",
    "from pandasql import sqldf\n",
    "from pandasql import *\n",
    "import calendar"
   ]
  },
  {
   "cell_type": "code",
   "execution_count": 7,
   "metadata": {},
   "outputs": [],
   "source": [
    "visitors=pd.read_csv(\"visitors.csv\")\n"
   ]
  },
  {
   "cell_type": "code",
   "execution_count": 36,
   "metadata": {},
   "outputs": [
    {
     "data": {
      "text/html": [
       "<div>\n",
       "<style scoped>\n",
       "    .dataframe tbody tr th:only-of-type {\n",
       "        vertical-align: middle;\n",
       "    }\n",
       "\n",
       "    .dataframe tbody tr th {\n",
       "        vertical-align: top;\n",
       "    }\n",
       "\n",
       "    .dataframe thead th {\n",
       "        text-align: right;\n",
       "    }\n",
       "</style>\n",
       "<table border=\"1\" class=\"dataframe\">\n",
       "  <thead>\n",
       "    <tr style=\"text-align: right;\">\n",
       "      <th></th>\n",
       "      <th>request_id</th>\n",
       "      <th>quote_id</th>\n",
       "      <th>quote_price</th>\n",
       "      <th>hired</th>\n",
       "      <th>pro_id</th>\n",
       "    </tr>\n",
       "  </thead>\n",
       "  <tbody>\n",
       "    <tr>\n",
       "      <th>0</th>\n",
       "      <td>1</td>\n",
       "      <td>38912310</td>\n",
       "      <td>NaN</td>\n",
       "      <td>0</td>\n",
       "      <td>851539</td>\n",
       "    </tr>\n",
       "    <tr>\n",
       "      <th>1</th>\n",
       "      <td>1</td>\n",
       "      <td>38912311</td>\n",
       "      <td>210.0</td>\n",
       "      <td>0</td>\n",
       "      <td>10113954</td>\n",
       "    </tr>\n",
       "    <tr>\n",
       "      <th>2</th>\n",
       "      <td>1</td>\n",
       "      <td>38913628</td>\n",
       "      <td>NaN</td>\n",
       "      <td>0</td>\n",
       "      <td>13498826</td>\n",
       "    </tr>\n",
       "    <tr>\n",
       "      <th>3</th>\n",
       "      <td>1</td>\n",
       "      <td>38914071</td>\n",
       "      <td>NaN</td>\n",
       "      <td>0</td>\n",
       "      <td>15921289</td>\n",
       "    </tr>\n",
       "    <tr>\n",
       "      <th>4</th>\n",
       "      <td>1</td>\n",
       "      <td>38912344</td>\n",
       "      <td>NaN</td>\n",
       "      <td>0</td>\n",
       "      <td>14506387</td>\n",
       "    </tr>\n",
       "    <tr>\n",
       "      <th>5</th>\n",
       "      <td>2</td>\n",
       "      <td>39189751</td>\n",
       "      <td>175.0</td>\n",
       "      <td>0</td>\n",
       "      <td>76329</td>\n",
       "    </tr>\n",
       "    <tr>\n",
       "      <th>6</th>\n",
       "      <td>2</td>\n",
       "      <td>39189531</td>\n",
       "      <td>100.0</td>\n",
       "      <td>1</td>\n",
       "      <td>10995392</td>\n",
       "    </tr>\n",
       "    <tr>\n",
       "      <th>7</th>\n",
       "      <td>3</td>\n",
       "      <td>38146708</td>\n",
       "      <td>NaN</td>\n",
       "      <td>0</td>\n",
       "      <td>5836949</td>\n",
       "    </tr>\n",
       "    <tr>\n",
       "      <th>8</th>\n",
       "      <td>3</td>\n",
       "      <td>38178389</td>\n",
       "      <td>NaN</td>\n",
       "      <td>0</td>\n",
       "      <td>5918823</td>\n",
       "    </tr>\n",
       "    <tr>\n",
       "      <th>9</th>\n",
       "      <td>4</td>\n",
       "      <td>38192457</td>\n",
       "      <td>100.0</td>\n",
       "      <td>0</td>\n",
       "      <td>15728846</td>\n",
       "    </tr>\n",
       "    <tr>\n",
       "      <th>10</th>\n",
       "      <td>6</td>\n",
       "      <td>38019902</td>\n",
       "      <td>NaN</td>\n",
       "      <td>1</td>\n",
       "      <td>5946838</td>\n",
       "    </tr>\n",
       "    <tr>\n",
       "      <th>11</th>\n",
       "      <td>6</td>\n",
       "      <td>39654871</td>\n",
       "      <td>342.0</td>\n",
       "      <td>0</td>\n",
       "      <td>16766783</td>\n",
       "    </tr>\n",
       "    <tr>\n",
       "      <th>12</th>\n",
       "      <td>7</td>\n",
       "      <td>39323696</td>\n",
       "      <td>90.0</td>\n",
       "      <td>0</td>\n",
       "      <td>13845097</td>\n",
       "    </tr>\n",
       "    <tr>\n",
       "      <th>13</th>\n",
       "      <td>7</td>\n",
       "      <td>39306659</td>\n",
       "      <td>95.0</td>\n",
       "      <td>1</td>\n",
       "      <td>721711</td>\n",
       "    </tr>\n",
       "    <tr>\n",
       "      <th>14</th>\n",
       "      <td>7</td>\n",
       "      <td>39307016</td>\n",
       "      <td>100.0</td>\n",
       "      <td>0</td>\n",
       "      <td>3100367</td>\n",
       "    </tr>\n",
       "    <tr>\n",
       "      <th>15</th>\n",
       "      <td>7</td>\n",
       "      <td>39306763</td>\n",
       "      <td>90.0</td>\n",
       "      <td>0</td>\n",
       "      <td>13344666</td>\n",
       "    </tr>\n",
       "    <tr>\n",
       "      <th>16</th>\n",
       "      <td>7</td>\n",
       "      <td>39307152</td>\n",
       "      <td>100.0</td>\n",
       "      <td>0</td>\n",
       "      <td>10465008</td>\n",
       "    </tr>\n",
       "    <tr>\n",
       "      <th>17</th>\n",
       "      <td>9</td>\n",
       "      <td>39373522</td>\n",
       "      <td>NaN</td>\n",
       "      <td>0</td>\n",
       "      <td>2922236</td>\n",
       "    </tr>\n",
       "    <tr>\n",
       "      <th>18</th>\n",
       "      <td>9</td>\n",
       "      <td>39408337</td>\n",
       "      <td>NaN</td>\n",
       "      <td>0</td>\n",
       "      <td>15121390</td>\n",
       "    </tr>\n",
       "    <tr>\n",
       "      <th>19</th>\n",
       "      <td>9</td>\n",
       "      <td>39375814</td>\n",
       "      <td>NaN</td>\n",
       "      <td>0</td>\n",
       "      <td>512253</td>\n",
       "    </tr>\n",
       "  </tbody>\n",
       "</table>\n",
       "</div>"
      ],
      "text/plain": [
       "    request_id  quote_id  quote_price  hired    pro_id\n",
       "0            1  38912310          NaN      0    851539\n",
       "1            1  38912311        210.0      0  10113954\n",
       "2            1  38913628          NaN      0  13498826\n",
       "3            1  38914071          NaN      0  15921289\n",
       "4            1  38912344          NaN      0  14506387\n",
       "5            2  39189751        175.0      0     76329\n",
       "6            2  39189531        100.0      1  10995392\n",
       "7            3  38146708          NaN      0   5836949\n",
       "8            3  38178389          NaN      0   5918823\n",
       "9            4  38192457        100.0      0  15728846\n",
       "10           6  38019902          NaN      1   5946838\n",
       "11           6  39654871        342.0      0  16766783\n",
       "12           7  39323696         90.0      0  13845097\n",
       "13           7  39306659         95.0      1    721711\n",
       "14           7  39307016        100.0      0   3100367\n",
       "15           7  39306763         90.0      0  13344666\n",
       "16           7  39307152        100.0      0  10465008\n",
       "17           9  39373522          NaN      0   2922236\n",
       "18           9  39408337          NaN      0  15121390\n",
       "19           9  39375814          NaN      0    512253"
      ]
     },
     "execution_count": 36,
     "metadata": {},
     "output_type": "execute_result"
    }
   ],
   "source": [
    "quotes=pd.read_csv(\"quotes.csv\")\n",
    "quotes.head(20)\n"
   ]
  },
  {
   "cell_type": "markdown",
   "metadata": {},
   "source": [
    "# (1) Visitors and Conversion Rate"
   ]
  },
  {
   "cell_type": "markdown",
   "metadata": {},
   "source": [
    "##  How does the number of visitors change over time?"
   ]
  },
  {
   "cell_type": "markdown",
   "metadata": {},
   "source": [
    "-  We are only looking at the essential \"traffic\" for Thumbtack (in other words, we are interested in visitors regardless of whether they submitted a request or not)."
   ]
  },
  {
   "cell_type": "markdown",
   "metadata": {},
   "source": [
    "-  In order to work with our dates in an easier manner, it is useful to take the session date variable we have to extract different variables of year, month, and day. This will allow us to select certain parts of a datetime to exhibit visitor change over time."
   ]
  },
  {
   "cell_type": "code",
   "execution_count": 9,
   "metadata": {},
   "outputs": [],
   "source": [
    "visitors['session_date'] = pd.to_datetime(visitors['session_date']) \n",
    "visitors['year'] = visitors['session_date'].dt.year\n",
    "visitors['month'] = visitors['session_date'].dt.month\n",
    "visitors['day'] = visitors['session_date'].dt.day\n",
    "visitors['month'] = visitors['month'].apply(lambda x: calendar.month_abbr[x])"
   ]
  },
  {
   "cell_type": "markdown",
   "metadata": {},
   "source": [
    "- We noticed that our data of visitors actually comes from the same year and same month being August 2016, by looking at our created year and month columns. To show a change over time, we essentially need to see how the number of visitors changes throughout different days in the month of August in 2016. "
   ]
  },
  {
   "cell_type": "code",
   "execution_count": 10,
   "metadata": {},
   "outputs": [],
   "source": [
    "pysqldf = lambda q: sqldf(q, globals())\n",
    "q=\"\"\"SELECT day AS DAY, COUNT(*) AS COUNT FROM visitors GROUP BY day;\"\"\"\n",
    "data=pd.DataFrame(pysqldf(q))\n"
   ]
  },
  {
   "cell_type": "code",
   "execution_count": 14,
   "metadata": {},
   "outputs": [
    {
     "data": {
      "image/png": "[encoded data removed]",
      "text/plain": [
       "<Figure size 432x288 with 1 Axes>"
      ]
     },
     "metadata": {
      "needs_background": "light"
     },
     "output_type": "display_data"
    }
   ],
   "source": [
    "import matplotlib.pyplot as plt\n",
    "plt.subplot(1,1,1)\n",
    "plt.plot(data.DAY, data.COUNT)\n",
    "plt.title('Number of Visitors throughout August 2016')\n",
    "plt.xlabel('Day of the Month')\n",
    "plt.ylabel('Number of Visitors')\n",
    "plt.show()\n"
   ]
  },
  {
   "cell_type": "markdown",
   "metadata": {},
   "source": [
    "-  From the line graph above, it is evident that the number of visitors over this 28 day span does vary a lot. There are large increases between differences of 1 or 2 days, and there are decreases throughout the month too. Decreases in number of visitors usually occur for about 6 days until they reach an abrupt increasing point. "
   ]
  },
  {
   "cell_type": "markdown",
   "metadata": {},
   "source": [
    "- Looking back at the calendar for August 2016, we discover that days of the week in which the number of visitors are low correspond to weekends or Fridays. In addition, all the high peeks occured on Mondays. Clearly users seem to be flocking into Thumbtack more heavily on certain days!"
   ]
  },
  {
   "cell_type": "markdown",
   "metadata": {},
   "source": [
    "## What percent of visitors submit a project request?"
   ]
  },
  {
   "cell_type": "code",
   "execution_count": 15,
   "metadata": {},
   "outputs": [
    {
     "data": {
      "text/plain": [
       "1    34146\n",
       "0    25850\n",
       "Name: sent_request, dtype: int64"
      ]
     },
     "execution_count": 15,
     "metadata": {},
     "output_type": "execute_result"
    }
   ],
   "source": [
    "visitors.sent_request.value_counts()\n"
   ]
  },
  {
   "cell_type": "code",
   "execution_count": 16,
   "metadata": {},
   "outputs": [],
   "source": [
    "df=pd.DataFrame({'Users': [ 'Requested','No Request'],\n",
    "                 'Percentage': [((34146/(34146+25850))*100),\n",
    "                                (25850/(34146+25850))*100],})"
   ]
  },
  {
   "cell_type": "code",
   "execution_count": 17,
   "metadata": {},
   "outputs": [
    {
     "data": {
      "image/png": "[encoded data removed]",
      "text/plain": [
       "<Figure size 640x480 with 1 Axes>"
      ]
     },
     "metadata": {},
     "output_type": "display_data"
    }
   ],
   "source": [
    "import matplotlib.pyplot as plt; plt.rcdefaults()\n",
    "import numpy as np\n",
    "import matplotlib.pyplot as plt\n",
    "labels = 'Requested','Not Requested'\n",
    "sizes = [34146,25850]\n",
    "explode = (0,0)\n",
    "#colors\n",
    "colors = ['#ff9999','#66b3ff','#99ff99','#ffcc99']\n",
    "#explsion \n",
    "plt.pie(sizes, colors = colors, labels=labels, autopct='%1.1f%%'\n",
    "        , startangle=90, pctdistance=0.85, explode = explode)\n",
    "centre_circle = plt.Circle((0,0),0.70,fc='white')\n",
    "fig = plt.gcf()\n",
    "fig.gca().add_artist(centre_circle) \n",
    "plt.tight_layout()\n",
    "plt.show()"
   ]
  },
  {
   "cell_type": "markdown",
   "metadata": {},
   "source": [
    "-  The above pie chart indicates once more that there is a greater percentage of visitors that did submit a request!"
   ]
  },
  {
   "cell_type": "markdown",
   "metadata": {},
   "source": [
    "## How do category and device influence these metrics?"
   ]
  },
  {
   "cell_type": "markdown",
   "metadata": {},
   "source": [
    "### Device"
   ]
  },
  {
   "cell_type": "code",
   "execution_count": 18,
   "metadata": {},
   "outputs": [
    {
     "data": {
      "text/html": [
       "<div>\n",
       "<style scoped>\n",
       "    .dataframe tbody tr th:only-of-type {\n",
       "        vertical-align: middle;\n",
       "    }\n",
       "\n",
       "    .dataframe tbody tr th {\n",
       "        vertical-align: top;\n",
       "    }\n",
       "\n",
       "    .dataframe thead th {\n",
       "        text-align: right;\n",
       "    }\n",
       "</style>\n",
       "<table border=\"1\" class=\"dataframe\">\n",
       "  <thead>\n",
       "    <tr style=\"text-align: right;\">\n",
       "      <th></th>\n",
       "      <th>device</th>\n",
       "      <th>Total_COUNTS</th>\n",
       "      <th>Requested_Counts</th>\n",
       "      <th>Proportion_Requested</th>\n",
       "    </tr>\n",
       "  </thead>\n",
       "  <tbody>\n",
       "    <tr>\n",
       "      <th>0</th>\n",
       "      <td>desktop</td>\n",
       "      <td>32295</td>\n",
       "      <td>18708.0</td>\n",
       "      <td>0.58</td>\n",
       "    </tr>\n",
       "    <tr>\n",
       "      <th>1</th>\n",
       "      <td>mobile</td>\n",
       "      <td>27701</td>\n",
       "      <td>15438.0</td>\n",
       "      <td>0.56</td>\n",
       "    </tr>\n",
       "  </tbody>\n",
       "</table>\n",
       "</div>"
      ],
      "text/plain": [
       "    device  Total_COUNTS  Requested_Counts  Proportion_Requested\n",
       "0  desktop         32295           18708.0                  0.58\n",
       "1   mobile         27701           15438.0                  0.56"
      ]
     },
     "execution_count": 18,
     "metadata": {},
     "output_type": "execute_result"
    }
   ],
   "source": [
    "q=\"\"\"SELECT *, ROUND(Requested_Counts/Total_COUNTS,2) AS Proportion_Requested FROM\n",
    "(SELECT device,COUNT(*) AS Total_COUNTS,CAST(SUM(sent_request=1) AS FLOAT) AS Requested_Counts\n",
    "FROM visitors GROUP BY device);\"\"\"\n",
    "data=pd.DataFrame(pysqldf(q))\n",
    "data\n",
    "\n"
   ]
  },
  {
   "cell_type": "markdown",
   "metadata": {},
   "source": [
    "-  From the above table, it is evident that individuals that started request forms using a desktop actually ended up submitting a request more often than those we engaged with a mobile (58% vs 56% respectively)."
   ]
  },
  {
   "cell_type": "markdown",
   "metadata": {},
   "source": [
    "### Two sample proportion z-test for difference in proportions"
   ]
  },
  {
   "cell_type": "markdown",
   "metadata": {},
   "source": [
    "Null Hypothesis : Proportions are the same"
   ]
  },
  {
   "cell_type": "markdown",
   "metadata": {},
   "source": [
    "Alternative Hypothesis : Proportions are not the same"
   ]
  },
  {
   "cell_type": "code",
   "execution_count": 19,
   "metadata": {},
   "outputs": [
    {
     "name": "stdout",
     "output_type": "stream",
     "text": [
      "['5.419151179011', '0.000000059883']\n"
     ]
    }
   ],
   "source": [
    "import statsmodels.api as sm\n",
    "z1, p_value1 = sm.stats.proportions_ztest([18708.0, 15438.0], [32295, 27701])\n",
    "\n",
    "print(['{:.12f}'.format(b) for b in (z1, p_value1)])"
   ]
  },
  {
   "cell_type": "markdown",
   "metadata": {},
   "source": [
    "-  Our p value (the second number in the result) is lower than alpha = 0.05 (our tolerance). Since our probability is <1%, this basically means given that there is no difference in proportions, we would obtain our observed difference in proportions or more in less than 1% of studies, due to random sampling error. Because our p-value is below our tolerance, we have evidence to **reject** the null hypothesis of no difference in proportions at the alpha=0.05 level. Our sample was so inconsistent with the null hypothesis that we may reject it for the population. Now we have a baseline of how the request measure differs with respect to device type."
   ]
  },
  {
   "cell_type": "markdown",
   "metadata": {},
   "source": [
    "### Hypotheses for desktop vs mobile users ~ differences in percentage that requested"
   ]
  },
  {
   "cell_type": "markdown",
   "metadata": {},
   "source": [
    "-  Research has shown us that during recent years, the number of **visits** from a mobile device to a business has surpassed desktop users from 57% to 63% (Source: stonetemple.com) However, **it is a different case when actual purchasing from the business is considered.** For example, Demetrius Williams of translatemedia noted the success that desktop purchasing has in ecommerce when he claimed, \"Customers are more comfortable making final purchase decisions on expensive items on desktop screens as site navigation is less cumbersome\" (Source: translatemedia). Though submitting a request for quotes on Thumbtack is not the final step of purchase, the reasoning may be powerful enough that Thumbtack analysts can regard this popular trend as to explain some of the reason why decisions of submitting requests occur more frequently on the desktop."
   ]
  },
  {
   "cell_type": "markdown",
   "metadata": {},
   "source": [
    "-  The first indicator mobile experience may need to be improved is that though mobile device visits are now more common than desktops, this is the opposite as seen for Thumbtack in our above data of counts! Secondly, the difference in proportions of request submissions could be explained by a lack of quality with interaction and visual design in apps or mobile sites. This user experience is important for product designers and the data above could be of meaningful insight that product designers at Thumbtack need to improve the functionality of apps. For example, people may be spending too much time using the app and don't end up submitting a request, or there could be a lack of understanding of using the app."
   ]
  },
  {
   "cell_type": "markdown",
   "metadata": {},
   "source": [
    "### Category"
   ]
  },
  {
   "cell_type": "code",
   "execution_count": 20,
   "metadata": {},
   "outputs": [
    {
     "data": {
      "text/html": [
       "<div>\n",
       "<style scoped>\n",
       "    .dataframe tbody tr th:only-of-type {\n",
       "        vertical-align: middle;\n",
       "    }\n",
       "\n",
       "    .dataframe tbody tr th {\n",
       "        vertical-align: top;\n",
       "    }\n",
       "\n",
       "    .dataframe thead th {\n",
       "        text-align: right;\n",
       "    }\n",
       "</style>\n",
       "<table border=\"1\" class=\"dataframe\">\n",
       "  <thead>\n",
       "    <tr style=\"text-align: right;\">\n",
       "      <th></th>\n",
       "      <th>category_name</th>\n",
       "      <th>Total_COUNTS</th>\n",
       "      <th>Requested_Counts</th>\n",
       "      <th>Proportion_Requested</th>\n",
       "    </tr>\n",
       "  </thead>\n",
       "  <tbody>\n",
       "    <tr>\n",
       "      <th>0</th>\n",
       "      <td>House Cleaning (One Time)</td>\n",
       "      <td>17347</td>\n",
       "      <td>10966.0</td>\n",
       "      <td>0.63</td>\n",
       "    </tr>\n",
       "    <tr>\n",
       "      <th>1</th>\n",
       "      <td>Local Moving (under 50 miles)</td>\n",
       "      <td>42649</td>\n",
       "      <td>23180.0</td>\n",
       "      <td>0.54</td>\n",
       "    </tr>\n",
       "  </tbody>\n",
       "</table>\n",
       "</div>"
      ],
      "text/plain": [
       "                   category_name  Total_COUNTS  Requested_Counts  \\\n",
       "0      House Cleaning (One Time)         17347           10966.0   \n",
       "1  Local Moving (under 50 miles)         42649           23180.0   \n",
       "\n",
       "   Proportion_Requested  \n",
       "0                  0.63  \n",
       "1                  0.54  "
      ]
     },
     "execution_count": 20,
     "metadata": {},
     "output_type": "execute_result"
    }
   ],
   "source": [
    "q=\"\"\"SELECT *, ROUND(Requested_Counts/Total_COUNTS,2) AS Proportion_Requested FROM \n",
    "(SELECT category_name,COUNT(*) AS Total_COUNTS,CAST(SUM(sent_request=1) AS FLOAT)\n",
    "AS Requested_Counts FROM\n",
    "visitors GROUP BY category_name);\"\"\"\n",
    "data1=pd.DataFrame(pysqldf(q))\n",
    "data1\n"
   ]
  },
  {
   "cell_type": "markdown",
   "metadata": {},
   "source": [
    "-  We see from this table that though local moving was the more popular category, submission requests were more common for house cleaning than local moving (63% vs 54% requested, respectively)."
   ]
  },
  {
   "cell_type": "markdown",
   "metadata": {},
   "source": [
    "### Two sample proportion z-test for difference in proportions"
   ]
  },
  {
   "cell_type": "code",
   "execution_count": 21,
   "metadata": {},
   "outputs": [
    {
     "name": "stdout",
     "output_type": "stream",
     "text": [
      "['19.879341876320', '0.000000000000']\n"
     ]
    }
   ],
   "source": [
    "z1, p_value1 = sm.stats.proportions_ztest([10966.0, 23180.0], [17347, 42649])\n",
    "\n",
    "print(['{:.12f}'.format(b) for b in (z1, p_value1)])"
   ]
  },
  {
   "cell_type": "markdown",
   "metadata": {},
   "source": [
    "-  Similarly as before, we **reject** the null hypothesis that the two population proportions of requests for each category are not different."
   ]
  },
  {
   "cell_type": "markdown",
   "metadata": {},
   "source": [
    "### Hypotheses for House Cleaning / Local Moving ~ differences in percentage that requested"
   ]
  },
  {
   "cell_type": "markdown",
   "metadata": {},
   "source": [
    "- As a visitor was filling out the detailed specifications of the local moving project, they may have gained more information about how the moving process will be done. They, for example, could have realized the process was easier than they initially thought and the moving truck rental alone is sufficient. They may have turned to established companies like U-HAUL to do so. There are reasons that visitors looking for home cleaning will more likely submit a quote request. If they had engaged in starting a request, there would be less of a chance that they would turn to other methods. For example, they likely would not rent cleaning supplies for the house and then perform the service themselves as those items are inexpensive and not suitable for renting. "
   ]
  },
  {
   "cell_type": "markdown",
   "metadata": {},
   "source": [
    "- This data may be exlusive to a particular region in which there is a growing movement away from the region to nearby cities within 50 miles. If this is the case, there will be more demand and therefore prices of the pros would increase. Thumbtack users may have searched their service in their region for general prices and decided to go after cheaper alternatives such as U-HAUL."
   ]
  },
  {
   "cell_type": "markdown",
   "metadata": {},
   "source": [
    "# (2) Quotes Per Request"
   ]
  },
  {
   "cell_type": "markdown",
   "metadata": {},
   "source": [
    "## What is the distribution of the number of quotes per request?"
   ]
  },
  {
   "cell_type": "markdown",
   "metadata": {},
   "source": [
    "-  Because we are investgating requests and their respective quotes, we need to perform a join on the two tables. We consider an inner join on the request id that will return the intersection of two tables."
   ]
  },
  {
   "cell_type": "code",
   "execution_count": 22,
   "metadata": {},
   "outputs": [],
   "source": [
    "Full = pd.merge(visitors,\n",
    "                 quotes,\n",
    "                 on='request_id')"
   ]
  },
  {
   "cell_type": "code",
   "execution_count": 23,
   "metadata": {},
   "outputs": [],
   "source": [
    "q=\"\"\"SELECT * FROM Full ORDER BY request_id;\"\"\"\n",
    "data1=pd.DataFrame(pysqldf(q))"
   ]
  },
  {
   "cell_type": "code",
   "execution_count": 24,
   "metadata": {},
   "outputs": [],
   "source": [
    "q=\"\"\"SELECT request_id, COUNT(*) AS Number_Quotes FROM data1 GROUP BY request_id;\"\"\"\n",
    "Dist=pd.DataFrame(pysqldf(q))\n",
    "\n",
    "\n"
   ]
  },
  {
   "cell_type": "code",
   "execution_count": 25,
   "metadata": {},
   "outputs": [
    {
     "data": {
      "image/png": "[encoded data removed]",
      "text/plain": [
       "<Figure size 640x480 with 1 Axes>"
      ]
     },
     "metadata": {},
     "output_type": "display_data"
    }
   ],
   "source": [
    "import seaborn as sns\n",
    "ax = sns.countplot(x=\"Number_Quotes\", data=Dist)\n",
    "ax.set_title(\"Distribution of Number of Quotes per Request\")\n",
    "ax.set(xlabel='Number of Quotes',ylabel='Respective Counts')\n",
    "plt.show()"
   ]
  },
  {
   "cell_type": "markdown",
   "metadata": {},
   "source": [
    "-  We see from above that the distribution of number of quotes per request is skewed to the right because it has a long tail from values of 2 to 5. There is a long tail is the positive direction of the number line, and the mean is located to the right of the peak, at 2.395. The most commonly occuring number of quotes was 2, and the least was 5."
   ]
  },
  {
   "cell_type": "markdown",
   "metadata": {},
   "source": [
    "## What factors contribute to some requests getting more quotes than others?"
   ]
  },
  {
   "cell_type": "markdown",
   "metadata": {},
   "source": [
    "### For local moving, it would be interesting to see how the distance in miles can affect # quotes given"
   ]
  },
  {
   "cell_type": "code",
   "execution_count": 26,
   "metadata": {},
   "outputs": [],
   "source": [
    "q=\"\"\"SELECT how_far, ROUND(AVG(COUNT),3) AS Average_Number_Quotes \n",
    "FROM(SELECT request_id, how_far,\n",
    "COUNT(*) AS COUNT FROM Full WHERE category_name LIKE 'Local%'\n",
    "AND how_far IS NOT NULL GROUP BY\n",
    "request_id,how_far) GROUP BY how_far;\"\"\"\n",
    "Tab=pd.DataFrame(pysqldf(q))\n",
    "Tab1=Tab.reindex([5,4,3,0,1,2])\n",
    "\n"
   ]
  },
  {
   "cell_type": "code",
   "execution_count": 27,
   "metadata": {},
   "outputs": [],
   "source": [
    "q=\"\"\"SELECT Distance, Average_Number_Quotes FROM(SELECT *, CASE WHEN \n",
    "how_far='Within the same building' then 'Same Area'\n",
    "                    WHEN how_far='Less than 5 miles' then '<5'\n",
    "                    WHEN how_far='5 - 10 miles' then '5-10'\n",
    "                    WHEN how_far='11 - 20 miles' then '11-20'\n",
    "                    WHEN how_far='21 - 30 miles' then '21-30'\n",
    "                    WHEN how_far='31 - 50 miles' then '31-50' \n",
    "                    END AS Distance FROM Tab1);\"\"\"\n",
    "Tab2=pd.DataFrame(pysqldf(q))\n"
   ]
  },
  {
   "cell_type": "code",
   "execution_count": 28,
   "metadata": {},
   "outputs": [
    {
     "data": {
      "text/plain": [
       "[Text(0,0.5,'Average Number of Quotes'), Text(0.5,0,'Distance (miles)')]"
      ]
     },
     "execution_count": 28,
     "metadata": {},
     "output_type": "execute_result"
    },
    {
     "data": {
      "image/png": "[encoded data removed]",
      "text/plain": [
       "<Figure size 640x480 with 1 Axes>"
      ]
     },
     "metadata": {},
     "output_type": "display_data"
    }
   ],
   "source": [
    "ax = sns.barplot(x=\"Distance\", y=\"Average_Number_Quotes\", data=Tab2)\n",
    "ax.set_title(\"Average Number of Quotes by Distance\")\n",
    "ax.set(xlabel='Distance (miles)',ylabel='Average Number of Quotes')\n"
   ]
  },
  {
   "cell_type": "markdown",
   "metadata": {},
   "source": [
    "-  From the bar chart above we see that as the distance in miles increases for the location of move, the requester tends to get more quotes for a moving service."
   ]
  },
  {
   "cell_type": "markdown",
   "metadata": {},
   "source": [
    "### The effect of the number of Bedrooms on number of quotes"
   ]
  },
  {
   "cell_type": "code",
   "execution_count": 29,
   "metadata": {},
   "outputs": [],
   "source": [
    "q=\"\"\"SELECT Bedrooms, AVG(Quotes) AS Average_Quotes\n",
    "FROM(SELECT Bedrooms, request_id, COUNT(*) AS Quotes\n",
    "FROM(SELECT *, SUBSTR(num_bedrooms,1,1) AS Bedrooms FROM Full\n",
    "WHERE category_name LIKE 'House%' AND num_bedrooms IS NOT NULL)\n",
    "GROUP BY Bedrooms,request_id) GROUP BY Bedrooms;\"\"\"\n",
    "Tab2=pd.DataFrame(pysqldf(q))\n",
    "Tab3=Tab2.reindex([5,0,1,2,3,4])\n",
    "Tab3=Tab3.replace({'S': 'Studio', '5':'5+'}, regex=True)"
   ]
  },
  {
   "cell_type": "code",
   "execution_count": 30,
   "metadata": {},
   "outputs": [
    {
     "data": {
      "text/plain": [
       "[Text(0,0.5,'Average Number of Quotes'), Text(0.5,0,'Bedroom Count or Studio')]"
      ]
     },
     "execution_count": 30,
     "metadata": {},
     "output_type": "execute_result"
    },
    {
     "data": {
      "image/png": "[encoded data removed]",
      "text/plain": [
       "<Figure size 640x480 with 1 Axes>"
      ]
     },
     "metadata": {},
     "output_type": "display_data"
    }
   ],
   "source": [
    "ax = sns.barplot(x=\"Bedrooms\", y=\"Average_Quotes\", data=Tab3)\n",
    "ax.set_title(\"Average Number of Quotes by # Bedrooms\")\n",
    "ax.set(xlabel='Bedroom Count or Studio',ylabel='Average Number of Quotes')\n"
   ]
  },
  {
   "cell_type": "markdown",
   "metadata": {},
   "source": [
    "-  Again,we see a similar trend from the above table and barplot being that as we increase the bedroom count of the home (and therefore generally the size of the home), there are more quotes given."
   ]
  },
  {
   "cell_type": "markdown",
   "metadata": {},
   "source": [
    "### Hypotheses & explanations for why some requests recieve more quotes"
   ]
  },
  {
   "cell_type": "markdown",
   "metadata": {},
   "source": [
    "-  We saw similar results when we looked into distance for house moving and number of bedrooms for cleaning with respect to average number of quotes. Increasing the distance of moving homes and # of bedrooms both may correspond to longer time needed to complete the service. Therefore, we can conclude our findings by noting that the pros prefer customers that demand more, and thus more time needed to complete the project. This may be because they would rather stick to one customer for a long period of time than to go around the city and find 2 or 3 customers to work for during the same time frame. Communication with these customer and reading each of their requests and demands in the form is more time consuming, and time is money!"
   ]
  },
  {
   "cell_type": "markdown",
   "metadata": {},
   "source": [
    "# (3) Job Value"
   ]
  },
  {
   "cell_type": "markdown",
   "metadata": {},
   "source": [
    "### For each category, what is the distribution of quote prices for a project?"
   ]
  },
  {
   "cell_type": "markdown",
   "metadata": {},
   "source": [
    "#### Data Preprocessing before distribution analysis"
   ]
  },
  {
   "cell_type": "code",
   "execution_count": 31,
   "metadata": {},
   "outputs": [
    {
     "data": {
      "text/plain": [
       "count    31554.000000\n",
       "mean       242.516896\n",
       "std        273.232394\n",
       "min          0.000000\n",
       "25%        120.000000\n",
       "50%        195.000000\n",
       "75%        350.000000\n",
       "max      25504.000000\n",
       "Name: quote_price, dtype: float64"
      ]
     },
     "execution_count": 31,
     "metadata": {},
     "output_type": "execute_result"
    }
   ],
   "source": [
    "Full.quote_price.describe()"
   ]
  },
  {
   "cell_type": "code",
   "execution_count": 32,
   "metadata": {},
   "outputs": [
    {
     "name": "stdout",
     "output_type": "stream",
     "text": [
      "32776\n"
     ]
    }
   ],
   "source": [
    "print(sum(Full.quote_price.isna()))"
   ]
  },
  {
   "cell_type": "markdown",
   "metadata": {},
   "source": [
    "-  We first need to explain some of the summary statistics for quote prices. Firstly, it is hard to believe that the max cost of a quote would be 25,000 dollars for any service of moving under 50 miles, or cleaning one's home. This observation could be neglected in future analysis because it is an outlier, could be a mistake, or a different currency of which we do not know.\n",
    "\n"
   ]
  },
  {
   "cell_type": "markdown",
   "metadata": {},
   "source": [
    "-  We can infer quote prices of 0 to mean pros that are offering their service free for first time customers or just a general special deal.\n",
    "\n"
   ]
  },
  {
   "cell_type": "markdown",
   "metadata": {},
   "source": [
    "-  NAs in the quote prices may mean that the pro was unable to provide a quote based on the limited information a customer provided in their request form. Another possibility is they may represent a quote of a large range of money, but are included as NAs because it is not a single number. \n",
    "\n"
   ]
  },
  {
   "cell_type": "markdown",
   "metadata": {},
   "source": [
    "-  We will remove observations of quote prices that are beyond the 99.9th percentile for prices. We believe these to be very likely false and a mistake. In addition, we purge rows with NAs for observing price distributions.\n",
    "\n"
   ]
  },
  {
   "cell_type": "code",
   "execution_count": 33,
   "metadata": {},
   "outputs": [],
   "source": [
    "q=\"\"\"SELECT * FROM Full WHERE quote_price IS NOT NULL;\"\"\"\n",
    "Prices=pd.DataFrame(pysqldf(q))\n",
    "Prices=Prices[Prices.quote_price <= Prices.quote_price.quantile(.999)]"
   ]
  },
  {
   "cell_type": "code",
   "execution_count": 34,
   "metadata": {},
   "outputs": [
    {
     "data": {
      "text/plain": [
       "array([<matplotlib.axes._subplots.AxesSubplot object at 0x000001E79161E780>,\n",
       "       <matplotlib.axes._subplots.AxesSubplot object at 0x000001E78D1AF630>],\n",
       "      dtype=object)"
      ]
     },
     "execution_count": 34,
     "metadata": {},
     "output_type": "execute_result"
    },
    {
     "data": {
      "image/png": "[encoded data removed]",
      "text/plain": [
       "<Figure size 640x480 with 2 Axes>"
      ]
     },
     "metadata": {},
     "output_type": "display_data"
    }
   ],
   "source": [
    "Prices['quote_price'].hist(by=Prices['category_name'],bins=40)"
   ]
  },
  {
   "cell_type": "markdown",
   "metadata": {},
   "source": [
    "-  The tallest cluster of bars represent the most common values. For house cleaning, more commonly they were quoted figures of about 150. For local moving the numbers were slightly higher of about 350 dollars. The house cleaning histogram spread was from 0 to about 600, and 0 to 2000 for local moving. The house cleaning distribution is skewed to the right. This means most of the sampled values are gathered on the right side of the histogram. The local moving distribution is clearly unimodal because it is more bell shaped than house cleaning and has only one clear peak.\n",
    "\n"
   ]
  },
  {
   "cell_type": "markdown",
   "metadata": {},
   "source": [
    "### For each category, what is an appropriate price for Thumbtack to charge pros to quote?"
   ]
  },
  {
   "cell_type": "markdown",
   "metadata": {},
   "source": [
    "-  We have reason to believe that Thumbtack should charge local moving pros more for quotes than house cleaning. The reason there should be reasonable difference between the price of quotes is due to the cost of the service that the customer will be paying for. We got a sense of this when distribution analysis indicated local moving quotes are on average more than twice as costly as home cleaning. To clarify further, one can imagine pros that provide services having large returns of 1000+ dollars will be willing to spend more on quotes to introduce themselves than if the service costed 80 dollars."
   ]
  },
  {
   "cell_type": "code",
   "execution_count": 35,
   "metadata": {},
   "outputs": [
    {
     "data": {
      "text/html": [
       "<div>\n",
       "<style scoped>\n",
       "    .dataframe tbody tr th:only-of-type {\n",
       "        vertical-align: middle;\n",
       "    }\n",
       "\n",
       "    .dataframe tbody tr th {\n",
       "        vertical-align: top;\n",
       "    }\n",
       "\n",
       "    .dataframe thead th {\n",
       "        text-align: right;\n",
       "    }\n",
       "</style>\n",
       "<table border=\"1\" class=\"dataframe\">\n",
       "  <thead>\n",
       "    <tr style=\"text-align: right;\">\n",
       "      <th></th>\n",
       "      <th>category_name</th>\n",
       "      <th>hired</th>\n",
       "      <th>Mean_Quote_Price</th>\n",
       "    </tr>\n",
       "  </thead>\n",
       "  <tbody>\n",
       "    <tr>\n",
       "      <th>0</th>\n",
       "      <td>House Cleaning (One Time)</td>\n",
       "      <td>0</td>\n",
       "      <td>153.99</td>\n",
       "    </tr>\n",
       "    <tr>\n",
       "      <th>1</th>\n",
       "      <td>House Cleaning (One Time)</td>\n",
       "      <td>1</td>\n",
       "      <td>143.23</td>\n",
       "    </tr>\n",
       "    <tr>\n",
       "      <th>2</th>\n",
       "      <td>Local Moving (under 50 miles)</td>\n",
       "      <td>0</td>\n",
       "      <td>355.14</td>\n",
       "    </tr>\n",
       "    <tr>\n",
       "      <th>3</th>\n",
       "      <td>Local Moving (under 50 miles)</td>\n",
       "      <td>1</td>\n",
       "      <td>326.88</td>\n",
       "    </tr>\n",
       "  </tbody>\n",
       "</table>\n",
       "</div>"
      ],
      "text/plain": [
       "                   category_name  hired  Mean_Quote_Price\n",
       "0      House Cleaning (One Time)      0            153.99\n",
       "1      House Cleaning (One Time)      1            143.23\n",
       "2  Local Moving (under 50 miles)      0            355.14\n",
       "3  Local Moving (under 50 miles)      1            326.88"
      ]
     },
     "execution_count": 35,
     "metadata": {},
     "output_type": "execute_result"
    }
   ],
   "source": [
    "q=\"\"\"SELECT category_name, hired, ROUND(AVG(quote_price),2)\n",
    "AS Mean_Quote_Price FROM Full GROUP BY category_name,hired;\"\"\"\n",
    "group=pd.DataFrame(pysqldf(q))\n",
    "group.head()"
   ]
  },
  {
   "cell_type": "markdown",
   "metadata": {},
   "source": [
    "-  We should first remind ourselves that charging for quotes  could lead to pros raising their quotes to make up for the cost. And with this action, prices would rise and less pros may be hired. Looking at the table above the mean hired quote price for house cleaning pros was at 143.23. If Thumbtack were to charge 10 dollars for each of the pros to put up a quote, the pros might make up for it and instead charge about 154 and that is the mean quote price for the pros that were not hired! Even though Thumbtack earns 10% of the revenue after bookings, if bookings are not made then that is a serious issue. Similarly, charging 28 dollars for quotes for local moving pros would bring the mean quote price for the hired to about 355, the typical price where the pros do not get hired!"
   ]
  },
  {
   "cell_type": "markdown",
   "metadata": {},
   "source": [
    "-  Reccomendation : Charge half the amount of dollars it takes to reach the mean quote prices for those non-hired pros.  5 dollars for house cleaners pros to quote, and 14 dollars for local moving pros to quote."
   ]
  },
  {
   "cell_type": "markdown",
   "metadata": {},
   "source": [
    "# (4) Further Exploration"
   ]
  },
  {
   "cell_type": "markdown",
   "metadata": {},
   "source": [
    "- It will be useful to develop machine learning methods for predicting the binary response variable \"hired\". Explatory analysis should be conducted first to decide which variables should be included in the model for predictive purposes. In addition, other variables such as the rating of the pro on Thumbtack or the number of reviews if they are in other data sets would provide more value into this analysis. We can consider methods of logistic regression, random forest, support vector machines and compare their accuracies on testing data (future data) when used on training data."
   ]
  },
  {
   "cell_type": "markdown",
   "metadata": {},
   "source": [
    "- If we had text/review data for visitors that did not write a request and explained why they did so, we can construct word clouds which would give us a general sense of what those visitors are saying and popular words they use to explain why they abandoned their request form. "
   ]
  },
  {
   "cell_type": "markdown",
   "metadata": {},
   "source": [
    "# (5) References for Supporting Hypotheses"
   ]
  },
  {
   "cell_type": "markdown",
   "metadata": {},
   "source": [
    "Enge, E. (2018, April 27). Mobile vs Desktop Usage in 2018: Mobile widens the gap. Retrieved from https://www.stonetemple.com/mobile-vs-desktop-usage-study/\n",
    "\n",
    "Williams, D. (2018, September 20). Bridging the Gap Between Mobile and Desktop eCommerce Customers. Retrieved from https://www.translatemedia.com/us/blog-usa/bridging-gap-mobile-desktop-ecommerce-customers/"
   ]
  }
 ],
 "metadata": {
  "kernelspec": {
   "display_name": "Python 3",
   "language": "python",
   "name": "python3"
  },
  "language_info": {
   "codemirror_mode": {
    "name": "ipython",
    "version": 3
   },
   "file_extension": ".py",
   "mimetype": "text/x-python",
   "name": "python",
   "nbconvert_exporter": "python",
   "pygments_lexer": "ipython3",
   "version": "3.7.0"
  }
 },
 "nbformat": 4,
 "nbformat_minor": 2
}
