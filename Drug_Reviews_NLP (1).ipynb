{
 "cells": [
  {
   "cell_type": "markdown",
   "metadata": {},
   "source": [
    "# Drug Review Data Science"
   ]
  },
  {
   "cell_type": "markdown",
   "metadata": {},
   "source": [
    "### Author : Avash Monajemi"
   ]
  },
  {
   "cell_type": "markdown",
   "metadata": {},
   "source": [
    "# (0) Motivation"
   ]
  },
  {
   "cell_type": "markdown",
   "metadata": {},
   "source": [
    "Over the course of the last year in my journey of searching for internships and learning more about the data science field, I began to realize the demand in data science for people that know how to extract insights from text data. I am always looking to strengthen my skills in the best way possible as a prosepctive data scientist, and I believe keeping up with the most important trends in data science and AI is important and a way to set yourself apart from the rest of the crowd. The importance of NLP tasks made immediate sense to me in that often times in industry and tech companies for example, we need to be able to capture meaning from the voice of the customer directly and understand the sentiments to see how we can improve customer experience. Furthermore, applications of email spam filtering and disease prediction based off of patient speech also made me really excited to try to see how I can work with this kind of data myself. Since I have not learned these concepts in actual classes at university, I decided I wanted to take the step to learn these msyelf so that I get an excellent starting point.\n",
    "\n",
    "After learning online about NLP and its booming usage in the healthcare industry as a means to improve healthcare costs and experiences, I decided to choose a data set that pertains in some way to this topic. I have chosen a data set of pharmacudical drug reviews from Drugs.com that I will be working with."
   ]
  },
  {
   "cell_type": "markdown",
   "metadata": {},
   "source": [
    "## (1) Background Information"
   ]
  },
  {
   "cell_type": "markdown",
   "metadata": {},
   "source": [
    "### 1.1 Introduction to Drug Reviews"
   ]
  },
  {
   "cell_type": "markdown",
   "metadata": {},
   "source": [
    "This dataset is regarding 215063 observations of drug reviews and other variables that provide additional information to their review.\n",
    "\n",
    "##### How was this data created?\n",
    "- The answer is through web scraping. Web scraping is the act of gathering specific data and copying it from the web into a database or spreadsheet for purposes of data analysis. To explain further, all of the information and variables in this dataset are located somewhere on the web page of reviews and is compiled into distinct columns of information. Members of the UCI machine learning repository are acredited for creating this dataset by looking through pharmaceutical review sites and web scraping relevant information.\n",
    "\n",
    "##### What is a drug review anyway?\n",
    "-  A drug review notes a patient's critique of a drug they consumed. A patient decides to use a drug to stabilize symptoms (physical or mental characteristics) due to their condition/disease, and they make a note of reactions to the drug & effectiveness in curing symptoms related to their condition. Thus, drug reviews could potentially be of neutral language because some patients may have positive feelings regarding their drugs effectiveness to cure symptoms of their current condition, but may be unhappy with the side effects. For example, the government of South Australia notes the importance of drug effects when they note, \"sometimes unwanted side-effects may be produced and the potential benefits of the medicine need to be weighed up against the risk of side-effects\". For our data, we expect that most drug reviews will not be completely positive as they often have side effects.\n",
    "\n",
    "-  **Example** : \"I took this Bumex drug and it has been helping my high blood pressure condition for two weeks now! However, I am very upset with the side-effects as I have experienced slow muscle movements and intense fatigue.\"\n",
    "\n"
   ]
  },
  {
   "cell_type": "markdown",
   "metadata": {},
   "source": [
    "### 1.2 Additional Variable Information / Importance"
   ]
  },
  {
   "cell_type": "markdown",
   "metadata": {},
   "source": [
    "We have already explained the meaning and context behind a drug review which is 1 out of the 6 variables in our data. Now we will explain the supporting variables.\n",
    "\n",
    "\n",
    "##### Drug Name\n",
    "-  The drug name is simply the name of the drug that the patient consumed to treat their condition/disease. These drugs can be of different shapes and states such as liquids or solid tablets. More importantly, some patients used a combination drug which consists of two different drugs used together to treat a condition, and this is noted by a \" / \" in the variable.\n",
    "\n",
    "-  **Example of drug forms** The drug Buprenorphine used to treat opiod addictions is given in the form of a tablet or pill.\n",
    "\n",
    "-  **Example of combination drugs** In our data, there are cases where a patient used the combination drug Buprenorphine / naloxone instead of Buprenorphine alone. In fact, the condition of treating opiod addictions, it is common for patients to consume this combination drug after they had consumed Buprenorphine alone.\n",
    "##### Condition\n",
    "-  Firstly, we must note that the term \"Condition\" in this variable comprises of many different types of disorders, diseases, illnesses, infections, syndromes, and the like. One key distinction between some conditions is curable vs. non-curable. Furthermore, there are key differences in these different types of conditions and understanding them could be very important to analyzing why patient's satisfaction level may be lower for one classification of condition than another.\n",
    "\n",
    "\n",
    "-  **Example** A *syndrome* is a collection (1 or more) distinct symptoms that characterize a *disease*.\n",
    "\n",
    "\n",
    "##### Rating\n",
    "-  This variable is seen throughout many different discussions of topics or establishments. The rating of the drug essentially describes the satisfaction level out of 10 in this data. The Rating ranges from 1 to 10 and larger values represent higher satisfaction. There could be many factors or attributes that are correlated with rating and we will explore them further.\n",
    "\n",
    "\n",
    "##### Date\n",
    "-  This variable is very self-explanatory. The date column in this data shows the day, month, and year in which the review was written online. Why might this be important? There are relationships with seasons and health related measures and we can examine what these are.\n",
    "\n",
    "\n",
    "##### Useful Count\n",
    "-  The number of useful marks a drug review has indicates the number of people that found the review useful. Basically, if there are more useful marks we can regard that review as very useful, and those that have little to none may not be useful. However, it is very important to attach meaning to what \"useful\" might indicate when someone reads a review. We will explore this deeper later but for now a preliminary thought can be that patients regard a review as useful if they have discovered new or specific-patient related insight they did not know before\n"
   ]
  },
  {
   "cell_type": "markdown",
   "metadata": {},
   "source": [
    "## (2) Exploratory Data Analysis / Text Structuring"
   ]
  },
  {
   "cell_type": "code",
   "execution_count": 1,
   "metadata": {},
   "outputs": [
    {
     "name": "stdout",
     "output_type": "stream",
     "text": [
      "Collecting pandasql\n",
      "  Downloading https://files.pythonhosted.org/packages/6b/c4/ee4096ffa2eeeca0c749b26f0371bd26aa5c8b611c43de99a4f86d3de0a7/pandasql-0.7.3.tar.gz\n",
      "Requirement already satisfied: numpy in c:\\programdata\\anaconda3\\lib\\site-packages (from pandasql) (1.15.4)\n",
      "Requirement already satisfied: pandas in c:\\programdata\\anaconda3\\lib\\site-packages (from pandasql) (0.23.4)\n",
      "Requirement already satisfied: sqlalchemy in c:\\programdata\\anaconda3\\lib\\site-packages (from pandasql) (1.2.15)\n",
      "Requirement already satisfied: python-dateutil>=2.5.0 in c:\\programdata\\anaconda3\\lib\\site-packages (from pandas->pandasql) (2.7.5)\n",
      "Requirement already satisfied: pytz>=2011k in c:\\programdata\\anaconda3\\lib\\site-packages (from pandas->pandasql) (2018.7)\n",
      "Requirement already satisfied: six>=1.5 in c:\\programdata\\anaconda3\\lib\\site-packages (from python-dateutil>=2.5.0->pandas->pandasql) (1.12.0)\n",
      "Building wheels for collected packages: pandasql\n",
      "  Running setup.py bdist_wheel for pandasql: started\n",
      "  Running setup.py bdist_wheel for pandasql: finished with status 'done'\n",
      "  Stored in directory: C:\\Users\\javacash\\AppData\\Local\\pip\\Cache\\wheels\\53\\6c\\18\\b87a2e5fa8a82e9c026311de56210b8d1c01846e18a9607fc9\n",
      "Successfully built pandasql\n",
      "Installing collected packages: pandasql\n",
      "Successfully installed pandasql-0.7.3\n"
     ]
    },
    {
     "name": "stderr",
     "output_type": "stream",
     "text": [
      "[nltk_data] Downloading package wordnet to\n",
      "[nltk_data]     C:\\Users\\javacash\\AppData\\Roaming\\nltk_data...\n",
      "[nltk_data]   Unzipping corpora\\wordnet.zip.\n"
     ]
    },
    {
     "data": {
      "text/plain": [
       "True"
      ]
     },
     "execution_count": 1,
     "metadata": {},
     "output_type": "execute_result"
    }
   ],
   "source": [
    "import numpy as np\n",
    "import pandas as pd\n",
    "import sqlite3\n",
    "import sys\n",
    "!{sys.executable} -m pip install pandasql\n",
    "from pandasql import sqldf\n",
    "from pandasql import *\n",
    "import calendar\n",
    "pysqldf = lambda q: sqldf(q, globals())\n",
    "import gensim\n",
    "from gensim.utils import simple_preprocess\n",
    "from gensim.parsing.preprocessing import STOPWORDS\n",
    "from nltk.stem import WordNetLemmatizer, SnowballStemmer\n",
    "from nltk.stem.porter import *\n",
    "import numpy as np\n",
    "np.random.seed(2018)\n",
    "import nltk\n",
    "nltk.download('wordnet')"
   ]
  },
  {
   "cell_type": "code",
   "execution_count": 2,
   "metadata": {},
   "outputs": [
    {
     "data": {
      "text/plain": [
       "(53766, 7)"
      ]
     },
     "execution_count": 2,
     "metadata": {},
     "output_type": "execute_result"
    }
   ],
   "source": [
    "Reviews1=pd.read_csv('drugsComTest_raw.csv')\n",
    "Reviews1.shape"
   ]
  },
  {
   "cell_type": "code",
   "execution_count": 3,
   "metadata": {},
   "outputs": [],
   "source": [
    "Reviews=Reviews1[['drugName', 'condition','review','rating','date','usefulCount']]"
   ]
  },
  {
   "cell_type": "code",
   "execution_count": 4,
   "metadata": {},
   "outputs": [
    {
     "data": {
      "text/html": [
       "<div>\n",
       "<style scoped>\n",
       "    .dataframe tbody tr th:only-of-type {\n",
       "        vertical-align: middle;\n",
       "    }\n",
       "\n",
       "    .dataframe tbody tr th {\n",
       "        vertical-align: top;\n",
       "    }\n",
       "\n",
       "    .dataframe thead th {\n",
       "        text-align: right;\n",
       "    }\n",
       "</style>\n",
       "<table border=\"1\" class=\"dataframe\">\n",
       "  <thead>\n",
       "    <tr style=\"text-align: right;\">\n",
       "      <th></th>\n",
       "      <th>drugName</th>\n",
       "      <th>condition</th>\n",
       "      <th>review</th>\n",
       "      <th>rating</th>\n",
       "      <th>date</th>\n",
       "      <th>usefulCount</th>\n",
       "    </tr>\n",
       "  </thead>\n",
       "  <tbody>\n",
       "    <tr>\n",
       "      <th>0</th>\n",
       "      <td>Mirtazapine</td>\n",
       "      <td>Depression</td>\n",
       "      <td>\"I&amp;#039;ve tried a few antidepressants over th...</td>\n",
       "      <td>10</td>\n",
       "      <td>28-Feb-12</td>\n",
       "      <td>22</td>\n",
       "    </tr>\n",
       "    <tr>\n",
       "      <th>1</th>\n",
       "      <td>Mesalamine</td>\n",
       "      <td>Crohn's Disease, Maintenance</td>\n",
       "      <td>\"My son has Crohn&amp;#039;s disease and has done ...</td>\n",
       "      <td>8</td>\n",
       "      <td>17-May-09</td>\n",
       "      <td>17</td>\n",
       "    </tr>\n",
       "    <tr>\n",
       "      <th>2</th>\n",
       "      <td>Bactrim</td>\n",
       "      <td>Urinary Tract Infection</td>\n",
       "      <td>\"Quick reduction of symptoms\"</td>\n",
       "      <td>9</td>\n",
       "      <td>29-Sep-17</td>\n",
       "      <td>3</td>\n",
       "    </tr>\n",
       "    <tr>\n",
       "      <th>3</th>\n",
       "      <td>Contrave</td>\n",
       "      <td>Weight Loss</td>\n",
       "      <td>\"Contrave combines drugs that were used for al...</td>\n",
       "      <td>9</td>\n",
       "      <td>5-Mar-17</td>\n",
       "      <td>35</td>\n",
       "    </tr>\n",
       "    <tr>\n",
       "      <th>4</th>\n",
       "      <td>Cyclafem 1 / 35</td>\n",
       "      <td>Birth Control</td>\n",
       "      <td>\"I have been on this birth control for one cyc...</td>\n",
       "      <td>9</td>\n",
       "      <td>22-Oct-15</td>\n",
       "      <td>4</td>\n",
       "    </tr>\n",
       "    <tr>\n",
       "      <th>5</th>\n",
       "      <td>Zyclara</td>\n",
       "      <td>Keratosis</td>\n",
       "      <td>\"4 days in on first 2 weeks.  Using on arms an...</td>\n",
       "      <td>4</td>\n",
       "      <td>3-Jul-14</td>\n",
       "      <td>13</td>\n",
       "    </tr>\n",
       "    <tr>\n",
       "      <th>6</th>\n",
       "      <td>Copper</td>\n",
       "      <td>Birth Control</td>\n",
       "      <td>\"I&amp;#039;ve had the copper coil for about 3 mon...</td>\n",
       "      <td>6</td>\n",
       "      <td>6-Jun-16</td>\n",
       "      <td>1</td>\n",
       "    </tr>\n",
       "    <tr>\n",
       "      <th>7</th>\n",
       "      <td>Amitriptyline</td>\n",
       "      <td>Migraine Prevention</td>\n",
       "      <td>\"This has been great for me. I&amp;#039;ve been on...</td>\n",
       "      <td>9</td>\n",
       "      <td>21-Apr-09</td>\n",
       "      <td>32</td>\n",
       "    </tr>\n",
       "    <tr>\n",
       "      <th>8</th>\n",
       "      <td>Methadone</td>\n",
       "      <td>Opiate Withdrawal</td>\n",
       "      <td>\"Ive been on Methadone for over ten years and ...</td>\n",
       "      <td>7</td>\n",
       "      <td>18-Oct-16</td>\n",
       "      <td>21</td>\n",
       "    </tr>\n",
       "    <tr>\n",
       "      <th>9</th>\n",
       "      <td>Levora</td>\n",
       "      <td>Birth Control</td>\n",
       "      <td>\"I was on this pill for almost two years. It d...</td>\n",
       "      <td>2</td>\n",
       "      <td>16-Apr-11</td>\n",
       "      <td>3</td>\n",
       "    </tr>\n",
       "  </tbody>\n",
       "</table>\n",
       "</div>"
      ],
      "text/plain": [
       "          drugName                     condition  \\\n",
       "0      Mirtazapine                    Depression   \n",
       "1       Mesalamine  Crohn's Disease, Maintenance   \n",
       "2          Bactrim       Urinary Tract Infection   \n",
       "3         Contrave                   Weight Loss   \n",
       "4  Cyclafem 1 / 35                 Birth Control   \n",
       "5          Zyclara                     Keratosis   \n",
       "6           Copper                 Birth Control   \n",
       "7    Amitriptyline           Migraine Prevention   \n",
       "8        Methadone             Opiate Withdrawal   \n",
       "9           Levora                 Birth Control   \n",
       "\n",
       "                                              review  rating       date  \\\n",
       "0  \"I&#039;ve tried a few antidepressants over th...      10  28-Feb-12   \n",
       "1  \"My son has Crohn&#039;s disease and has done ...       8  17-May-09   \n",
       "2                      \"Quick reduction of symptoms\"       9  29-Sep-17   \n",
       "3  \"Contrave combines drugs that were used for al...       9   5-Mar-17   \n",
       "4  \"I have been on this birth control for one cyc...       9  22-Oct-15   \n",
       "5  \"4 days in on first 2 weeks.  Using on arms an...       4   3-Jul-14   \n",
       "6  \"I&#039;ve had the copper coil for about 3 mon...       6   6-Jun-16   \n",
       "7  \"This has been great for me. I&#039;ve been on...       9  21-Apr-09   \n",
       "8  \"Ive been on Methadone for over ten years and ...       7  18-Oct-16   \n",
       "9  \"I was on this pill for almost two years. It d...       2  16-Apr-11   \n",
       "\n",
       "   usefulCount  \n",
       "0           22  \n",
       "1           17  \n",
       "2            3  \n",
       "3           35  \n",
       "4            4  \n",
       "5           13  \n",
       "6            1  \n",
       "7           32  \n",
       "8           21  \n",
       "9            3  "
      ]
     },
     "execution_count": 4,
     "metadata": {},
     "output_type": "execute_result"
    }
   ],
   "source": [
    "Reviews.head(10)"
   ]
  },
  {
   "cell_type": "code",
   "execution_count": 5,
   "metadata": {},
   "outputs": [
    {
     "data": {
      "text/html": [
       "<div>\n",
       "<style scoped>\n",
       "    .dataframe tbody tr th:only-of-type {\n",
       "        vertical-align: middle;\n",
       "    }\n",
       "\n",
       "    .dataframe tbody tr th {\n",
       "        vertical-align: top;\n",
       "    }\n",
       "\n",
       "    .dataframe thead th {\n",
       "        text-align: right;\n",
       "    }\n",
       "</style>\n",
       "<table border=\"1\" class=\"dataframe\">\n",
       "  <thead>\n",
       "    <tr style=\"text-align: right;\">\n",
       "      <th></th>\n",
       "      <th>word_count</th>\n",
       "    </tr>\n",
       "  </thead>\n",
       "  <tbody>\n",
       "    <tr>\n",
       "      <th>count</th>\n",
       "      <td>53766.000000</td>\n",
       "    </tr>\n",
       "    <tr>\n",
       "      <th>mean</th>\n",
       "      <td>85.587751</td>\n",
       "    </tr>\n",
       "    <tr>\n",
       "      <th>std</th>\n",
       "      <td>44.767313</td>\n",
       "    </tr>\n",
       "    <tr>\n",
       "      <th>min</th>\n",
       "      <td>1.000000</td>\n",
       "    </tr>\n",
       "    <tr>\n",
       "      <th>25%</th>\n",
       "      <td>49.000000</td>\n",
       "    </tr>\n",
       "    <tr>\n",
       "      <th>50%</th>\n",
       "      <td>85.000000</td>\n",
       "    </tr>\n",
       "    <tr>\n",
       "      <th>75%</th>\n",
       "      <td>127.000000</td>\n",
       "    </tr>\n",
       "    <tr>\n",
       "      <th>max</th>\n",
       "      <td>1222.000000</td>\n",
       "    </tr>\n",
       "  </tbody>\n",
       "</table>\n",
       "</div>"
      ],
      "text/plain": [
       "         word_count\n",
       "count  53766.000000\n",
       "mean      85.587751\n",
       "std       44.767313\n",
       "min        1.000000\n",
       "25%       49.000000\n",
       "50%       85.000000\n",
       "75%      127.000000\n",
       "max     1222.000000"
      ]
     },
     "execution_count": 5,
     "metadata": {},
     "output_type": "execute_result"
    }
   ],
   "source": [
    "Reviews['word_count'] = Reviews['review'].apply(lambda x: len(str(x).split(\" \")))\n",
    "pd.DataFrame(Reviews.word_count.describe())"
   ]
  },
  {
   "cell_type": "markdown",
   "metadata": {},
   "source": [
    "The first point we should note in analyzing word count distributions is that a review having 1222 words is a very large text that is much larger, over 10 times larger, than the 75th percentile of word count which is 127. We can neglect this outlier for visualizing distributions. Furthermore, a review that is as large as 1222 words may not differ with respect to other measures as one that is already high enough at the 99.9th percentile."
   ]
  },
  {
   "cell_type": "code",
   "execution_count": 6,
   "metadata": {},
   "outputs": [
    {
     "data": {
      "text/plain": [
       "[Text(0, 0.5, 'Respective Counts'), Text(0.5, 0, 'Rating')]"
      ]
     },
     "execution_count": 6,
     "metadata": {},
     "output_type": "execute_result"
    }
   ],
   "source": [
    "Reviews1=Reviews[Reviews.word_count <= Reviews.word_count.quantile(.9995)]\n",
    "import matplotlib.pyplot as plt\n",
    "plt.subplot(1, 3, 1)\n",
    "Reviews1['word_count'].hist(bins=40)\n",
    "plt.title(\"Distribution of Word Count in Review\")\n",
    "plt.subplot(1,3,3)\n",
    "import seaborn as sns\n",
    "ax = sns.countplot(x=\"rating\", data=Reviews)\n",
    "ax.set_title(\"Drug Ratings (1-10 Score) Countplot\")\n",
    "ax.set(xlabel='Rating',ylabel='Respective Counts')"
   ]
  },
  {
   "cell_type": "markdown",
   "metadata": {},
   "source": [
    "The plot on the left shows the distribution of # words in the review. We notice the histogram is rather unimodal and has a clear peak at around 130 words representing the most common amount of words used in a review. It is rather difficult to tell if the distribution is skewed rightly or leftly, however since the median is ever so slightly less than the mean, the distribution can be considered as right skewed. The spread is from 0 to about 300 indiciated by the plot.\n",
    "\n",
    "The plot on the right indicates the distribution of drug ratings. We see that most commonly, people are rating the drug very highly and probably effectively in the the range of 8 - 10 ratings, with 10/10 being the most common. The 4th most likely rating a drug user would give is the lowest rating : 1. Clearly there is a large seperation of ratings here.\n",
    "\n",
    "Below is also a boxlpot of the word counts "
   ]
  },
  {
   "cell_type": "code",
   "execution_count": 7,
   "metadata": {},
   "outputs": [
    {
     "data": {
      "image/png": "[encoded data removed]",
      "text/plain": [
       "<Figure size 432x288 with 1 Axes>"
      ]
     },
     "metadata": {
      "needs_background": "light"
     },
     "output_type": "display_data"
    }
   ],
   "source": [
    "ax=sns.boxplot(y=Reviews.word_count, data=Reviews)\n",
    "plt.ylabel(\"Word Count\")\n",
    "plt.title(\"Word Count Distribution\")\n",
    "ax.set_ylim([0, 300])  \n",
    "plt.show()"
   ]
  },
  {
   "cell_type": "markdown",
   "metadata": {},
   "source": [
    "We are curious whether there is a relationship between the rating and the average number of useful counts, as well as the rating and the average word counts used in their detailed review on the drug. "
   ]
  },
  {
   "cell_type": "code",
   "execution_count": 8,
   "metadata": {},
   "outputs": [
    {
     "data": {
      "image/png": "[encoded data removed]",
      "text/plain": [
       "<Figure size 432x288 with 1 Axes>"
      ]
     },
     "metadata": {
      "needs_background": "light"
     },
     "output_type": "display_data"
    }
   ],
   "source": [
    "ax=sns.boxplot(x=Reviews.rating,y=Reviews.word_count, data=Reviews)\n",
    "plt.xlabel(\"Rating\")\n",
    "plt.ylabel(\"Word Count\")\n",
    "plt.title(\"Rating on Word Count\")\n",
    "ax.set_ylim([0, 320])  \n",
    "plt.show()"
   ]
  },
  {
   "cell_type": "markdown",
   "metadata": {},
   "source": [
    "From here we notice that there is not a strong relationship between rating and word count. It does make sense that ratings of middle rankings of 5 or 6 have more lengthy reviews as seen above, but it is not significantly more than other ratings."
   ]
  },
  {
   "cell_type": "code",
   "execution_count": 9,
   "metadata": {},
   "outputs": [
    {
     "data": {
      "text/plain": [
       "Text(0.5, 1.0, 'Word Count by Rating')"
      ]
     },
     "execution_count": 9,
     "metadata": {},
     "output_type": "execute_result"
    },
    {
     "data": {
      "image/png": "[encoded data removed]",
      "text/plain": [
       "<Figure size 432x288 with 2 Axes>"
      ]
     },
     "metadata": {
      "needs_background": "light"
     },
     "output_type": "display_data"
    }
   ],
   "source": [
    "RatingUseful=Reviews.groupby(['rating'])['usefulCount'].mean().reset_index()\n",
    "plt.subplot(1,3,1)\n",
    "ax = sns.barplot(x=\"rating\", y=\"usefulCount\", data=RatingUseful)\n",
    "ax.set_title(\"usefulCount by Rating\")\n",
    "ax.set(xlabel='Rating',ylabel='Average Useful Count')\n",
    "import seaborn as sns; sns.set(color_codes=True)\n",
    "WordCounts=Reviews.groupby(['rating'])['word_count'].mean().reset_index()\n",
    "plt.subplot(1,3,3)\n",
    "ax = sns.barplot(x=\"rating\", y='word_count', data=WordCounts)\n",
    "ax.set_title(\"Word Count by Rating\")\n"
   ]
  },
  {
   "cell_type": "markdown",
   "metadata": {},
   "source": [
    "From above there is a clear relationship between the rating of the drug and the useful count. It seems that viewers tend to mark positively rated drugs as being useful more often than for drugs with a low rating. Furthermore, extreme ratings of 1 and 10 for the drug correspond to on average having shorter reviews by about 10 word in length compared to those with more neutral scores. This could be explained by the fact that reviews that are a mix of positive and negative feedback require longer arguments of explaining two sentiments than for those that are purely positive or negative."
   ]
  },
  {
   "cell_type": "code",
   "execution_count": 10,
   "metadata": {},
   "outputs": [
    {
     "data": {
      "text/plain": [
       "<matplotlib.axes._subplots.AxesSubplot at 0x21261c15cf8>"
      ]
     },
     "execution_count": 10,
     "metadata": {},
     "output_type": "execute_result"
    },
    {
     "data": {
      "image/png": "[encoded data removed]",
      "text/plain": [
       "<Figure size 1656x576 with 1 Axes>"
      ]
     },
     "metadata": {},
     "output_type": "display_data"
    }
   ],
   "source": [
    "conditions = pd.DataFrame(pysqldf(\"\"\"SELECT condition, AVG(rating) AS Rating FROM Reviews GROUP BY condition HAVING COUNT(*)>=200 ORDER BY 2 LIMIT 10\"\"\"))\n",
    "plt.figure(figsize=(23, 8))\n",
    "sns.barplot(x=\"condition\", y=\"Rating\", data=conditions)"
   ]
  },
  {
   "cell_type": "markdown",
   "metadata": {},
   "source": [
    "Above are the drugs that have the lowest ratings. It is interesting to note that many of the drugs only pertain to women such Vaginal Yeast Infection, Abornal Uterine Bleeding, and Birth Control."
   ]
  },
  {
   "cell_type": "markdown",
   "metadata": {},
   "source": [
    "Now we need to properly define the concept of sentiment analysis so that we can obtain sentiment scores per review"
   ]
  },
  {
   "cell_type": "markdown",
   "metadata": {},
   "source": [
    "Sentiment analysis is a field that is part of Natural Language Processing (NLP) that uses algorithms to identify opinions in text data. Structuring text data and gaining actionable insight from it is very import in product analytics and to provide advanced product reccomendations in industry. Relevant information from sentiment analysis could be\n",
    "\n",
    "- *Polarity* : Expressing a positive or negative opinion (scored on [-1,1])\n",
    "- *Subject*  : The main topic that is being discussed\n",
    "\n",
    "##### What are Opinions?\n",
    "\n",
    "Because textual information can be easily seperated into facts vs opinions, we should properly define their differences first.\n",
    "\n",
    "-  Facts are **objective** comments regarding a topic\n",
    "-  Opinions are **subjective** in that they include a user's feeling and sentiments (usually in the form of adjectives) of a topic.\n",
    "\n",
    "-  Example : **Fact** : This reccomended amount of duration to intake this drug is 3 weeks\n",
    "-  Example : **Opinion** : The duration for taking this drug to cure my insomnia is too long!\n",
    "\n",
    "##### Methods for expressing Opinions\n",
    "\n",
    "There are a number of ways to express opinions and some may not seem obvious at first hand and sentiment analysis may have a harder time detecting these.\n",
    "\n",
    "-  One can blunty state that Drug A is horrible, however they may also use comparison and say Drug B is better than Drug A.\n",
    "\n",
    "-  Some opinions express facts, but at advanced level may be seen as opinions.\n",
    "-  **Example** : \"This drug made me feel so much better\" vs \"I only had to use the drug for one day\". Both can be seen as positive, but the latter we expect could be harder to classify as positive.\n",
    "\n",
    "\n",
    "##### How Sentiment Analysis Works\n",
    "\n",
    "-  There are rule-based methods that analyze words in the text and identify the negative words and positive words. The count of these is then compared to see if  the overall sentiment is positive, negative, or neutral. \n",
    "\n",
    "-  There are automatic approaches that rely on machine learning techniques and it is modeled as a classification problem where the algorithm reads the text data and returns if it is positive, negative, or neutral.\n",
    "\n",
    "-  In our approach, we will use the Textblob NLTK package to analyze the sentiments. It is based on a **Naive Bayes Classifier** (this is useful for text classification purposes) that will be used to make the conclusions, and although we could train our own we will make it simple and use the one by default. \n",
    "\n",
    "##### Limitations\n",
    "\n",
    "-  Because sentiment analysis is a hard process to classify a given text, it will not be correct 100% of the time. However, for general purpose usage, getting it incorrect around 20% of the time is something we must accept and it can still be valid to use it for exhibiting certain trends.\n",
    "\n",
    "- For example, double negations in a text could be very misleading and is often hard to detect as negative or positive by the algorithm"
   ]
  },
  {
   "cell_type": "code",
   "execution_count": 11,
   "metadata": {},
   "outputs": [
    {
     "name": "stderr",
     "output_type": "stream",
     "text": [
      "[nltk_data] Downloading package vader_lexicon to\n",
      "[nltk_data]     C:\\Users\\javacash\\AppData\\Roaming\\nltk_data...\n",
      "[nltk_data] Downloading package punkt to\n",
      "[nltk_data]     C:\\Users\\javacash\\AppData\\Roaming\\nltk_data...\n",
      "[nltk_data]   Unzipping tokenizers\\punkt.zip.\n"
     ]
    },
    {
     "data": {
      "text/plain": [
       "True"
      ]
     },
     "execution_count": 11,
     "metadata": {},
     "output_type": "execute_result"
    }
   ],
   "source": [
    "import nltk\n",
    "nltk.download('vader_lexicon')\n",
    "nltk.download('punkt')"
   ]
  },
  {
   "cell_type": "markdown",
   "metadata": {},
   "source": [
    "Lets simply demonstrate how sentiment analysis works on a given text of a sample drug reviews and see what the negative , positive, nuetral , and compound scores turn out to be."
   ]
  },
  {
   "cell_type": "code",
   "execution_count": 12,
   "metadata": {},
   "outputs": [
    {
     "name": "stdout",
     "output_type": "stream",
     "text": [
      "I had hoped for a cure to my long lasting sore throat problem, and finally this drug worked! After only two days\n",
      "I felt so much better. I would highy reccomend this drug. It is great\n",
      "\n",
      "compound: 0.7158, \n",
      "\n",
      "\n",
      "neg: 0.123, \n",
      "\n",
      "\n",
      "neu: 0.637, \n",
      "\n",
      "\n",
      "pos: 0.24, \n",
      "\n"
     ]
    }
   ],
   "source": [
    "from nltk.sentiment.vader import SentimentIntensityAnalyzer\n",
    "sid = SentimentIntensityAnalyzer()\n",
    "message_text = '''I had hoped for a cure to my long lasting sore throat problem, and finally this drug worked! After only two days\n",
    "I felt so much better. I would highy reccomend this drug. It is great'''\n",
    "print(message_text)\n",
    "scores = sid.polarity_scores(message_text)\n",
    "for key in sorted(scores):\n",
    "        print('\\n'+ '{0}: {1}, '.format(key, scores[key]) + '\\n')"
   ]
  },
  {
   "cell_type": "markdown",
   "metadata": {},
   "source": [
    "So we see that when we inputted an obiously positively written review, our compound score which is the overall affect of the entire text that is normalized between -1 and 1 has a pretty high sentiment score of 0.7158. It makes sense and relatively we can agree on this because our text did have a high amount of positive words. If we remove adjectives like good and great, our compound score would decrease. "
   ]
  },
  {
   "cell_type": "markdown",
   "metadata": {},
   "source": [
    "We will revisit the sentiment scores for our entire corpus after we have structured our text data. We will work with the following methods to pre-process our text\n",
    "\n",
    "-  Punctuation / non-language text removal\n",
    "-  Word Removal\n",
    "-  n-grams\n",
    "-  Stemming / Lemmatizing\n",
    "-  tokenization\n",
    "\n"
   ]
  },
  {
   "cell_type": "code",
   "execution_count": 13,
   "metadata": {},
   "outputs": [],
   "source": [
    "Reviews[\"review\"] = Reviews[\"review\"].str.replace(\"[^a-zA-Z#]\", \" \") #Special Character Removals\n",
    "Reviews['review'] = Reviews['review'].apply(lambda y: \" \".join(y.lower() for y in y.split()))  #Lower Case\n",
    "Reviews['review'] = Reviews['review'].str.replace('[^\\w\\s]','')  #punctuation correction\n",
    "freq = pd.Series(' '.join(Reviews[\"review\"]).split()).value_counts()[:10]\n",
    "Reviews[\"review\"]= Reviews[\"review\"].apply(lambda x: \" \".join(x for x in x.split() if x not in freq.index)) #Removing the 10 most common words in the corpus\n",
    "Reviews[\"review\"] = Reviews[\"review\"].apply(lambda x: ' '.join([w for w in x.split() if len(w)>3])) \n",
    "# ^ Removing words of length less than 3, these are not considered valuable for analyzing text"
   ]
  },
  {
   "cell_type": "code",
   "execution_count": 14,
   "metadata": {},
   "outputs": [
    {
     "data": {
      "text/plain": [
       "0    tried antidepressants over years citalopram fl...\n",
       "1    crohn disease done very well asacol complaints...\n",
       "2                             quick reduction symptoms\n",
       "3    contrave combines drugs that were used alcohol...\n",
       "4    been this birth control cycle after reading so...\n",
       "Name: review, dtype: object"
      ]
     },
     "execution_count": 14,
     "metadata": {},
     "output_type": "execute_result"
    }
   ],
   "source": [
    "documents=Reviews['review']\n",
    "documents[0:5]"
   ]
  },
  {
   "cell_type": "markdown",
   "metadata": {},
   "source": [
    "Now that we took initial steps to manage our text data, the review looks much more readable and also simple to look at.\n",
    "\n",
    "Next we proceed by removing stopwords from the text - words that are too common in english text and don't provide any insight into the data, and as well as a list of domain-specific stopwords that ought to be removed."
   ]
  },
  {
   "cell_type": "code",
   "execution_count": 15,
   "metadata": {},
   "outputs": [
    {
     "name": "stdout",
     "output_type": "stream",
     "text": [
      "The total amount of stop words are 389\n"
     ]
    }
   ],
   "source": [
    "extra_stopwords=['experience','work','review','reviews','back','works','worked','drug', 'doctor','feel','life','saved','save','felt','started','tried','start','starts','try','effect','effects','use','affect','medication','medications','medicine','hurt','problem','treatment','symptom','symptoms','weeks','months','days','took', 'take', 'month', 'day', 'week','year','years','like','use','well','know','prescribed','prescribe','give','time','gave','pill','pain']\n",
    "stop_words=list(gensim.parsing.preprocessing.STOPWORDS)\n",
    "stop_words.extend(extra_stopwords)\n",
    "print ('The total amount of stop words are ' + str(len(stop_words)))"
   ]
  },
  {
   "cell_type": "code",
   "execution_count": 16,
   "metadata": {},
   "outputs": [
    {
     "data": {
      "text/plain": [
       "array(['none', 'kg', 'couldnt', 'not', 'never', 'down', 'them', 'show',\n",
       "       'using', 'though', 'still', 'be', 'why', 'just', 'both'],\n",
       "      dtype='<U7')"
      ]
     },
     "execution_count": 16,
     "metadata": {},
     "output_type": "execute_result"
    }
   ],
   "source": [
    "np.array(stop_words[0:15]) # These are just the first 15, all from gensims built in stopwords"
   ]
  },
  {
   "cell_type": "markdown",
   "metadata": {},
   "source": [
    "We utilized the built in stopwords from gensim in addition to adding in our own stopwords, and it can be seen that there definetely are some words that do not need to be in our text, and removing them shouldn't removing meaning from a review."
   ]
  },
  {
   "cell_type": "code",
   "execution_count": 17,
   "metadata": {},
   "outputs": [],
   "source": [
    "def remove_stopwords(text):\n",
    "    result=[]\n",
    "    for token in text:\n",
    "        if token not in stop_words and len(token) > 3:\n",
    "            result.append(token)\n",
    "    return result"
   ]
  },
  {
   "cell_type": "code",
   "execution_count": 18,
   "metadata": {},
   "outputs": [
    {
     "data": {
      "text/plain": [
       "1     [crohn, disease, asacol, complaints, shows, ta...\n",
       "2                                    [quick, reduction]\n",
       "3     [contrave, combines, drugs, alcohol, smoking, ...\n",
       "4     [birth, control, cycle, reading, type, similar...\n",
       "5     [arms, face, vaseline, lips, eyes, nostrils, p...\n",
       "6     [copper, coil, excited, thought, taking, hormo...\n",
       "7     [great, headaches, went, away, tylenol, having...\n",
       "8     [methadone, currently, trying, decreasing, sta...\n",
       "9     [getting, pregnant, huge, difference, drive, w...\n",
       "10    [holy, hell, exactly, taking, brisdelle, flash...\n",
       "11    [honestly, burns, leak, dont, insertion, faith...\n",
       "dtype: object"
      ]
     },
     "execution_count": 18,
     "metadata": {},
     "output_type": "execute_result"
    }
   ],
   "source": [
    "splitted=[remove_stopwords(documents[i].split()) for i in range(len(documents))]\n",
    "pd.Series(splitted)[1:12]"
   ]
  },
  {
   "cell_type": "markdown",
   "metadata": {},
   "source": [
    "Now we have our representation of reviews without any stopwords. For example, the first thing one might notice is that right away there is an absence of pronouns such as \"me\", and \"I\" in all of the 12 reviews above. Again, this is because they are all stopwords and are now removed!"
   ]
  },
  {
   "cell_type": "markdown",
   "metadata": {},
   "source": [
    "N-grams are a more complex way to model text in a corpus. It is a way to model data in a way that assigns probabilities to sequences of words or sentences. The \"N\" in N-gram is an integer that represents a sequence of a particular amount of words. Therefore, a bigram (2-gram) would be a sequence of words like \"birth control\" or \"took aspirin\". \n",
    "\n",
    "computing n-grams on a corpus is based upon the task of computing the probability of a word given some history.\n",
    "\n",
    "$$P( w | h ) $$\n",
    "\n",
    "To give an example if we were to calculate\n",
    "\n",
    "$$P(\\text{but} | \\text{Chantix helped me stop smoking})$$\n",
    "\n",
    "We would take our large corpus and count the number of times we see that phrase in $ h $ appearing, and we count the number of times that phrase is followed by  'but'. This can approximate the conditional probability we wanted to solve.\n",
    "\n",
    "N-grams simplify this and instead of looking into the history of words which could be lengthy, we only look into the previous $ N $  words. Therefore, with bigrams we are estimating $ P(w_{n} | w_{n-1}) $ where $ h = w_{n - 1} $, and with trigams the problem is $ P(w_{n} | w_{n-2}) $\n",
    "\n",
    "We estimate n-gram probabilities via maximum likelihood estimation, so we solved the normalized problem\n",
    "\n",
    "$$P(w_{n} | w_{n-1}) = \\frac{C(w_{n-1}w_{n})}{\\sum_{w}C(w_{n-1}w)} = \\frac{C(w_{n-1}w_{n})}{C(w_{n-1})} $$\n",
    "\n",
    "Looking at a small corpus of drug reviews below\n",
    "\n",
    "-  $ D1 $ = he advised me to stay on birth control\n",
    "-  $ D2 $ = worked two times then no improvement\n",
    "-  $ D3 $ = i am so fortunate the cream worked well\n",
    "\n",
    "So to calculate the probability of the word \"two\" coming after worked\", we arrive at \n",
    "$$P(\\frac{\\text{# times 'worked two' in corpus}}{\\text{# times 'worked' in corpus}})$$\n",
    "\n",
    "This is the concept behind n-grams and we will only implement bigrams in the case of our text due to simplicity and knowing that much of medical terminology for conditions and diseases consists of two english words so they ought to be treated as one word."
   ]
  },
  {
   "cell_type": "markdown",
   "metadata": {},
   "source": [
    "We also have two requirements in the gensim bigram method that the bigram achieves a score of 80 or higher, and that it appears at least 5 times."
   ]
  },
  {
   "cell_type": "code",
   "execution_count": 19,
   "metadata": {},
   "outputs": [],
   "source": [
    "# Bigrams here\n",
    "import gensim\n",
    "bigrams = gensim.models.Phrases(splitted, min_count=5, threshold=80)\n",
    "modelbigram = gensim.models.phrases.Phraser(bigrams)\n",
    "\n",
    "def form_bigrams(texts):\n",
    "    return [modelbigram[doc] for doc in texts]\n",
    "\n",
    "data_with_bigrams = form_bigrams(splitted)"
   ]
  },
  {
   "cell_type": "code",
   "execution_count": 20,
   "metadata": {},
   "outputs": [
    {
     "data": {
      "text/plain": [
       "0    [antidepressants, citalopram, fluoxetine, amit...\n",
       "1    [crohn_disease, asacol, complaints, shows, tak...\n",
       "2                                   [quick, reduction]\n",
       "3    [contrave, combines, drugs, alcohol, smoking, ...\n",
       "4    [birth_control, cycle, reading, type, similar,...\n",
       "dtype: object"
      ]
     },
     "execution_count": 20,
     "metadata": {},
     "output_type": "execute_result"
    }
   ],
   "source": [
    "pd.Series(data_with_bigrams)[0:5]"
   ]
  },
  {
   "cell_type": "markdown",
   "metadata": {},
   "source": [
    "It looks like our bigrams were created! Now we detokenize so we can stem and lemmatize our documents"
   ]
  },
  {
   "cell_type": "code",
   "execution_count": 21,
   "metadata": {},
   "outputs": [
    {
     "data": {
      "text/plain": [
       "0    antidepressants citalopram fluoxetine amitript...\n",
       "1    crohn_disease asacol complaints shows taken ta...\n",
       "2                                      quick reduction\n",
       "3    contrave combines drugs alcohol smoking opioid...\n",
       "4    birth_control cycle reading type similar birth...\n",
       "dtype: object"
      ]
     },
     "execution_count": 21,
     "metadata": {},
     "output_type": "execute_result"
    }
   ],
   "source": [
    "from nltk.tokenize.treebank import TreebankWordDetokenizer\n",
    "untokenized_text=[TreebankWordDetokenizer().detokenize(data_with_bigrams[i]) for i in range(len(data_with_bigrams))]\n",
    "untokenized_text=pd.Series(untokenized_text)\n",
    "untokenized_text[0:5]"
   ]
  },
  {
   "cell_type": "markdown",
   "metadata": {},
   "source": [
    "Lemmatization consists of a process that reduces a word to its original form, or its lemma. For example the following words all get reduced to the lemma which is sing.\n",
    "\n",
    "-  **sang**\n",
    "-  **sung**\n",
    "-  **sings**\n",
    "\n",
    "It is important to note that lemmas are what make up vocabulary in a dictionary, and not stemmed words. Stemming works by simply removing suffixes from a word. The result is that the word may not be an actual english word. Some are example are coded below for stemming words"
   ]
  },
  {
   "cell_type": "code",
   "execution_count": 22,
   "metadata": {},
   "outputs": [
    {
     "data": {
      "text/html": [
       "<div>\n",
       "<style scoped>\n",
       "    .dataframe tbody tr th:only-of-type {\n",
       "        vertical-align: middle;\n",
       "    }\n",
       "\n",
       "    .dataframe tbody tr th {\n",
       "        vertical-align: top;\n",
       "    }\n",
       "\n",
       "    .dataframe thead th {\n",
       "        text-align: right;\n",
       "    }\n",
       "</style>\n",
       "<table border=\"1\" class=\"dataframe\">\n",
       "  <thead>\n",
       "    <tr style=\"text-align: right;\">\n",
       "      <th></th>\n",
       "      <th>original word</th>\n",
       "      <th>stemmed</th>\n",
       "    </tr>\n",
       "  </thead>\n",
       "  <tbody>\n",
       "    <tr>\n",
       "      <th>0</th>\n",
       "      <td>waste_moneying</td>\n",
       "      <td>waste_money</td>\n",
       "    </tr>\n",
       "    <tr>\n",
       "      <th>1</th>\n",
       "      <td>wasting_moneys</td>\n",
       "      <td>wasting_money</td>\n",
       "    </tr>\n",
       "    <tr>\n",
       "      <th>2</th>\n",
       "      <td>experiencing</td>\n",
       "      <td>experienc</td>\n",
       "    </tr>\n",
       "    <tr>\n",
       "      <th>3</th>\n",
       "      <td>experienced</td>\n",
       "      <td>experienc</td>\n",
       "    </tr>\n",
       "    <tr>\n",
       "      <th>4</th>\n",
       "      <td>experience</td>\n",
       "      <td>experi</td>\n",
       "    </tr>\n",
       "    <tr>\n",
       "      <th>5</th>\n",
       "      <td>worked</td>\n",
       "      <td>work</td>\n",
       "    </tr>\n",
       "    <tr>\n",
       "      <th>6</th>\n",
       "      <td>studying</td>\n",
       "      <td>studi</td>\n",
       "    </tr>\n",
       "  </tbody>\n",
       "</table>\n",
       "</div>"
      ],
      "text/plain": [
       "    original word        stemmed\n",
       "0  waste_moneying    waste_money\n",
       "1  wasting_moneys  wasting_money\n",
       "2    experiencing      experienc\n",
       "3     experienced      experienc\n",
       "4      experience         experi\n",
       "5          worked           work\n",
       "6        studying          studi"
      ]
     },
     "execution_count": 22,
     "metadata": {},
     "output_type": "execute_result"
    }
   ],
   "source": [
    "stemmer = SnowballStemmer('english')\n",
    "original_words = ['waste_moneying','wasting_moneys','experiencing','experienced','experience','worked','studying']\n",
    "singles = [stemmer.stem(word) for word in original_words]\n",
    "pd.DataFrame(data = {'original word': original_words, 'stemmed': singles})"
   ]
  },
  {
   "cell_type": "markdown",
   "metadata": {},
   "source": [
    "We will choose to perform stemming and lemmatizing, because lemmatizing in some examples does not handle some inflections in words, and so therefore the stemming will be put in effect for those."
   ]
  },
  {
   "cell_type": "code",
   "execution_count": 23,
   "metadata": {},
   "outputs": [],
   "source": [
    "def lemmatize_stemming(text):\n",
    "    return stemmer.stem(WordNetLemmatizer().lemmatize(text, pos='v'))\n",
    "def preprocess(text):\n",
    "    result = []\n",
    "    for token in gensim.utils.simple_preprocess(text):\n",
    "        result.append(lemmatize_stemming(token))\n",
    "    return result"
   ]
  },
  {
   "cell_type": "code",
   "execution_count": 24,
   "metadata": {},
   "outputs": [
    {
     "name": "stdout",
     "output_type": "stream",
     "text": [
      "original document: \n",
      "['ativan', 'getting', 'panic_attacks', 'real', 'reason', 'maybe', 'aspartame', 'caffeine', 'emotional', 'sure', 'gotten', 'panic_attacks', 'ativan', 'need', 'pills', 'need', 'needed', 'sure', 'going', 'continue', 'definitely', 'need', 'kind', 'better', 'think', 'goodness']\n",
      "\n",
      "\n",
      " tokenized and lemmatized document: \n",
      "['ativan', 'get', 'panic_attack', 'real', 'reason', 'mayb', 'aspartam', 'caffein', 'emot', 'sure', 'get', 'panic_attack', 'ativan', 'need', 'pill', 'need', 'need', 'sure', 'go', 'continu', 'definit', 'need', 'kind', 'better', 'think', 'good']\n"
     ]
    }
   ],
   "source": [
    "doc_sample = untokenized_text[53736]\n",
    "print('original document: ')\n",
    "words = []\n",
    "for word in doc_sample.split(' '):\n",
    "    words.append(word)\n",
    "print(words)\n",
    "print('\\n\\n tokenized and lemmatized document: ')\n",
    "print(preprocess(doc_sample))"
   ]
  },
  {
   "cell_type": "markdown",
   "metadata": {},
   "source": [
    "Notice that comparing the original document vs the stemmed / lemmatized version, we have that \"getting\" is now \"get\", and \"going\" is now \"go\". So though this worked the problem is that some of the reduced forms are once again stopwords, and we will need to further delete them. "
   ]
  },
  {
   "cell_type": "code",
   "execution_count": 25,
   "metadata": {},
   "outputs": [
    {
     "data": {
      "text/plain": [
       "0     [antidepress, citalopram, fluoxetin, amitripty...\n",
       "1     [crohn_diseas, asacol, complaint, show, take, ...\n",
       "2                                       [quick, reduct]\n",
       "3     [contrav, combin, drug, alcohol, smoke, opioid...\n",
       "4     [birth_control, cycl, read, type, similar, bir...\n",
       "5     [arm, face, vaselin, lip, eye, nostril, protec...\n",
       "6     [copper_coil, excit, think, take, hormon, good...\n",
       "7     [great, headach, go, away, tylenol, have, chro...\n",
       "8     [methadon, current, tri, decreas, start, withd...\n",
       "9     [get, pregnant, huge, differ, drive, go, moodi...\n",
       "10    [holi, hell, exact, take, brisdell, flash, sub...\n",
       "11            [honest, burn, leak, dont, insert, faith]\n",
       "12                          [waste_money, curb_appetit]\n",
       "13                                     [problem, watch]\n",
       "14    [ditto, rebound, sleepless, discontinu, strang...\n",
       "15    [provigil, go, sleep, nuvigil, final, allow, s...\n",
       "16        [smoke, think, possibl, quit, great, product]\n",
       "17    [ginanvi, switch, high, cost, ginavi, insur, g...\n",
       "18    [help, sleep, eventu, ineffect, sleep, help, c...\n",
       "19                         [dose, ciprofloxacn, better]\n",
       "dtype: object"
      ]
     },
     "execution_count": 25,
     "metadata": {},
     "output_type": "execute_result"
    }
   ],
   "source": [
    "processed_docs= untokenized_text.map(preprocess)\n",
    "processed_docs[0:20]"
   ]
  },
  {
   "cell_type": "code",
   "execution_count": 26,
   "metadata": {},
   "outputs": [
    {
     "name": "stdout",
     "output_type": "stream",
     "text": [
      "Stopwords were recreated..Look below\n"
     ]
    },
    {
     "data": {
      "text/plain": [
       "['get', 'get', 'pill', 'go']"
      ]
     },
     "execution_count": 26,
     "metadata": {},
     "output_type": "execute_result"
    }
   ],
   "source": [
    "recreated_stopwords=[]\n",
    "for word in preprocess(doc_sample):\n",
    "    if word in stop_words:\n",
    "        recreated_stopwords.append(word)\n",
    "    else:\n",
    "        continue\n",
    "if len(recreated_stopwords)>0:\n",
    "    print(\"Stopwords were recreated..Look below\")\n",
    "else:\n",
    "    print(\"Proceed\")\n",
    "recreated_stopwords"
   ]
  },
  {
   "cell_type": "code",
   "execution_count": 27,
   "metadata": {},
   "outputs": [
    {
     "data": {
      "text/plain": [
       "1    [crohn_diseas, asacol, complaint, tablet, happ...\n",
       "2                                      [quick, reduct]\n",
       "3    [contrav, combin, alcohol, smoke, opioid, cess...\n",
       "4    [birth_control, cycl, read, type, similar, bir...\n",
       "5    [face, vaselin, nostril, protect, cream, react...\n",
       "6    [copper_coil, excit, think, hormon, good, near...\n",
       "7    [great, headach, away, tylenol, chronic, daili...\n",
       "dtype: object"
      ]
     },
     "execution_count": 27,
     "metadata": {},
     "output_type": "execute_result"
    }
   ],
   "source": [
    "processed_docs=[remove_stopwords(processed_docs[i]) for i in range(len(processed_docs))]\n",
    "pd.Series(processed_docs)[1:8]"
   ]
  },
  {
   "cell_type": "code",
   "execution_count": 28,
   "metadata": {},
   "outputs": [
    {
     "name": "stdout",
     "output_type": "stream",
     "text": [
      "original document: \n",
      "['ativan', 'getting', 'panic_attacks', 'real', 'reason', 'maybe', 'aspartame', 'caffeine', 'emotional', 'sure', 'gotten', 'panic_attacks', 'ativan', 'need', 'pills', 'need', 'needed', 'sure', 'going', 'continue', 'definitely', 'need', 'kind', 'better', 'think', 'goodness']\n",
      "\n",
      "\n",
      " tokenized and lemmatized document: \n",
      "['ativan', 'panic_attack', 'real', 'reason', 'mayb', 'aspartam', 'caffein', 'emot', 'sure', 'panic_attack', 'ativan', 'need', 'need', 'need', 'sure', 'continu', 'definit', 'need', 'kind', 'better', 'think', 'good']\n"
     ]
    }
   ],
   "source": [
    "doc_sample = untokenized_text[53736]\n",
    "print('original document: ')\n",
    "words = []\n",
    "for word in doc_sample.split(' '):\n",
    "    words.append(word)\n",
    "print(words)\n",
    "print('\\n\\n tokenized and lemmatized document: ')\n",
    "print(processed_docs[53736])"
   ]
  },
  {
   "cell_type": "markdown",
   "metadata": {},
   "source": [
    "Okay, now we have removed those stopwords again and our text is in a much better form then with our raw data."
   ]
  },
  {
   "cell_type": "code",
   "execution_count": 29,
   "metadata": {},
   "outputs": [],
   "source": [
    "Reviews[\"review\"]=processed_docs"
   ]
  },
  {
   "cell_type": "code",
   "execution_count": 30,
   "metadata": {},
   "outputs": [
    {
     "data": {
      "text/html": [
       "<div>\n",
       "<style scoped>\n",
       "    .dataframe tbody tr th:only-of-type {\n",
       "        vertical-align: middle;\n",
       "    }\n",
       "\n",
       "    .dataframe tbody tr th {\n",
       "        vertical-align: top;\n",
       "    }\n",
       "\n",
       "    .dataframe thead th {\n",
       "        text-align: right;\n",
       "    }\n",
       "</style>\n",
       "<table border=\"1\" class=\"dataframe\">\n",
       "  <thead>\n",
       "    <tr style=\"text-align: right;\">\n",
       "      <th></th>\n",
       "      <th>drugName</th>\n",
       "      <th>condition</th>\n",
       "      <th>review</th>\n",
       "      <th>rating</th>\n",
       "      <th>date</th>\n",
       "      <th>usefulCount</th>\n",
       "      <th>word_count</th>\n",
       "    </tr>\n",
       "  </thead>\n",
       "  <tbody>\n",
       "    <tr>\n",
       "      <th>0</th>\n",
       "      <td>Mirtazapine</td>\n",
       "      <td>Depression</td>\n",
       "      <td>[antidepress, citalopram, fluoxetin, amitripty...</td>\n",
       "      <td>10</td>\n",
       "      <td>28-Feb-12</td>\n",
       "      <td>22</td>\n",
       "      <td>68</td>\n",
       "    </tr>\n",
       "    <tr>\n",
       "      <th>1</th>\n",
       "      <td>Mesalamine</td>\n",
       "      <td>Crohn's Disease, Maintenance</td>\n",
       "      <td>[crohn_diseas, asacol, complaint, tablet, happ...</td>\n",
       "      <td>8</td>\n",
       "      <td>17-May-09</td>\n",
       "      <td>17</td>\n",
       "      <td>51</td>\n",
       "    </tr>\n",
       "    <tr>\n",
       "      <th>2</th>\n",
       "      <td>Bactrim</td>\n",
       "      <td>Urinary Tract Infection</td>\n",
       "      <td>[quick, reduct]</td>\n",
       "      <td>9</td>\n",
       "      <td>29-Sep-17</td>\n",
       "      <td>3</td>\n",
       "      <td>4</td>\n",
       "    </tr>\n",
       "    <tr>\n",
       "      <th>3</th>\n",
       "      <td>Contrave</td>\n",
       "      <td>Weight Loss</td>\n",
       "      <td>[contrav, combin, alcohol, smoke, opioid, cess...</td>\n",
       "      <td>9</td>\n",
       "      <td>5-Mar-17</td>\n",
       "      <td>35</td>\n",
       "      <td>143</td>\n",
       "    </tr>\n",
       "    <tr>\n",
       "      <th>4</th>\n",
       "      <td>Cyclafem 1 / 35</td>\n",
       "      <td>Birth Control</td>\n",
       "      <td>[birth_control, cycl, read, type, similar, bir...</td>\n",
       "      <td>9</td>\n",
       "      <td>22-Oct-15</td>\n",
       "      <td>4</td>\n",
       "      <td>149</td>\n",
       "    </tr>\n",
       "  </tbody>\n",
       "</table>\n",
       "</div>"
      ],
      "text/plain": [
       "          drugName                     condition  \\\n",
       "0      Mirtazapine                    Depression   \n",
       "1       Mesalamine  Crohn's Disease, Maintenance   \n",
       "2          Bactrim       Urinary Tract Infection   \n",
       "3         Contrave                   Weight Loss   \n",
       "4  Cyclafem 1 / 35                 Birth Control   \n",
       "\n",
       "                                              review  rating       date  \\\n",
       "0  [antidepress, citalopram, fluoxetin, amitripty...      10  28-Feb-12   \n",
       "1  [crohn_diseas, asacol, complaint, tablet, happ...       8  17-May-09   \n",
       "2                                    [quick, reduct]       9  29-Sep-17   \n",
       "3  [contrav, combin, alcohol, smoke, opioid, cess...       9   5-Mar-17   \n",
       "4  [birth_control, cycl, read, type, similar, bir...       9  22-Oct-15   \n",
       "\n",
       "   usefulCount  word_count  \n",
       "0           22          68  \n",
       "1           17          51  \n",
       "2            3           4  \n",
       "3           35         143  \n",
       "4            4         149  "
      ]
     },
     "execution_count": 30,
     "metadata": {},
     "output_type": "execute_result"
    }
   ],
   "source": [
    "Reviews.head()"
   ]
  },
  {
   "cell_type": "code",
   "execution_count": 31,
   "metadata": {},
   "outputs": [],
   "source": [
    "Reviews[\"review\"]=[TreebankWordDetokenizer().detokenize(Reviews[\"review\"][i]) for i in range(len(Reviews[\"review\"]))]"
   ]
  },
  {
   "cell_type": "code",
   "execution_count": 32,
   "metadata": {},
   "outputs": [
    {
     "data": {
      "image/png": "[encoded data removed]",
      "text/plain": [
       "<Figure size 720x720 with 1 Axes>"
      ]
     },
     "metadata": {},
     "output_type": "display_data"
    }
   ],
   "source": [
    "all_words = ' '.join([text for text in Reviews[\"review\"]])\n",
    "import matplotlib.pyplot as plt\n",
    "from wordcloud import WordCloud\n",
    "wordcloud = WordCloud(width=800, height=500, random_state=21, max_font_size=110).generate(all_words)\n",
    "\n",
    "plt.figure(figsize=(10, 10))\n",
    "plt.imshow(wordcloud, interpolation=\"bilinear\")\n",
    "plt.axis('off')\n",
    "plt.show()"
   ]
  },
  {
   "cell_type": "markdown",
   "metadata": {},
   "source": [
    "From the word cloud we can get a sense of what kind of words people use to describe their experiences using a drug, some of the following being horrible, good, best, wonder, suggest. We can also see some of the most common conditions that are present in the text - we now know that birth control, headaches, depression, and migrains, are just some of the conditions that hold in the text. It would be interesting to see later how the topic model can extract these terms and cluster them and their related words into a particular topic.\n",
    "\n",
    "Note as well that the formation of bigrams here as helped in the word cloud. If we didn't create them, we would waste space listing two words seperately whereas they are frequently mentioned together. "
   ]
  },
  {
   "cell_type": "markdown",
   "metadata": {},
   "source": [
    "Now that we cleaned up the text, let's extract the sentiment scores using TextBlob that will let us get them pretty easily"
   ]
  },
  {
   "cell_type": "code",
   "execution_count": 33,
   "metadata": {},
   "outputs": [
    {
     "data": {
      "text/html": [
       "<div>\n",
       "<style scoped>\n",
       "    .dataframe tbody tr th:only-of-type {\n",
       "        vertical-align: middle;\n",
       "    }\n",
       "\n",
       "    .dataframe tbody tr th {\n",
       "        vertical-align: top;\n",
       "    }\n",
       "\n",
       "    .dataframe thead th {\n",
       "        text-align: right;\n",
       "    }\n",
       "</style>\n",
       "<table border=\"1\" class=\"dataframe\">\n",
       "  <thead>\n",
       "    <tr style=\"text-align: right;\">\n",
       "      <th></th>\n",
       "      <th>drugName</th>\n",
       "      <th>condition</th>\n",
       "      <th>review</th>\n",
       "      <th>rating</th>\n",
       "      <th>date</th>\n",
       "      <th>usefulCount</th>\n",
       "      <th>word_count</th>\n",
       "      <th>sentiment</th>\n",
       "      <th>year</th>\n",
       "      <th>month</th>\n",
       "      <th>day</th>\n",
       "    </tr>\n",
       "  </thead>\n",
       "  <tbody>\n",
       "    <tr>\n",
       "      <th>0</th>\n",
       "      <td>Mirtazapine</td>\n",
       "      <td>Depression</td>\n",
       "      <td>antidepress citalopram fluoxetin amitriptylin ...</td>\n",
       "      <td>10</td>\n",
       "      <td>28-Feb-12</td>\n",
       "      <td>22</td>\n",
       "      <td>68</td>\n",
       "      <td>-0.122222</td>\n",
       "      <td>2012</td>\n",
       "      <td>2</td>\n",
       "      <td>28</td>\n",
       "    </tr>\n",
       "    <tr>\n",
       "      <th>1</th>\n",
       "      <td>Mesalamine</td>\n",
       "      <td>Crohn's Disease, Maintenance</td>\n",
       "      <td>crohn_diseas asacol complaint tablet happi res...</td>\n",
       "      <td>8</td>\n",
       "      <td>17-May-09</td>\n",
       "      <td>17</td>\n",
       "      <td>51</td>\n",
       "      <td>-0.300000</td>\n",
       "      <td>2009</td>\n",
       "      <td>5</td>\n",
       "      <td>17</td>\n",
       "    </tr>\n",
       "    <tr>\n",
       "      <th>2</th>\n",
       "      <td>Bactrim</td>\n",
       "      <td>Urinary Tract Infection</td>\n",
       "      <td>quick reduct</td>\n",
       "      <td>9</td>\n",
       "      <td>29-Sep-17</td>\n",
       "      <td>3</td>\n",
       "      <td>4</td>\n",
       "      <td>0.333333</td>\n",
       "      <td>2017</td>\n",
       "      <td>9</td>\n",
       "      <td>29</td>\n",
       "    </tr>\n",
       "    <tr>\n",
       "      <th>3</th>\n",
       "      <td>Contrave</td>\n",
       "      <td>Weight Loss</td>\n",
       "      <td>contrav combin alcohol smoke opioid cessat peo...</td>\n",
       "      <td>9</td>\n",
       "      <td>5-Mar-17</td>\n",
       "      <td>35</td>\n",
       "      <td>143</td>\n",
       "      <td>0.700000</td>\n",
       "      <td>2017</td>\n",
       "      <td>3</td>\n",
       "      <td>5</td>\n",
       "    </tr>\n",
       "    <tr>\n",
       "      <th>4</th>\n",
       "      <td>Cyclafem 1 / 35</td>\n",
       "      <td>Birth Control</td>\n",
       "      <td>birth_control cycl read type similar birth con...</td>\n",
       "      <td>9</td>\n",
       "      <td>22-Oct-15</td>\n",
       "      <td>4</td>\n",
       "      <td>149</td>\n",
       "      <td>0.262963</td>\n",
       "      <td>2015</td>\n",
       "      <td>10</td>\n",
       "      <td>22</td>\n",
       "    </tr>\n",
       "  </tbody>\n",
       "</table>\n",
       "</div>"
      ],
      "text/plain": [
       "          drugName                     condition  \\\n",
       "0      Mirtazapine                    Depression   \n",
       "1       Mesalamine  Crohn's Disease, Maintenance   \n",
       "2          Bactrim       Urinary Tract Infection   \n",
       "3         Contrave                   Weight Loss   \n",
       "4  Cyclafem 1 / 35                 Birth Control   \n",
       "\n",
       "                                              review  rating       date  \\\n",
       "0  antidepress citalopram fluoxetin amitriptylin ...      10  28-Feb-12   \n",
       "1  crohn_diseas asacol complaint tablet happi res...       8  17-May-09   \n",
       "2                                       quick reduct       9  29-Sep-17   \n",
       "3  contrav combin alcohol smoke opioid cessat peo...       9   5-Mar-17   \n",
       "4  birth_control cycl read type similar birth con...       9  22-Oct-15   \n",
       "\n",
       "   usefulCount  word_count  sentiment  year  month  day  \n",
       "0           22          68  -0.122222  2012      2   28  \n",
       "1           17          51  -0.300000  2009      5   17  \n",
       "2            3           4   0.333333  2017      9   29  \n",
       "3           35         143   0.700000  2017      3    5  \n",
       "4            4         149   0.262963  2015     10   22  "
      ]
     },
     "execution_count": 33,
     "metadata": {},
     "output_type": "execute_result"
    }
   ],
   "source": [
    "from textblob import TextBlob\n",
    "Reviews['sentiment'] = Reviews['review'].apply(lambda y: TextBlob(y).sentiment[0])\n",
    "import datetime\n",
    "Reviews['year'] = pd.DatetimeIndex(Reviews['date']).year\n",
    "Reviews['month'] = pd.DatetimeIndex(Reviews['date']).month\n",
    "Reviews['day'] = pd.DatetimeIndex(Reviews['date']).day\n",
    "\n",
    "Reviews.head()"
   ]
  },
  {
   "cell_type": "code",
   "execution_count": 34,
   "metadata": {},
   "outputs": [
    {
     "data": {
      "image/png": "[encoded data removed]",
      "text/plain": [
       "<Figure size 432x288 with 2 Axes>"
      ]
     },
     "metadata": {},
     "output_type": "display_data"
    }
   ],
   "source": [
    "Sentiment_ByYear=pd.DataFrame(pysqldf(\"\"\"SELECT year, AVG(sentiment) AS Average_Sentiment FROM Reviews GROUP BY year\"\"\"))\n",
    "import matplotlib.pyplot as plt\n",
    "plt.subplot(1,3,1)\n",
    "plt.plot(Sentiment_ByYear.year, Sentiment_ByYear.Average_Sentiment)\n",
    "plt.title('Average Sentiment Score By Year 2008 - 2017')\n",
    "plt.xlabel('Year')\n",
    "plt.ylabel('Average Sentiment Score')\n",
    "Rating_ByYear=pd.DataFrame(pysqldf(\"\"\"SELECT year, AVG(rating) AS Average_Rating FROM Reviews GROUP BY year\"\"\"))\n",
    "plt.subplot(1,3,3)\n",
    "plt.plot(Rating_ByYear.year,Rating_ByYear.Average_Rating)\n",
    "plt.title('Average Rating By Year 2008 - 2017')\n",
    "plt.xlabel('Year')\n",
    "plt.ylabel('Average Rating Score')\n",
    "plt.show()"
   ]
  },
  {
   "cell_type": "markdown",
   "metadata": {},
   "source": [
    "Astonishingly, the sentiment scores are dropping year after year almost consistenly through the 9 year span. That comes as a surprise because one might think that drug advancements in recent years might be improving symptoms and conditions, but reviewer response is dropping. In addition, the sentiment scores and the actual rating given by the user show similar patterns over the years. "
   ]
  },
  {
   "cell_type": "code",
   "execution_count": 35,
   "metadata": {},
   "outputs": [
    {
     "data": {
      "image/png": "[encoded data removed]",
      "text/plain": [
       "<Figure size 432x288 with 1 Axes>"
      ]
     },
     "metadata": {},
     "output_type": "display_data"
    }
   ],
   "source": [
    "sns.boxplot(x=Reviews.rating,y=Reviews.sentiment)\n",
    "plt.xlabel(\"Rating\")\n",
    "plt.ylabel(\"Sentiment\")\n",
    "plt.title(\"Sentiment vs Rating\")\n",
    "plt.show()"
   ]
  },
  {
   "cell_type": "code",
   "execution_count": 36,
   "metadata": {},
   "outputs": [],
   "source": [
    "bigrams=[]\n",
    "unigrams=[]\n",
    "for doc in Reviews[\"review\"]:\n",
    "    for word in doc.split():\n",
    "        if '_' in word:\n",
    "            if word not in bigrams:\n",
    "                bigrams.append(word)\n",
    "        elif word not in unigrams:\n",
    "            unigrams.append(word)"
   ]
  },
  {
   "cell_type": "code",
   "execution_count": 37,
   "metadata": {},
   "outputs": [
    {
     "name": "stdout",
     "output_type": "stream",
     "text": [
      "We have 19252 unique unigrams\n",
      "We have 878 unique bigrams\n",
      "We have 20130 unique words total\n"
     ]
    }
   ],
   "source": [
    "print(\"We have\" + \" \" + str(len(unigrams)) + \" \" + \"unique unigrams\")\n",
    "print(\"We have\" + \" \" + str(len(bigrams)) + \" \" + \"unique bigrams\")\n",
    "print(\"We have\" + \" \" + str(len(bigrams)+len(unigrams))+ \" \" + \"unique words total\")"
   ]
  },
  {
   "cell_type": "code",
   "execution_count": 38,
   "metadata": {},
   "outputs": [
    {
     "data": {
      "text/plain": [
       "['crohn_diseas',\n",
       " 'asacol',\n",
       " 'complaint',\n",
       " 'tablet',\n",
       " 'happi',\n",
       " 'result',\n",
       " 'reduc',\n",
       " 'bout',\n",
       " 'diarrhea',\n",
       " 'drastic']"
      ]
     },
     "execution_count": 38,
     "metadata": {},
     "output_type": "execute_result"
    }
   ],
   "source": [
    "tokenized_Reviews=list(Reviews[\"review\"].apply(lambda x: x.split()))\n",
    "tokenized_Reviews[1]"
   ]
  },
  {
   "cell_type": "markdown",
   "metadata": {},
   "source": [
    "## (3) Topic Models"
   ]
  },
  {
   "cell_type": "markdown",
   "metadata": {},
   "source": [
    "Topic modeling is a way to extract and summarize large quantities of text in order to extract insight of the main topics that textual information is about. What determines the topic of a given observation of text is the collection of words that is in the document. Algorithms that build topic models are able to extract key words that generalize each topic, and they also generally discover multiple topics within each document with relative proportions in each.\n",
    "\n",
    "An example of the result of topic modeling can be understood as follows :\n",
    "\n",
    "Consider having the following sentences that that describe drug reviews\n",
    "\n",
    "-  I feel so sick and lightheaded after using this drug even for one day\n",
    "-  The drug gave me a severe reaction and now I feel sick again\n",
    "-  I am sleeping so much better now the drug really worked\n",
    "-  My advice is taking this pill two hours before you sleep as it will go into effect later than you think\n",
    "-  I was awake for 3 hours because of this drug it made me feel so sick I could not sleep\n",
    "\n",
    "Topic modeling algorithms can give us results that would look like :\n",
    "\n",
    "-  Sentence A and B are 100% Topic 1\n",
    "-  Sentence C and D are 100% Topic 2\n",
    "-  Sentence E is a mixture : 30% Topic 1 70% Topic 2\n",
    "\n",
    "Basic steps for topic modeling consist of\n",
    "\n",
    "-  Preprocessing the data\n",
    "-  Training the model\n",
    "-  Scoring it on a new document\n",
    "-  Evaluate the performance\n"
   ]
  },
  {
   "cell_type": "markdown",
   "metadata": {},
   "source": [
    "### 3.1 Bag of Words"
   ]
  },
  {
   "cell_type": "markdown",
   "metadata": {},
   "source": [
    "Before we get into anything related to topic modeling algorithms, we need to discuss representing our text data in a different manner.\n",
    "\n",
    "A Bag of words representation is a way to simplify the way we represent text. The most important thing to note is that a BOW model preserves the multiplicity of words, but neglects the grammar and word order as being important. For each document, we note the frequency of occurence of each word. "
   ]
  },
  {
   "cell_type": "markdown",
   "metadata": {},
   "source": [
    "Each unique word in the copus is given a specific ID. Looking at the BOW below and the actual text, we see that the word ID of '4' is present one time, the word ID of '81' is present twice, and the word ID of '83' is present three times. Again, we do not preserve the word order and if we randomly shuffle all the IDs and their counts, the representation is the same.\n",
    "\n",
    "The result of a bag of words representation would actually be a sparse matrix, where much of the distinct words in the entire corpus are represented 0 times within a document. In our case the dictionary words that are not represented a least once are not inside the vector.\n",
    "\n",
    "Using a bag of words model, we can compare document similarities and feed our data into a document classifier or use it for toipc modeling\n",
    "\n",
    "There are some limitations of bag of words and other methods such as TF-IDF take into account the counts of each word and normalize the data.\n",
    "\n",
    "In addition, since bag of words ignores the word order as being significiant, it would not be able to pick up meaningful expressions in text such as the follownig comparison\n",
    "\n",
    "-  **this is fun**\n",
    "-  **is this fun**"
   ]
  },
  {
   "cell_type": "code",
   "execution_count": 39,
   "metadata": {},
   "outputs": [],
   "source": [
    "dictionary = gensim.corpora.Dictionary(tokenized_Reviews)\n",
    "bow_corpus = [dictionary.doc2bow(doc) for doc in tokenized_Reviews]"
   ]
  },
  {
   "cell_type": "code",
   "execution_count": 40,
   "metadata": {},
   "outputs": [
    {
     "name": "stdout",
     "output_type": "stream",
     "text": [
      "[(4, 1), (12, 1), (23, 1), (49, 1), (71, 1), (77, 1), (81, 2), (83, 3), (108, 1), (119, 1), (129, 1), (141, 1), (144, 1), (231, 2), (234, 1), (236, 1), (334, 1), (364, 1), (460, 1), (523, 1), (749, 1), (1150, 1), (1195, 2), (1527, 1), (1581, 1), (2066, 1), (3640, 1), (3713, 1), (4257, 1), (4347, 1), (5070, 1)]\n",
      "['period', 'long', 'direct', 'ovari', 'heavi', 'bleed', 'period', 'diarrhea', 'period', 'panic_attack', 'anxieti', 'help', 'immedi', 'notic', 'nausea', 'nausea', 'away', 'notic', 'breast', 'achi', 'nippl', 'ting', 'super', 'weird', 'drive', 'definit', 'increas', 'posit', 'experi', 'panic_attack', 'calm', 'breasts_grown', 'mental', 'present', 'appetit', 'decreas']\n",
      "20130\n"
     ]
    }
   ],
   "source": [
    "print(bow_corpus[2000])\n",
    "print(tokenized_Reviews[2000])\n",
    "print(len(dictionary.token2id))"
   ]
  },
  {
   "cell_type": "markdown",
   "metadata": {},
   "source": [
    "### 3.2 Latent Dirichlent Allocation (LDA)"
   ]
  },
  {
   "cell_type": "markdown",
   "metadata": {},
   "source": [
    "Latent Dirichlent Allocation is a method that is commonly used for identifying topics for each document in a corpus. It is able to identify the topics present in a given document by analyzing the words in it and outputing a distribution of topics.\n",
    "\n",
    "There are certain features LDA relies on to do its job. These are the features LDA uses to develop its topics"
   ]
  },
  {
   "cell_type": "markdown",
   "metadata": {},
   "source": [
    "$ W $ :  Words appearing in a document"
   ]
  },
  {
   "cell_type": "markdown",
   "metadata": {},
   "source": [
    "$ N : $  Words consist of N Words"
   ]
  },
  {
   "cell_type": "markdown",
   "metadata": {},
   "source": [
    "$ M : $ Number of Documents"
   ]
  },
  {
   "cell_type": "markdown",
   "metadata": {},
   "source": [
    "Some parameters are latent or inferred based on examining the corpus."
   ]
  },
  {
   "cell_type": "markdown",
   "metadata": {},
   "source": [
    "$ Z: $ Every word within each $ M_i $ in $ M $ is associated with a topic\n",
    "\n",
    "$ \\theta : $ topic distribution for document $ M_i $"
   ]
  },
  {
   "cell_type": "markdown",
   "metadata": {},
   "source": [
    "We begin with a random assignment of words to topics that we assume live (exist) somewhere outside our massive corpus, and in the end result of LDA after a convergence has taken place with topics and their word assignments, we generate a certain number of topics and within each topic there are a collection of words that have certain probabilities to pertain to that topic. Each word with a probability can be though of as \"importance\". More relevant words pertianing to a topic are indicated by higher probabilities.\n",
    "\n",
    "An example would be the following :\n",
    "\n",
    "$ Topic 1 = P * word_1 + P * word_2 + P*word_3 +......P*word_n $\n",
    "\n",
    "Where the top number of words associated with each particular topic can be adjusted by the user.\n",
    "\n",
    "**It is important to note that every topic contains a probability for every word, even if it is very small! Some words may have a higher probability in *few* topics**"
   ]
  },
  {
   "cell_type": "markdown",
   "metadata": {},
   "source": [
    "As we just noted, the model requires certain rules and specifications (or hyperparameters) that a user can tune. These are parameters from a **Dirichlent Distribution**.\n",
    "\n",
    "$ \\alpha $ : This parameter sets the prior on the per document topic distribution. Lower $ \\alpha $ indicates that a document consists of a few or one topic, and higher alphas will recognize multiple topics within a document. \n",
    "\n",
    "$ \\beta $ : This parameter sets the prior for the word distribution per document. A low value of $ \\beta $ means that a topic can be classified by just a few words rather than many."
   ]
  },
  {
   "cell_type": "markdown",
   "metadata": {},
   "source": [
    "The most significant question is perhaps how we select the number of topics for LDA to output. That is a task that can be supported by domain knowledge, or a user may have to test out certain values and observe if topic identifications make sense. That is of course one downside to topic models in that the outcome may have ambiguity. "
   ]
  },
  {
   "cell_type": "markdown",
   "metadata": {},
   "source": [
    "The LDA model will create a topic distribution per document so that the most likely class of topic can be identified per document. This is a task worth discovering, but there are other important uses for topic identifications."
   ]
  },
  {
   "cell_type": "markdown",
   "metadata": {},
   "source": [
    "Each document with its distribution of topics (probability belonging to each topic) can be considered to be a unique document that is seperable from other documents but also similar enough to grouped up with other documents. From this, we can identify a group of reviews that are similar to a particular review."
   ]
  },
  {
   "cell_type": "markdown",
   "metadata": {},
   "source": [
    "Let's implement LDA"
   ]
  },
  {
   "cell_type": "code",
   "execution_count": 41,
   "metadata": {},
   "outputs": [],
   "source": [
    "model_lda= gensim.models.ldamodel.LdaModel(bow_corpus, num_topics=14, id2word=dictionary, passes=1)"
   ]
  },
  {
   "cell_type": "code",
   "execution_count": 42,
   "metadata": {},
   "outputs": [
    {
     "name": "stdout",
     "output_type": "stream",
     "text": [
      "Topic: 0 \n",
      "Words: 0.012*\"generic\" + 0.011*\"nuvar\" + 0.010*\"plan\" + 0.010*\"cycl\" + 0.009*\"come\" + 0.009*\"hour\" + 0.009*\"drive\" + 0.009*\"normal\" + 0.008*\"better\" + 0.008*\"test\"\n",
      "Topic: 1 \n",
      "Words: 0.032*\"smoke\" + 0.027*\"quit\" + 0.021*\"chantix\" + 0.011*\"pack\" + 0.011*\"hair\" + 0.011*\"want\" + 0.011*\"stop\" + 0.010*\"cigarett\" + 0.008*\"septemb\" + 0.008*\"today\"\n",
      "Topic: 2 \n",
      "Words: 0.070*\"period\" + 0.028*\"birth_control\" + 0.025*\"gain\" + 0.023*\"weight\" + 0.016*\"cramp\" + 0.014*\"mood_sw\" + 0.014*\"bleed\" + 0.013*\"love\" + 0.012*\"spot\" + 0.011*\"pregnant\"\n",
      "Topic: 3 \n",
      "Words: 0.053*\"skin\" + 0.032*\"face\" + 0.030*\"clear\" + 0.012*\"cream\" + 0.012*\"product\" + 0.012*\"result\" + 0.011*\"look\" + 0.009*\"break\" + 0.009*\"better\" + 0.009*\"improv\"\n",
      "Topic: 4 \n",
      "Words: 0.042*\"dose\" + 0.028*\"blood_pressur\" + 0.026*\"high\" + 0.019*\"withdraw\" + 0.016*\"lower\" + 0.014*\"dosag\" + 0.014*\"increas\" + 0.012*\"addict\" + 0.011*\"heart\" + 0.010*\"suboxon\"\n",
      "Topic: 5 \n",
      "Words: 0.054*\"nausea\" + 0.047*\"stomach\" + 0.028*\"dizzi\" + 0.027*\"hour\" + 0.025*\"sick\" + 0.023*\"vomit\" + 0.022*\"diarrhea\" + 0.021*\"dose\" + 0.018*\"headach\" + 0.016*\"sever\"\n",
      "Topic: 6 \n",
      "Words: 0.091*\"quot\" + 0.018*\"differ\" + 0.014*\"chang\" + 0.013*\"think\" + 0.012*\"peopl\" + 0.012*\"good\" + 0.012*\"tell\" + 0.011*\"want\" + 0.008*\"seizur\" + 0.008*\"love\"\n",
      "Topic: 7 \n",
      "Words: 0.064*\"weight\" + 0.061*\"lose\" + 0.030*\"gain\" + 0.027*\"pound\" + 0.022*\"loss\" + 0.018*\"appetit\" + 0.013*\"exercis\" + 0.011*\"help\" + 0.011*\"energi\" + 0.011*\"great\"\n",
      "Topic: 8 \n",
      "Words: 0.049*\"migrain\" + 0.028*\"headach\" + 0.016*\"relief\" + 0.016*\"help\" + 0.015*\"suffer\" + 0.014*\"daili\" + 0.013*\"sever\" + 0.012*\"chronic\" + 0.009*\"great\" + 0.009*\"walk\"\n",
      "Topic: 9 \n",
      "Words: 0.044*\"cramp\" + 0.036*\"insert\" + 0.029*\"bleed\" + 0.018*\"period\" + 0.018*\"mirena\" + 0.015*\"spot\" + 0.013*\"shoot\" + 0.013*\"stop\" + 0.011*\"remov\" + 0.010*\"heavi\"\n",
      "Topic: 10 \n",
      "Words: 0.061*\"anxieti\" + 0.046*\"depress\" + 0.031*\"help\" + 0.014*\"better\" + 0.012*\"panic_attack\" + 0.012*\"thing\" + 0.011*\"think\" + 0.010*\"great\" + 0.009*\"lexapro\" + 0.009*\"notic\"\n",
      "Topic: 11 \n",
      "Words: 0.029*\"drink\" + 0.026*\"tast\" + 0.024*\"water\" + 0.020*\"sweat\" + 0.018*\"patch\" + 0.016*\"mouth\" + 0.016*\"hour\" + 0.014*\"constip\" + 0.010*\"product\" + 0.009*\"bottl\"\n",
      "Topic: 12 \n",
      "Words: 0.053*\"sleep\" + 0.045*\"night\" + 0.025*\"hour\" + 0.020*\"wake\" + 0.015*\"help\" + 0.015*\"morn\" + 0.012*\"burn\" + 0.011*\"itch\" + 0.010*\"better\" + 0.007*\"think\"\n",
      "Topic: 13 \n",
      "Words: 0.023*\"inject\" + 0.014*\"sever\" + 0.013*\"help\" + 0.013*\"surgeri\" + 0.012*\"rsquo\" + 0.011*\"diagnos\" + 0.010*\"joint\" + 0.010*\"caus\" + 0.009*\"knee\" + 0.009*\"swell\"\n"
     ]
    }
   ],
   "source": [
    "topics_num=model_lda.print_topics(-1)\n",
    "for idx, topic in topics_num:\n",
    "    print('Topic: {} \\nWords: {}'.format(idx, topic))"
   ]
  },
  {
   "cell_type": "markdown",
   "metadata": {},
   "source": [
    "We see that some of the topics can easily be identified to be regarding smoking, birth control, products applied to skin, blood pressure and circulations problems, weight loss and apetite, migraines/headaches, anxiety/depression, drinking fluids and so on. Note that again, the text cleaning process was very important because otherwise our readability of topics would be low and there would be too many of the same stopwords appearing across all topics. "
   ]
  },
  {
   "cell_type": "code",
   "execution_count": 43,
   "metadata": {},
   "outputs": [
    {
     "name": "stdout",
     "output_type": "stream",
     "text": [
      "\n",
      "Coherence Score is....  0.49461781480541633\n"
     ]
    }
   ],
   "source": [
    "# Getting the Coherance score\n",
    "from gensim.models import CoherenceModel\n",
    "CohLda = CoherenceModel(model=model_lda, texts=tokenized_Reviews, dictionary=dictionary, coherence='c_v')\n",
    "coherencelda = CohLda.get_coherence()\n",
    "print ('\\nCoherence Score is.... ', coherencelda)"
   ]
  },
  {
   "cell_type": "markdown",
   "metadata": {},
   "source": [
    "Coherence score is one way to measure the readability of topics, and it was discovered previously that a topic number of 14 yielded the highest coherence score. It is good to examine the topics themselves however to see if they make sense or not and not solely rely on this measure. "
   ]
  },
  {
   "cell_type": "code",
   "execution_count": 44,
   "metadata": {},
   "outputs": [
    {
     "name": "stderr",
     "output_type": "stream",
     "text": [
      "C:\\ProgramData\\Anaconda3\\lib\\site-packages\\past\\types\\oldstr.py:33: DeprecationWarning: invalid escape sequence \\d\n",
      "  \"\"\"\n",
      "C:\\ProgramData\\Anaconda3\\lib\\site-packages\\pyLDAvis\\_prepare.py:257: FutureWarning: Sorting because non-concatenation axis is not aligned. A future version\n",
      "of pandas will change to not sort by default.\n",
      "\n",
      "To accept the future behavior, pass 'sort=False'.\n",
      "\n",
      "To retain the current behavior and silence the warning, pass 'sort=True'.\n",
      "\n",
      "  return pd.concat([default_term_info] + list(topic_dfs))\n"
     ]
    },
    {
     "data": {
      "text/html": [
       "\n",
       "<link rel=\"stylesheet\" type=\"text/css\" href=\"https://cdn.rawgit.com/bmabey/pyLDAvis/files/ldavis.v1.0.0.css\">\n",
       "\n",
       "\n",
       "<div id=\"ldavis_el615622767368391365022705363\"></div>\n",
       "<script type=\"text/javascript\">\n",
       "\n",
       "var ldavis_el615622767368391365022705363_data = {\"mdsDat\": {\"x\": [-0.20833073398652643, 0.023760836346829857, 0.06262765544457974, -0.07031651782638493, -0.14385535476471778, -0.045753549076806746, 0.04168537732024308, 0.15421848472797123, 0.16680083192694162, 0.03955809360974813, 0.03653711023499665, 0.125407307694076, -0.1160775549859552, -0.0662619866649963], \"y\": [0.03408890056890239, 0.13690005577160116, -0.06686103845202884, 0.05466114743042008, -0.04581020178428913, 0.0830494927701069, 0.005913129617905233, 0.08436692157281636, 0.04259357085248464, -0.21402928082355252, -0.21071058025169437, 0.06526794109264135, 0.025425282242371894, 0.0051446593923149255], \"topics\": [1, 2, 3, 4, 5, 6, 7, 8, 9, 10, 11, 12, 13, 14], \"cluster\": [1, 1, 1, 1, 1, 1, 1, 1, 1, 1, 1, 1, 1, 1], \"Freq\": [14.495299339294434, 11.914814949035645, 11.349152565002441, 7.651780605316162, 6.681258201599121, 6.672178745269775, 6.467477321624756, 6.169417381286621, 5.753879070281982, 5.409780025482178, 4.857542514801025, 4.6198272705078125, 4.493136882781982, 3.4644532203674316]}, \"tinfo\": {\"Category\": [\"Default\", \"Default\", \"Default\", \"Default\", \"Default\", \"Default\", \"Default\", \"Default\", \"Default\", \"Default\", \"Default\", \"Default\", \"Default\", \"Default\", \"Default\", \"Default\", \"Default\", \"Default\", \"Default\", \"Default\", \"Default\", \"Default\", \"Default\", \"Default\", \"Default\", \"Default\", \"Default\", \"Default\", \"Default\", \"Default\", \"Topic1\", \"Topic1\", \"Topic1\", \"Topic1\", \"Topic1\", \"Topic1\", \"Topic1\", \"Topic1\", \"Topic1\", \"Topic1\", \"Topic1\", \"Topic1\", \"Topic1\", \"Topic1\", \"Topic1\", \"Topic1\", \"Topic1\", \"Topic1\", \"Topic1\", \"Topic1\", \"Topic1\", \"Topic1\", \"Topic1\", \"Topic1\", \"Topic1\", \"Topic1\", \"Topic1\", \"Topic1\", \"Topic1\", \"Topic1\", \"Topic1\", \"Topic1\", \"Topic1\", \"Topic1\", \"Topic1\", \"Topic1\", \"Topic1\", \"Topic1\", \"Topic1\", \"Topic1\", \"Topic1\", \"Topic1\", \"Topic1\", \"Topic1\", \"Topic1\", \"Topic1\", \"Topic1\", \"Topic1\", \"Topic1\", \"Topic1\", \"Topic1\", \"Topic1\", \"Topic1\", \"Topic1\", \"Topic1\", \"Topic1\", \"Topic1\", \"Topic1\", \"Topic1\", \"Topic1\", \"Topic1\", \"Topic1\", \"Topic1\", \"Topic1\", \"Topic1\", \"Topic1\", \"Topic1\", \"Topic1\", \"Topic1\", \"Topic1\", \"Topic1\", \"Topic1\", \"Topic1\", \"Topic1\", \"Topic1\", \"Topic1\", \"Topic2\", \"Topic2\", \"Topic2\", \"Topic2\", \"Topic2\", \"Topic2\", \"Topic2\", \"Topic2\", \"Topic2\", \"Topic2\", \"Topic2\", \"Topic2\", \"Topic2\", \"Topic2\", \"Topic2\", \"Topic2\", \"Topic2\", \"Topic2\", \"Topic2\", \"Topic2\", \"Topic2\", \"Topic2\", \"Topic2\", \"Topic2\", \"Topic2\", \"Topic2\", \"Topic2\", \"Topic2\", \"Topic2\", \"Topic2\", \"Topic2\", \"Topic2\", \"Topic2\", \"Topic2\", \"Topic2\", \"Topic2\", \"Topic2\", \"Topic2\", \"Topic2\", \"Topic2\", \"Topic2\", \"Topic2\", \"Topic2\", \"Topic2\", \"Topic2\", \"Topic2\", \"Topic2\", \"Topic2\", \"Topic2\", \"Topic2\", \"Topic2\", \"Topic2\", \"Topic2\", \"Topic2\", \"Topic2\", \"Topic2\", \"Topic2\", \"Topic2\", \"Topic2\", \"Topic2\", \"Topic2\", \"Topic2\", \"Topic2\", \"Topic2\", \"Topic2\", \"Topic2\", \"Topic2\", \"Topic2\", \"Topic2\", \"Topic2\", \"Topic3\", \"Topic3\", \"Topic3\", \"Topic3\", \"Topic3\", \"Topic3\", \"Topic3\", \"Topic3\", \"Topic3\", \"Topic3\", \"Topic3\", \"Topic3\", \"Topic3\", \"Topic3\", \"Topic3\", \"Topic3\", \"Topic3\", \"Topic3\", \"Topic3\", \"Topic3\", \"Topic3\", \"Topic3\", \"Topic3\", \"Topic3\", \"Topic3\", \"Topic3\", \"Topic3\", \"Topic3\", \"Topic3\", \"Topic3\", \"Topic3\", \"Topic3\", \"Topic3\", \"Topic3\", \"Topic3\", \"Topic3\", \"Topic3\", \"Topic3\", \"Topic3\", \"Topic3\", \"Topic3\", \"Topic3\", \"Topic3\", \"Topic3\", \"Topic3\", \"Topic3\", \"Topic3\", \"Topic3\", \"Topic3\", \"Topic3\", \"Topic3\", \"Topic3\", \"Topic3\", \"Topic3\", \"Topic3\", \"Topic3\", \"Topic3\", \"Topic3\", \"Topic3\", \"Topic3\", \"Topic3\", \"Topic3\", \"Topic3\", \"Topic3\", \"Topic3\", \"Topic3\", \"Topic3\", \"Topic3\", \"Topic3\", \"Topic3\", \"Topic3\", \"Topic3\", \"Topic3\", \"Topic3\", \"Topic4\", \"Topic4\", \"Topic4\", \"Topic4\", \"Topic4\", \"Topic4\", \"Topic4\", \"Topic4\", \"Topic4\", \"Topic4\", \"Topic4\", \"Topic4\", \"Topic4\", \"Topic4\", \"Topic4\", \"Topic4\", \"Topic4\", \"Topic4\", \"Topic4\", \"Topic4\", \"Topic4\", \"Topic4\", \"Topic4\", \"Topic4\", \"Topic4\", \"Topic4\", \"Topic4\", \"Topic4\", \"Topic4\", \"Topic4\", \"Topic4\", \"Topic4\", \"Topic4\", \"Topic4\", \"Topic4\", \"Topic4\", \"Topic4\", \"Topic4\", \"Topic4\", \"Topic4\", \"Topic4\", \"Topic4\", \"Topic4\", \"Topic4\", \"Topic4\", \"Topic4\", \"Topic4\", \"Topic4\", \"Topic4\", \"Topic4\", \"Topic4\", \"Topic4\", \"Topic4\", \"Topic4\", \"Topic4\", \"Topic4\", \"Topic4\", \"Topic4\", \"Topic4\", \"Topic4\", \"Topic4\", \"Topic4\", \"Topic4\", \"Topic4\", \"Topic4\", \"Topic5\", \"Topic5\", \"Topic5\", \"Topic5\", \"Topic5\", \"Topic5\", \"Topic5\", \"Topic5\", \"Topic5\", \"Topic5\", \"Topic5\", \"Topic5\", \"Topic5\", \"Topic5\", \"Topic5\", \"Topic5\", \"Topic5\", \"Topic5\", \"Topic5\", \"Topic5\", \"Topic5\", \"Topic5\", \"Topic5\", \"Topic5\", \"Topic5\", \"Topic5\", \"Topic5\", \"Topic5\", \"Topic5\", \"Topic5\", \"Topic5\", \"Topic5\", \"Topic5\", \"Topic5\", \"Topic5\", \"Topic5\", \"Topic5\", \"Topic5\", \"Topic5\", \"Topic5\", \"Topic5\", \"Topic5\", \"Topic5\", \"Topic5\", \"Topic5\", \"Topic5\", \"Topic5\", \"Topic5\", \"Topic5\", \"Topic5\", \"Topic5\", \"Topic5\", \"Topic5\", \"Topic5\", \"Topic5\", \"Topic5\", \"Topic5\", \"Topic5\", \"Topic5\", \"Topic5\", \"Topic5\", \"Topic5\", \"Topic5\", \"Topic5\", \"Topic5\", \"Topic5\", \"Topic5\", \"Topic5\", \"Topic5\", \"Topic5\", \"Topic5\", \"Topic6\", \"Topic6\", \"Topic6\", \"Topic6\", \"Topic6\", \"Topic6\", \"Topic6\", \"Topic6\", \"Topic6\", \"Topic6\", \"Topic6\", \"Topic6\", \"Topic6\", \"Topic6\", \"Topic6\", \"Topic6\", \"Topic6\", \"Topic6\", \"Topic6\", \"Topic6\", \"Topic6\", \"Topic6\", \"Topic6\", \"Topic6\", \"Topic6\", \"Topic6\", \"Topic6\", \"Topic6\", \"Topic6\", \"Topic6\", \"Topic6\", \"Topic6\", \"Topic6\", \"Topic6\", \"Topic6\", \"Topic6\", \"Topic6\", \"Topic6\", \"Topic6\", \"Topic6\", \"Topic6\", \"Topic6\", \"Topic6\", \"Topic6\", \"Topic6\", \"Topic6\", \"Topic6\", \"Topic6\", \"Topic6\", \"Topic6\", \"Topic6\", \"Topic6\", \"Topic6\", \"Topic6\", \"Topic6\", \"Topic6\", \"Topic6\", \"Topic6\", \"Topic6\", \"Topic6\", \"Topic6\", \"Topic6\", \"Topic6\", \"Topic6\", \"Topic6\", \"Topic6\", \"Topic6\", \"Topic6\", \"Topic6\", \"Topic6\", \"Topic6\", \"Topic6\", \"Topic6\", \"Topic6\", \"Topic6\", \"Topic6\", \"Topic6\", \"Topic6\", \"Topic6\", \"Topic6\", \"Topic6\", \"Topic6\", \"Topic6\", \"Topic6\", \"Topic7\", \"Topic7\", \"Topic7\", \"Topic7\", \"Topic7\", \"Topic7\", \"Topic7\", \"Topic7\", \"Topic7\", \"Topic7\", \"Topic7\", \"Topic7\", \"Topic7\", \"Topic7\", \"Topic7\", \"Topic7\", \"Topic7\", \"Topic7\", \"Topic7\", \"Topic7\", \"Topic7\", \"Topic7\", \"Topic7\", \"Topic7\", \"Topic7\", \"Topic7\", \"Topic7\", \"Topic7\", \"Topic7\", \"Topic7\", \"Topic7\", \"Topic7\", \"Topic7\", \"Topic7\", \"Topic7\", \"Topic7\", \"Topic7\", \"Topic7\", \"Topic7\", \"Topic7\", \"Topic7\", \"Topic7\", \"Topic7\", \"Topic7\", \"Topic7\", \"Topic7\", \"Topic7\", \"Topic7\", \"Topic7\", \"Topic7\", \"Topic7\", \"Topic7\", \"Topic7\", \"Topic7\", \"Topic7\", \"Topic7\", \"Topic7\", \"Topic7\", \"Topic7\", \"Topic7\", \"Topic7\", \"Topic7\", \"Topic7\", \"Topic7\", \"Topic7\", \"Topic7\", \"Topic7\", \"Topic7\", \"Topic7\", \"Topic7\", \"Topic7\", \"Topic8\", \"Topic8\", \"Topic8\", \"Topic8\", \"Topic8\", \"Topic8\", \"Topic8\", \"Topic8\", \"Topic8\", \"Topic8\", \"Topic8\", \"Topic8\", \"Topic8\", \"Topic8\", \"Topic8\", \"Topic8\", \"Topic8\", \"Topic8\", \"Topic8\", \"Topic8\", \"Topic8\", \"Topic8\", \"Topic8\", \"Topic8\", \"Topic8\", \"Topic8\", \"Topic8\", \"Topic8\", \"Topic8\", \"Topic8\", \"Topic8\", \"Topic8\", \"Topic8\", \"Topic8\", \"Topic8\", \"Topic8\", \"Topic8\", \"Topic8\", \"Topic8\", \"Topic8\", \"Topic8\", \"Topic8\", \"Topic8\", \"Topic8\", \"Topic8\", \"Topic8\", \"Topic8\", \"Topic8\", \"Topic8\", \"Topic8\", \"Topic8\", \"Topic8\", \"Topic8\", \"Topic8\", \"Topic8\", \"Topic8\", \"Topic8\", \"Topic8\", \"Topic8\", \"Topic8\", \"Topic8\", \"Topic8\", \"Topic8\", \"Topic8\", \"Topic8\", \"Topic8\", \"Topic8\", \"Topic8\", \"Topic8\", \"Topic8\", \"Topic8\", \"Topic8\", \"Topic9\", \"Topic9\", \"Topic9\", \"Topic9\", \"Topic9\", \"Topic9\", \"Topic9\", \"Topic9\", \"Topic9\", \"Topic9\", \"Topic9\", \"Topic9\", \"Topic9\", \"Topic9\", \"Topic9\", \"Topic9\", \"Topic9\", \"Topic9\", \"Topic9\", \"Topic9\", \"Topic9\", \"Topic9\", \"Topic9\", \"Topic9\", \"Topic9\", \"Topic9\", \"Topic9\", \"Topic9\", \"Topic9\", \"Topic9\", \"Topic9\", \"Topic9\", \"Topic9\", \"Topic9\", \"Topic9\", \"Topic9\", \"Topic9\", \"Topic9\", \"Topic9\", \"Topic9\", \"Topic9\", \"Topic9\", \"Topic9\", \"Topic9\", \"Topic9\", \"Topic9\", \"Topic9\", \"Topic9\", \"Topic9\", \"Topic9\", \"Topic9\", \"Topic9\", \"Topic9\", \"Topic9\", \"Topic9\", \"Topic9\", \"Topic9\", \"Topic9\", \"Topic9\", \"Topic9\", \"Topic9\", \"Topic9\", \"Topic9\", \"Topic9\", \"Topic9\", \"Topic9\", \"Topic9\", \"Topic9\", \"Topic9\", \"Topic9\", \"Topic9\", \"Topic9\", \"Topic9\", \"Topic9\", \"Topic9\", \"Topic10\", \"Topic10\", \"Topic10\", \"Topic10\", \"Topic10\", \"Topic10\", \"Topic10\", \"Topic10\", \"Topic10\", \"Topic10\", \"Topic10\", \"Topic10\", \"Topic10\", \"Topic10\", \"Topic10\", \"Topic10\", \"Topic10\", \"Topic10\", \"Topic10\", \"Topic10\", \"Topic10\", \"Topic10\", \"Topic10\", \"Topic10\", \"Topic10\", \"Topic10\", \"Topic10\", \"Topic10\", \"Topic10\", \"Topic10\", \"Topic10\", \"Topic10\", \"Topic10\", \"Topic10\", \"Topic10\", \"Topic10\", \"Topic10\", \"Topic10\", \"Topic10\", \"Topic10\", \"Topic10\", \"Topic10\", \"Topic10\", \"Topic10\", \"Topic10\", \"Topic10\", \"Topic10\", \"Topic10\", \"Topic10\", \"Topic10\", \"Topic10\", \"Topic10\", \"Topic10\", \"Topic10\", \"Topic10\", \"Topic10\", \"Topic10\", \"Topic10\", \"Topic10\", \"Topic10\", \"Topic10\", \"Topic10\", \"Topic10\", \"Topic10\", \"Topic10\", \"Topic10\", \"Topic10\", \"Topic10\", \"Topic10\", \"Topic10\", \"Topic10\", \"Topic10\", \"Topic10\", \"Topic11\", \"Topic11\", \"Topic11\", \"Topic11\", \"Topic11\", \"Topic11\", \"Topic11\", \"Topic11\", \"Topic11\", \"Topic11\", \"Topic11\", \"Topic11\", \"Topic11\", \"Topic11\", \"Topic11\", \"Topic11\", \"Topic11\", \"Topic11\", \"Topic11\", \"Topic11\", \"Topic11\", \"Topic11\", \"Topic11\", \"Topic11\", \"Topic11\", \"Topic11\", \"Topic11\", \"Topic11\", \"Topic11\", \"Topic11\", \"Topic11\", \"Topic11\", \"Topic11\", \"Topic11\", \"Topic11\", \"Topic11\", \"Topic11\", \"Topic11\", \"Topic11\", \"Topic11\", \"Topic11\", \"Topic11\", \"Topic11\", \"Topic11\", \"Topic11\", \"Topic11\", \"Topic11\", \"Topic11\", \"Topic11\", \"Topic11\", \"Topic11\", \"Topic11\", \"Topic11\", \"Topic11\", \"Topic11\", \"Topic11\", \"Topic11\", \"Topic11\", \"Topic11\", \"Topic11\", \"Topic11\", \"Topic11\", \"Topic11\", \"Topic11\", \"Topic11\", \"Topic11\", \"Topic11\", \"Topic11\", \"Topic11\", \"Topic11\", \"Topic11\", \"Topic11\", \"Topic11\", \"Topic12\", \"Topic12\", \"Topic12\", \"Topic12\", \"Topic12\", \"Topic12\", \"Topic12\", \"Topic12\", \"Topic12\", \"Topic12\", \"Topic12\", \"Topic12\", \"Topic12\", \"Topic12\", \"Topic12\", \"Topic12\", \"Topic12\", \"Topic12\", \"Topic12\", \"Topic12\", \"Topic12\", \"Topic12\", \"Topic12\", \"Topic12\", \"Topic12\", \"Topic12\", \"Topic12\", \"Topic12\", \"Topic12\", \"Topic12\", \"Topic12\", \"Topic12\", \"Topic12\", \"Topic12\", \"Topic12\", \"Topic12\", \"Topic12\", \"Topic12\", \"Topic12\", \"Topic12\", \"Topic12\", \"Topic12\", \"Topic12\", \"Topic12\", \"Topic12\", \"Topic12\", \"Topic12\", \"Topic12\", \"Topic12\", \"Topic12\", \"Topic12\", \"Topic12\", \"Topic12\", \"Topic12\", \"Topic12\", \"Topic12\", \"Topic12\", \"Topic12\", \"Topic12\", \"Topic12\", \"Topic12\", \"Topic12\", \"Topic12\", \"Topic12\", \"Topic12\", \"Topic12\", \"Topic12\", \"Topic12\", \"Topic12\", \"Topic12\", \"Topic13\", \"Topic13\", \"Topic13\", \"Topic13\", \"Topic13\", \"Topic13\", \"Topic13\", \"Topic13\", \"Topic13\", \"Topic13\", \"Topic13\", \"Topic13\", \"Topic13\", \"Topic13\", \"Topic13\", \"Topic13\", \"Topic13\", \"Topic13\", \"Topic13\", \"Topic13\", \"Topic13\", \"Topic13\", \"Topic13\", \"Topic13\", \"Topic13\", \"Topic13\", \"Topic13\", \"Topic13\", \"Topic13\", \"Topic13\", \"Topic13\", \"Topic13\", \"Topic13\", \"Topic13\", \"Topic13\", \"Topic13\", \"Topic13\", \"Topic13\", \"Topic13\", \"Topic13\", \"Topic13\", \"Topic13\", \"Topic13\", \"Topic13\", \"Topic13\", \"Topic13\", \"Topic13\", \"Topic13\", \"Topic13\", \"Topic13\", \"Topic13\", \"Topic13\", \"Topic13\", \"Topic13\", \"Topic13\", \"Topic13\", \"Topic13\", \"Topic13\", \"Topic13\", \"Topic13\", \"Topic13\", \"Topic13\", \"Topic13\", \"Topic13\", \"Topic13\", \"Topic13\", \"Topic13\", \"Topic13\", \"Topic13\", \"Topic13\", \"Topic13\", \"Topic13\", \"Topic13\", \"Topic13\", \"Topic13\", \"Topic14\", \"Topic14\", \"Topic14\", \"Topic14\", \"Topic14\", \"Topic14\", \"Topic14\", \"Topic14\", \"Topic14\", \"Topic14\", \"Topic14\", \"Topic14\", \"Topic14\", \"Topic14\", \"Topic14\", \"Topic14\", \"Topic14\", \"Topic14\", \"Topic14\", \"Topic14\", \"Topic14\", \"Topic14\", \"Topic14\", \"Topic14\", \"Topic14\", \"Topic14\", \"Topic14\", \"Topic14\", \"Topic14\", \"Topic14\", \"Topic14\", \"Topic14\", \"Topic14\", \"Topic14\", \"Topic14\", \"Topic14\", \"Topic14\", \"Topic14\", \"Topic14\", \"Topic14\", \"Topic14\", \"Topic14\", \"Topic14\", \"Topic14\", \"Topic14\", \"Topic14\", \"Topic14\", \"Topic14\", \"Topic14\", \"Topic14\", \"Topic14\", \"Topic14\", \"Topic14\", \"Topic14\", \"Topic14\", \"Topic14\", \"Topic14\", \"Topic14\", \"Topic14\", \"Topic14\", \"Topic14\", \"Topic14\", \"Topic14\"], \"Freq\": [13552.0, 7677.0, 9598.0, 8447.0, 6314.0, 8059.0, 4509.0, 7684.0, 6852.0, 6698.0, 4360.0, 3322.0, 7368.0, 3055.0, 4654.0, 5027.0, 3210.0, 6148.0, 2592.0, 7837.0, 3049.0, 3064.0, 3339.0, 5236.0, 3449.0, 2372.0, 2154.0, 1523.0, 3024.0, 1292.0, 854.5729370117188, 564.4607543945312, 250.04736328125, 930.4971313476562, 156.5420684814453, 157.02090454101562, 245.8560333251953, 148.25381469726562, 214.76966857910156, 225.42037963867188, 137.2214813232422, 201.20230102539062, 141.3201446533203, 108.98706817626953, 104.87998962402344, 91.66233825683594, 90.54267120361328, 87.03507232666016, 84.74394989013672, 83.77713012695312, 83.4907455444336, 84.9238052368164, 71.03528594970703, 65.7968978881836, 64.75186920166016, 64.4459228515625, 107.33543395996094, 62.029483795166016, 66.052001953125, 59.19756317138672, 939.0829467773438, 510.4070739746094, 991.2814331054688, 273.5809020996094, 141.1740264892578, 4748.49560546875, 2429.609130859375, 11803.3115234375, 999.0443115234375, 1825.2808837890625, 425.0527648925781, 558.5512084960938, 800.5811767578125, 386.2859191894531, 4179.07666015625, 348.92474365234375, 1409.094482421875, 645.7763061523438, 2025.2003173828125, 1742.967529296875, 409.55572509765625, 2229.89892578125, 2374.355712890625, 1231.9375, 3856.634765625, 1605.3148193359375, 2629.57421875, 1629.248291015625, 794.306884765625, 759.097412109375, 793.9520263671875, 721.5899047851562, 1474.9815673828125, 1222.525390625, 1561.9093017578125, 1277.615234375, 1235.1007080078125, 1191.759521484375, 1380.5054931640625, 1037.33544921875, 1207.6710205078125, 1190.1392822265625, 1093.9688720703125, 1087.093017578125, 1119.797119140625, 1017.0078125, 505.63006591796875, 635.1702270507812, 581.3951416015625, 629.8914794921875, 928.0593872070312, 230.1748809814453, 1183.5435791015625, 191.46043395996094, 1674.2840576171875, 154.84146118164062, 154.255126953125, 137.91519165039062, 129.6199188232422, 276.0032958984375, 1124.1920166015625, 118.09188079833984, 682.633056640625, 145.133544921875, 167.36312866210938, 99.73399353027344, 8359.912109375, 93.58682250976562, 95.45811462402344, 193.5115966796875, 84.04814147949219, 246.0954132080078, 79.61463165283203, 729.5001220703125, 77.6058578491211, 76.45381164550781, 1259.6177978515625, 599.5707397460938, 841.8863525390625, 614.2428588867188, 347.0140380859375, 184.09048461914062, 157.798095703125, 6311.80322265625, 804.1734619140625, 484.89459228515625, 785.0782470703125, 503.4311828613281, 367.1589660644531, 350.1240539550781, 638.7453002929688, 776.6382446289062, 657.5872192382812, 739.4602661132812, 823.4608764648438, 516.7980346679688, 4309.50927734375, 681.8327026367188, 1003.5093383789062, 1914.6934814453125, 1593.9110107421875, 1206.4312744140625, 849.7904052734375, 1475.343505859375, 1258.9464111328125, 1329.768798828125, 986.4161987304688, 954.6819458007812, 894.91796875, 1010.0320434570312, 1028.0863037109375, 986.8578491210938, 1046.6123046875, 958.6777954101562, 843.1499633789062, 791.8017578125, 561.132568359375, 373.9461975097656, 335.8422546386719, 485.0570068359375, 322.6962585449219, 252.137939453125, 199.21304321289062, 178.44422912597656, 160.54513549804688, 151.31478881835938, 149.3981475830078, 146.73802185058594, 465.1088562011719, 143.8313446044922, 175.25634765625, 133.3538055419922, 128.92840576171875, 196.2437286376953, 113.34294128417969, 329.2483215332031, 108.16545104980469, 100.54656219482422, 104.13566589355469, 136.95188903808594, 98.48491668701172, 93.02275848388672, 83.3796615600586, 83.92847442626953, 115.73310852050781, 82.19583892822266, 1465.19580078125, 418.62725830078125, 211.23558044433594, 182.16220092773438, 303.719482421875, 246.49571228027344, 302.894775390625, 303.1856689453125, 505.1113586425781, 6946.2314453125, 2679.573974609375, 442.0129699707031, 5945.181640625, 1529.06201171875, 440.80322265625, 603.7171020507812, 1978.6448974609375, 665.6241455078125, 3315.859619140625, 340.4712219238281, 278.77374267578125, 823.6138305664062, 630.4871826171875, 428.845703125, 546.496337890625, 2003.3226318359375, 486.4595031738281, 1278.78369140625, 705.5321044921875, 667.1258544921875, 661.8143920898438, 982.7686767578125, 814.3837890625, 864.3687744140625, 961.0303955078125, 730.0670166015625, 848.7572021484375, 776.70361328125, 614.5543212890625, 653.455078125, 567.466552734375, 568.9703369140625, 557.5589599609375, 547.569580078125, 369.8028259277344, 338.462646484375, 179.9448699951172, 212.43569946289062, 613.2885131835938, 232.38790893554688, 119.2613754272461, 140.40208435058594, 103.3859634399414, 105.5487060546875, 312.41900634765625, 289.68658447265625, 95.86837005615234, 119.19447326660156, 204.6947021484375, 273.111083984375, 113.04016876220703, 90.93794250488281, 95.974609375, 85.2126693725586, 123.8791275024414, 90.83769989013672, 347.6071472167969, 77.32793426513672, 77.37035369873047, 77.0694808959961, 109.2864990234375, 69.08843231201172, 109.09878540039062, 442.7235412597656, 1179.3192138671875, 181.1128387451172, 765.9364624023438, 171.4857940673828, 5435.77734375, 1992.2099609375, 857.4395751953125, 2377.6025390625, 675.536865234375, 372.8600769042969, 1561.5826416015625, 265.0469055175781, 5703.0869140625, 512.2702026367188, 242.7919158935547, 596.1471557617188, 852.023681640625, 987.0842895507812, 2615.173828125, 330.9342346191406, 520.2573852539062, 930.6209106445312, 843.992431640625, 1000.7109375, 726.4189453125, 680.158935546875, 556.2291259765625, 613.7701416015625, 593.7337036132812, 515.8624267578125, 469.5970153808594, 586.98876953125, 564.238037109375, 510.4754333496094, 486.2691955566406, 479.44964599609375, 346.8876037597656, 268.5228576660156, 142.751708984375, 140.9210205078125, 132.79234313964844, 131.10838317871094, 215.759033203125, 124.90289306640625, 115.77843475341797, 121.10132598876953, 115.23737335205078, 107.76406860351562, 105.2630844116211, 102.2330551147461, 107.44645690917969, 232.08087158203125, 95.68069458007812, 93.84503936767578, 108.39456176757812, 88.6174545288086, 84.9181900024414, 84.12969970703125, 83.89446258544922, 89.90147399902344, 80.2120590209961, 76.06510162353516, 154.0675811767578, 74.14600372314453, 73.58155822753906, 1402.69091796875, 218.0425567626953, 142.2233428955078, 185.81488037109375, 2816.07373046875, 190.99664306640625, 179.99520874023438, 573.26318359375, 543.6322021484375, 157.46923828125, 3441.65771484375, 161.70980834960938, 2267.911376953125, 1015.857177734375, 328.5517578125, 359.6365661621094, 812.6654052734375, 346.61322021484375, 554.187744140625, 1171.2528076171875, 741.5690307617188, 1428.911865234375, 633.1572875976562, 1007.5803833007812, 299.2010498046875, 533.7158203125, 532.7258911132812, 578.1500854492188, 331.9891357421875, 401.7165222167969, 507.23333740234375, 333.4326171875, 458.420654296875, 394.3707580566406, 360.69293212890625, 436.149169921875, 419.36663818359375, 409.9972229003906, 435.78509521484375, 422.3003845214844, 350.1039123535156, 184.2988739013672, 227.28750610351562, 120.43183135986328, 125.84237670898438, 114.10498809814453, 107.3798599243164, 110.45000457763672, 111.81814575195312, 81.85755157470703, 79.0274429321289, 75.68701171875, 73.46477508544922, 121.71395874023438, 68.84645080566406, 68.14888000488281, 75.45947265625, 78.52237701416016, 613.11767578125, 63.083065032958984, 63.31451416015625, 67.5859146118164, 56.04179382324219, 56.20906066894531, 54.0474853515625, 54.157466888427734, 52.94450759887695, 52.75411605834961, 52.29880905151367, 150.61265563964844, 51.354957580566406, 215.01565551757812, 217.2321319580078, 92.89125061035156, 112.35546112060547, 7017.44921875, 102.04556274414062, 144.0564727783203, 377.1067810058594, 171.9892578125, 86.10765075683594, 141.22329711914062, 286.1221618652344, 113.78439331054688, 195.5093231201172, 137.49920654296875, 139.79112243652344, 168.1615753173828, 147.36758422851562, 210.6793975830078, 259.4916687011719, 152.845947265625, 1427.4259033203125, 954.1202392578125, 208.71824645996094, 321.3301696777344, 1102.7100830078125, 210.32049560546875, 914.184326171875, 168.46820068359375, 236.75721740722656, 340.8776550292969, 829.20458984375, 998.6298217773438, 916.2105102539062, 457.7284851074219, 363.0325927734375, 278.51287841796875, 523.5184936523438, 600.6972045898438, 465.68756103515625, 560.4065551757812, 286.8332824707031, 274.14166259765625, 437.1639709472656, 385.0472106933594, 489.5346374511719, 306.8196716308594, 386.9232177734375, 333.063232421875, 403.7226867675781, 327.5093078613281, 336.6261901855469, 360.3561096191406, 321.2324523925781, 444.18072509765625, 279.56170654296875, 595.8565063476562, 222.42811584472656, 461.4049072265625, 165.3316192626953, 240.67332458496094, 170.01705932617188, 147.5792694091797, 130.59417724609375, 124.93087005615234, 122.69975280761719, 121.11970520019531, 111.06045532226562, 232.91188049316406, 97.83079528808594, 97.1611099243164, 94.21861267089844, 102.07569122314453, 80.28475952148438, 80.72364807128906, 79.78157806396484, 80.25252532958984, 80.82139587402344, 81.61243438720703, 138.91989135742188, 80.35456848144531, 76.54025268554688, 74.89479064941406, 73.32282257080078, 323.8990478515625, 197.4351348876953, 2387.563720703125, 3982.11767578125, 108.5128173828125, 232.73033142089844, 122.80823516845703, 135.8948516845703, 577.6953125, 241.87745666503906, 899.4790649414062, 338.579833984375, 607.3468627929688, 224.83895874023438, 2236.233154296875, 578.3233642578125, 375.6622619628906, 277.9858093261719, 363.4812927246094, 669.6466674804688, 470.5784912109375, 313.5173034667969, 399.181640625, 529.3841552734375, 899.4274291992188, 836.2936401367188, 867.0592651367188, 444.89019775390625, 707.3214111328125, 693.2515869140625, 671.0037841796875, 450.7511901855469, 487.9405517578125, 638.4962158203125, 702.5144653320312, 512.729248046875, 568.0023803710938, 438.85125732421875, 447.11029052734375, 434.8594665527344, 400.6108093261719, 303.321044921875, 246.0312042236328, 222.74215698242188, 186.01956176757812, 176.66879272460938, 174.53790283203125, 201.90049743652344, 154.29464721679688, 432.1707458496094, 158.1237030029297, 147.4408721923828, 144.9203338623047, 149.3570098876953, 515.0604248046875, 125.97061920166016, 173.94857788085938, 263.1755676269531, 120.70430755615234, 140.0739288330078, 163.11302185058594, 141.32579040527344, 103.36043548583984, 102.5323715209961, 268.2833557128906, 99.9128646850586, 97.7717514038086, 92.81002044677734, 90.29129791259766, 315.0112609863281, 86.47093200683594, 864.7398071289062, 739.2886352539062, 255.192138671875, 195.14305114746094, 177.54437255859375, 381.7991638183594, 282.275634765625, 302.4676818847656, 368.3979797363281, 1609.6746826171875, 250.15875244140625, 306.33892822265625, 248.5075225830078, 299.8078918457031, 252.49594116210938, 190.1160430908203, 653.1812744140625, 334.279296875, 895.0767822265625, 345.7498474121094, 409.40087890625, 334.02850341796875, 415.3138732910156, 652.9014892578125, 800.7796020507812, 1021.8613891601562, 497.2280578613281, 374.89349365234375, 540.4775390625, 690.9345092773438, 539.8408813476562, 944.9409790039062, 429.4455871582031, 566.965576171875, 421.9496154785156, 376.7372131347656, 407.4858093261719, 405.95819091796875, 434.4941711425781, 388.4469909667969, 379.7777404785156, 369.5154113769531, 388.3305358886719, 326.8167419433594, 354.6541748046875, 263.89190673828125, 136.65525817871094, 136.65245056152344, 127.62338256835938, 119.1480712890625, 116.90049743652344, 105.1915283203125, 105.3136978149414, 112.7068099975586, 105.0152587890625, 97.83277893066406, 130.12319946289062, 187.1494140625, 95.30147552490234, 93.47187042236328, 91.78353881835938, 157.3212432861328, 236.5164031982422, 79.00716400146484, 75.63818359375, 72.89008331298828, 72.51642608642578, 72.30802154541016, 101.97659301757812, 69.5845947265625, 67.70027923583984, 84.56366729736328, 3266.52978515625, 524.5810546875, 354.1924133300781, 105.08309173583984, 149.77027893066406, 206.07310485839844, 149.94332885742188, 105.84846496582031, 385.7368469238281, 118.09040069580078, 123.99990844726562, 258.9697570800781, 131.70819091796875, 139.3076629638672, 457.9759216308594, 772.4136352539062, 1072.72900390625, 282.1728820800781, 1879.579345703125, 212.82420349121094, 174.40164184570312, 219.5504913330078, 219.9013214111328, 964.2427978515625, 288.5339050292969, 341.1711120605469, 972.1449584960938, 569.9625854492188, 432.91302490234375, 468.5438232421875, 359.9505920410156, 865.8071899414062, 1033.37646484375, 436.58819580078125, 342.6463623046875, 345.9822692871094, 613.9772338867188, 363.92327880859375, 535.7469482421875, 442.7898254394531, 407.71533203125, 419.69171142578125, 335.3600158691406, 401.11871337890625, 354.2574462890625, 1427.1954345703125, 187.94842529296875, 186.8686981201172, 145.66741943359375, 136.09877014160156, 133.82603454589844, 109.90522003173828, 101.54615783691406, 130.53465270996094, 101.59672546386719, 93.3521957397461, 91.44776153564453, 81.82637023925781, 99.33767700195312, 93.01010131835938, 119.5248794555664, 91.17115783691406, 67.85089111328125, 67.22945404052734, 66.45448303222656, 64.87702941894531, 86.44104766845703, 63.403446197509766, 63.34800720214844, 65.08626556396484, 67.36145782470703, 59.8900146484375, 58.88869857788086, 59.161441802978516, 54.532470703125, 2958.165771484375, 430.085205078125, 196.55865478515625, 136.598388671875, 130.7964630126953, 1391.9981689453125, 102.36994934082031, 102.15837097167969, 1783.25537109375, 3396.41015625, 1571.6700439453125, 107.90387725830078, 387.47808837890625, 488.2960205078125, 793.55712890625, 180.22207641601562, 389.5794677734375, 306.85272216796875, 164.92730712890625, 156.00637817382812, 232.5914764404297, 175.09193420410156, 1660.636474609375, 1334.2078857421875, 1149.08837890625, 795.7220458984375, 994.5029907226562, 450.7205505371094, 440.4239196777344, 563.6141967773438, 631.1292114257812, 629.921875, 535.228759765625, 645.710693359375, 550.472412109375, 355.2959899902344, 368.8736572265625, 294.57574462890625, 437.9935302734375, 566.8471069335938, 389.8813171386719, 443.120849609375, 389.351318359375, 474.85107421875, 433.31787109375, 309.7090148925781, 281.1946716308594, 241.56661987304688, 176.59841918945312, 145.48574829101562, 130.02468872070312, 131.29437255859375, 122.7836685180664, 116.0367431640625, 188.9606170654297, 107.07821655273438, 108.41732025146484, 103.0777359008789, 179.20835876464844, 97.74108123779297, 97.32656860351562, 92.57024383544922, 88.60144805908203, 87.98628234863281, 99.46006774902344, 91.55017852783203, 75.48534393310547, 85.718017578125, 71.89574432373047, 101.5285873413086, 209.8563995361328, 84.31831359863281, 71.95899200439453, 207.052490234375, 161.14649963378906, 1458.8135986328125, 214.26832580566406, 523.5049438476562, 178.4117889404297, 177.08387756347656, 118.23368072509766, 1112.2508544921875, 138.52828979492188, 226.33001708984375, 1332.9642333984375, 168.2335205078125, 1658.1868896484375, 1014.8611450195312, 487.36456298828125, 244.42303466796875, 199.6090087890625, 776.7017211914062, 897.8220825195312, 216.7659912109375, 446.46624755859375, 486.5749206542969, 315.6772766113281, 582.7236938476562, 886.788330078125, 387.858642578125, 388.473388671875, 263.4239501953125, 308.8511657714844, 326.7839050292969, 305.53179931640625, 519.7407836914062, 520.4951782226562, 331.72314453125, 368.4901123046875, 438.0998840332031, 294.9526672363281, 386.0657043457031, 365.8364562988281, 346.9613342285156, 315.41143798828125, 312.37054443359375, 528.23779296875, 1518.5103759765625, 341.8072509765625, 271.7987976074219, 248.95130920410156, 249.67308044433594, 123.33846282958984, 115.34122467041016, 154.8303985595703, 116.25042724609375, 110.55110168457031, 110.4525146484375, 105.61791229248047, 102.24345397949219, 98.235595703125, 95.7547378540039, 101.39427947998047, 89.15287017822266, 117.80422973632812, 361.0349426269531, 79.8634262084961, 78.76504516601562, 78.55364990234375, 81.43408966064453, 76.96772003173828, 73.13099670410156, 102.60836791992188, 74.55079650878906, 86.66088104248047, 71.36714172363281, 182.7568817138672, 152.57440185546875, 230.2991485595703, 87.14511108398438, 257.08306884765625, 206.89805603027344, 192.4552459716797, 134.1620635986328, 1017.8984375, 104.23298645019531, 590.548095703125, 431.9683532714844, 303.69329833984375, 353.7678527832031, 636.44921875, 212.65847778320312, 1415.6585693359375, 160.84262084960938, 2268.2890625, 839.6843872070312, 190.44866943359375, 771.9281005859375, 746.124755859375, 199.2230224609375, 334.9243469238281, 359.3965759277344, 359.6199035644531, 266.5729675292969, 454.7854309082031, 340.42486572265625, 486.82708740234375, 464.0899963378906, 409.0365905761719, 325.5567321777344, 376.0966796875, 335.69305419921875, 345.4270324707031, 347.1336364746094, 309.4928894042969, 339.3571472167969, 250.22988891601562, 181.77047729492188, 224.21949768066406, 152.63088989257812, 137.3243865966797, 123.02273559570312, 121.77381896972656, 120.16984558105469, 115.73372650146484, 121.35791015625, 112.09115600585938, 120.11062622070312, 109.5842056274414, 152.94186401367188, 115.81287384033203, 101.33716583251953, 96.89970397949219, 93.24981689453125, 90.94670104980469, 98.45450592041016, 88.79759979248047, 93.14727020263672, 89.49413299560547, 105.25830841064453, 84.0727310180664, 84.3008041381836, 82.98178100585938, 85.14997100830078, 79.7004165649414, 80.2104263305664, 561.9614868164062, 115.74260711669922, 149.16738891601562, 161.02381896972656, 108.14197540283203, 127.57613372802734, 124.23236846923828, 248.08786010742188, 120.80127716064453, 638.4158935546875, 117.21163177490234, 274.01904296875, 171.15818786621094, 383.7729187011719, 521.5263671875, 192.21800231933594, 143.61558532714844, 282.4079284667969, 525.932861328125, 436.45367431640625, 158.41842651367188, 388.0942687988281, 152.4403533935547, 461.9995422363281, 338.32574462890625, 291.36077880859375, 211.67977905273438, 477.9233703613281, 447.0099182128906, 397.6278991699219, 463.90618896484375, 349.3638000488281, 436.94732666015625, 355.5458068847656, 217.76931762695312, 257.8299255371094, 219.0883026123047, 301.8338623046875, 292.43408203125, 292.874267578125, 305.728759765625, 267.78472900390625, 249.07684326171875, 269.5162353515625, 226.869384765625, 857.1648559570312, 1287.5882568359375, 267.8865966796875, 234.17433166503906, 232.5115203857422, 181.01980590820312, 147.2837371826172, 164.7526092529297, 412.8697204589844, 128.7381134033203, 148.430419921875, 155.2694549560547, 111.7723388671875, 111.25626373291016, 108.78706359863281, 100.28102111816406, 98.88664245605469, 98.7804183959961, 100.63999938964844, 95.44141387939453, 150.78504943847656, 128.69825744628906, 78.18560791015625, 78.2008285522461, 74.34075164794922, 71.3429946899414, 174.953125, 64.6792221069336, 63.649566650390625, 63.39543151855469, 67.11051940917969, 325.0456848144531, 125.61666107177734, 112.79769897460938, 126.29743957519531, 127.55918884277344, 103.0399169921875, 1101.7747802734375, 201.060791015625, 163.5062713623047, 136.56431579589844, 198.14984130859375, 129.21356201171875, 290.9798278808594, 200.6717071533203, 215.06968688964844, 449.17462158203125, 439.0619201660156, 171.74082946777344, 304.9181823730469, 147.3855743408203, 428.28021240234375, 319.93463134765625, 293.56512451171875, 425.6689147949219, 229.216064453125, 182.07960510253906, 222.2225799560547, 238.67308044433594, 232.5175018310547, 203.1110382080078, 188.39852905273438, 184.53134155273438], \"Term\": [\"period\", \"quot\", \"weight\", \"anxieti\", \"lose\", \"sleep\", \"skin\", \"depress\", \"gain\", \"cramp\", \"nausea\", \"migrain\", \"night\", \"stomach\", \"bleed\", \"birth_control\", \"insert\", \"dose\", \"face\", \"hour\", \"pound\", \"drink\", \"clear\", \"headach\", \"spot\", \"loss\", \"dizzi\", \"blood_pressur\", \"wake\", \"smoke\", \"implanon\", \"loestrin\", \"lutera\", \"breast\", \"ovarian_cyst\", \"microgestin\", \"tender\", \"avian\", \"bigger\", \"boob\", \"naproxen\", \"yasmin\", \"junel\", \"levora\", \"xulan\", \"break_out\", \"daily_basi\", \"explod\", \"shave\", \"painkil\", \"patienc\", \"blackhead\", \"regain\", \"crampi\", \"accomplish\", \"plan_step\", \"nuva_r\", \"comparison\", \"nonstop\", \"heaviest\", \"nexplanon\", \"sprintec\", \"moodi\", \"condom\", \"fertil\", \"birth_control\", \"mood_sw\", \"period\", \"implant\", \"pregnant\", \"regul\", \"irregular\", \"pregnanc\", \"ovul\", \"gain\", \"unprotect\", \"light\", \"boyfriend\", \"spot\", \"drive\", \"lighter\", \"love\", \"bleed\", \"heavi\", \"weight\", \"haven\", \"cramp\", \"switch\", \"hormon\", \"bloat\", \"pack\", \"emot\", \"littl\", \"recommend\", \"stop\", \"come\", \"notic\", \"experi\", \"think\", \"horribl\", \"thing\", \"great\", \"normal\", \"chang\", \"good\", \"bodi\", \"adderal\", \"paxil\", \"social\", \"celexa\", \"focus\", \"concerta\", \"zoloft\", \"abreva\", \"panic_attack\", \"heart_rac\", \"strattera\", \"soma\", \"intestin\", \"buspar\", \"disord\", \"therapist\", \"adhd\", \"yawn\", \"hopeless\", \"family_friend\", \"anxieti\", \"bing\", \"polar\", \"task\", \"overeat\", \"clonazepam\", \"glucos\", \"effexor\", \"stelara\", \"dizzy_spel\", \"lexapro\", \"thought\", \"wellbutrin\", \"pristiq\", \"grade\", \"sertralin\", \"leave_hous\", \"depress\", \"panic\", \"klonopin\", \"prozac\", \"psychiatrist\", \"concentr\", \"ativan\", \"antidepress\", \"anxious\", \"attack\", \"cymbalta\", \"school\", \"bipolar\", \"help\", \"calm\", \"mood\", \"better\", \"thing\", \"suffer\", \"person\", \"think\", \"notic\", \"great\", \"final\", \"increas\", \"happi\", \"differ\", \"sever\", \"chang\", \"stop\", \"good\", \"normal\", \"need\", \"ambien\", \"monistat\", \"groggi\", \"fall_asleep\", \"asleep\", \"trazodon\", \"benadryl\", \"lithium\", \"falling_asleep\", \"mania\", \"spinal\", \"sore_throat\", \"sinus\", \"hangov\", \"sinus_infect\", \"trazadon\", \"reglan\", \"neurontin\", \"belsomra\", \"sedat\", \"sneez\", \"invokana\", \"duac\", \"fell_asleep\", \"mucinex\", \"sluggish\", \"ting\", \"allegra\", \"melatonin\", \"tinnitus\", \"itch\", \"awak\", \"peel\", \"congest\", \"knock\", \"hallucin\", \"epiduo\", \"hive\", \"allergi\", \"sleep\", \"wake\", \"bedtim\", \"night\", \"burn\", \"yeast_infect\", \"drowsi\", \"morn\", \"breath\", \"hour\", \"throat\", \"shower\", \"insomnia\", \"cough\", \"nightmar\", \"sleepi\", \"help\", \"rest\", \"better\", \"couldn\", \"tire\", \"minut\", \"think\", \"need\", \"dose\", \"stop\", \"wors\", \"good\", \"great\", \"later\", \"littl\", \"away\", \"thing\", \"experi\", \"right\", \"belviq\", \"phentermin\", \"carb\", \"snack\", \"contrav\", \"adipex\", \"brain_zap\", \"portion\", \"remicad\", \"type_diabet\", \"victoza\", \"goal\", \"bydureon\", \"brintellix\", \"diet_exercis\", \"hunger\", \"jitter\", \"differin\", \"ween\", \"discount_card\", \"colon\", \"obes\", \"abilifi\", \"nicotin\", \"cognit\", \"plateau\", \"curb\", \"luvox\", \"escitalopram\", \"sugar\", \"exercis\", \"overweight\", \"weigh\", \"intak\", \"lose\", \"loss\", \"diet\", \"pound\", \"hungri\", \"blood_sugar\", \"appetit\", \"loos\", \"weight\", \"meal\", \"metformin\", \"healthi\", \"food\", \"energi\", \"gain\", \"diabet\", \"crave\", \"great\", \"good\", \"help\", \"chang\", \"notic\", \"increas\", \"littl\", \"want\", \"drink\", \"mouth\", \"stop\", \"better\", \"need\", \"think\", \"skyla\", \"estrogen\", \"cervix\", \"travel\", \"kidney_ston\", \"acid\", \"prone\", \"endometriosi\", \"wrist\", \"otezla\", \"irritable_bowel\", \"measur\", \"wise\", \"creep\", \"spell\", \"aless\", \"clot\", \"afterward\", \"skyla_insert\", \"sept\", \"fluctuat\", \"voltaren\", \"minocyclin\", \"placement\", \"liletta\", \"inconveni\", \"propofol\", \"ultrasound\", \"seri\", \"genet\", \"mirena\", \"uterus\", \"string\", \"pinch\", \"insert\", \"blood_clot\", \"linzess\", \"uncomfort\", \"procedur\", \"painless\", \"cramp\", \"sharp\", \"bleed\", \"shoot\", \"ibuprofen\", \"process\", \"remov\", \"children\", \"place\", \"spot\", \"heavi\", \"period\", \"second\", \"stop\", \"child\", \"minut\", \"read\", \"recommend\", \"pass\", \"light\", \"tell\", \"blood\", \"normal\", \"worst\", \"fine\", \"littl\", \"want\", \"experi\", \"hour\", \"think\", \"today\", \"bupropion\", \"citalopram\", \"bacteria\", \"keppra\", \"panty_lin\", \"optimist\", \"puke\", \"joke\", \"faith\", \"paper\", \"breez\", \"frame\", \"godsend\", \"realiti\", \"welt\", \"sooo\", \"peak\", \"seizur\", \"twin\", \"quetiapin\", \"discount\", \"petit\", \"visual\", \"deplin\", \"rexulti\", \"excedrin\", \"tysabri\", \"pregabalin\", \"steadi\", \"aubra\", \"paragard\", \"regret\", \"small_pric\", \"marriag\", \"quot\", \"reluct\", \"pmdd\", \"suicid\", \"sooner\", \"remark\", \"interact\", \"sens\", \"everybodi\", \"true\", \"search\", \"discuss\", \"gonna\", \"cope\", \"provid\", \"market\", \"eating_habit\", \"differ\", \"peopl\", \"forev\", \"state\", \"chang\", \"proper\", \"tell\", \"viibryd\", \"lamict\", \"kind\", \"want\", \"think\", \"good\", \"person\", \"talk\", \"zero\", \"read\", \"love\", \"best\", \"thing\", \"mean\", \"hear\", \"normal\", \"issu\", \"stop\", \"live\", \"need\", \"actual\", \"better\", \"wasn\", \"sure\", \"come\", \"notic\", \"erect\", \"ciali\", \"dermatologist\", \"tonight\", \"accutan\", \"crap\", \"doxycyclin\", \"stroke\", \"testosteron\", \"milk\", \"cystic\", \"celebrex\", \"aczon\", \"suppositori\", \"moistur\", \"glass_wat\", \"pelvic\", \"enema\", \"vanish\", \"awaken\", \"overcom\", \"bike\", \"relpax\", \"minastrin\", \"thirst\", \"makeup\", \"solodyn\", \"wart\", \"sticki\", \"mucus\", \"cheek\", \"scalp\", \"face\", \"skin\", \"essenti\", \"blister\", \"rock\", \"tamiflu\", \"pimpl\", \"oili\", \"cream\", \"bump\", \"appli\", \"psoriasi\", \"clear\", \"area\", \"wash\", \"chin\", \"cystic_acn\", \"xanax\", \"breakout\", \"heal\", \"rash\", \"antibiot\", \"product\", \"look\", \"result\", \"chest\", \"break\", \"improv\", \"wors\", \"scar\", \"amaz\", \"notic\", \"better\", \"complet\", \"help\", \"away\", \"sever\", \"stop\", \"good\", \"humira\", \"perform\", \"infus\", \"methotrex\", \"smoke_fre\", \"zyprexa\", \"imitrex\", \"remiss\", \"bone\", \"clonidin\", \"nucynta\", \"gerd\", \"lesion\", \"vyvans\", \"confirm\", \"monitor\", \"smoker\", \"tendon\", \"disc\", \"enbrel\", \"tumor\", \"calcium\", \"smile\", \"norco\", \"chemo\", \"elbow\", \"crush\", \"benicar\", \"vicodin\", \"subutex\", \"rsquo\", \"joint\", \"nail\", \"urinary_tract\", \"emergency_room\", \"cancer\", \"damag\", \"heartburn\", \"liver\", \"inject\", \"stiff\", \"methadon\", \"ankl\", \"lung\", \"numer\", \"hydrocodon\", \"knee\", \"tramadol\", \"surgeri\", \"shoulder\", \"flare\", \"shot\", \"feet\", \"swell\", \"diagnos\", \"sever\", \"infect\", \"neck\", \"leav\", \"caus\", \"relief\", \"help\", \"test\", \"stop\", \"thank\", \"develop\", \"shoot\", \"improv\", \"great\", \"result\", \"bodi\", \"final\", \"cold_sor\", \"percocet\", \"topamax\", \"spine\", \"fortun\", \"insist\", \"maxalt\", \"viral_load\", \"cluster\", \"breastfe\", \"herniated_disc\", \"nsaid\", \"wheez\", \"fluoxetin\", \"tension\", \"outbreak\", \"valtrex\", \"serv\", \"athlet\", \"propranolol\", \"dilaudid\", \"trintellix\", \"zantac\", \"cheat\", \"land\", \"powder\", \"inch\", \"serotonin\", \"tabl\", \"magnesium\", \"migrain\", \"lyrica\", \"injuri\", \"toradol\", \"mirtazapin\", \"inhal\", \"nuvigil\", \"singulair\", \"asthma\", \"elavil\", \"synthroid\", \"prednison\", \"fibro\", \"term\", \"fibromyalgia\", \"chronic\", \"relief\", \"tingl\", \"headach\", \"neurologist\", \"regimen\", \"steroid\", \"stone\", \"daili\", \"nerv\", \"prevent\", \"suffer\", \"walk\", \"cough\", \"reduc\", \"reliev\", \"sever\", \"help\", \"twice\", \"toler\", \"function\", \"great\", \"head\", \"stop\", \"need\", \"away\", \"dose\", \"medicin\", \"hour\", \"come\", \"vomit\", \"zofran\", \"vertigo\", \"suprep\", \"wine\", \"fractur\", \"plaquenil\", \"indigest\", \"split\", \"copper\", \"achi\", \"loopi\", \"visibl\", \"exampl\", \"separ\", \"yellow\", \"introduc\", \"diazepam\", \"ginger\", \"anticip\", \"chug\", \"midnight\", \"cloud\", \"gatorad\", \"litr\", \"freez\", \"ortho_evra\", \"tissu\", \"campral\", \"pelvi\", \"stomach\", \"nauseat\", \"onset\", \"phone\", \"bystol\", \"diarrhea\", \"ringing_ear\", \"sleepless\", \"dizzi\", \"nausea\", \"sick\", \"beer\", \"abdomin\", \"upset\", \"nauseous\", \"faint\", \"flash\", \"weak\", \"step\", \"violent\", \"chill\", \"imposs\", \"hour\", \"dose\", \"headach\", \"drink\", \"sever\", \"food\", \"fatigu\", \"minut\", \"extrem\", \"away\", \"later\", \"experi\", \"morn\", \"bloat\", \"constip\", \"subsid\", \"second\", \"stop\", \"worst\", \"caus\", \"cramp\", \"prep\", \"colonoscopi\", \"toilet\", \"bowel\", \"poop\", \"laxat\", \"miralax\", \"armpit\", \"drysol\", \"strain\", \"caution\", \"glass\", \"orsythia\", \"champix\", \"lialda\", \"disgust\", \"worthless\", \"pant\", \"rins\", \"homework\", \"hypercar\", \"card\", \"flavor\", \"lantus\", \"salti\", \"ensur\", \"teacher\", \"stool\", \"moviprep\", \"ounc\", \"insulin\", \"copay\", \"tast\", \"coupon\", \"bottl\", \"movement\", \"websit\", \"dentist\", \"sweat\", \"tummi\", \"danger\", \"water\", \"swallow\", \"drink\", \"patch\", \"bathroom\", \"bowel_mov\", \"spray\", \"constip\", \"mouth\", \"tongu\", \"expens\", \"stuff\", \"clean\", \"product\", \"hour\", \"tablet\", \"prescript\", \"sampl\", \"throw\", \"wear\", \"cost\", \"good\", \"night\", \"insur\", \"minut\", \"think\", \"finish\", \"thing\", \"great\", \"help\", \"second\", \"come\", \"suboxon\", \"blood_pressur\", \"oxycontin\", \"cholesterol\", \"opiat\", \"heart_rat\", \"anybodi\", \"winter\", \"lisinopril\", \"cardiologist\", \"fiber\", \"highest\", \"unsur\", \"screw\", \"codein\", \"flagyl\", \"spike\", \"crestor\", \"heroin\", \"kidney\", \"candi\", \"spironolacton\", \"alprazolam\", \"statin\", \"incontin\", \"conscious\", \"fentanyl\", \"pharmaceut\", \"urologist\", \"score\", \"dehydr\", \"voic\", \"breakthrough\", \"father\", \"oxycodon\", \"abus\", \"strength\", \"probiot\", \"withdraw\", \"administ\", \"heart\", \"higher\", \"liquid\", \"bladder\", \"addict\", \"opinion\", \"high\", \"prescrib\", \"dose\", \"lower\", \"attempt\", \"dosag\", \"increas\", \"taper\", \"muscl\", \"hospit\", \"drop\", \"urin\", \"control\", \"level\", \"better\", \"good\", \"need\", \"twice\", \"stop\", \"caus\", \"great\", \"think\", \"daili\", \"help\", \"ortho_cyclen\", \"obsess\", \"contracept\", \"contact\", \"viagra\", \"poison\", \"brilliant\", \"psychot\", \"vaginal_dry\", \"sexually_act\", \"macrobid\", \"prostat\", \"ulcer\", \"ejacul\", \"beyaz\", \"bothersom\", \"brother\", \"brown_discharg\", \"tender_breast\", \"convers\", \"ovari\", \"ultram\", \"paraguard\", \"predict\", \"intensifi\", \"lighter_short\", \"partial\", \"percent\", \"fabul\", \"focalin\", \"nuvar\", \"achiev\", \"ortho\", \"iron\", \"million\", \"unexpect\", \"radiat\", \"valium\", \"lighthead\", \"generic\", \"delay\", \"accid\", \"botox\", \"brand\", \"cycl\", \"intercours\", \"older\", \"pharmaci\", \"plan\", \"test\", \"pump\", \"stress\", \"paranoid\", \"drive\", \"negat\", \"blood\", \"relax\", \"come\", \"normal\", \"bodi\", \"hour\", \"switch\", \"better\", \"extrem\", \"write\", \"worri\", \"mean\", \"experi\", \"differ\", \"chang\", \"period\", \"notic\", \"issu\", \"think\", \"later\", \"chantix\", \"smoke\", \"saxenda\", \"calori\", \"quit_smok\", \"remeron\", \"harvoni\", \"lortab\", \"cigarett\", \"soda\", \"thirsti\", \"saturday\", \"tegretol\", \"injection_sit\", \"muscle_relax\", \"journey\", \"nortriptylin\", \"reclipsen\", \"clindamycin\", \"high_hop\", \"tuesday\", \"piec\", \"vimpat\", \"proactiv\", \"restart\", \"retain\", \"apri\", \"blind\", \"soolantra\", \"truth\", \"bread\", \"septemb\", \"rosacea\", \"book\", \"boost\", \"thursday\", \"fruit\", \"quit\", \"monday\", \"sister\", \"pocket\", \"friday\", \"marri\", \"smell\", \"count\", \"foot\", \"pack\", \"hair\", \"sweet\", \"crave\", \"seven\", \"want\", \"today\", \"thank\", \"stop\", \"insur\", \"grow\", \"half\", \"think\", \"help\", \"notic\", \"haven\", \"begin\"], \"Total\": [13552.0, 7677.0, 9598.0, 8447.0, 6314.0, 8059.0, 4509.0, 7684.0, 6852.0, 6698.0, 4360.0, 3322.0, 7368.0, 3055.0, 4654.0, 5027.0, 3210.0, 6148.0, 2592.0, 7837.0, 3049.0, 3064.0, 3339.0, 5236.0, 3449.0, 2372.0, 2154.0, 1523.0, 3024.0, 1292.0, 856.5980224609375, 566.2303466796875, 251.33767700195312, 935.9677124023438, 157.55642700195312, 158.0543212890625, 247.49267578125, 149.27145385742188, 216.27957153320312, 227.06649780273438, 138.2527313232422, 202.7491912841797, 142.4231414794922, 109.96835327148438, 105.86112976074219, 92.65048217773438, 91.52395629882812, 88.0162353515625, 85.72561645507812, 84.75830078125, 84.48529052734375, 85.97113037109375, 72.0164566040039, 66.7813491821289, 65.73302459716797, 65.42762756347656, 108.97708892822266, 63.01237106323242, 67.11886596679688, 60.180694580078125, 964.9044799804688, 522.8194580078125, 1023.3724365234375, 279.8578186035156, 143.5503692626953, 5027.09130859375, 2608.15771484375, 13552.064453125, 1078.4576416015625, 2012.5438232421875, 450.6188049316406, 611.2501220703125, 949.9610595703125, 452.39080810546875, 6852.7275390625, 416.6540222167969, 2115.6201171875, 863.656005859375, 3449.820556640625, 2964.621337890625, 523.2296142578125, 4273.67626953125, 4654.4365234375, 2119.3232421875, 9598.6123046875, 3219.269287109375, 6698.5087890625, 3479.624267578125, 1346.932861328125, 1298.0618896484375, 1390.2542724609375, 1392.673828125, 5672.9365234375, 4240.0107421875, 8738.4453125, 5520.44921875, 5304.71337890625, 4863.30859375, 7923.75634765625, 3448.419921875, 5925.44970703125, 7154.04541015625, 4614.42822265625, 5191.95361328125, 7162.6845703125, 3840.3388671875, 506.78045654296875, 636.638427734375, 582.7792358398438, 631.4056396484375, 930.3244018554688, 231.15484619140625, 1189.464599609375, 192.44219970703125, 1683.2098388671875, 155.8208770751953, 155.23892211914062, 138.89459228515625, 130.59967041015625, 278.0954284667969, 1133.066162109375, 119.08604431152344, 688.51611328125, 146.53086853027344, 169.080322265625, 100.75786590576172, 8447.259765625, 94.58485412597656, 96.54022979736328, 195.75051879882812, 85.02755737304688, 249.09747314453125, 80.59574127197266, 738.5173950195312, 78.59370422363281, 77.43331909179688, 1282.66552734375, 613.3084716796875, 864.4898071289062, 635.5289306640625, 357.7677917480469, 188.55459594726562, 161.16798400878906, 7684.27099609375, 889.6743774414062, 532.0875244140625, 916.33837890625, 574.7953491210938, 408.5951843261719, 389.1995544433594, 777.982421875, 984.3360595703125, 834.99560546875, 963.8732299804688, 1107.3173828125, 644.9291381835938, 12280.115234375, 1009.1776733398438, 1935.5279541015625, 7596.92919921875, 5925.44970703125, 3422.426513671875, 1958.3768310546875, 7923.75634765625, 5304.71337890625, 7154.04541015625, 3319.964599609375, 3349.59765625, 2855.04296875, 5117.087890625, 5675.552734375, 5191.95361328125, 8738.4453125, 7162.6845703125, 4614.42822265625, 4780.3447265625, 562.1873168945312, 374.95721435546875, 337.0119934082031, 486.74713134765625, 323.8238525390625, 253.136474609375, 200.33290100097656, 179.50613403320312, 161.5303955078125, 152.2936248779297, 150.37698364257812, 147.7168731689453, 468.24871826171875, 144.8162384033203, 176.52328491210938, 134.3502197265625, 129.91957092285156, 197.88595581054688, 114.32355499267578, 332.1967468261719, 109.1470947265625, 101.5259017944336, 105.15054321289062, 138.3619842529297, 99.51034545898438, 94.00172424316406, 84.35851287841797, 84.92363739013672, 117.11518859863281, 83.18217468261719, 1484.3046875, 426.97015380859375, 214.77438354492188, 185.2708740234375, 311.7101745605469, 252.59596252441406, 312.5423889160156, 314.4994812011719, 534.3074951171875, 8059.1728515625, 3024.92041015625, 468.71722412109375, 7368.0673828125, 1965.5611572265625, 515.9984130859375, 802.2567138671875, 3724.102783203125, 958.4093627929688, 7837.30615234375, 414.8568420410156, 325.68243408203125, 1531.3172607421875, 1066.5228271484375, 666.3226318359375, 986.4653930664062, 12280.115234375, 978.9779663085938, 7596.92919921875, 2854.587646484375, 2569.255859375, 2549.048583984375, 7923.75634765625, 4780.3447265625, 6148.693359375, 8738.4453125, 3674.7216796875, 7162.6845703125, 7154.04541015625, 3121.129638671875, 5672.9365234375, 4035.95751953125, 5925.44970703125, 4863.30859375, 3169.8466796875, 370.8888854980469, 339.5191650390625, 180.9490509033203, 213.68788146972656, 617.9845581054688, 234.30540466308594, 120.25721740722656, 141.65953063964844, 104.36664581298828, 106.55867004394531, 315.4626159667969, 292.6302490234375, 96.85861206054688, 120.4384765625, 206.83180236816406, 275.98162841796875, 114.23091125488281, 91.93940734863281, 97.06616973876953, 86.19335174560547, 125.31168365478516, 91.8969497680664, 351.9729919433594, 78.3086166381836, 78.36700439453125, 78.07525634765625, 110.74844360351562, 70.07160949707031, 110.70658874511719, 449.3787841796875, 1206.9150390625, 184.3065185546875, 803.20361328125, 177.34791564941406, 6314.7265625, 2372.132568359375, 989.8309326171875, 3049.3779296875, 793.1973876953125, 423.0388488769531, 2080.46923828125, 298.95941162109375, 9598.6123046875, 640.997314453125, 278.79217529296875, 849.7979736328125, 1429.72705078125, 1843.6640625, 6852.7275390625, 448.3255615234375, 976.5013427734375, 7154.04541015625, 7162.6845703125, 12280.115234375, 5191.95361328125, 5304.71337890625, 3349.59765625, 5672.9365234375, 5344.78271484375, 3064.52587890625, 2003.69384765625, 8738.4453125, 7596.92919921875, 4780.3447265625, 7923.75634765625, 480.4947814941406, 347.9003601074219, 269.6282958984375, 143.73529052734375, 141.9026641845703, 133.77218627929688, 132.08651733398438, 217.50242614746094, 125.92491149902344, 116.75656127929688, 122.13449096679688, 116.23719024658203, 108.74220275878906, 106.24121856689453, 103.21127319335938, 108.48152923583984, 234.35128784179688, 96.66004943847656, 94.82929992675781, 109.61659240722656, 89.62413787841797, 85.89632415771484, 85.11563110351562, 84.8777847290039, 90.99068450927734, 81.19019317626953, 77.04505920410156, 156.09515380859375, 75.12413024902344, 74.55998992919922, 1433.51025390625, 222.50531005859375, 144.63124084472656, 189.78733825683594, 3210.6484375, 204.68226623535156, 194.79278564453125, 718.1094970703125, 691.6508178710938, 171.58367919921875, 6698.5087890625, 179.8802947998047, 4654.4365234375, 1966.9766845703125, 460.5758361816406, 565.414306640625, 1839.1636962890625, 552.5126953125, 1095.232421875, 3449.820556640625, 2119.3232421875, 13552.064453125, 3161.076904296875, 8738.4453125, 683.0364990234375, 2549.048583984375, 3013.4736328125, 4240.0107421875, 1061.839599609375, 2115.6201171875, 4537.41943359375, 1202.73095703125, 4614.42822265625, 2552.89990234375, 1882.755859375, 5672.9365234375, 5344.78271484375, 4863.30859375, 7837.30615234375, 7923.75634765625, 2315.705810546875, 185.2789764404297, 228.8151092529297, 121.40742492675781, 126.86701965332031, 115.08086395263672, 108.36861419677734, 111.46746063232422, 112.86844635009766, 82.85867309570312, 80.01703643798828, 76.68156433105469, 74.44036102294922, 123.38345336914062, 69.828369140625, 69.12471771240234, 76.55518341064453, 79.70780944824219, 622.4285278320312, 64.05934143066406, 64.29621124267578, 68.67528533935547, 57.018272399902344, 57.201873779296875, 55.02440643310547, 55.14036560058594, 53.92043685913086, 53.73018264770508, 53.2783203125, 153.45278930664062, 52.33330535888672, 219.42689514160156, 222.99888610839844, 94.69483947753906, 115.04451751708984, 7677.07568359375, 104.67333984375, 150.02711486816406, 405.541259765625, 183.98951721191406, 89.55073547363281, 154.73751831054688, 347.01361083984375, 123.11454010009766, 248.43898010253906, 161.2991943359375, 166.10975646972656, 210.62393188476562, 178.46487426757812, 285.2646179199219, 392.1220397949219, 192.37440490722656, 5117.087890625, 2893.8701171875, 303.96051025390625, 591.5479125976562, 5191.95361328125, 328.20428466796875, 4537.41943359375, 231.1001739501953, 426.8039855957031, 921.4343872070312, 5344.78271484375, 7923.75634765625, 7162.6845703125, 1958.3768310546875, 1222.5089111328125, 695.5366821289062, 3013.4736328125, 4273.67626953125, 2976.576171875, 5925.44970703125, 891.3352661132812, 818.7958984375, 4614.42822265625, 3063.434814453125, 8738.4453125, 1413.471435546875, 4780.3447265625, 2346.395263671875, 7596.92919921875, 2378.118408203125, 2951.561279296875, 5520.44921875, 5304.71337890625, 445.571044921875, 280.5917053222656, 598.4417114257812, 223.4136505126953, 463.4833068847656, 166.3124542236328, 242.207763671875, 171.1463623046875, 148.56832885742188, 131.5753631591797, 125.9085693359375, 123.67620086669922, 122.15079498291016, 112.03836059570312, 235.1380157470703, 98.80725860595703, 98.14138793945312, 95.19507598876953, 103.30583953857422, 81.26298522949219, 81.70984649658203, 80.75810241699219, 81.23590850830078, 81.82256317138672, 82.63423156738281, 140.69775390625, 81.39664459228516, 77.54459381103516, 75.88353729248047, 74.33843231201172, 332.126708984375, 202.78334045410156, 2592.03466796875, 4509.32080078125, 110.69811248779297, 244.76141357421875, 126.23979187011719, 141.77935791015625, 680.5391235351562, 266.57366943359375, 1135.34814453125, 390.0614318847656, 747.5425415039062, 248.9464569091797, 3339.21630859375, 753.529052734375, 457.22125244140625, 326.9052734375, 470.1565856933594, 1010.6845703125, 700.7857666015625, 436.86932373046875, 628.0958251953125, 950.0101928710938, 2127.547607421875, 2150.99365234375, 2685.75732421875, 877.380615234375, 2099.17431640625, 2180.715087890625, 3674.7216796875, 1454.5205078125, 2023.3055419921875, 5304.71337890625, 7596.92919921875, 3200.56396484375, 12280.115234375, 4035.95751953125, 5675.552734375, 8738.4453125, 7162.6845703125, 304.4283752441406, 247.09521484375, 223.72532653808594, 187.04774475097656, 177.65658569335938, 175.5157928466797, 203.03372192382812, 155.28570556640625, 434.9752197265625, 159.1953887939453, 148.44790649414062, 145.91238403320312, 150.38748168945312, 518.7493286132812, 126.94644927978516, 175.3152618408203, 265.30169677734375, 121.7274398803711, 141.3431396484375, 164.59197998046875, 142.66281127929688, 104.34063720703125, 103.5082015991211, 270.90142822265625, 100.8930435180664, 98.76368713378906, 93.78585052490234, 91.27323150634766, 318.48162841796875, 87.44676208496094, 875.9439697265625, 754.5253295898438, 258.2206726074219, 197.4756317138672, 179.96612548828125, 390.47576904296875, 288.561279296875, 312.51806640625, 386.66839599609375, 1807.8651123046875, 258.94305419921875, 321.2882385253906, 259.8052062988281, 318.0267028808594, 264.56787109375, 195.38629150390625, 805.538818359375, 376.85784912109375, 1337.0074462890625, 425.0085754394531, 538.6485595703125, 444.8382568359375, 615.4419555664062, 1340.40234375, 1860.8795166015625, 5675.552734375, 1506.28173828125, 757.3167724609375, 2087.755615234375, 4368.16015625, 2198.37060546875, 12280.115234375, 1506.39453125, 8738.4453125, 2073.811767578125, 1185.1951904296875, 1966.9766845703125, 2180.715087890625, 7154.04541015625, 2685.75732421875, 3840.3388671875, 3319.964599609375, 389.5042419433594, 327.8855285644531, 355.9098205566406, 265.2371520996094, 137.6333465576172, 137.63619995117188, 128.66148376464844, 120.12427520751953, 117.93158721923828, 106.16891479492188, 106.29424285888672, 113.7597885131836, 106.01397705078125, 98.813232421875, 131.4430389404297, 189.0590057373047, 96.27767944335938, 94.452392578125, 92.76225280761719, 159.03819274902344, 239.44032287597656, 79.99116516113281, 76.61439514160156, 73.86628723144531, 73.49292755126953, 73.28490447998047, 103.36827850341797, 70.56080627441406, 68.6776123046875, 85.7864761352539, 3322.51220703125, 534.0009765625, 360.18603515625, 106.69522094726562, 153.6715850830078, 213.16285705566406, 154.46754455566406, 107.98772430419922, 420.9092102050781, 121.36429595947266, 129.30938720703125, 310.5431213378906, 141.10018920898438, 151.45193481445312, 660.8184814453125, 1376.236572265625, 2198.37060546875, 392.0392150878906, 5236.068359375, 270.0745849609375, 207.85263061523438, 288.19256591796875, 297.8190002441406, 2813.60009765625, 455.38226318359375, 609.5147705078125, 3422.426513671875, 1449.9071044921875, 1066.5228271484375, 1378.062255859375, 869.947021484375, 5675.552734375, 12280.115234375, 2038.041748046875, 1081.5361328125, 1164.265625, 7154.04541015625, 1531.5247802734375, 8738.4453125, 4780.3447265625, 4035.95751953125, 6148.693359375, 1426.6673583984375, 7837.30615234375, 5520.44921875, 1430.7694091796875, 188.94686889648438, 187.89256286621094, 146.6564483642578, 137.07418823242188, 134.80816650390625, 110.88064575195312, 102.55635070800781, 131.86990356445312, 102.65818786621094, 94.33868408203125, 92.42463684082031, 82.8023681640625, 100.5280990600586, 94.14334869384766, 121.02779388427734, 92.40052795410156, 68.8263168334961, 68.21114349365234, 67.44510650634766, 65.8607177734375, 87.76412963867188, 64.38050842285156, 64.3248519897461, 66.09407043457031, 68.41850280761719, 60.865440368652344, 59.872623443603516, 60.20078659057617, 55.51138687133789, 3055.9287109375, 438.20263671875, 200.3735809326172, 139.0737762451172, 133.95803833007812, 1501.8177490234375, 105.50485229492188, 105.40580749511719, 2154.7890625, 4360.3193359375, 2094.482421875, 114.70890045166016, 523.391845703125, 697.4443359375, 1308.5599365234375, 219.29598999023438, 638.6555786132812, 497.8777160644531, 213.80392456054688, 197.99302673339844, 369.690185546875, 239.0059051513672, 7837.30615234375, 6148.693359375, 5236.068359375, 3064.52587890625, 5675.552734375, 1429.72705078125, 1403.9029541015625, 2549.048583984375, 3777.318115234375, 4035.95751953125, 3121.129638671875, 4863.30859375, 3724.102783203125, 1298.0618896484375, 1476.664794921875, 839.3717651367188, 3161.076904296875, 8738.4453125, 2552.89990234375, 4368.16015625, 6698.5087890625, 475.8770446777344, 434.6267395019531, 310.7647399902344, 282.2388610839844, 242.94137573242188, 177.6251983642578, 146.46923828125, 131.04444885253906, 132.34390258789062, 123.78829193115234, 117.013427734375, 190.5867156982422, 108.0536880493164, 109.4263687133789, 104.09140014648438, 180.99742126464844, 98.73546600341797, 98.38652801513672, 93.5872802734375, 89.5886001586914, 88.9701156616211, 100.5828628540039, 92.64429473876953, 76.46119689941406, 86.87588500976562, 72.8712158203125, 102.90679931640625, 212.71096801757812, 85.46749877929688, 72.95466613769531, 210.42984008789062, 163.61776733398438, 1576.862060546875, 223.07420349121094, 565.7630004882812, 185.6144561767578, 184.38572692871094, 121.16239929199219, 1477.1246337890625, 146.6923065185547, 256.73126220703125, 2048.3935546875, 188.72535705566406, 3064.52587890625, 1763.154052734375, 711.8622436523438, 310.5748596191406, 239.15716552734375, 1476.664794921875, 2003.69384765625, 279.3409423828125, 918.872314453125, 1266.141845703125, 608.3558959960938, 2127.547607421875, 7837.30615234375, 1186.9820556640625, 1298.7022705078125, 489.833251953125, 885.465087890625, 1111.83203125, 955.840576171875, 7162.6845703125, 7368.0673828125, 1316.8348388671875, 2549.048583984375, 7923.75634765625, 963.92236328125, 5925.44970703125, 7154.04541015625, 12280.115234375, 3161.076904296875, 5520.44921875, 529.5474243164062, 1523.080322265625, 342.8951416015625, 272.8659362792969, 250.08106994628906, 251.3740692138672, 124.3314208984375, 116.31727600097656, 156.1669921875, 117.26539611816406, 111.5304183959961, 111.47106170654297, 106.59829711914062, 103.25249481201172, 99.22550964355469, 96.74671936035156, 102.50225830078125, 90.1385498046875, 119.13693237304688, 365.1683044433594, 80.85273742675781, 79.74176788330078, 79.53455352783203, 82.45201873779297, 77.95836639404297, 74.11822509765625, 104.00272369384766, 75.5982894897461, 87.88841247558594, 72.40229797363281, 185.69273376464844, 155.1324920654297, 236.75474548339844, 88.57632446289062, 271.32952880859375, 219.2734832763672, 207.37759399414062, 140.8817138671875, 1275.7613525390625, 107.48082733154297, 726.9605712890625, 519.597900390625, 357.4636535644531, 434.2203674316406, 874.4765625, 254.9267578125, 2750.56640625, 184.09609985351562, 6148.693359375, 1834.41943359375, 238.2864532470703, 1939.651611328125, 3349.59765625, 315.66351318359375, 885.9012451171875, 1140.774169921875, 1195.5921630859375, 596.53466796875, 2676.741943359375, 1594.6695556640625, 7596.92919921875, 7162.6845703125, 4780.3447265625, 2038.041748046875, 8738.4453125, 4368.16015625, 7154.04541015625, 7923.75634765625, 2813.60009765625, 12280.115234375, 251.24722290039062, 182.75181579589844, 225.46157836914062, 153.60691833496094, 138.3004150390625, 124.00656127929688, 122.74984741210938, 121.14740753173828, 116.73097229003906, 122.4171142578125, 113.07538604736328, 121.19879150390625, 110.57823944091797, 154.33697509765625, 116.914794921875, 102.32225799560547, 97.87800598144531, 94.2293930053711, 91.92581939697266, 99.5351791381836, 89.7802734375, 94.18848419189453, 90.5111312866211, 106.46157836914062, 85.04875946044922, 85.28482055664062, 83.95780944824219, 86.16983032226562, 80.67644500732422, 81.197509765625, 586.2059326171875, 117.71328735351562, 153.75701904296875, 167.57493591308594, 110.74101257324219, 132.8923797607422, 129.334716796875, 283.486572265625, 128.53871154785156, 935.3764038085938, 125.1109848022461, 388.2646484375, 210.82723999023438, 716.2027587890625, 1124.9195556640625, 269.6965637207031, 173.49383544921875, 534.9590454101562, 1581.0079345703125, 1506.39453125, 219.30816650390625, 1485.7552490234375, 216.19615173339844, 2964.621337890625, 1736.9989013671875, 1202.73095703125, 569.9677734375, 5520.44921875, 4614.42822265625, 3840.3388671875, 7837.30615234375, 3479.624267578125, 7596.92919921875, 3777.318115234375, 743.0213623046875, 1880.1812744140625, 891.3352661132812, 4863.30859375, 5117.087890625, 5191.95361328125, 13552.064453125, 5304.71337890625, 3063.434814453125, 7923.75634765625, 3121.129638671875, 859.456298828125, 1292.2052001953125, 268.898193359375, 235.4068145751953, 233.75811767578125, 181.99627685546875, 148.26307678222656, 165.98715209960938, 415.9873352050781, 129.7242889404297, 149.6380615234375, 156.535888671875, 112.74888610839844, 112.23435974121094, 109.78357696533203, 101.26005554199219, 99.86312103271484, 99.75689697265625, 101.63853454589844, 96.42877960205078, 152.6074981689453, 130.294677734375, 79.16214752197266, 79.17762756347656, 75.3316879272461, 72.37507629394531, 177.58364868164062, 65.6561050415039, 64.62797546386719, 64.37625885009766, 68.17451477050781, 335.7859191894531, 128.90277099609375, 115.82949829101562, 130.43035888671875, 131.8310089111328, 105.94680786132812, 1389.965576171875, 233.73721313476562, 183.5146484375, 152.6529541015625, 257.37908935546875, 143.88694763183594, 459.47332763671875, 304.40234375, 345.1754150390625, 1390.2542724609375, 1341.78515625, 266.0381774902344, 976.5013427734375, 198.35787963867188, 5344.78271484375, 2315.705810546875, 2073.811767578125, 8738.4453125, 1316.8348388671875, 541.923583984375, 2614.021728515625, 7923.75634765625, 12280.115234375, 5304.71337890625, 3219.269287109375, 3023.470947265625], \"loglift\": [30.0, 29.0, 28.0, 27.0, 26.0, 25.0, 24.0, 23.0, 22.0, 21.0, 20.0, 19.0, 18.0, 17.0, 16.0, 15.0, 14.0, 13.0, 12.0, 11.0, 10.0, 9.0, 8.0, 7.0, 6.0, 5.0, 4.0, 3.0, 2.0, 1.0, 1.9290000200271606, 1.9282000064849854, 1.926200032234192, 1.9255000352859497, 1.9249000549316406, 1.9248000383377075, 1.9247000217437744, 1.9244999885559082, 1.924299955368042, 1.9241000413894653, 1.9239000082015991, 1.923699975013733, 1.9235999584197998, 1.9223999977111816, 1.9220000505447388, 1.9206000566482544, 1.9206000566482544, 1.9200999736785889, 1.919800043106079, 1.919700026512146, 1.9194999933242798, 1.919100046157837, 1.9176000356674194, 1.9164999723434448, 1.9163000583648682, 1.916200041770935, 1.916200041770935, 1.9155999422073364, 1.9153000116348267, 1.9148999452590942, 1.9041999578475952, 1.9072999954223633, 1.8995000123977661, 1.9086999893188477, 1.9147000312805176, 1.8743000030517578, 1.8603999614715576, 1.7932000160217285, 1.8549000024795532, 1.8336999416351318, 1.8729000091552734, 1.8411999940872192, 1.7603000402450562, 1.7733999490737915, 1.4368000030517578, 1.7539000511169434, 1.524899959564209, 1.6405999660491943, 1.3986999988555908, 1.4002000093460083, 1.686400055885315, 1.2807999849319458, 1.2582999467849731, 1.388800024986267, 1.0195000171661377, 1.2354999780654907, 0.9962999820709229, 1.1725000143051147, 1.4032000303268433, 1.3947999477386475, 1.3710999488830566, 1.273800015449524, 0.5842999815940857, 0.6876999735832214, 0.2094999998807907, 0.46790000796318054, 0.4738999903202057, 0.5250999927520752, 0.18389999866485596, 0.7300999760627747, 0.3407999873161316, 0.13770000636577606, 0.492000013589859, 0.3677000105381012, 0.07559999823570251, 0.6025999784469604, 2.1250998973846436, 2.1250998973846436, 2.125, 2.125, 2.125, 2.1231000423431396, 2.1224000453948975, 2.122299909591675, 2.1221001148223877, 2.1210999488830566, 2.121000051498413, 2.120300054550171, 2.1198999881744385, 2.119800090789795, 2.119499921798706, 2.11899995803833, 2.118799924850464, 2.117799997329712, 2.1171998977661133, 2.1171998977661133, 2.117000102996826, 2.11680006980896, 2.1161000728607178, 2.1159000396728516, 2.115799903869629, 2.115299940109253, 2.1150999069213867, 2.1150999069213867, 2.1147000789642334, 2.1147000789642334, 2.109299898147583, 2.1047000885009766, 2.1008999347686768, 2.0933001041412354, 2.09689998626709, 2.1033999919891357, 2.106300115585327, 1.9306000471115112, 2.0262999534606934, 2.0344998836517334, 1.9728000164031982, 1.9947999715805054, 2.0204999446868896, 2.0216000080108643, 1.9301999807357788, 1.8904000520706177, 1.8884999752044678, 1.8623000383377075, 1.8312000036239624, 1.905900001525879, 1.080199956893921, 1.7352999448776245, 1.4704999923706055, 0.7491999864578247, 0.814300000667572, 1.0846999883651733, 1.2925000190734863, 0.446399986743927, 0.6891000270843506, 0.4447000026702881, 0.9138000011444092, 0.8722000122070312, 0.9672999978065491, 0.504800021648407, 0.4189000129699707, 0.46700000762939453, 0.005200000014156103, 0.11630000174045563, 0.4275999963283539, 0.3294000029563904, 2.174099922180176, 2.17330002784729, 2.172600030899048, 2.172499895095825, 2.172499895095825, 2.172100067138672, 2.1703999042510986, 2.170099973678589, 2.1698999404907227, 2.169600009918213, 2.1695001125335693, 2.1693999767303467, 2.169300079345703, 2.1691999435424805, 2.168800115585327, 2.168600082397461, 2.1684000492095947, 2.1677000522613525, 2.1673998832702637, 2.167099952697754, 2.1670000553131104, 2.166300058364868, 2.166300058364868, 2.165800094604492, 2.1656999588012695, 2.165600061416626, 2.164400100708008, 2.1642000675201416, 2.1642000675201416, 2.164099931716919, 2.163100004196167, 2.1563000679016113, 2.15939998626709, 2.15910005569458, 2.150099992752075, 2.151599884033203, 2.144700050354004, 2.139400005340576, 2.119800090789795, 2.027400016784668, 2.054800033569336, 2.1173999309539795, 1.9615000486373901, 1.9249000549316406, 2.0185000896453857, 1.891700029373169, 1.5435999631881714, 1.8114999532699585, 1.3157999515533447, 1.9783999919891357, 2.0204999446868896, 1.555799961090088, 1.6504000425338745, 1.7353999614715576, 1.5853999853134155, 0.3628999888896942, 1.476699948310852, 0.39419999718666077, 0.7782999873161316, 0.8276000022888184, 0.8274999856948853, 0.08879999816417694, 0.40619999170303345, 0.21400000154972076, -0.03150000050663948, 0.5598999857902527, 0.04320000112056732, -0.04430000111460686, 0.5509999990463257, 0.014800000004470348, 0.2142000049352646, -0.1671999990940094, 0.010099999606609344, 0.42010000348091125, 2.5673000812530518, 2.5671000480651855, 2.56469988822937, 2.5643999576568604, 2.5625998973846436, 2.562000036239624, 2.5618999004364014, 2.561300039291382, 2.560800075531006, 2.560699939727783, 2.560499906539917, 2.5601000785827637, 2.559999942779541, 2.559799909591675, 2.559799909591675, 2.559799909591675, 2.559799909591675, 2.559299945831299, 2.5589001178741455, 2.558799982070923, 2.5587000846862793, 2.5585999488830566, 2.557800054550171, 2.5576000213623047, 2.5573999881744385, 2.557300090789795, 2.5569000244140625, 2.5560998916625977, 2.5555999279022217, 2.555299997329712, 2.547100067138672, 2.552799940109253, 2.522700071334839, 2.536600112915039, 2.420300006866455, 2.395699977874756, 2.4265999794006348, 2.3213999271392822, 2.4096999168395996, 2.444000005722046, 2.2832999229431152, 2.4498000144958496, 2.0495998859405518, 2.346100091934204, 2.431999921798706, 2.2156999111175537, 2.0525999069213867, 1.9455000162124634, 1.6068999767303467, 2.2665998935699463, 1.940600037574768, 0.5307000279426575, 0.4316999912261963, 0.06300000101327896, 0.6035000085830688, 0.5162000060081482, 0.7748000025749207, 0.3463999927043915, 0.37279999256134033, 0.7883999943733215, 1.1194000244140625, -0.13030000030994415, -0.02979999966919422, 0.33329999446868896, -0.22059999406337738, 2.703700065612793, 2.702899932861328, 2.7018001079559326, 2.6989998817443848, 2.698899984359741, 2.698499917984009, 2.6984000205993652, 2.6977999210357666, 2.697700023651123, 2.697499990463257, 2.6974000930786133, 2.697200059890747, 2.6967999935150146, 2.6965999603271484, 2.6963000297546387, 2.6963000297546387, 2.6960999965667725, 2.69569993019104, 2.6953999996185303, 2.694700002670288, 2.6946001052856445, 2.6944000720977783, 2.694200038909912, 2.694200038909912, 2.6937999725341797, 2.693700075149536, 2.6930999755859375, 2.6928000450134277, 2.6928000450134277, 2.692699909210205, 2.6840999126434326, 2.6856000423431396, 2.6891000270843506, 2.6847000122070312, 2.574700117111206, 2.636699914932251, 2.6268999576568604, 2.480600118637085, 2.465100049972534, 2.619999885559082, 2.039900064468384, 2.599400043487549, 1.986899971961975, 2.045099973678589, 2.3680999279022217, 2.2534000873565674, 1.8890999555587769, 2.2395999431610107, 2.024600028991699, 1.625599980354309, 1.6557999849319458, 0.4562000036239624, 1.0979000329971313, 0.5457000136375427, 1.8803999423980713, 1.142300009727478, 0.9729999899864197, 0.7134000062942505, 1.5432000160217285, 1.0444999933242798, 0.5146999955177307, 1.4229999780654907, 0.396699994802475, 0.8381999731063843, 1.0534000396728516, 0.1404000073671341, 0.1606999933719635, 0.23250000178813934, -0.18359999358654022, -0.22599999606609344, 0.8166000247001648, 2.701900005340576, 2.700500011444092, 2.699199914932251, 2.6991000175476074, 2.698699951171875, 2.6981000900268555, 2.6981000900268555, 2.6979000568389893, 2.6951000690460205, 2.6947999000549316, 2.694200038909912, 2.694000005722046, 2.6935999393463135, 2.6930999755859375, 2.693000078201294, 2.6928000450134277, 2.692199945449829, 2.692199945449829, 2.6919000148773193, 2.691800117492676, 2.691200017929077, 2.6898999214172363, 2.68969988822937, 2.689300060272217, 2.689199924468994, 2.688999891281128, 2.6888999938964844, 2.688699960708618, 2.688499927520752, 2.6884000301361084, 2.6868999004364014, 2.680999994277954, 2.687999963760376, 2.6835999488830566, 2.6173999309539795, 2.68179988861084, 2.666599988937378, 2.634500026702881, 2.6398000717163086, 2.6679999828338623, 2.615799903869629, 2.5143001079559326, 2.6284000873565674, 2.467600107192993, 2.547600030899048, 2.5346999168395996, 2.482100009918213, 2.5157999992370605, 2.404099941253662, 2.2943999767303467, 2.4772000312805176, 1.4305000305175781, 1.5976999998092651, 2.3313000202178955, 2.0969998836517334, 1.1578999757766724, 2.262200117111206, 1.1051000356674194, 2.3910999298095703, 2.1178998947143555, 1.7128000259399414, 0.8438000082969666, 0.6359999775886536, 0.6507999897003174, 1.253600001335144, 1.4931000471115112, 1.7920000553131104, 0.9569000005722046, 0.7451000213623047, 0.8521999716758728, 0.3488999903202057, 1.5734000205993652, 1.6130000352859497, 0.350600004196167, 0.6333000063896179, -0.17479999363422394, 1.1797000169754028, 0.1932000070810318, 0.7548999786376953, -0.22750000655651093, 0.7246999740600586, 0.5360999703407288, -0.021900000050663948, -0.09700000286102295, 2.735300064086914, 2.7346999645233154, 2.734100103378296, 2.7339999675750732, 2.7339000701904297, 2.7325000762939453, 2.7320001125335693, 2.731800079345703, 2.7316999435424805, 2.7309000492095947, 2.730600118637085, 2.7304999828338623, 2.7298998832702637, 2.729599952697754, 2.7288999557495117, 2.7284998893737793, 2.728300094604492, 2.728100061416626, 2.7263998985290527, 2.726300001144409, 2.7262001037597656, 2.7262001037597656, 2.7262001037597656, 2.726099967956543, 2.7258999347686768, 2.7256999015808105, 2.7255001068115234, 2.7253000736236572, 2.7253000736236572, 2.724600076675415, 2.7132999897003174, 2.711699962615967, 2.6561999320983887, 2.6140999794006348, 2.718400001525879, 2.687999963760376, 2.7107999324798584, 2.696000099182129, 2.57450008392334, 2.641200065612793, 2.505500078201294, 2.5968000888824463, 2.5306999683380127, 2.6364998817443848, 2.337399959564209, 2.4737000465393066, 2.5418999195098877, 2.5762999057769775, 2.4809999465942383, 2.3268001079559326, 2.340100049972534, 2.406599998474121, 2.285099983215332, 2.153599977493286, 1.8774000406265259, 1.7936999797821045, 1.607800006866455, 2.059299945831299, 1.6505999565124512, 1.5923999547958374, 1.0378999710083008, 1.5669000148773193, 1.316100001335144, 0.6211000084877014, 0.35760000348091125, 0.9070000052452087, -0.3352000117301941, 0.5195000171661377, 0.1973000019788742, -0.2621000111103058, -0.1453000009059906, 2.781899929046631, 2.7813000679016113, 2.7811999320983887, 2.780100107192993, 2.7799999713897705, 2.7799999713897705, 2.7799999713897705, 2.7792000770568848, 2.779099941253662, 2.7788000106811523, 2.7788000106811523, 2.778700113296509, 2.778700113296509, 2.77839994430542, 2.7778000831604004, 2.7776999473571777, 2.7774999141693115, 2.777100086212158, 2.7764999866485596, 2.7764999866485596, 2.776099920272827, 2.776099920272827, 2.776099920272827, 2.775899887084961, 2.7757999897003174, 2.7755000591278076, 2.775099992752075, 2.7746999263763428, 2.774600028991699, 2.7743000984191895, 2.772700071334839, 2.765199899673462, 2.7737998962402344, 2.773699998855591, 2.7720000743865967, 2.7630999088287354, 2.7634999752044678, 2.7528998851776123, 2.7372000217437744, 2.6695001125335693, 2.7511000633239746, 2.7379000186920166, 2.7411000728607178, 2.726599931716919, 2.7388999462127686, 2.75819993019104, 2.575900077819824, 2.6656999588012695, 2.3842999935150146, 2.579200029373169, 2.511199951171875, 2.4990999698638916, 2.3922998905181885, 2.0662999153137207, 1.9422999620437622, 1.0709999799728394, 1.6771999597549438, 2.08240008354187, 1.4342000484466553, 0.9415000081062317, 1.3813999891281128, 0.22100000083446503, 1.5305999517440796, 0.05040000006556511, 1.1933000087738037, 1.6395000219345093, 1.211300015449524, 1.1044000387191772, -0.015699999406933784, 0.8519999980926514, 0.4717999994754791, 0.5899999737739563, 2.852299928665161, 2.8519999980926514, 2.851799964904785, 2.8501999378204346, 2.8482000827789307, 2.848099946975708, 2.8471999168395996, 2.847100019454956, 2.8464999198913574, 2.8459999561309814, 2.8459999561309814, 2.8459999561309814, 2.8457999229431152, 2.8452999591827393, 2.8452000617980957, 2.845099925994873, 2.845099925994873, 2.844899892807007, 2.8447000980377197, 2.844399929046631, 2.8429999351501465, 2.842900037765503, 2.8424999713897705, 2.8420000076293945, 2.841900110244751, 2.841900110244751, 2.8417000770568848, 2.841399908065796, 2.8410000801086426, 2.84089994430542, 2.8382999897003174, 2.8375000953674316, 2.8385000228881836, 2.840100049972534, 2.8296000957489014, 2.821500062942505, 2.8255999088287354, 2.8352999687194824, 2.7679998874664307, 2.827899932861328, 2.8134000301361084, 2.6737000942230225, 2.786400079727173, 2.771699905395508, 2.488600015640259, 2.2776999473571777, 2.1377999782562256, 2.5264999866485596, 1.8308000564575195, 2.6171000003814697, 2.679800033569336, 2.583199977874756, 2.552000045776367, 1.7843999862670898, 2.3989999294281006, 2.2750000953674316, 1.5966999530792236, 1.9215999841690063, 1.9536999464035034, 1.7764999866485596, 1.9728000164031982, 0.9750000238418579, 0.3801000118255615, 1.3144999742507935, 1.705899953842163, 1.641800045967102, 0.39980000257492065, 1.4182000160217285, 0.06350000202655792, 0.47609999775886536, 0.5629000067710876, 0.17080000042915344, 1.4074000120162964, -0.11710000038146973, 0.10909999907016754, 2.9144999980926514, 2.9117000102996826, 2.9114999771118164, 2.9102001190185547, 2.9098000526428223, 2.909600019454956, 2.908099889755249, 2.907099962234497, 2.9068000316619873, 2.906599998474121, 2.906399965286255, 2.9063000679016113, 2.905100107192993, 2.9049999713897705, 2.904900074005127, 2.9045000076293945, 2.903599977493286, 2.9026999473571777, 2.9024999141693115, 2.9021999835968018, 2.901900053024292, 2.9017999172210693, 2.901700019836426, 2.901700019836426, 2.901599884033203, 2.901400089263916, 2.9007999897003174, 2.900399923324585, 2.8994998931884766, 2.899199962615967, 2.884399890899658, 2.8982999324798584, 2.897700071334839, 2.8989999294281006, 2.8931000232696533, 2.8410000801086426, 2.8868000507354736, 2.885699987411499, 2.7276999950408936, 2.667099952697754, 2.6298000812530518, 2.855799913406372, 2.616300106048584, 2.560499906539917, 2.416800022125244, 2.7207000255584717, 2.4226999282836914, 2.433000087738037, 2.657399892807007, 2.6786000728607178, 2.4535999298095703, 2.605799913406372, 1.3653000593185425, 1.3890999555587769, 1.4004000425338745, 1.568600058555603, 1.1753000020980835, 1.7625999450683594, 1.757699966430664, 1.4078999757766724, 1.1276999711990356, 1.0595999956130981, 1.1536999940872192, 0.8978000283241272, 1.0052000284194946, 1.6212999820709229, 1.5298999547958374, 1.8697999715805054, 0.940500020980835, 0.18160000443458557, 1.0377999544143677, 0.6287000179290771, 0.07180000096559525, 3.0225000381469727, 3.0216000080108643, 3.021199941635132, 3.020900011062622, 3.0190000534057617, 3.0188000202178955, 3.017899990081787, 3.0167999267578125, 3.016700029373169, 3.0164999961853027, 3.0162999629974365, 3.0160999298095703, 3.0155999660491943, 3.015399932861328, 3.014899969100952, 3.014699935913086, 3.0144999027252197, 3.0137999057769775, 3.013700008392334, 3.0136001110076904, 3.0134999752044678, 3.013400077819824, 3.0127999782562256, 3.0118000507354736, 3.011199951171875, 3.011199951171875, 3.011199951171875, 3.0111000537872314, 3.0111000537872314, 3.0109000205993652, 3.008500099182129, 3.009399890899658, 2.9467999935150146, 2.9844000339508057, 2.947000026702881, 2.985100030899048, 2.9842000007629395, 3.000200033187866, 2.7409000396728516, 2.967400074005127, 2.8986001014709473, 2.5950000286102295, 2.9096999168395996, 2.4105000495910645, 2.4723000526428223, 2.6458001136779785, 2.785099983215332, 2.843899965286255, 2.382200002670288, 2.22189998626709, 2.7709999084472656, 2.3029000759124756, 2.0683000087738037, 2.3685998916625977, 1.729599952697754, 0.8456000089645386, 1.9061000347137451, 1.8177000284194946, 2.4042999744415283, 1.9714000225067139, 1.8001999855041504, 1.8840999603271484, 0.40130001306533813, 0.37450000643730164, 1.6460000276565552, 1.0906000137329102, 0.12950000166893005, 1.840399980545044, 0.2935999929904938, 0.05139999836683273, -0.5418999791145325, 0.7197999954223633, 0.1526000052690506, 3.0722999572753906, 3.0717999935150146, 3.0715999603271484, 3.0708999633789062, 3.0703001022338867, 3.068000078201294, 3.066800117492676, 3.0664000511169434, 3.066200017929077, 3.0660998821258545, 3.065999984741211, 3.0655999183654785, 3.0655999183654785, 3.065000057220459, 3.0648000240325928, 3.064500093460083, 3.0638999938964844, 3.063800096511841, 3.0636000633239746, 3.0634000301361084, 3.0625, 3.0625, 3.0624001026153564, 3.0624001026153564, 3.062000036239624, 3.0613999366760254, 3.061300039291382, 3.0608999729156494, 3.060699939727783, 3.0604000091552734, 3.0589001178741455, 3.058199882507324, 3.0471999645233154, 3.058500051498413, 3.020900011062622, 3.016700029373169, 3.0000998973846436, 3.025899887084961, 2.8489999771118164, 3.044100046157837, 2.867000102996826, 2.8901000022888184, 2.911799907684326, 2.8698999881744385, 2.7571001052856445, 2.8935000896453857, 2.410599946975708, 2.9398000240325928, 2.0776000022888184, 2.2934000492095947, 2.8506999015808105, 2.15339994430542, 1.573099970817566, 2.6145999431610107, 2.102099895477295, 1.919800043106079, 1.8734999895095825, 2.2692999839782715, 1.302299976348877, 1.5305999517440796, 0.3271999955177307, 0.3382999897003174, 0.6162999868392944, 1.2405999898910522, -0.07079999893903732, 0.508899986743927, 0.044199999421834946, -0.05310000106692314, 0.8675000071525574, -0.5138999819755554, 3.098599910736084, 3.0971999168395996, 3.097100019454956, 3.0961999893188477, 3.0954999923706055, 3.0947000980377197, 3.094599962234497, 3.0945000648498535, 3.0940001010894775, 3.093899965286255, 3.093899965286255, 3.093600034713745, 3.093600034713745, 3.0934998989105225, 3.093100070953369, 3.092900037765503, 3.092600107192993, 3.0922000408172607, 3.091900110244751, 3.0917000770568848, 3.091599941253662, 3.0915000438690186, 3.0913000106811523, 3.0913000106811523, 3.091099977493286, 3.0910000801086426, 3.09089994430542, 3.0906999111175537, 3.090399980545044, 3.090399980545044, 3.0604000091552734, 3.085700035095215, 3.0722999572753906, 3.062700033187866, 3.078900098800659, 3.061800003051758, 3.0624001026153564, 2.9691998958587646, 3.0404999256134033, 2.7207000255584717, 3.037400007247925, 2.7541000843048096, 2.894200086593628, 2.4786999225616455, 2.333899974822998, 2.7639999389648438, 2.913599967956543, 2.4637999534606934, 2.002000093460083, 1.863800048828125, 2.777400016784668, 1.760200023651123, 2.753200054168701, 1.2437000274658203, 1.4666999578475952, 1.6848000288009644, 2.1120998859405518, 0.6559000015258789, 0.7682999968528748, 0.8348000049591064, 0.27570000290870667, 0.804099977016449, 0.24690000712871552, 0.7394999861717224, 1.8753000497817993, 1.1158000230789185, 1.6993999481201172, 0.3230000138282776, 0.24050000309944153, 0.22750000655651093, -0.6890000104904175, 0.11649999767541885, 0.5931000113487244, -0.2784000039100647, 0.48100000619888306, 3.3598999977111816, 3.3589999675750732, 3.358799934387207, 3.3573999404907227, 3.357300043106079, 3.3571999073028564, 3.3559999465942383, 3.3552000522613525, 3.35509991645813, 3.3550000190734863, 3.3545000553131104, 3.3545000553131104, 3.3538999557495117, 3.3538999557495117, 3.3534998893737793, 3.3529000282287598, 3.352799892425537, 3.352799892425537, 3.3526999950408936, 3.352299928665161, 3.350600004196167, 3.3503000736236572, 3.3501999378204346, 3.3501999378204346, 3.349400043487549, 3.348299980163574, 3.3477001190185547, 3.347599983215332, 3.347399950027466, 3.3473000526428223, 3.34689998626709, 3.3301000595092773, 3.3368000984191895, 3.3361001014709473, 3.330399990081787, 3.329699993133545, 3.3348000049591064, 3.1303000450134277, 3.2119998931884766, 3.2472000122070312, 3.251199960708618, 3.101099967956543, 3.2551000118255615, 2.9058001041412354, 2.9458999633789062, 2.8894999027252197, 2.232800006866455, 2.245500087738037, 2.924999952316284, 2.198699951171875, 3.0655999183654785, 0.8385000228881836, 1.3832999467849731, 1.4076000452041626, 0.3407999873161316, 1.614300012588501, 2.271899938583374, 0.897599995136261, -0.13989999890327454, -0.604200005531311, 0.10000000149011612, 0.5242999792098999, 0.5662999749183655], \"logprob\": [30.0, 29.0, 28.0, 27.0, 26.0, 25.0, 24.0, 23.0, 22.0, 21.0, 20.0, 19.0, 18.0, 17.0, 16.0, 15.0, 14.0, 13.0, 12.0, 11.0, 10.0, 9.0, 8.0, 7.0, 6.0, 5.0, 4.0, 3.0, 2.0, 1.0, -5.28000020980835, -5.694699764251709, -6.508900165557861, -5.194799900054932, -6.977200031280518, -6.9741997718811035, -6.5258002281188965, -7.031599998474121, -6.660999774932861, -6.612599849700928, -7.109000205993652, -6.72629976272583, -7.079500198364258, -7.339300155639648, -7.377799987792969, -7.512499809265137, -7.524700164794922, -7.564300060272217, -7.59089994430542, -7.602399826049805, -7.605800151824951, -7.588799953460693, -7.767399787902832, -7.843999862670898, -7.860000133514404, -7.864699840545654, -7.354599952697754, -7.9029998779296875, -7.840099811553955, -7.949699878692627, -5.185699939727783, -5.795400142669678, -5.1315999031066895, -6.419000148773193, -7.080599784851074, -3.565000057220459, -4.235099792480469, -2.654400110244751, -5.123799800872803, -4.521100044250488, -5.978400230407715, -5.7052001953125, -5.345200061798096, -6.073999881744385, -3.692699909210205, -6.1757001876831055, -4.779900074005127, -5.560100078582764, -4.417099952697754, -4.567200183868408, -6.015500068664551, -4.320899963378906, -4.2581000328063965, -4.9141998291015625, -3.7730000019073486, -4.649499893188477, -4.156000137329102, -4.634699821472168, -5.353099822998047, -5.398399829864502, -5.353499889373779, -5.449100017547607, -4.7342000007629395, -4.921899795532227, -4.6768999099731445, -4.877799987792969, -4.9116997718811035, -4.947400093078613, -4.8003997802734375, -5.08620023727417, -4.934100151062012, -4.948699951171875, -5.0329999923706055, -5.039299964904785, -5.009699821472168, -5.105899810791016, -5.608699798583984, -5.3805999755859375, -5.469099998474121, -5.388999938964844, -5.001399993896484, -6.395699977874756, -4.758299827575684, -6.579800128936768, -4.411399841308594, -6.792099952697754, -6.795899868011475, -6.907899856567383, -6.969900131225586, -6.214099884033203, -4.809700012207031, -7.0630998611450195, -5.308599948883057, -6.856900215148926, -6.714399814605713, -7.23199987411499, -2.803299903869629, -7.295599937438965, -7.2758002281188965, -6.569200038909912, -7.40310001373291, -6.328800201416016, -7.457300186157227, -5.242199897766113, -7.482900142669678, -7.497799873352051, -4.696000099182129, -5.438300132751465, -5.098899841308594, -5.414100170135498, -5.985199928283691, -6.619100093841553, -6.773200035095215, -3.0843000411987305, -5.144700050354004, -5.650599956512451, -5.168700218200684, -5.613100051879883, -5.928699970245361, -5.976200103759766, -5.375, -5.179599761962891, -5.345900058746338, -5.228600025177002, -5.120999813079834, -5.586900234222412, -3.46589994430542, -5.309700012207031, -4.923299789428711, -4.277200222015381, -4.460599899291992, -4.739099979400635, -5.0894999504089355, -4.537899971008301, -4.696499824523926, -4.6417999267578125, -4.940400123596191, -4.973100185394287, -5.037799835205078, -4.916800022125244, -4.899099826812744, -4.940000057220459, -4.881199836730957, -4.968999862670898, -5.097400188446045, -5.160200119018555, -5.455900192260742, -5.861800193786621, -5.969200134277344, -5.601600170135498, -6.009200096130371, -6.255899906158447, -6.491499900817871, -6.601600170135498, -6.707300186157227, -6.766499996185303, -6.779300212860107, -6.7972002029418945, -5.643599987030029, -6.817200183868408, -6.61959981918335, -6.892899990081787, -6.926599979400635, -6.506499767303467, -7.055500030517578, -5.989099979400635, -7.102200031280518, -7.175300121307373, -7.140200138092041, -6.866300106048584, -7.196000099182129, -7.252999782562256, -7.362500190734863, -7.355899810791016, -7.034599781036377, -7.376800060272217, -4.496099948883057, -5.748899936676025, -6.4328999519348145, -6.580999851226807, -6.069799900054932, -6.278500080108643, -6.072500228881836, -6.071499824523926, -5.561100006103516, -2.9398999214172363, -3.8924999237060547, -5.694499969482422, -3.095599889755249, -4.453499794006348, -5.697299957275391, -5.382800102233887, -4.195700168609619, -5.285200119018555, -3.6793999671936035, -5.955599784851074, -6.1554999351501465, -5.072199821472168, -5.339399814605713, -5.724800109863281, -5.482399940490723, -4.183300018310547, -5.598700046539307, -4.632199764251709, -5.226900100708008, -5.282899856567383, -5.290900230407715, -4.895500183105469, -5.083499908447266, -5.023900032043457, -4.917900085449219, -5.192800045013428, -5.042099952697754, -5.130799770355225, -5.364999771118164, -5.303599834442139, -5.444699764251709, -5.4421000480651855, -5.462299823760986, -5.480400085449219, -5.478700160980225, -5.567299842834473, -6.198999881744385, -6.0329999923706055, -4.972799777984619, -5.943299770355225, -6.610400199890137, -6.447199821472168, -6.753200054168701, -6.732500076293945, -5.647299766540527, -5.722899913787842, -6.828700065612793, -6.610899925231934, -6.070199966430664, -5.781799793243408, -6.663899898529053, -6.881499767303467, -6.827600002288818, -6.946499824523926, -6.572400093078613, -6.882599830627441, -5.540599822998047, -7.043600082397461, -7.043099880218506, -7.046999931335449, -6.697700023651123, -7.156300067901611, -6.699399948120117, -5.298699855804443, -4.318999767303467, -6.192599773406982, -4.7505998611450195, -6.247200012207031, -2.7908999919891357, -3.7946999073028564, -4.637700080871582, -3.617799997329712, -4.876200199127197, -5.4704999923706055, -4.0381999015808105, -5.811800003051758, -2.7428998947143555, -5.1528000831604, -5.899499893188477, -5.001200199127197, -4.644100189208984, -4.4969000816345215, -3.522599935531616, -5.589799880981445, -5.137400150299072, -4.555799961090088, -4.653500080108643, -4.4832000732421875, -4.803599834442139, -4.8694000244140625, -5.070499897003174, -4.972099781036377, -5.005300045013428, -5.1458001136779785, -5.239799976348877, -5.01669979095459, -5.05620002746582, -5.156300067901611, -5.204899787902832, -5.083399772644043, -5.4070000648498535, -5.663099765777588, -6.294899940490723, -6.3078999519348145, -6.367300033569336, -6.380000114440918, -5.881899833679199, -6.428500175476074, -6.50439977645874, -6.459400177001953, -6.509099960327148, -6.576099872589111, -6.599599838256836, -6.628799915313721, -6.579100131988525, -5.809000015258789, -6.695000171661377, -6.714399814605713, -6.570300102233887, -6.771699905395508, -6.8144001960754395, -6.823699951171875, -6.826499938964844, -6.757299900054932, -6.871399879455566, -6.924499988555908, -6.218699932098389, -6.949999809265137, -6.957699775695801, -4.009900093078613, -5.871399879455566, -6.298699855804443, -6.031300067901611, -3.312999963760376, -6.003799915313721, -6.0630998611450195, -4.904699802398682, -4.957799911499023, -6.196800231933594, -3.112299919128418, -6.170199871063232, -3.529400110244751, -4.332600116729736, -5.461400032043457, -5.370999813079834, -4.555699825286865, -5.407800197601318, -4.938499927520752, -4.190199851989746, -4.647299766540527, -3.9914000034332275, -4.805300235748291, -4.340700149536133, -5.554900169372559, -4.976200103759766, -4.978000164031982, -4.896200180053711, -5.450900077819824, -5.260300159454346, -5.027100086212158, -5.446599960327148, -5.128300189971924, -5.278800010681152, -5.368000030517578, -5.178100109100342, -5.217299938201904, -5.2399001121521, -5.178899765014648, -5.210299968719482, -5.397799968719482, -6.038099765777588, -5.828499794006348, -6.463600158691406, -6.4197001457214355, -6.517600059509277, -6.5782999992370605, -6.550099849700928, -6.537799835205078, -6.849699974060059, -6.884900093078613, -6.928100109100342, -6.957900047302246, -6.453000068664551, -7.022799968719482, -7.0329999923706055, -6.931099891662598, -6.891300201416016, -4.836100101470947, -7.110199928283691, -7.106599807739258, -7.041299819946289, -7.228600025177002, -7.225599765777588, -7.264800071716309, -7.262800216674805, -7.285399913787842, -7.289000034332275, -7.297699928283691, -6.239999771118164, -7.315899848937988, -5.883999824523926, -5.873700141906738, -6.723299980163574, -6.5329999923706055, -2.3984999656677246, -6.629300117492676, -6.2845001220703125, -5.322199821472168, -6.1072998046875, -6.799099922180176, -6.304299831390381, -5.598299980163574, -6.520400047302246, -5.979100227355957, -6.331099987030029, -6.314499855041504, -6.129799842834473, -6.2617998123168945, -5.904399871826172, -5.696000099182129, -6.225299835205078, -3.9911000728607178, -4.393899917602539, -5.913700103759766, -5.4822001457214355, -4.249199867248535, -5.906099796295166, -4.436699867248535, -6.127900123596191, -5.787700176239014, -5.4232001304626465, -4.534200191497803, -4.348299980163574, -4.4344000816345215, -5.128399848937988, -5.360199928283691, -5.625199794769287, -4.994100093841553, -4.856599807739258, -5.111199855804443, -4.926000118255615, -5.595799922943115, -5.640999794006348, -5.1743998527526855, -5.301300048828125, -5.061200141906738, -5.52839994430542, -5.296500205993652, -5.446400165557861, -5.254000186920166, -5.463200092315674, -5.435699939727783, -5.367599964141846, -5.482500076293945, -5.127299785614014, -5.5903000831604, -4.833499908447266, -5.818900108337402, -5.089300155639648, -6.115600109100342, -5.740099906921387, -6.087600231170654, -6.2291998863220215, -6.351399898529053, -6.3958001136779785, -6.41379976272583, -6.426799774169922, -6.513500213623047, -5.772900104522705, -6.6402997970581055, -6.647200107574463, -6.6778998374938965, -6.597799777984619, -6.8379998207092285, -6.832499980926514, -6.844200134277344, -6.838399887084961, -6.831299781799316, -6.821499824523926, -6.289599895477295, -6.837100028991699, -6.885700225830078, -6.907400131225586, -6.928699970245361, -5.4430999755859375, -5.9380998611450195, -3.445499897003174, -2.934000015258789, -6.5366997718811035, -5.773600101470947, -6.412899971008301, -6.311600208282471, -4.864500045776367, -5.735099792480469, -4.4217000007629395, -5.398799896240234, -4.8144001960754395, -5.80810022354126, -3.510999917984009, -4.863399982452393, -5.2947998046875, -5.5960001945495605, -5.3277997970581055, -4.716800212860107, -5.0696001052856445, -5.4756999015808105, -5.234099864959717, -4.9517998695373535, -4.421800136566162, -4.49459981918335, -4.458399772644043, -5.125699996948242, -4.6620001792907715, -4.68209981918335, -4.714799880981445, -5.112599849700928, -5.033299922943115, -4.764400005340576, -4.668900012969971, -4.983799934387207, -4.881400108337402, -5.139400005340576, -5.120699882507324, -5.148499965667725, -5.230500221252441, -5.461599826812744, -5.670899868011475, -5.770299911499023, -5.950500011444092, -6.002099990844727, -6.014200210571289, -5.868599891662598, -6.137499809265137, -5.107500076293945, -6.11299991607666, -6.1828999519348145, -6.200200080871582, -6.170000076293945, -4.93209981918335, -6.3403000831604, -6.017600059509277, -5.603499889373779, -6.382999897003174, -6.2342000007629395, -6.081900119781494, -6.225299835205078, -6.538099765777588, -6.546199798583984, -5.5843000411987305, -6.572000026702881, -6.593699932098389, -6.6458001136779785, -6.673299789428711, -5.423699855804443, -6.7164998054504395, -4.413899898529053, -4.570700168609619, -5.634300231933594, -5.902599811553955, -5.997099876403809, -5.231500148773193, -5.5335001945495605, -5.464399814605713, -5.267199993133545, -3.79259991645813, -5.654300212860107, -5.451700210571289, -5.660900115966797, -5.473199844360352, -5.644999980926514, -5.928699970245361, -4.694499969482422, -5.3643999099731445, -4.37939977645874, -5.330599784851074, -5.1616997718811035, -5.365099906921387, -5.147299766540527, -4.694900035858154, -4.490799903869629, -4.247000217437744, -4.967299938201904, -5.24970006942749, -4.883900165557861, -4.638299942016602, -4.8850998878479, -4.325200080871582, -5.113900184631348, -4.835999965667725, -5.131499767303467, -5.244800090789795, -5.166299819946289, -5.170100212097168, -5.102200031280518, -5.214200019836426, -5.236800193786621, -5.264200210571289, -5.144800186157227, -5.317200183868408, -5.235499858856201, -5.531099796295166, -6.189199924468994, -6.189199924468994, -6.257500171661377, -6.326300144195557, -6.345300197601318, -6.450799942016602, -6.449699878692627, -6.381800174713135, -6.452499866485596, -6.523399829864502, -6.238100051879883, -5.87470006942749, -6.549600124359131, -6.568999767303467, -6.587200164794922, -6.048299789428711, -5.640600204467773, -6.737100124359131, -6.780700206756592, -6.817699909210205, -6.822800159454346, -6.825699806213379, -6.481900215148926, -6.864099979400635, -6.891499996185303, -6.669099807739258, -3.0151000022888184, -4.843999862670898, -5.236800193786621, -6.451900005340576, -6.097499847412109, -5.77839994430542, -6.096399784088135, -6.4446001052856445, -5.151500225067139, -6.33519983291626, -6.286300182342529, -5.549900054931641, -6.22599983215332, -6.169899940490723, -4.979800224304199, -4.457099914550781, -4.128699779510498, -5.464099884033203, -3.5678000450134277, -5.746200084686279, -5.945300102233887, -5.715000152587891, -5.713399887084961, -4.235300064086914, -5.441800117492676, -5.274199962615967, -4.227099895477295, -4.761000156402588, -5.036099910736084, -4.956999778747559, -5.220699787139893, -4.3429999351501465, -4.165999889373779, -5.027599811553955, -5.269899845123291, -5.260200023651123, -4.686699867248535, -5.209700107574463, -4.822999954223633, -5.013500213623047, -5.0960001945495605, -5.0671000480651855, -5.291399955749512, -5.112400054931641, -5.236599922180176, -3.7815001010894775, -5.808800220489502, -5.814499855041504, -6.063600063323975, -6.1315999031066895, -6.148399829864502, -6.345300197601318, -6.4243998527526855, -6.173299789428711, -6.423900127410889, -6.508600234985352, -6.529200077056885, -6.640399932861328, -6.446400165557861, -6.512199878692627, -6.26140022277832, -6.532199859619141, -6.827600002288818, -6.8368000984191895, -6.848400115966797, -6.872499942779541, -6.5854997634887695, -6.895400047302246, -6.896299839019775, -6.869200229644775, -6.83489990234375, -6.952400207519531, -6.969299793243408, -6.964700222015381, -7.046199798583984, -3.0525999069213867, -4.980999946594238, -5.763999938964844, -6.127900123596191, -6.171299934387207, -3.80649995803833, -6.416399955749512, -6.418399810791016, -3.558799982070923, -2.9144999980926514, -3.6851000785827637, -6.363699913024902, -5.085299968719482, -4.854000091552734, -4.3684000968933105, -5.850800037384033, -5.079899787902832, -5.318600177764893, -5.9394001960754395, -5.995100021362305, -5.595699787139893, -5.8796000480651855, -3.630000114440918, -3.848900079727173, -3.998199939727783, -4.365699768066406, -4.1427001953125, -4.934100151062012, -4.957200050354004, -4.710599899291992, -4.597400188446045, -4.599400043487549, -4.76230001449585, -4.5746002197265625, -4.7342000007629395, -5.171999931335449, -5.134500026702881, -5.359399795532227, -4.962699890136719, -4.704899787902832, -5.079100131988525, -4.951099872589111, -5.08050012588501, -4.7743000984191895, -4.865799903869629, -5.201600074768066, -5.2982001304626465, -5.450099945068359, -5.763400077819824, -5.957200050354004, -6.0696001052856445, -6.059800148010254, -6.1269001960754395, -6.1834001541137695, -5.695700168609619, -6.263700008392334, -6.251299858093262, -6.301799774169922, -5.748700141906738, -6.355000019073486, -6.3592000007629395, -6.409299850463867, -6.453100204467773, -6.460100173950195, -6.337500095367432, -6.420400142669678, -6.61329984664917, -6.486199855804443, -6.662099838256836, -6.31689977645874, -5.59089994430542, -6.502699851989746, -6.661200046539307, -5.604300022125244, -5.855000019073486, -3.651900053024292, -5.570000171661377, -4.676700115203857, -5.753200054168701, -5.760700225830078, -6.164599895477295, -3.923099994659424, -6.006199836730957, -5.5152997970581055, -3.7421000003814697, -5.8119001388549805, -3.5237998962402344, -4.014800071716309, -4.748300075531006, -5.438399791717529, -5.640900135040283, -4.282199859619141, -4.13730001449585, -5.558499813079834, -4.835899829864502, -4.749899864196777, -5.182600021362305, -4.5696001052856445, -4.149700164794922, -4.976600170135498, -4.975100040435791, -5.363500118255615, -5.204400062561035, -5.1479997634887695, -5.215199947357178, -4.683899879455566, -4.682499885559082, -5.132999897003174, -5.027900218963623, -4.854800224304199, -5.250500202178955, -4.981299877166748, -5.035099983215332, -5.088099956512451, -5.1834001541137695, -5.1930999755859375, -4.617599964141846, -3.5615999698638916, -5.0528998374938965, -5.2820000648498535, -5.369800090789795, -5.3668999671936035, -6.072199821472168, -6.139200210571289, -5.844799995422363, -6.131400108337402, -6.181600093841553, -6.182499885559082, -6.22730016708374, -6.259699821472168, -6.299699783325195, -6.325300216674805, -6.268099784851074, -6.396699905395508, -6.118100166320801, -4.9980998039245605, -6.506800174713135, -6.520599842071533, -6.5233001708984375, -6.487299919128418, -6.543700218200684, -6.594799995422363, -6.256199836730957, -6.5756001472473145, -6.425099849700928, -6.61929988861084, -5.678899765014648, -5.859399795532227, -5.447700023651123, -6.41949987411499, -5.337699890136719, -5.554900169372559, -5.627200126647949, -5.988100051879883, -3.9616000652313232, -6.240499973297119, -4.50600004196167, -4.818699836730957, -5.17110013961792, -5.018499851226807, -4.43120002746582, -5.527400016784668, -3.6317999362945557, -5.806700229644775, -3.1603000164031982, -4.154099941253662, -5.637700080871582, -4.2382001876831055, -4.272200107574463, -5.592700004577637, -5.073200225830078, -5.002699851989746, -5.002099990844727, -5.301499843597412, -4.767300128936768, -5.0569000244140625, -4.69920015335083, -4.747000217437744, -4.873300075531006, -5.101600170135498, -4.957300186157227, -5.070899963378906, -5.042300224304199, -5.037399768829346, -5.152200222015381, -5.059999942779541, -5.336900234222412, -5.656599998474121, -5.446700096130371, -5.831299781799316, -5.9369001388549805, -6.046899795532227, -6.05709981918335, -6.070400238037109, -6.107999801635742, -6.0605998039245605, -6.139999866485596, -6.070899963378906, -6.162600040435791, -5.82919979095459, -6.1072998046875, -6.240799903869629, -6.285600185394287, -6.323999881744385, -6.348999977111816, -6.269700050354004, -6.372900009155273, -6.325099945068359, -6.365099906921387, -6.202899932861328, -6.427599906921387, -6.424900054931641, -6.440700054168701, -6.414899826049805, -6.480999946594238, -6.474599838256836, -4.527900218963623, -6.107900142669678, -5.8541998863220215, -5.777699947357178, -6.17579984664917, -6.0106000900268555, -6.037099838256836, -5.3454999923706055, -6.065100193023682, -4.400300025939941, -6.095300197601318, -5.246099948883057, -5.716700077056885, -4.909200191497803, -4.602499961853027, -5.6006999015808105, -5.892199993133545, -5.21589994430542, -4.594099998474121, -4.780600070953369, -5.794099807739258, -4.8979997634887695, -5.832499980926514, -4.723700046539307, -5.035299777984619, -5.184700012207031, -5.504199981689453, -4.689799785614014, -4.756700038909912, -4.873799800872803, -4.719600200653076, -5.003200054168701, -4.7795000076293945, -4.985599994659424, -5.475900173187256, -5.307000160217285, -5.469799995422363, -5.149400234222412, -5.181099891662598, -5.179599761962891, -5.136600017547607, -5.269100189208984, -5.3414998054504395, -5.262700080871582, -5.434899806976318, -3.8457000255584717, -3.438800096511841, -5.008699893951416, -5.143199920654297, -5.150400161743164, -5.400700092315674, -5.606900215148926, -5.494900226593018, -4.576200008392334, -5.741499900817871, -5.5991997718811035, -5.554100036621094, -5.882800102233887, -5.887499809265137, -5.909900188446045, -5.991300106048584, -6.005300045013428, -6.006400108337402, -5.98769998550415, -6.040800094604492, -5.583399772644043, -5.741799831390381, -6.240200042724609, -6.239999771118164, -6.290599822998047, -6.3317999839782715, -5.434800148010254, -6.429900169372559, -6.445899963378906, -6.449900150299072, -6.39300012588501, -4.815299987792969, -5.76609992980957, -5.873700141906738, -5.760700225830078, -5.750699996948242, -5.964200019836426, -3.594599962234497, -5.2957000732421875, -5.502399921417236, -5.682499885559082, -5.310299873352051, -5.737800121307373, -4.926000118255615, -5.297599792480469, -5.228300094604492, -4.4918999671936035, -4.514699935913086, -5.4532999992370605, -4.879300117492676, -5.606200218200684, -4.5395002365112305, -4.831200122833252, -4.917200088500977, -4.545599937438965, -5.164599895477295, -5.394899845123291, -5.1956000328063965, -5.124199867248535, -5.150300025939941, -5.2855000495910645, -5.3607001304626465, -5.381499767303467]}, \"token.table\": {\"Topic\": [1, 4, 5, 7, 8, 10, 13, 4, 8, 2, 3, 4, 9, 10, 12, 2, 3, 5, 6, 10, 13, 14, 1, 2, 7, 10, 3, 13, 5, 1, 2, 3, 4, 5, 6, 7, 8, 9, 10, 11, 12, 13, 14, 7, 2, 2, 3, 4, 7, 9, 12, 14, 2, 3, 4, 8, 1, 4, 3, 12, 5, 5, 3, 3, 5, 6, 8, 11, 12, 1, 2, 3, 4, 5, 6, 7, 8, 9, 10, 11, 12, 13, 14, 3, 7, 8, 3, 6, 7, 8, 12, 14, 10, 2, 3, 4, 6, 9, 1, 2, 3, 4, 5, 6, 7, 9, 10, 11, 12, 13, 14, 1, 2, 3, 4, 5, 6, 10, 11, 12, 13, 14, 12, 1, 2, 4, 6, 7, 9, 10, 11, 12, 13, 14, 3, 7, 11, 13, 14, 1, 3, 5, 7, 9, 10, 11, 12, 13, 14, 11, 3, 7, 9, 9, 2, 3, 10, 2, 3, 6, 7, 8, 9, 10, 11, 12, 2, 3, 4, 10, 12, 6, 1, 2, 3, 9, 7, 1, 2, 3, 4, 5, 6, 7, 8, 9, 10, 11, 12, 13, 14, 6, 3, 5, 10, 11, 3, 8, 9, 10, 4, 10, 1, 2, 3, 4, 5, 6, 7, 8, 9, 10, 11, 12, 13, 14, 3, 4, 3, 8, 1, 2, 3, 4, 5, 6, 7, 8, 9, 10, 11, 12, 13, 14, 1, 2, 3, 4, 5, 6, 7, 8, 9, 10, 11, 12, 13, 14, 13, 1, 7, 2, 2, 3, 4, 6, 8, 1, 5, 6, 7, 13, 14, 1, 3, 10, 12, 13, 1, 5, 13, 14, 3, 7, 1, 5, 6, 7, 9, 10, 11, 13, 1, 3, 4, 5, 6, 7, 8, 9, 10, 11, 12, 13, 14, 5, 8, 12, 4, 9, 12, 4, 7, 11, 12, 14, 1, 2, 3, 4, 5, 6, 7, 8, 9, 10, 11, 12, 13, 14, 8, 9, 1, 13, 10, 14, 3, 13, 14, 13, 3, 9, 13, 3, 4, 10, 11, 14, 11, 5, 10, 11, 1, 5, 6, 13, 4, 1, 3, 6, 8, 9, 11, 12, 13, 14, 1, 2, 3, 4, 5, 6, 7, 8, 9, 10, 11, 12, 13, 14, 1, 1, 2, 7, 9, 12, 1, 4, 13, 14, 9, 2, 3, 5, 6, 7, 8, 9, 11, 13, 6, 13, 4, 13, 13, 3, 4, 6, 7, 9, 10, 13, 14, 6, 3, 5, 7, 8, 11, 12, 2, 10, 4, 3, 10, 8, 1, 2, 3, 4, 5, 7, 9, 10, 13, 14, 10, 3, 8, 11, 13, 12, 4, 11, 12, 1, 2, 3, 4, 5, 6, 7, 8, 9, 10, 11, 12, 13, 14, 11, 7, 2, 5, 11, 1, 2, 3, 4, 5, 6, 7, 8, 9, 10, 11, 12, 13, 14, 8, 14, 9, 1, 3, 7, 11, 8, 1, 2, 3, 5, 7, 8, 10, 12, 13, 14, 1, 2, 3, 4, 5, 6, 7, 8, 9, 13, 1, 3, 4, 5, 6, 12, 13, 14, 3, 10, 11, 1, 7, 12, 2, 3, 5, 6, 8, 9, 11, 12, 13, 14, 10, 7, 11, 14, 4, 6, 2, 3, 4, 5, 7, 8, 9, 11, 12, 14, 1, 2, 3, 4, 5, 6, 7, 8, 9, 10, 11, 12, 13, 14, 14, 2, 7, 8, 1, 5, 10, 9, 12, 4, 9, 4, 7, 11, 1, 2, 3, 4, 5, 6, 7, 8, 9, 10, 11, 12, 13, 14, 1, 1, 2, 3, 4, 5, 6, 7, 8, 9, 10, 11, 12, 13, 14, 2, 3, 10, 2, 1, 5, 13, 8, 3, 7, 14, 12, 1, 3, 4, 5, 7, 8, 9, 10, 11, 12, 14, 13, 13, 4, 10, 1, 2, 3, 4, 5, 6, 7, 8, 9, 10, 11, 12, 13, 14, 13, 6, 8, 11, 5, 6, 10, 1, 2, 3, 4, 5, 6, 7, 8, 9, 10, 11, 12, 13, 14, 3, 9, 14, 1, 2, 3, 4, 5, 6, 7, 9, 10, 11, 12, 13, 14, 4, 5, 7, 8, 9, 13, 14, 3, 4, 7, 11, 1, 3, 5, 6, 9, 10, 11, 13, 14, 1, 7, 1, 4, 6, 8, 11, 12, 13, 14, 3, 7, 5, 12, 8, 4, 6, 1, 4, 5, 6, 13, 2, 3, 4, 6, 7, 8, 9, 7, 1, 5, 7, 1, 2, 3, 4, 5, 6, 7, 8, 9, 10, 11, 12, 13, 14, 1, 1, 2, 3, 8, 9, 5, 9, 11, 3, 12, 11, 13, 7, 11, 6, 1, 2, 3, 4, 5, 6, 7, 8, 9, 10, 11, 12, 13, 14, 1, 2, 7, 1, 2, 3, 4, 5, 6, 7, 8, 9, 10, 11, 12, 13, 14, 4, 7, 8, 1, 2, 3, 4, 5, 6, 7, 8, 9, 10, 11, 13, 14, 3, 4, 5, 7, 9, 10, 11, 13, 10, 1, 4, 6, 7, 10, 11, 12, 14, 4, 7, 1, 2, 3, 4, 5, 6, 7, 8, 9, 10, 11, 12, 13, 14, 4, 5, 9, 8, 6, 4, 6, 12, 11, 2, 3, 6, 2, 3, 4, 5, 6, 7, 8, 9, 10, 11, 12, 13, 14, 2, 1, 2, 3, 4, 5, 6, 7, 8, 9, 10, 12, 13, 14, 1, 2, 3, 4, 5, 6, 7, 8, 9, 10, 11, 12, 13, 14, 7, 3, 4, 6, 7, 10, 11, 12, 14, 1, 2, 3, 4, 5, 6, 7, 8, 9, 10, 11, 12, 13, 14, 1, 2, 3, 4, 5, 6, 7, 8, 9, 11, 12, 13, 14, 3, 4, 5, 6, 7, 8, 10, 11, 11, 3, 1, 6, 2, 9, 10, 11, 12, 13, 7, 8, 9, 8, 3, 8, 9, 1, 2, 4, 5, 6, 7, 8, 9, 10, 12, 13, 14, 8, 5, 7, 1, 2, 3, 4, 6, 7, 8, 9, 10, 11, 12, 13, 14, 11, 1, 2, 3, 7, 3, 4, 7, 9, 5, 3, 4, 6, 10, 6, 1, 2, 4, 6, 9, 12, 13, 14, 1, 2, 3, 4, 5, 6, 7, 8, 9, 11, 13, 14, 1, 2, 3, 4, 5, 6, 7, 8, 9, 10, 11, 12, 13, 14, 1, 1, 2, 3, 4, 5, 6, 7, 8, 9, 10, 11, 12, 13, 14, 13, 1, 2, 3, 5, 7, 8, 1, 3, 5, 10, 6, 3, 11, 3, 2, 12, 1, 2, 3, 4, 6, 7, 8, 9, 10, 13, 14, 2, 3, 5, 7, 8, 9, 10, 12, 3, 12, 1, 14, 12, 3, 9, 3, 4, 8, 9, 1, 2, 3, 4, 5, 6, 7, 8, 9, 10, 11, 12, 13, 14, 1, 2, 3, 4, 5, 6, 7, 8, 9, 10, 11, 12, 13, 14, 1, 3, 4, 5, 6, 7, 8, 10, 11, 13, 14, 12, 3, 7, 8, 9, 11, 14, 1, 2, 4, 5, 8, 9, 10, 11, 12, 14, 11, 5, 9, 13, 2, 9, 1, 2, 3, 4, 6, 7, 8, 9, 10, 11, 13, 14, 2, 3, 5, 14, 1, 3, 5, 6, 12, 14, 9, 10, 6, 10, 1, 3, 4, 5, 14, 10, 14, 2, 3, 4, 6, 7, 8, 9, 12, 13, 14, 1, 2, 4, 5, 6, 8, 9, 13, 14, 10, 2, 3, 5, 6, 7, 8, 9, 10, 11, 12, 13, 5, 8, 10, 11, 7, 2, 4, 14, 6, 13, 5, 6, 1, 2, 3, 4, 5, 6, 7, 8, 9, 10, 11, 12, 13, 14, 2, 3, 11, 1, 2, 3, 4, 5, 6, 7, 8, 9, 10, 11, 12, 13, 14, 3, 1, 2, 3, 5, 7, 9, 14, 1, 5, 7, 8, 12, 14, 1, 2, 3, 4, 5, 6, 7, 8, 9, 10, 11, 12, 13, 14, 3, 4, 3, 1, 2, 3, 4, 5, 6, 7, 8, 9, 10, 11, 13, 14, 14, 1, 2, 3, 4, 5, 6, 7, 8, 9, 10, 11, 12, 13, 14, 1, 2, 3, 4, 5, 6, 7, 8, 9, 10, 11, 12, 13, 14, 1, 2, 3, 4, 5, 6, 7, 8, 9, 10, 11, 12, 13, 14, 1, 2, 3, 5, 6, 7, 8, 9, 14, 1, 2, 3, 4, 5, 6, 7, 8, 10, 12, 13, 14, 1, 3, 4, 5, 6, 7, 8, 10, 11, 12, 14, 3, 4, 6, 7, 9, 11, 12, 14, 2, 12, 7, 8, 13, 14, 1, 2, 3, 4, 5, 6, 9, 10, 13, 14, 1, 1, 2, 3, 4, 5, 6, 7, 8, 9, 10, 11, 12, 13, 14, 9, 12, 1, 2, 3, 4, 5, 6, 7, 8, 9, 10, 11, 12, 13, 14, 14, 1, 2, 3, 4, 5, 6, 7, 8, 10, 12, 13, 12, 3, 8, 13, 11, 2, 1, 5, 6, 7, 9, 13, 14, 1, 2, 3, 4, 5, 6, 7, 8, 9, 10, 11, 12, 13, 14, 1, 2, 3, 4, 5, 6, 7, 10, 11, 12, 13, 14, 1, 2, 3, 4, 5, 6, 7, 8, 9, 10, 11, 12, 13, 14, 8, 1, 4, 6, 1, 4, 6, 10, 13, 14, 3, 8, 9, 11, 5, 7, 8, 9, 8, 1, 5, 1, 5, 13, 14, 5, 10, 1, 2, 3, 4, 5, 6, 7, 8, 9, 10, 11, 12, 13, 14, 9, 12, 5, 1, 2, 3, 4, 5, 6, 7, 8, 9, 10, 11, 12, 13, 14, 10, 3, 5, 6, 7, 8, 9, 10, 11, 12, 13, 14, 8, 7, 9, 2, 3, 5, 6, 7, 8, 9, 14, 14, 3, 9, 10, 13, 1, 3, 5, 6, 13, 9, 2, 3, 4, 6, 7, 8, 9, 10, 11, 12, 13, 14, 2, 11, 1, 2, 3, 4, 5, 6, 7, 8, 9, 10, 11, 12, 13, 14, 4, 9, 12, 13, 3, 6, 9, 1, 6, 10, 13, 2, 10, 3, 3, 12, 13, 1, 5, 13, 5, 1, 2, 3, 4, 5, 6, 7, 8, 9, 10, 11, 12, 13, 14, 3, 7, 8, 12, 14, 4, 3, 7, 8, 9, 6, 14, 1, 6, 5, 7, 12, 5, 1, 2, 3, 4, 5, 6, 7, 8, 9, 12, 13, 14, 2, 3, 8, 9, 3, 5, 6, 10, 2, 3, 6, 9, 11, 1, 2, 3, 4, 5, 6, 7, 8, 9, 10, 11, 12, 13, 14, 11, 1, 2, 3, 4, 5, 6, 7, 8, 9, 10, 11, 12, 13, 14, 2, 13, 8, 1, 2, 3, 4, 5, 6, 7, 8, 9, 10, 11, 12, 13, 14, 1, 2, 4, 6, 11, 1, 2, 3, 4, 5, 6, 7, 9, 10, 11, 13, 14, 1, 5, 13, 14, 13, 11, 13, 5, 5, 10, 3, 4, 12, 12, 3, 10, 1, 2, 3, 4, 5, 6, 7, 8, 9, 10, 11, 12, 13, 14, 1, 2, 3, 5, 6, 7, 8, 9, 10, 11, 12, 13, 14, 7, 8, 12, 14, 1, 13, 1, 2, 3, 4, 5, 6, 7, 8, 9, 10, 11, 12, 13, 14, 10, 1, 3, 4, 5, 14, 1, 2, 3, 4, 5, 6, 7, 8, 9, 10, 11, 12, 13, 14, 1, 2, 3, 4, 5, 6, 7, 8, 9, 10, 12, 13, 14, 1, 2, 3, 4, 5, 6, 7, 8, 9, 10, 11, 13, 14, 1, 2, 3, 4, 5, 6, 7, 8, 9, 10, 11, 12, 13, 14, 3, 7, 8, 1, 4, 3, 8, 9, 13, 9, 1, 7, 3, 6, 8, 9, 12, 4, 14, 6, 7, 9, 4, 6, 7, 11, 14, 1, 3, 4, 5, 6, 7, 9, 10, 11, 12, 13, 14, 5, 2, 3, 4, 6, 7, 8, 9, 10, 11, 12, 14, 3, 4, 7, 4, 8, 8, 1, 10, 1, 3, 5, 7, 8, 9, 13, 7, 3, 13, 7, 5, 1, 2, 3, 4, 5, 6, 7, 8, 9, 10, 11, 12, 13, 11, 1, 5, 13, 3, 9, 3, 7, 3, 5, 14, 3, 8, 1, 2, 3, 4, 5, 6, 7, 9, 10, 12, 13, 14, 1, 2, 4, 5, 6, 9, 10, 13, 14, 1, 2, 4, 5, 6, 12, 13, 14, 1, 2, 3, 4, 5, 6, 7, 8, 9, 10, 11, 12, 13, 14, 1, 2, 3, 4, 6, 7, 8, 9, 10, 11, 12, 13, 14, 2, 4, 7, 9, 11, 11, 3, 7, 3, 4, 5, 7, 8, 9, 12, 13, 14, 14, 3, 8, 14, 1, 1, 2, 3, 4, 5, 6, 7, 8, 9, 10, 11, 13, 14, 1, 5, 6, 8, 10, 1, 3, 4, 5, 6, 7, 8, 9, 10, 11, 12, 13, 14, 3, 7, 8, 9, 10, 13, 14, 1, 2, 3, 4, 5, 6, 7, 8, 9, 10, 11, 12, 13, 14, 1, 2, 3, 4, 5, 6, 7, 8, 9, 11, 12, 13, 14, 3, 5, 6, 8, 9, 12, 13, 2, 3, 6, 7, 8, 9, 3, 11, 1, 5, 13, 4, 1, 2, 3, 4, 5, 6, 7, 8, 9, 10, 11, 12, 13, 14, 1, 2, 3, 4, 5, 6, 9, 10, 12, 13, 14, 1, 5, 8, 1, 2, 3, 4, 5, 6, 7, 8, 9, 10, 11, 12, 13, 14, 14, 1, 2, 3, 4, 5, 6, 7, 8, 9, 10, 11, 12, 13, 14, 9, 8, 5, 8, 12, 13, 1, 6, 1, 13, 3, 9, 4, 13, 1, 7, 3, 13, 8, 10, 12, 1, 5, 12, 14, 6, 11, 9, 13, 13, 10, 5, 11, 1, 9, 13, 1, 7, 2, 1, 4, 5, 1, 3, 9, 10, 12, 12, 1, 3, 4, 7, 8, 11, 12, 13, 14, 1, 5, 6, 9, 13, 1, 2, 3, 6, 7, 10, 2, 3, 4, 6, 7, 10, 11, 6, 6, 6, 13, 13, 1, 6, 7, 12, 13, 13, 1, 2, 3, 4, 5, 6, 8, 9, 11, 12, 13, 1, 3, 5, 6, 7, 8, 9, 10, 11, 12, 13, 14, 1, 2, 6, 1, 3, 10, 7, 1, 2, 3, 4, 5, 6, 7, 8, 9, 10, 11, 12, 13, 14, 13, 9, 8, 1, 2, 3, 5, 6, 7, 8, 9, 10, 13, 14, 1, 2, 3, 4, 5, 6, 7, 8, 9, 11, 12, 13, 14, 6, 12, 1, 3, 4, 5, 6, 7, 9, 10, 11, 12, 13, 14, 4, 3, 10, 8, 14, 1, 7, 5, 13, 1, 2, 3, 4, 5, 6, 7, 8, 10, 11, 12, 13, 14, 5, 1, 3, 4, 5, 6, 7, 8, 9, 10, 11, 12, 13, 14, 1, 10, 4, 6, 7, 4, 6, 8, 9, 14, 13, 2, 11, 4, 1, 4, 6, 9, 13, 14, 9, 13, 3, 9, 11, 6, 1, 3, 5, 6, 10, 13, 14, 1, 4, 5, 6, 13, 14, 11, 3, 12, 1, 2, 3, 4, 5, 6, 7, 8, 9, 10, 11, 12, 13, 14, 1, 2, 3, 4, 5, 6, 7, 8, 9, 10, 11, 13, 2, 3, 4, 6, 12, 14, 9, 12, 3, 5, 6, 10, 11, 1, 2, 3, 4, 5, 6, 7, 8, 10, 14, 1, 2, 3, 4, 5, 6, 7, 8, 9, 11, 12, 13, 5, 3, 4, 5, 6, 9, 10, 11, 12, 5, 8, 9, 13, 1, 3, 5, 6, 13, 2, 3, 4, 6, 8, 9, 10, 12, 13, 2, 3, 5, 7, 2, 3, 4, 6, 9, 13, 6, 2, 3, 4, 13, 6, 1, 2, 3, 6, 7, 8, 9, 10, 11, 12, 14, 14, 1, 2, 3, 4, 5, 6, 7, 8, 9, 10, 11, 12, 13, 14, 5, 13, 14, 1, 3, 6, 7, 8, 9, 10, 12, 13, 14, 1, 2, 3, 4, 5, 6, 7, 8, 9, 10, 11, 12, 13, 14, 6, 14, 1, 2, 3, 4, 5, 6, 7, 8, 9, 10, 11, 12, 13, 14, 1, 2, 3, 4, 5, 6, 7, 8, 9, 10, 11, 12, 13, 14, 1, 2, 9, 13, 3, 3, 6, 8, 9, 14, 1, 9, 12, 13, 1, 3, 4, 5, 9, 10, 11, 13, 14, 2, 3, 5, 7, 8, 9, 10, 11, 12, 13, 1, 2, 3, 4, 5, 7, 8, 9, 11, 12, 13, 7, 6, 8, 2, 6, 14, 4, 8, 1, 2, 3, 4, 5, 6, 7, 8, 9, 10, 12, 13, 14, 1, 2, 3, 4, 5, 6, 7, 8, 9, 12, 13, 14, 14, 1, 2, 3, 4, 5, 6, 7, 8, 9, 10, 11, 12, 13, 14, 14, 6, 1, 2, 3, 4, 5, 6, 7, 8, 9, 10, 11, 12, 13, 14, 3, 10, 11, 3, 7, 3, 14, 1, 3, 8, 9, 11, 2, 3, 4, 5, 7, 8, 9, 11, 14, 14, 1, 2, 7, 9, 1, 2, 3, 4, 5, 6, 7, 8, 11, 12, 13, 1, 2, 3, 4, 5, 7, 9, 11, 12, 13, 12, 12, 1, 3, 6, 1, 2, 3, 4, 5, 6, 7, 8, 9, 10, 11, 12, 13, 14, 3, 5, 4, 6, 9, 11, 2, 3, 4, 6, 9, 11, 14, 10, 5, 4, 6, 14, 5, 9, 2, 6, 9, 10, 9, 1, 7, 8, 14, 1, 2, 3, 4, 5, 6, 7, 8, 9, 10, 11, 12, 13, 14, 13, 3, 5, 11, 1, 1, 2, 3, 4, 5, 8, 9, 12, 13, 14, 5, 7, 8, 9, 13, 3, 6, 7, 8, 9, 1, 3, 14, 1, 2, 3, 4, 5, 6, 7, 8, 9, 10, 11, 12, 13, 14, 6, 9, 3, 9, 3, 3, 9, 14, 1, 2, 3, 4, 5, 7, 8, 12, 13, 14, 5, 5, 1, 2, 3, 4, 5, 6, 7, 8, 9, 10, 11, 12, 13, 14, 2, 3, 6, 7, 8, 10, 11, 12, 13, 14, 10, 11, 3, 2, 6, 3, 4, 6, 11, 14, 8, 3, 8, 11, 12, 14, 8, 8, 11, 4, 3, 2, 14, 7, 2, 14, 1, 3, 6, 8, 14, 6, 3, 5, 12, 3, 9, 12, 10, 1, 3, 5, 6, 7, 13, 14, 9, 11, 1, 13, 3, 4, 6, 7, 9, 10, 12, 13, 14, 12, 6, 9, 2, 4, 6, 10, 12, 3, 9, 10, 14, 7, 3, 7, 8, 9, 1, 3, 4, 5, 6, 7, 8, 9, 10, 11, 12, 13, 14, 1, 9, 13, 7, 11, 1, 2, 3, 4, 5, 6, 7, 8, 9, 10, 11, 12, 13, 14, 11, 2, 4, 7, 12, 1, 2, 3, 4, 5, 6, 7, 9, 10, 11, 12, 13, 14, 5, 6, 7, 1, 2, 3, 4, 5, 6, 7, 8, 9, 11, 12, 13, 14, 12, 1, 2, 3, 4, 5, 7, 8, 9, 10, 11, 12, 13, 14, 8, 1, 2, 3, 4, 5, 6, 7, 8, 9, 10, 11, 12, 13, 14, 1, 4, 7, 8, 13, 3, 4, 6, 9, 13, 7, 10, 1, 2, 3, 4, 5, 6, 7, 8, 9, 10, 11, 12, 13, 14, 3, 4, 5, 8, 9, 10, 11, 12, 13, 14, 1, 3, 6, 8, 11, 1, 2, 3, 4, 6, 9, 10, 11, 10, 11, 14, 1, 3, 5, 7, 8, 9, 10, 12, 13, 14, 1, 2, 3, 4, 5, 6, 7, 8, 9, 10, 11, 12, 13, 14, 7, 9, 9, 3, 5, 7, 8, 9, 10, 11, 12, 13, 14, 1, 2, 3, 4, 5, 6, 7, 8, 9, 10, 11, 12, 13, 3, 7, 1, 2, 3, 4, 8, 12, 2, 8, 3, 4, 10, 11, 12, 14, 11, 14, 1, 2, 3, 4, 5, 6, 7, 8, 9, 10, 11, 12, 13, 14, 1, 7, 13, 8, 9, 3, 9, 1, 2, 3, 4, 5, 6, 7, 8, 9, 10, 11, 12, 13, 14, 7, 1, 2, 3, 4, 5, 6, 7, 8, 9, 10, 11, 12, 13, 14, 2, 1, 2, 3, 4, 5, 6, 7, 8, 9, 10, 11, 12, 13, 14, 1, 2, 3, 4, 5, 6, 7, 8, 9, 10, 11, 12, 13, 14, 7, 14, 2, 3, 4, 5, 6, 9, 13, 3, 4, 5, 8, 11, 12, 14, 2, 3, 4, 5, 6, 7, 9, 11, 12, 13, 14, 13, 14, 3, 3, 4, 9, 14, 3, 1, 2, 3, 4, 5, 6, 7, 8, 9, 10, 11, 12, 13, 14, 10, 1, 2, 3, 4, 5, 6, 7, 8, 9, 10, 11, 12, 13, 14, 11, 1, 2, 3, 4, 5, 6, 7, 9, 11, 13, 14, 3, 7, 11, 12, 7, 9, 3, 9, 2, 8, 9, 5, 3, 3, 9, 1, 2, 3, 6, 8, 14, 4, 14, 6, 10, 11, 8, 1, 2, 3, 4, 5, 6, 7, 8, 9, 10, 11, 12, 13, 14, 6, 4, 6, 13, 13, 5, 14, 1, 5, 6, 7, 9, 12, 13, 10, 13, 1, 13, 12, 1, 2, 3, 4, 6, 8, 10, 3, 4, 5, 6, 8, 9, 10, 11, 12, 13, 14, 8, 11, 12, 5, 13, 13, 3, 4, 5, 9, 13, 14, 9, 7, 10, 13, 8, 10, 4, 7, 4, 6, 10, 14, 3, 6, 10, 11, 9, 10, 6, 7, 12, 5, 8, 10, 13, 3, 8, 13, 1, 2, 3, 4, 5, 6, 7, 8, 9, 10, 11, 12, 13, 14, 2, 3, 4, 5, 6, 7, 9, 10, 11, 12, 13, 14, 1, 2, 3, 4, 5, 6, 7, 8, 9, 10, 11, 12, 13, 14, 7, 3, 7, 11, 1, 2, 3, 4, 5, 6, 7, 8, 9, 10, 11, 12, 13, 14, 1, 3, 4, 7, 10, 11, 14, 2, 3, 4, 5, 7, 8, 9, 10, 12, 13, 14, 1, 2, 3, 4, 5, 6, 7, 8, 10, 11, 13, 14, 3, 5, 11, 4, 1, 4, 14, 1, 2, 4, 5, 6, 8, 9, 13, 14, 2, 4, 6, 6, 9, 10, 12, 5, 2, 3, 4, 8, 9, 10, 12, 14, 1, 2, 3, 4, 5, 6, 7, 8, 9, 10, 11, 13, 14, 1, 2, 3, 4, 5, 6, 7, 8, 9, 10, 11, 12, 13, 14, 1, 3, 4, 5, 6, 7, 8, 9, 10, 11, 12, 13, 14, 11, 5, 1, 2, 3, 5, 6, 7, 9, 11, 12, 13, 3, 7, 9, 10, 12, 1, 1, 2, 1, 3, 7, 12, 13, 14, 3, 10, 9, 1, 2, 3, 4, 5, 6, 7, 8, 9, 10, 11, 13, 14, 10, 2, 3, 6, 8], \"Freq\": [0.003821228863671422, 0.001910614431835711, 0.2216312736272812, 0.001910614431835711, 0.026748601347208023, 0.7394077777862549, 0.003821228863671422, 0.9887122511863708, 0.008523381315171719, 0.9925057888031006, 0.004560514818876982, 0.004560514818876982, 0.004560514818876982, 0.036484118551015854, 0.9440265893936157, 0.03090675361454487, 0.08756913989782333, 0.0025755628012120724, 0.005151125602424145, 0.16483601927757263, 0.7057042121887207, 0.0025755628012120724, 0.9888484477996826, 0.002157574985176325, 0.9946420788764954, 0.9858098030090332, 0.008495218120515347, 0.9854452610015869, 0.9942275881767273, 0.20712623000144958, 0.2062738537788391, 0.10569404065608978, 0.07415630668401718, 0.050289906561374664, 0.1419198215007782, 0.03409485146403313, 0.018752168864011765, 0.04134000837802887, 0.006392784882336855, 0.020030725747346878, 0.01789979822933674, 0.04560186341404915, 0.030259180814027786, 0.9905788898468018, 0.9984599947929382, 0.2332824170589447, 0.009148329496383667, 0.00686124712228775, 0.0011435411870479584, 0.019440200179815292, 0.7272922396659851, 0.0011435411870479584, 0.9919884204864502, 0.0014523988356813788, 0.0029047976713627577, 0.0029047976713627577, 0.004267933778464794, 0.9901607036590576, 0.0186079703271389, 0.9676144123077393, 0.9931714534759521, 0.9863430261611938, 0.9891238808631897, 0.9451486468315125, 0.0018715814221650362, 0.03930320963263512, 0.009357906877994537, 0.0037431628443300724, 0.993278980255127, 0.0889633297920227, 0.15420310199260712, 0.07611307501792908, 0.06573401391506195, 0.016309943050146103, 0.04349318519234657, 0.24118947982788086, 0.05733192339539528, 0.0939057394862175, 0.0004942407249473035, 0.07215914875268936, 0.01927538774907589, 0.00939057394862175, 0.060791607946157455, 0.9978880286216736, 0.038490377366542816, 0.958410382270813, 0.3768380582332611, 0.0010526202386245131, 0.5568361282348633, 0.04631529375910759, 0.008420961908996105, 0.009473582729697227, 0.9785735607147217, 0.8213553428649902, 0.007712256629019976, 0.014139137230813503, 0.1349644958972931, 0.020566018298268318, 0.0003551447589416057, 0.9896700382232666, 0.0036698291078209877, 0.0003551447589416057, 0.00011838158388854936, 0.0027227764949202538, 0.00023676316777709872, 0.0003551447589416057, 0.0009470526711083949, 0.00011838158388854936, 0.0007102895178832114, 0.0003551447589416057, 0.00011838158388854936, 0.0071113924495875835, 0.7893645763397217, 0.07822531461715698, 0.006095479242503643, 0.0050795660354197025, 0.012190958485007286, 0.0497797466814518, 0.002031826414167881, 0.0010159132070839405, 0.04470017924904823, 0.002031826414167881, 0.9892913699150085, 0.10045810788869858, 0.016342466697096825, 0.7507921457290649, 0.0019226431613788009, 0.0024033039808273315, 0.0004806607903447002, 0.09949678182601929, 0.0004806607903447002, 0.0004806607903447002, 0.011535858735442162, 0.01586180552840233, 0.09765330702066422, 0.8119938969612122, 0.0882892906665802, 0.011262298561632633, 0.9854511022567749, 0.033177219331264496, 0.10616710782051086, 0.046448107808828354, 0.7670573592185974, 0.026541776955127716, 0.005308355204761028, 0.002654177602380514, 0.006635444238781929, 0.002654177602380514, 0.002654177602380514, 0.9920297861099243, 0.9974558353424072, 0.08077751845121384, 0.9170624017715454, 0.9917827248573303, 0.8992816209793091, 0.09763628989458084, 0.0025693760253489017, 0.7880281209945679, 0.007185666356235743, 0.002395222196355462, 0.03473072126507759, 0.062275778502225876, 0.08622799813747406, 0.014371332712471485, 0.001197611098177731, 0.0035928331781178713, 0.1468820422887802, 0.008393259719014168, 0.03776966780424118, 0.004196629859507084, 0.7973596453666687, 0.9745228290557861, 0.9914822578430176, 0.004684168379753828, 0.9813332557678223, 0.009368336759507656, 0.9844580292701721, 0.10976329445838928, 0.10381675511598587, 0.14048710465431213, 0.04212135449051857, 0.05550108104944229, 0.04881121590733528, 0.10877220332622528, 0.05649217218160629, 0.10109125077724457, 0.15609678626060486, 0.010654225014150143, 0.015114133246243, 0.03518372029066086, 0.015857450664043427, 0.9884074330329895, 0.08288120478391647, 0.02107149176299572, 0.2093101590871811, 0.6841211318969727, 0.9429992437362671, 0.004266965202987194, 0.049070097506046295, 0.002133482601493597, 0.052306316792964935, 0.94151371717453, 0.16438060998916626, 0.1739722341299057, 0.0982314720749855, 0.11807621270418167, 0.03968948498368263, 0.05457304045557976, 0.09062431752681732, 0.050604090094566345, 0.03836650028824806, 0.04002022743225098, 0.009260879829525948, 0.05225782096385956, 0.008599388413131237, 0.061187952756881714, 0.9884227514266968, 0.9976033568382263, 0.9933465719223022, 0.9860503077507019, 0.1444612741470337, 0.15789954364299774, 0.1206083670258522, 0.035611383616924286, 0.0661834254860878, 0.15655571222305298, 0.07323850691318512, 0.03460351377725601, 0.05644068494439125, 0.01108656357973814, 0.05610473081469536, 0.0584564246237278, 0.009070824831724167, 0.020157387480139732, 0.057259976863861084, 0.25207552313804626, 0.1683575063943863, 0.07424052059650421, 0.01895502768456936, 0.053179383277893066, 0.09253738820552826, 0.040147799998521805, 0.04357023537158966, 0.038963112980127335, 0.02830090932548046, 0.0641048476099968, 0.05752324312925339, 0.01105709932744503, 0.9921755194664001, 0.9940837025642395, 0.9906126856803894, 0.993816614151001, 0.8016384840011597, 0.11474128812551498, 0.05426952987909317, 0.02635948546230793, 0.0015505579067394137, 0.9444825649261475, 0.04873593524098396, 0.0007956887711770833, 0.0001989221927942708, 0.005370899103581905, 0.0001989221927942708, 0.9887039661407471, 0.16811740398406982, 0.0023029781877994537, 0.815254271030426, 0.011514890938997269, 0.5100510120391846, 0.4872770309448242, 0.002363336505368352, 0.9900069236755371, 0.044941723346710205, 0.9519474506378174, 0.584717869758606, 0.03620782494544983, 0.0007703792653046548, 0.0007703792653046548, 0.0015407585306093097, 0.27348464727401733, 0.08782324194908142, 0.013866826891899109, 0.011640176177024841, 0.0008314411388710141, 0.002494323533028364, 0.27686989307403564, 0.002494323533028364, 0.024943234398961067, 0.23529784381389618, 0.011640176177024841, 0.002494323533028364, 0.002494323533028364, 0.046560704708099365, 0.24194937944412231, 0.1396821141242981, 0.9331536293029785, 0.053741831332445145, 0.009771241806447506, 0.0013131283922120929, 0.0006565641961060464, 0.9973210096359253, 0.881715714931488, 0.0047276983968913555, 0.0023638491984456778, 0.10164551436901093, 0.00709154736250639, 0.2648203670978546, 0.028382912278175354, 0.0742122009396553, 0.058848973363637924, 0.07343102246522903, 0.06015094369649887, 0.06483802944421768, 0.0989496037364006, 0.05155795067548752, 0.07343102246522903, 0.008592992089688778, 0.03046606108546257, 0.10363668948411942, 0.008853385224938393, 0.9931600093841553, 0.002298981649801135, 0.9908991456031799, 0.004403996281325817, 0.017266759648919106, 0.975571870803833, 0.007666926831007004, 0.02300078049302101, 0.9660327434539795, 0.987077534198761, 0.009486440569162369, 0.17549914121627808, 0.8110906481742859, 0.0070700980722904205, 0.0017675245180726051, 0.06539840996265411, 0.9261828660964966, 0.0017675245180726051, 0.9956105947494507, 0.006439671386033297, 0.2028496414422989, 0.7856398820877075, 0.7479829788208008, 0.06831423938274384, 0.0011578684207051992, 0.18178534507751465, 0.9895455837249756, 0.18709786236286163, 0.018151285126805305, 0.009773768484592438, 0.0027925053145736456, 0.0027925053145736456, 0.07679389417171478, 0.16615407168865204, 0.5361610054969788, 0.9827719330787659, 0.37157467007637024, 0.03763384371995926, 0.048590533435344696, 0.01857873424887657, 0.013814955949783325, 0.0009527555666863918, 0.33679908514022827, 0.06716926395893097, 0.035251956433057785, 0.012862199917435646, 0.0004763777833431959, 0.02048424445092678, 0.03429919853806496, 0.0014291333500295877, 0.9929791688919067, 0.3253490626811981, 0.0014269696548581123, 0.672102689743042, 0.021118901669979095, 0.9714694619178772, 0.9936240315437317, 0.0010684129083529115, 0.0032052388414740562, 0.0010684129083529115, 0.988990068435669, 0.004173581954091787, 0.6949014067649841, 0.042779214680194855, 0.10642633587121964, 0.034432049840688705, 0.0845150351524353, 0.023998096585273743, 0.007303768303245306, 0.0010433954885229468, 0.9911117553710938, 0.9938912391662598, 0.9880563616752625, 0.9910295605659485, 0.9869531989097595, 0.023073289543390274, 0.05896507203578949, 0.03332808241248131, 0.8690938949584961, 0.002563698682934046, 0.002563698682934046, 0.002563698682934046, 0.005127397365868092, 0.9930970072746277, 0.777894914150238, 0.0005087605677545071, 0.19943414628505707, 0.0020350422710180283, 0.008648929186165333, 0.010683971457183361, 0.992465078830719, 0.00359588791616261, 0.9911354184150696, 0.014930048026144505, 0.9779181480407715, 0.9871513247489929, 0.07729065418243408, 0.6757977604866028, 0.15458130836486816, 0.000990905798971653, 0.015854492783546448, 0.012881775386631489, 0.007927246391773224, 0.027745362371206284, 0.025763550773262978, 0.9940239191055298, 0.9800536632537842, 0.005121956579387188, 0.9782937169075012, 0.005121956579387188, 0.010243913158774376, 0.9894531965255737, 0.9947551488876343, 0.9842631220817566, 0.9892091155052185, 0.14674369990825653, 0.08905351161956787, 0.10690999776124954, 0.05746126174926758, 0.0455569364130497, 0.04578586667776108, 0.05975055694580078, 0.15819017589092255, 0.06799200922250748, 0.10141569375991821, 0.0084703853353858, 0.07692025601863861, 0.031821176409721375, 0.004120728000998497, 0.9913392066955566, 0.9945324659347534, 0.9977737665176392, 0.9976697564125061, 0.9869650602340698, 0.2093624323606491, 0.19010184705257416, 0.021764447912573814, 0.1398317515850067, 0.011363738216459751, 0.21244411170482635, 0.046995796263217926, 0.05161833390593529, 0.022534869611263275, 0.0038521145470440388, 0.01733451522886753, 0.00789683498442173, 0.05643347650766373, 0.008474651724100113, 0.00116352632176131, 0.9971420168876648, 0.9882722496986389, 0.015054495073854923, 0.0030108990613371134, 0.975531280040741, 0.0030108990613371134, 0.9911485910415649, 0.03989146649837494, 0.004559024702757597, 0.2530258893966675, 0.0011397561756893992, 0.50719153881073, 0.07180464267730713, 0.03305292874574661, 0.07750342041254044, 0.004559024702757597, 0.007978293113410473, 0.06881038099527359, 0.0746665820479393, 0.011712404899299145, 0.013176455162465572, 0.4377511441707611, 0.3103787302970886, 0.001464050612412393, 0.013176455162465572, 0.013176455162465572, 0.05709797516465187, 0.03257843852043152, 0.00904956553131342, 0.02895861119031906, 0.6280398964881897, 0.269677072763443, 0.0018099131993949413, 0.023528870195150375, 0.0036198263987898827, 0.043279483914375305, 0.6302574872970581, 0.3218911588191986, 0.14683152735233307, 0.8503992557525635, 0.9968265295028687, 0.010899288579821587, 0.061036016792058945, 0.002179857809096575, 0.0007266192696988583, 0.23687787353992462, 0.5609500408172607, 0.07556840032339096, 0.047230251133441925, 0.002179857809096575, 0.0007266192696988583, 0.9869312644004822, 0.9978912472724915, 0.0048078387044370174, 0.9928187131881714, 0.00437034061178565, 0.9920673370361328, 0.031231718137860298, 0.03616304323077202, 0.08218873292207718, 0.01808152161538601, 0.09533893316984177, 0.016437746584415436, 0.001643774681724608, 0.519432783126831, 0.17588388919830322, 0.024656619876623154, 0.1671050786972046, 0.024556661024689674, 0.05420433357357979, 0.0014973572688177228, 0.002096300246194005, 0.00029947145958431065, 0.6696181893348694, 0.0017968288157135248, 0.0008984144078567624, 0.04492072016000748, 0.015273044817149639, 0.0029947145376354456, 0.0035936576314270496, 0.010481500998139381, 0.993717610836029, 0.9875652194023132, 0.008028985932469368, 0.9924910664558411, 0.004267098382115364, 0.9899668097496033, 0.9785570502281189, 0.9921005964279175, 0.9876492619514465, 0.9825564026832581, 0.9961380362510681, 0.9895326495170593, 0.007980101741850376, 0.9962571859359741, 0.23150290548801422, 0.11955548822879791, 0.07408817112445831, 0.027352847158908844, 0.05379996821284294, 0.06521208584308624, 0.07137100398540497, 0.030251162126660347, 0.06412521749734879, 0.06376292556524277, 0.056517139077186584, 0.0255414005368948, 0.08658715337514877, 0.030432306230068207, 0.9839337468147278, 0.13153931498527527, 0.20246431231498718, 0.07967346161603928, 0.03436894342303276, 0.06592588126659393, 0.024058260023593903, 0.16028425097465515, 0.050616078078746796, 0.09279614686965942, 0.03655605763196945, 0.045929405838251114, 0.009373348206281662, 0.030619604513049126, 0.035618722438812256, 0.8981994986534119, 0.07342230528593063, 0.026921510696411133, 0.9950039982795715, 0.9790685772895813, 0.0035732430405914783, 0.017866214737296104, 0.9925444722175598, 0.982345461845398, 0.0053975023329257965, 0.0053975023329257965, 0.9849129319190979, 0.0006772017804905772, 0.0006772017804905772, 0.16862323880195618, 0.004740412347018719, 0.0006772017804905772, 0.00203160522505641, 0.0067720175720751286, 0.24988745152950287, 0.5261857509613037, 0.03250568360090256, 0.0060948156751692295, 0.9960488677024841, 0.9935173988342285, 0.9919341802597046, 0.0064726537093520164, 0.14756745100021362, 0.2809385359287262, 0.033249374479055405, 0.14794103801250458, 0.01606430485844612, 0.014943540096282959, 0.01606430485844612, 0.04669856280088425, 0.08256305754184723, 0.011581243015825748, 0.00560382753610611, 0.16998276114463806, 0.02241531014442444, 0.004109473433345556, 0.9845765233039856, 0.00611180579289794, 0.00611180579289794, 0.9840007424354553, 0.16810031235218048, 0.8236914873123169, 0.9935885667800903, 0.0324321873486042, 0.0020923991687595844, 0.023016391322016716, 0.07218777388334274, 0.02092399075627327, 0.18726971745491028, 0.07009536772966385, 0.04812518134713173, 0.09311176091432571, 0.0031385987531393766, 0.32013705372810364, 0.03557078540325165, 0.009415796026587486, 0.08369596302509308, 0.5907046794891357, 0.4059922397136688, 0.000937626464292407, 0.04764260724186897, 0.25292620062828064, 0.24732118844985962, 0.0241716168820858, 0.09458459168672562, 0.0241716168820858, 0.02592318318784237, 0.03608226776123047, 0.07706892490386963, 0.06165514141321182, 0.04729229584336281, 0.041336968541145325, 0.019267231225967407, 0.0032851258292794228, 0.01642562821507454, 0.0032851258292794228, 0.12483478337526321, 0.009855377487838268, 0.18396703898906708, 0.6603102684020996, 0.0044828131794929504, 0.026896879076957703, 0.0044828131794929504, 0.9593220353126526, 0.39262470602989197, 0.00029857392655685544, 0.513845682144165, 0.00029857392655685544, 0.00014928696327842772, 0.05807262659072876, 0.02119874767959118, 0.013137252070009708, 0.00029857392655685544, 0.9882999062538147, 0.9921085238456726, 0.0583716556429863, 0.5325133204460144, 0.0010240641422569752, 0.0010240641422569752, 0.0030721924267709255, 0.08909358084201813, 0.0010240641422569752, 0.31233957409858704, 0.20610417425632477, 0.7918276190757751, 0.9883169531822205, 0.9873688817024231, 0.9916207790374756, 0.9842124581336975, 0.00902947224676609, 0.4435872733592987, 0.0017779049230739474, 0.08889524638652802, 0.0017779049230739474, 0.46403318643569946, 0.7666983604431152, 0.005187404341995716, 0.061211369931697845, 0.008299846202135086, 0.0010374807752668858, 0.010374808683991432, 0.14732228219509125, 0.9927839040756226, 0.22120289504528046, 0.002126951003447175, 0.7720832228660583, 0.01954790949821472, 0.18552742898464203, 0.007819163613021374, 0.08103497326374054, 0.020614158362150192, 0.008885413408279419, 0.09880580008029938, 0.08316747099161148, 0.3426215350627899, 0.020258743315935135, 0.0031987489201128483, 0.10982371121644974, 0.01208416186273098, 0.0063974978402256966, 0.9942752122879028, 0.003465468529611826, 0.003465468529611826, 0.006930937059223652, 0.9772620797157288, 0.006930937059223652, 0.01558049488812685, 0.10127321630716324, 0.8802979588508606, 0.010770481079816818, 0.9854989647865295, 0.05595032125711441, 0.9351696968078613, 0.016506770625710487, 0.9738994836807251, 0.9813826680183411, 0.11829359084367752, 0.8214181661605835, 0.0024725832045078278, 0.02043134532868862, 0.0007808157824911177, 0.02251352183520794, 0.0009109517559409142, 0.0002602719177957624, 0.0035136709921061993, 0.0007808157824911177, 0.0001301359588978812, 0.0002602719177957624, 0.006246526259928942, 0.0020821753423660994, 0.0016710065538063645, 0.0016710065538063645, 0.9959198832511902, 0.028687257319688797, 0.09028048813343048, 0.14765501022338867, 0.005062457174062729, 0.021937314420938492, 0.024468543007969856, 0.1881546676158905, 0.3180910646915436, 0.06749942898750305, 0.01856234297156334, 0.0008437428623437881, 0.0531558021903038, 0.021937314420938492, 0.012656142935156822, 0.7383027672767639, 0.05576304718852043, 0.2029774934053421, 0.001074760570190847, 0.33478793501853943, 0.050513748079538345, 0.05749969184398651, 0.006448563653975725, 0.012359746731817722, 0.002686901483684778, 0.43044161796569824, 0.06072397530078888, 0.011284986510872841, 0.002686901483684778, 0.002149521140381694, 0.027406396344304085, 0.0013317195698618889, 0.0019975793547928333, 0.0006658597849309444, 0.02064165286719799, 0.0033292986918240786, 0.9268767833709717, 0.04461260512471199, 0.0006658597849309444, 0.9879941940307617, 0.03232875466346741, 0.8658044338226318, 0.004041094332933426, 0.002020547166466713, 0.0010102735832333565, 0.08587325364351273, 0.0030308205168694258, 0.005051367916166782, 0.991143524646759, 0.004834846593439579, 0.16962772607803345, 0.19737789034843445, 0.035957951098680496, 0.00977118220180273, 0.03908472880721092, 0.27886953949928284, 0.05198268964886665, 0.033612869679927826, 0.047292523086071014, 0.006839827634394169, 0.018369823694229126, 0.048269640654325485, 0.05706370621919632, 0.0054718623869121075, 0.9897823333740234, 0.008352812379598618, 0.989808201789856, 0.9904972910881042, 0.990166962146759, 0.9861549735069275, 0.8428162336349487, 0.15050290524959564, 0.9889643788337708, 0.991998553276062, 0.0035302438773214817, 0.0017651219386607409, 0.0009281651000492275, 0.03944701701402664, 0.010209816507995129, 0.008353485725820065, 0.02181188017129898, 0.001856330200098455, 0.009745733812451363, 0.03805476799607277, 0.8274591565132141, 0.0013922476209700108, 0.00371266040019691, 0.03387802466750145, 0.0032485779374837875, 0.9814896583557129, 0.0010311129735782743, 0.2639649212360382, 0.025777824223041534, 0.07372458279132843, 0.0010311129735782743, 0.044853415340185165, 0.020622260868549347, 0.006186678074300289, 0.10311129689216614, 0.0479467548429966, 0.39800962805747986, 0.0010311129735782743, 0.012888912111520767, 0.0006505447090603411, 0.06863246858119965, 0.14051766693592072, 0.054645758122205734, 0.0006505447090603411, 0.029762420803308487, 0.013336166739463806, 0.00813180860131979, 0.06830719858407974, 0.21695666015148163, 0.023582246154546738, 0.36885884404182434, 0.0022769065108150244, 0.0035779960453510284, 0.9950135350227356, 0.003915776964277029, 0.16837841272354126, 0.00032631473732180893, 0.00032631473732180893, 0.2597465515136719, 0.5410298705101013, 0.001631573773920536, 0.024473605677485466, 0.5879334211349487, 0.16696904599666595, 0.011805891990661621, 0.008095469325780869, 0.029683386906981468, 0.016190938651561737, 0.00033731121220625937, 0.0023611783981323242, 0.00033731121220625937, 0.014841693453490734, 0.0006746224244125187, 0.0023611783981323242, 0.1558377742767334, 0.002023867331445217, 0.0167281124740839, 0.04767512157559395, 0.08029493689537048, 0.2684862017631531, 0.005018433555960655, 0.059384800493717194, 0.056039176881313324, 0.08196774870157242, 0.0033456224482506514, 0.021746546030044556, 0.3011060357093811, 0.05436636507511139, 0.004182028118520975, 0.7528762221336365, 0.006232419051229954, 0.001246483763679862, 0.04362693428993225, 0.002492967527359724, 0.006232419051229954, 0.18447960913181305, 0.001246483763679862, 0.9898453950881958, 0.9890581369400024, 0.20272967219352722, 0.7953240871429443, 0.9884669184684753, 0.0067703211680054665, 0.001354064210318029, 0.001354064210318029, 0.001354064210318029, 0.9913372993469238, 0.008239655755460262, 0.008239655755460262, 0.9722793698310852, 0.9922675490379333, 0.005556601099669933, 0.9890750050544739, 0.005556601099669933, 0.5184271931648254, 0.37194639444351196, 0.014360864646732807, 0.002154129557311535, 0.003590216161683202, 0.001436086487956345, 0.001436086487956345, 0.0007180432439781725, 0.0007180432439781725, 0.00861651822924614, 0.07467649132013321, 0.001436086487956345, 0.9903277158737183, 0.9930923581123352, 0.9874460101127625, 0.011932759545743465, 0.30157336592674255, 0.015187148936092854, 0.5353469848632812, 0.008678370155394077, 0.0016271944623440504, 0.01789913885295391, 0.006508777849376202, 0.0037967872340232134, 0.0010847962694242597, 0.0021695925388485193, 0.028204703703522682, 0.06563017517328262, 0.9880444407463074, 0.0031995659228414297, 0.025596527382731438, 0.9694684743881226, 0.9964740872383118, 0.00903288647532463, 0.9845845699310303, 0.9846599698066711, 0.009033577516674995, 0.9974120259284973, 0.06498014181852341, 0.008122517727315426, 0.9259669780731201, 0.9847992658615112, 0.9829297065734863, 0.005799910984933376, 0.0016571175074204803, 0.9768707752227783, 0.0008285587537102401, 0.0008285587537102401, 0.0008285587537102401, 0.0016571175074204803, 0.010771263390779495, 0.06420914083719254, 0.006529742851853371, 0.050061363726854324, 0.046796489506959915, 0.0021765809506177902, 0.028295552358031273, 0.09141640365123749, 0.1458309292793274, 0.029383843764662743, 0.48537755012512207, 0.021765809506177902, 0.027207262814044952, 0.24510063230991364, 0.11473670601844788, 0.11473670601844788, 0.05860207974910736, 0.08430474996566772, 0.015421600081026554, 0.023029590025544167, 0.052844684571027756, 0.04071302339434624, 0.1328313797712326, 0.0030843201093375683, 0.03660059720277786, 0.062097642570734024, 0.01603846438229084, 0.9884539842605591, 0.22343894839286804, 0.15222440659999847, 0.0815393328666687, 0.04579969123005867, 0.06221345067024231, 0.024620642885565758, 0.05533026158809662, 0.029385928064584732, 0.019325880333781242, 0.16704973578453064, 0.011118999682366848, 0.028062237426638603, 0.0942467600107193, 0.0060889762826263905, 0.991615355014801, 0.07523047178983688, 0.0011573919327929616, 0.0011573919327929616, 0.000385797320632264, 0.9212839603424072, 0.000385797320632264, 0.009120093658566475, 0.0045600468292832375, 0.15960164368152618, 0.820808470249176, 0.9896368980407715, 0.996410608291626, 0.0020544547587633133, 0.9967164397239685, 0.9924783706665039, 0.9822037816047668, 0.04060109704732895, 0.05627169460058212, 0.04701179638504982, 0.07122999429702759, 0.014245999045670033, 0.003561499761417508, 0.2079915851354599, 0.058408595621585846, 0.31341198086738586, 0.13320009410381317, 0.0541347973048687, 0.0016248485771939158, 0.08774182200431824, 0.0016248485771939158, 0.0016248485771939158, 0.674312174320221, 0.19335699081420898, 0.004874545615166426, 0.032496970146894455, 0.990156352519989, 0.9903586506843567, 0.9822336435317993, 0.006966196000576019, 0.9952442049980164, 0.0566973015666008, 0.9355054497718811, 0.0741504654288292, 0.003026549704372883, 0.22699123620986938, 0.6930798888206482, 0.052410196512937546, 0.29699110984802246, 0.13223032653331757, 0.017470065504312515, 0.03885583579540253, 0.022590601816773415, 0.06897664070129395, 0.11144696921110153, 0.06265126913785934, 0.022590601816773415, 0.057229526340961456, 0.025602683424949646, 0.055723484605550766, 0.03524133935570717, 0.21032997965812683, 0.014871817082166672, 0.12481703609228134, 0.044615451246500015, 0.1917402148246765, 0.1301283985376358, 0.039304088801145554, 0.012747270986437798, 0.009560453705489635, 0.10994521528482437, 0.028150225058197975, 0.008498180657625198, 0.06426749378442764, 0.011153862811625004, 0.34131380915641785, 0.03216026723384857, 0.005187139846384525, 0.0020748558454215527, 0.0010374279227107763, 0.049796540290117264, 0.013486563228070736, 0.04357197508215904, 0.30604124069213867, 0.047721683979034424, 0.15665161609649658, 0.9922817349433899, 0.00556949432939291, 0.20421478152275085, 0.7593076825141907, 0.0018564980709925294, 0.02599097229540348, 0.0018564980709925294, 0.03288157284259796, 0.04071051999926567, 0.0125263137742877, 0.004697367548942566, 0.16127628087997437, 0.003131578443571925, 0.610657811164856, 0.13152629137039185, 0.0015657892217859626, 0.0015657892217859626, 0.9930455088615417, 0.9930360317230225, 0.9917700290679932, 0.9852519035339355, 0.9975014925003052, 0.0010748938657343388, 0.0006994341965764761, 0.0006994341965764761, 0.006994341965764761, 0.5959179401397705, 0.0034971709828823805, 0.015387552790343761, 0.0034971709828823805, 0.0013988683931529522, 0.31544482707977295, 0.04126661643385887, 0.009092644788324833, 0.004896039608865976, 0.008691233582794666, 0.30998730659484863, 0.05504447594285011, 0.6228716969490051, 0.04605861380696297, 0.00657980190590024, 0.00328990095295012, 0.6875893473625183, 0.07566772401332855, 0.18423445522785187, 0.9953982830047607, 0.9940050840377808, 0.980650782585144, 0.9792672395706177, 0.011655958369374275, 0.1670687347650528, 0.015541277825832367, 0.034967876970767975, 0.7692932486534119, 0.01887739822268486, 0.9721859693527222, 0.4294552505016327, 0.11423510313034058, 0.006012373603880405, 0.018896032124757767, 0.002576731611043215, 0.11165837198495865, 0.2971830368041992, 0.014601479284465313, 0.0034356419928371906, 0.0017178209964185953, 0.6098301410675049, 0.003064473159611225, 0.38159987330436707, 0.0011674183188006282, 0.0008755637682043016, 0.00014592728985007852, 0.0008755637682043016, 0.0010214910143986344, 0.0011674183188006282, 0.9794037342071533, 0.0021381767001003027, 0.039556268602609634, 0.0010690883500501513, 0.07804344594478607, 0.0064145298674702644, 0.0064145298674702644, 0.03207264840602875, 0.0010690883500501513, 0.08552706986665726, 0.06521438807249069, 0.6820783615112305, 0.9924893975257874, 0.9937470555305481, 0.9822441935539246, 0.9916746020317078, 0.9918299913406372, 0.9926082491874695, 0.9910116791725159, 0.006834563333541155, 0.9887873530387878, 0.00810481421649456, 0.1946597397327423, 0.7976301312446594, 0.15636594593524933, 0.1338883489370346, 0.11853097379207611, 0.11783291399478912, 0.030714740976691246, 0.12788501381874084, 0.05598459392786026, 0.04984164610505104, 0.009772871620953083, 0.02345489338040352, 0.07259847968816757, 0.06478018313646317, 0.014798920601606369, 0.023734118789434433, 0.9699028730392456, 0.002795109059661627, 0.022360872477293015, 0.1663394570350647, 0.18590879440307617, 0.1086098775267601, 0.1301361620426178, 0.02781642973423004, 0.013978105038404465, 0.04990183562040329, 0.06066497787833214, 0.08582556992769241, 0.024601465091109276, 0.05115986615419388, 0.04822446405887604, 0.031031394377350807, 0.015655478462576866, 0.9969971776008606, 0.2841728925704956, 0.1014903262257576, 0.005535835865885019, 0.0036905573215335608, 0.2509579062461853, 0.016607508063316345, 0.33584070205688477, 0.4508918523788452, 0.0007452758145518601, 0.21463942527770996, 0.004471655003726482, 0.0007452758145518601, 0.3271760642528534, 0.2069607824087143, 0.053557321429252625, 0.17941702902317047, 0.08683937042951584, 0.035959914326667786, 0.007651045918464661, 0.029456526041030884, 0.0057382844388484955, 0.03940288722515106, 0.11094016581773758, 0.07191982865333557, 0.05393987149000168, 0.033282049000263214, 0.08492660522460938, 0.9738873243331909, 0.019794456660747528, 0.9943636059761047, 0.18248412013053894, 0.313480406999588, 0.0451832078397274, 0.1253921538591385, 0.05639144405722618, 0.06094479188323021, 0.07145251333713531, 0.01891390047967434, 0.020665187388658524, 0.010157465003430843, 0.017162613570690155, 0.03677703067660332, 0.04133037477731705, 0.991480827331543, 0.4985603392124176, 0.06678534299135208, 0.060883380472660065, 0.11493291705846786, 0.05498142167925835, 0.05839834362268448, 0.0273353960365057, 0.014288957230746746, 0.017705881968140602, 0.005901960656046867, 0.007455107755959034, 0.0034169245045632124, 0.01087203249335289, 0.05839834362268448, 0.013058881275355816, 0.14234180748462677, 0.2154715359210968, 0.008488272316753864, 0.013711825013160706, 0.10251221805810928, 0.08357683569192886, 0.01567065715789795, 0.2376716285943985, 0.116876982152462, 0.013711825013160706, 0.009141216985881329, 0.018282433971762657, 0.009794160723686218, 0.18487153947353363, 0.014514707028865814, 0.03590480238199234, 0.07085468620061874, 0.007830302231013775, 0.003246710868552327, 0.011840945109724998, 0.021390095353126526, 0.3590480387210846, 0.21943946182727814, 0.012222911231219769, 0.013559792190790176, 0.02902941405773163, 0.016233554109930992, 0.006867041811347008, 0.0022890139371156693, 0.10071661323308945, 0.02746816724538803, 0.0022890139371156693, 0.7187504172325134, 0.0022890139371156693, 0.13734084367752075, 0.0022890139371156693, 0.11061452329158783, 0.011767502874135971, 0.004707001149654388, 0.7013431787490845, 0.001176750287413597, 0.03412575647234917, 0.021181505173444748, 0.07060501724481583, 0.002353500574827194, 0.004707001149654388, 0.007060501724481583, 0.030595507472753525, 0.10136836022138596, 0.07083572447299957, 0.042745694518089294, 0.06961441785097122, 0.33463773131370544, 0.04030308499932289, 0.02931133471429348, 0.035417862236499786, 0.05740136280655861, 0.16854016482830048, 0.04885222390294075, 0.07703306525945663, 0.08391101658344269, 0.0055023618042469025, 0.0013755904510617256, 0.00962913315743208, 0.006877952255308628, 0.8129739165306091, 0.0013755904510617256, 0.9947319030761719, 0.9945337772369385, 0.006399630103260279, 0.9663441181182861, 0.012799260206520557, 0.009599445387721062, 0.581317663192749, 0.0004718487325590104, 0.012268067337572575, 0.0018873949302360415, 0.3501117527484894, 0.0028310923371464014, 0.0004718487325590104, 0.016986554488539696, 0.02878277376294136, 0.004718487616628408, 0.9803808331489563, 0.040553364902734756, 0.350973904132843, 0.1631092131137848, 0.0815138965845108, 0.027524171397089958, 0.012133436277508736, 0.04625363647937775, 0.07695367187261581, 0.08411972969770432, 0.02736130729317665, 0.028257064521312714, 0.027605604380369186, 0.014657842926681042, 0.018973764032125473, 0.9878239631652832, 0.9904569387435913, 0.07053092867136002, 0.14796952903270721, 0.019995881244540215, 0.0894361212849617, 0.030175603926181793, 0.009452598169445992, 0.04108244925737381, 0.0178145132958889, 0.030539164319634438, 0.00290849176235497, 0.014906020835042, 0.5148030519485474, 0.007998352870345116, 0.0021813688799738884, 0.98518306016922, 0.007698260713368654, 0.038491301238536835, 0.0019245651783421636, 0.06351064890623093, 0.01154739037156105, 0.015396521426737309, 0.013471956364810467, 0.01154739037156105, 0.0019245651783421636, 0.831412136554718, 0.005773695185780525, 0.9868031740188599, 0.9634355902671814, 0.03179655596613884, 0.003179655410349369, 0.993429958820343, 0.9876962304115295, 0.5894874334335327, 0.1291823834180832, 0.008909130468964577, 0.13289451599121094, 0.0007424274808727205, 0.13660666346549988, 0.002227282617241144, 0.30071744322776794, 0.07597682625055313, 0.15804339945316315, 0.008119660429656506, 0.05915752798318863, 0.04001832753419876, 0.049007952213287354, 0.011889503337442875, 0.05132785439491272, 0.09946584701538086, 0.0643773078918457, 0.03102870285511017, 0.04523811116814613, 0.005799757782369852, 0.0008765977108851075, 0.03243411332368851, 0.21651962399482727, 0.02454473450779915, 0.029804321005940437, 0.09204275906085968, 0.012272367253899574, 0.1893451064825058, 0.035063907504081726, 0.31469857692718506, 0.029804321005940437, 0.021038344129920006, 0.036492131650447845, 0.0007655691588297486, 0.42310455441474915, 0.0016587332356721163, 0.0556313581764698, 0.0031898715533316135, 0.00995239894837141, 0.01007999386638403, 0.051165539771318436, 0.21193507313728333, 0.11317664384841919, 0.0224566962569952, 0.059204015880823135, 0.0014035435160622, 0.995307981967926, 0.00362342968583107, 0.9891963005065918, 0.00362342968583107, 0.13489706814289093, 0.852246880531311, 0.0012607201933860779, 0.0050428807735443115, 0.0012607201933860779, 0.0037821608129888773, 0.020472265779972076, 0.9724326133728027, 0.005118066444993019, 0.9890961647033691, 0.7143231630325317, 0.002171195112168789, 0.03908151015639305, 0.24317385256290436, 0.9949086308479309, 0.998134434223175, 0.0011674087727442384, 0.926322877407074, 0.07047101110219955, 0.0018545002676546574, 0.0009272501338273287, 0.26359182596206665, 0.732199490070343, 0.005502782296389341, 0.3452995717525482, 0.033016692847013474, 0.010546999052166939, 0.0009171303827315569, 0.007337043061852455, 0.31778568029403687, 0.18617746233940125, 0.022469693794846535, 0.0036685215309262276, 0.00045856519136577845, 0.010546999052166939, 0.037143778055906296, 0.018801171332597733, 0.986763060092926, 0.9877066612243652, 0.9853406548500061, 0.13792701065540314, 0.28510886430740356, 0.014628622680902481, 0.16599008440971375, 0.0017912598559632897, 0.021793661639094353, 0.02059948816895485, 0.008956299163401127, 0.09433969110250473, 0.0026868898421525955, 0.0011941732373088598, 0.22271332144737244, 0.005970866419374943, 0.01641988195478916, 0.9945751428604126, 0.31069883704185486, 0.0019916591700166464, 0.0006638864288106561, 0.15269388258457184, 0.32995155453681946, 0.0013277728576213121, 0.08696912229061127, 0.014605501666665077, 0.09692741930484772, 0.0019916591700166464, 0.0019916591700166464, 0.996757984161377, 0.028147492557764053, 0.966397225856781, 0.0011062772246077657, 0.0005531386123038828, 0.027103792876005173, 0.0005531386123038828, 0.0022125544492155313, 0.8905531764030457, 0.07688626646995544, 0.0005531386123038828, 0.9890019297599792, 0.008329029195010662, 0.9828254580497742, 0.0027763431426137686, 0.0027763431426137686, 0.11773322522640228, 0.0015573177952319384, 0.8770813941955566, 0.0006229271530173719, 0.0028031719848513603, 0.9953776597976685, 0.32847535610198975, 0.5380988121032715, 0.041141051799058914, 0.011754585430026054, 0.001959097571671009, 0.009142455644905567, 0.007836390286684036, 0.03591679036617279, 0.0013060651253908873, 0.007836390286684036, 0.0013060651253908873, 0.015672780573368073, 0.009504355490207672, 0.9837008118629456, 0.10479674488306046, 0.0007593967020511627, 0.0068345703184604645, 0.023541297763586044, 0.025819487869739532, 0.18605218827724457, 0.043285612016916275, 0.059232939034700394, 0.04708259552717209, 0.003037586808204651, 0.25211969017982483, 0.04784199222922325, 0.025819487869739532, 0.17390184104442596, 0.9642063975334167, 0.011277267709374428, 0.016915902495384216, 0.9876687526702881, 0.05170045420527458, 0.9112204909324646, 0.0323127843439579, 0.27809029817581177, 0.003707870841026306, 0.003707870841026306, 0.7119112014770508, 0.9954083561897278, 0.984842836856842, 0.9948199987411499, 0.023869918659329414, 0.005967479664832354, 0.9607642292976379, 0.9145192503929138, 0.07361961901187897, 0.011451940052211285, 0.9907111525535583, 0.21218013763427734, 0.11000723391771317, 0.06267474591732025, 0.06234831362962723, 0.043741751462221146, 0.12567591667175293, 0.0417831651866436, 0.10217289626598358, 0.04080387204885483, 0.04570033773779869, 0.03329595923423767, 0.02611447684466839, 0.08128131181001663, 0.01240437664091587, 0.9869941473007202, 0.002694864524528384, 0.002694864524528384, 0.006063445005565882, 0.000673716131132096, 0.989224374294281, 0.001325336517766118, 0.014578701928257942, 0.9794237017631531, 0.001325336517766118, 0.9923056960105896, 0.9875562191009521, 0.9900076389312744, 0.993165910243988, 0.0027384632267057896, 0.005476926453411579, 0.9885852336883545, 0.9936388731002808, 0.15736335515975952, 0.06294533610343933, 0.11829382926225662, 0.0444958433508873, 0.06294533610343933, 0.37007519602775574, 0.013023173436522484, 0.05860428139567375, 0.00868211593478918, 0.06620113551616669, 0.00434105796739459, 0.033643197268247604, 0.9115041494369507, 0.0864519402384758, 0.8106375336647034, 0.18745216727256775, 0.9752649068832397, 0.0032081082463264465, 0.0032081082463264465, 0.00962432473897934, 0.4404832422733307, 0.0023429959546774626, 0.5552900433540344, 0.9932928681373596, 0.9808896780014038, 0.17782023549079895, 0.02114618942141533, 0.19704404473304749, 0.013777063228189945, 0.08939070999622345, 0.043253570795059204, 0.04998190328478813, 0.038768015801906586, 0.024990951642394066, 0.17141230404376984, 0.06247738003730774, 0.021466586738824844, 0.07273007929325104, 0.015379047021269798, 0.9964802265167236, 0.050772227346897125, 0.04981425777077675, 0.1058553010225296, 0.00047898327466100454, 0.06083087623119354, 0.004310849588364363, 0.1537536233663559, 0.2586509585380554, 0.08478003740310669, 0.0541251078248024, 0.0775952860713005, 0.04406645894050598, 0.028738996013998985, 0.02634407952427864, 0.9803435802459717, 0.012409412302076817, 0.9907739758491516, 0.012541783042252064, 0.18561838567256927, 0.004389624111354351, 0.12855328619480133, 0.02132103219628334, 0.011914693750441074, 0.04264206439256668, 0.196278914809227, 0.037625350058078766, 0.001254178350791335, 0.001254178350791335, 0.2132103145122528, 0.10723225027322769, 0.03637117147445679, 0.9911942481994629, 0.9823293685913086, 0.014812902547419071, 0.0015592529671266675, 0.9895150065422058, 0.6659985780715942, 0.0018906985642388463, 0.025997105985879898, 0.006617445033043623, 0.19001521170139313, 0.012762215919792652, 0.008035468868911266, 0.00519942119717598, 0.026942454278469086, 0.014652914367616177, 0.03403257578611374, 0.007562794256955385, 0.7835947871208191, 0.17391982674598694, 0.013378447853028774, 0.02675689570605755, 0.98493492603302, 0.05445830151438713, 0.9413506388664246, 0.9891122579574585, 0.9240588545799255, 0.07187124341726303, 0.14546933770179749, 0.0027974871918559074, 0.8504360914230347, 0.9925273060798645, 0.9916095733642578, 0.9834467768669128, 0.2600064277648926, 0.11387400329113007, 0.1151079311966896, 0.10823318362236023, 0.07685613632202148, 0.04442143812775612, 0.06081506609916687, 0.04195358231663704, 0.01850893348455429, 0.04530281573534012, 0.04530281573534012, 0.00017627554188948125, 0.03948572278022766, 0.029966844245791435, 0.009197214618325233, 0.3240249454975128, 0.024054253473877907, 0.00353739014826715, 0.2171957641839981, 0.0077822585590183735, 0.1117815300822258, 0.2193181961774826, 0.00353739014826715, 0.012027126736938953, 0.023346776142716408, 0.0063673024997115135, 0.03961877152323723, 0.00258619524538517, 0.9517198801040649, 0.01810336671769619, 0.02327575720846653, 0.9960610866546631, 0.0017660657176747918, 0.14876845479011536, 0.056717973202466965, 0.06462129950523376, 0.10134851187467575, 0.04044642299413681, 0.07438422739505768, 0.3886575996875763, 0.01859605684876442, 0.00790332444012165, 0.0009298028307966888, 0.04091132432222366, 0.011622535064816475, 0.022780168801546097, 0.022315267473459244, 0.9845859408378601, 0.08362339437007904, 0.0033449355978518724, 0.8864079713821411, 0.02675948478281498, 0.9940528273582458, 0.11132706701755524, 0.003958999644964933, 0.00015835998055990785, 0.8608448505401611, 0.0009501599124632776, 0.0077596390619874, 0.0004750799562316388, 0.0003167199611198157, 0.0003167199611198157, 0.00015835998055990785, 0.0003167199611198157, 0.00015835998055990785, 0.0009501599124632776, 0.012352079153060913, 0.11888036876916885, 0.0021078079007565975, 0.0008431231835857034, 0.8397507071495056, 0.0029509312007576227, 0.001264684833586216, 0.0021078079007565975, 0.0021078079007565975, 0.001264684833586216, 0.001264684833586216, 0.0004215615917928517, 0.0033724927343428135, 0.023607449606060982, 0.5217990279197693, 0.06434740871191025, 0.057093702256679535, 0.09734008461236954, 0.050307974219322205, 0.14062833786010742, 0.014273425564169884, 0.01988920010626316, 0.002807887038215995, 0.0023399058263748884, 0.00842366088181734, 0.012635491788387299, 0.007955679669976234, 0.07686355710029602, 0.041430000215768814, 0.0070867110043764114, 0.03706894814968109, 0.03216276317834854, 0.0021805264987051487, 0.0016353947576135397, 0.14773066341876984, 0.14064395427703857, 0.03543355315923691, 0.0005451316246762872, 0.45791053771972656, 0.01362829003483057, 0.005451316013932228, 0.040877070277929306, 0.01572195068001747, 0.9433169960975647, 0.9946777820587158, 0.9847069382667542, 0.0018726557027548552, 0.014981245622038841, 0.9831442832946777, 0.990489661693573, 0.9908321499824524, 0.0071074338629841805, 0.987933337688446, 0.9915057420730591, 0.6605086326599121, 0.17596562206745148, 0.020401811227202415, 0.1402624547481537, 0.09729860723018646, 0.896537184715271, 0.9735361933708191, 0.008692286908626556, 0.9948587417602539, 0.7987552881240845, 0.010920482687652111, 0.048362135887145996, 0.1154450997710228, 0.023401034995913506, 0.09424063563346863, 0.08414342254400253, 0.06955856084823608, 0.07292430102825165, 0.3219888210296631, 0.03814501687884331, 0.004487649071961641, 0.0011219122679904103, 0.033657368272542953, 0.019072508439421654, 0.24569879472255707, 0.015706771984696388, 0.9893563389778137, 0.21518680453300476, 0.09182238578796387, 0.006308407988399267, 0.07920557260513306, 0.0049065398052334785, 0.18644851446151733, 0.23481297492980957, 0.009112144820392132, 0.0028037370648235083, 0.16401861608028412, 0.0049065398052334785, 0.9904778599739075, 0.8716170191764832, 0.1255415380001068, 0.04357457906007767, 0.9524158239364624, 0.9943985342979431, 0.9933293461799622, 0.9798991680145264, 0.007825403474271297, 0.0003009770589414984, 0.0030097707640379667, 0.003912701737135649, 0.0012039082357659936, 0.9832921028137207, 0.0003009770589414984, 0.9956271052360535, 0.01806015707552433, 0.9752484560012817, 0.9899469614028931, 0.9868927597999573, 0.015299825929105282, 0.0043153357692062855, 0.25970473885536194, 0.017261343076825142, 0.20948992669582367, 0.01216140016913414, 0.018045948818325996, 0.004707638639956713, 0.06629924476146698, 0.22125902771949768, 0.14436759054660797, 0.013730613514780998, 0.012946006841957569, 0.9899689555168152, 0.01743970811367035, 0.9787164330482483, 0.003487941576167941, 0.019522150978446007, 0.9761075973510742, 0.004252821672707796, 0.9909073710441589, 0.13262757658958435, 0.004278308711946011, 0.8599401116371155, 0.99744713306427, 0.9924977421760559, 0.2831268906593323, 0.5187215209007263, 0.005166548769921064, 0.05063217878341675, 0.004133239388465881, 0.05063217878341675, 0.0005166549235582352, 0.005166548769921064, 0.0010333098471164703, 0.0005166549235582352, 0.080081507563591, 0.0005166549235582352, 0.9316921234130859, 0.041025128215551376, 0.005367773585021496, 0.008051659911870956, 0.002683886792510748, 0.000383412407245487, 0.000383412407245487, 0.010352134704589844, 0.000383412407245487, 0.9683669209480286, 0.0009771613404154778, 0.0009771613404154778, 0.0009771613404154778, 0.0009771613404154778, 0.0009771613404154778, 0.023451872169971466, 0.0029314840212464333, 0.006175984162837267, 0.01718534715473652, 0.5314031839370728, 0.10176947712898254, 0.006713026203215122, 0.0316854827105999, 0.03786147013306618, 0.005907463375478983, 0.015305699780583382, 0.14768658578395844, 0.07008399814367294, 0.0002685210492927581, 0.006713026203215122, 0.021213162690401077, 0.0004990782472305, 0.051405057311058044, 0.18964973092079163, 0.23456677794456482, 0.008983408100903034, 0.012976034544408321, 0.004990782588720322, 0.003493547672405839, 0.005988938733935356, 0.44817227125167847, 0.03393732011318207, 0.001996312988922, 0.002994469366967678, 0.005387511570006609, 0.005387511570006609, 0.021550046280026436, 0.005387511570006609, 0.9589770436286926, 0.982829749584198, 0.9848222136497498, 0.9819954037666321, 0.23140276968479156, 0.02031829208135605, 0.025962261483073235, 0.049666933715343475, 0.20882688462734222, 0.08014437556266785, 0.3781459927558899, 0.004515176173299551, 0.0011287940433248878, 0.9928625226020813, 0.0038726567290723324, 0.9875274300575256, 0.0038726567290723324, 0.9909388422966003, 0.11054236441850662, 0.003669456113129854, 0.0013760459842160344, 0.04930831491947174, 0.0002293410070706159, 0.0016053869621828198, 0.005504183936864138, 0.0043574790470302105, 0.0009173640282824636, 0.778842031955719, 0.001834728056564927, 0.013531118631362915, 0.02775026112794876, 0.004564098548144102, 0.002282049274072051, 0.004564098548144102, 0.002282049274072051, 0.9812811613082886, 0.2865745723247528, 0.013755579479038715, 0.0114629827439785, 0.003820994170382619, 0.01222718134522438, 0.0022925965022295713, 0.0007641988340765238, 0.012991380877792835, 0.6067739129066467, 0.00611359067261219, 0.0007641988340765238, 0.01604817621409893, 0.02674696035683155, 0.09903385490179062, 0.10035430639982224, 0.4951692819595337, 0.27333343029022217, 0.023768125101923943, 0.003961354028433561, 0.003961354028433561, 0.028868211433291435, 0.16567842662334442, 0.1702806055545807, 0.10668686777353287, 0.06359373778104782, 0.08095650374889374, 0.040582846850156784, 0.054389383643865585, 0.09267114102840424, 0.020918993279337883, 0.05125153437256813, 0.08555868268013, 0.020291423425078392, 0.01861790381371975, 0.31088101863861084, 0.25100764632225037, 0.02820957452058792, 0.03223951533436775, 0.036269452422857285, 0.0886586606502533, 0.005181350279599428, 0.015544051304459572, 0.013816934078931808, 0.006908467039465904, 0.004029939416795969, 0.19458849728107452, 0.01266552321612835, 0.021959573030471802, 0.006587871816009283, 0.008783829398453236, 0.23935934901237488, 0.6346316337585449, 0.08125042170286179, 0.006587871816009283, 0.0037026808131486177, 0.0037026808131486177, 0.14810723066329956, 0.0074053616262972355, 0.048134852200746536, 0.7886710166931152, 0.9904694557189941, 0.005053415894508362, 0.973153293132782, 0.024872928857803345, 0.001036372035741806, 0.9832890033721924, 0.0029858576599508524, 0.022122491151094437, 0.8068601489067078, 0.04234489053487778, 0.004071624018251896, 0.003257299307733774, 0.01750798337161541, 0.0009500455926172435, 0.012350592762231827, 0.01194343063980341, 0.0705748125910759, 0.0009500455926172435, 0.0027144160121679306, 0.0013572080060839653, 0.03001548908650875, 0.02101084217429161, 0.643832266330719, 0.006003098096698523, 0.0030015490483492613, 0.16058287024497986, 0.0015007745241746306, 0.07053639739751816, 0.02401239238679409, 0.034517813473939896, 0.00450232345610857, 0.9833300709724426, 0.0073827593587338924, 0.9892897009849548, 0.23708246648311615, 0.18268786370754242, 0.05699514225125313, 0.03944150730967522, 0.09925390034914017, 0.09470295906066895, 0.027088945731520653, 0.03424042835831642, 0.034457139670848846, 0.01885390654206276, 0.018637195229530334, 0.048326682299375534, 0.0968700721859932, 0.011269002221524715, 0.9913569688796997, 0.2328118234872818, 0.23733609914779663, 0.039775948971509933, 0.1281878799200058, 0.006220882758498192, 0.06051222234964371, 0.12027040123939514, 0.020547764375805855, 0.016777532175183296, 0.011310695670545101, 0.006409394554793835, 0.03091590292751789, 0.050521109253168106, 0.03826785460114479, 0.9933211207389832, 0.9902463555335999, 0.007559496909379959, 0.9524965882301331, 0.026458239182829857, 0.007559496909379959, 0.9818577766418457, 0.009176240302622318, 0.03923535719513893, 0.9587074518203735, 0.01942155510187149, 0.9710777997970581, 0.9902396202087402, 0.9958861470222473, 0.09003140032291412, 0.9078165888786316, 0.16715291142463684, 0.8300006985664368, 0.009981355629861355, 0.9831635355949402, 0.99567711353302, 0.13729433715343475, 0.0196134764701128, 0.8355340957641602, 0.00392269529402256, 0.9873707294464111, 0.9902485013008118, 0.02601507306098938, 0.9690614342689514, 0.9950358867645264, 0.9857810735702515, 0.993520200252533, 0.9869142770767212, 0.005289353895932436, 0.989109218120575, 0.9913091063499451, 0.9964684247970581, 0.9913126230239868, 0.9879149794578552, 0.005425744224339724, 0.9820596575737, 0.005425744224339724, 0.8532445430755615, 0.14368107914924622, 0.04054110869765282, 0.007371110841631889, 0.9471877217292786, 0.9973894357681274, 0.5711185336112976, 0.09350807219743729, 0.0007192929042503238, 0.0007192929042503238, 0.0014385858085006475, 0.00575434323400259, 0.0014385858085006475, 0.002877171617001295, 0.3229624927043915, 0.9910534024238586, 0.9150054454803467, 0.005828060209751129, 0.005828060209751129, 0.06410866230726242, 0.05395232513546944, 0.9037014245986938, 0.03372020274400711, 0.0022480133920907974, 0.0022480133920907974, 0.004496026784181595, 0.9945284128189087, 0.0017823090311139822, 0.0005941030103713274, 0.0005941030103713274, 0.0005941030103713274, 0.0011882060207426548, 0.9859073162078857, 0.9906077980995178, 0.9872897267341614, 0.9798251986503601, 0.013671979308128357, 0.9833044409751892, 0.08788315206766129, 0.1850171685218811, 0.0046254293993115425, 0.009250858798623085, 0.7030652165412903, 0.9885917901992798, 0.026369331404566765, 0.10641908645629883, 0.14785660803318024, 0.004708809312433004, 0.3126649260520935, 0.08099151402711868, 0.03955399617552757, 0.008475856855511665, 0.19588646292686462, 0.04143752157688141, 0.03390342742204666, 0.21438851952552795, 0.0005671654362231493, 0.07770166546106339, 0.0005671654362231493, 0.003402992384508252, 0.0742986723780632, 0.0011343308724462986, 0.0005671654362231493, 0.5756729245185852, 0.034597091376781464, 0.002268661744892597, 0.014179135672748089, 0.9824195504188538, 0.997426450252533, 0.991119921207428, 0.009312097914516926, 0.9824262857437134, 0.99078768491745, 0.9883699417114258, 0.0687660425901413, 0.23636168241500854, 0.053215932101011276, 0.03559247404336929, 0.047341447323560715, 0.32966235280036926, 0.04630477353930473, 0.020733481273055077, 0.014513436704874039, 0.008984507992863655, 0.02971798926591873, 0.066347137093544, 0.03386468440294266, 0.00967562384903431, 0.9864241480827332, 0.9972992539405823, 0.9955676198005676, 0.8709374070167542, 7.378949521807954e-05, 7.378949521807954e-05, 0.10544519126415253, 0.00044273698586039245, 7.378949521807954e-05, 7.378949521807954e-05, 7.378949521807954e-05, 7.378949521807954e-05, 0.022579586133360863, 0.00022136849293019623, 0.17514504492282867, 0.4340329170227051, 0.01685068942606449, 0.030637618154287338, 0.014808181673288345, 0.23386713862419128, 0.007148777600377798, 0.006127523258328438, 0.02451009303331375, 0.008680658414959908, 0.018382569774985313, 0.029105735942721367, 0.001021253876388073, 0.9821413159370422, 0.9920859336853027, 0.018693020567297935, 0.059817664325237274, 0.0018693020101636648, 0.0037386040203273296, 0.033647436648607254, 0.0037386040203273296, 0.016823718324303627, 0.0037386040203273296, 0.2822645902633667, 0.020562320947647095, 0.5271431803703308, 0.029908832162618637, 0.9955255389213562, 0.014380856417119503, 0.9850886464118958, 0.007674910593777895, 0.990063488483429, 0.14841175079345703, 0.8493266105651855, 0.9800443053245544, 0.015807166695594788, 0.1241745576262474, 0.12600065767765045, 0.015521819703280926, 0.005478289443999529, 0.5058286786079407, 0.010043530724942684, 0.060261182487010956, 0.0063913376070559025, 0.0027391447219997644, 0.001826096442528069, 0.05386984348297119, 0.07030471414327621, 0.016434866935014725, 0.9896582365036011, 0.402275025844574, 0.00126501580234617, 0.09867123514413834, 0.007590094581246376, 0.03984799608588219, 0.009487618692219257, 0.015180189162492752, 0.01454768143594265, 0.015812696889042854, 0.000632507901173085, 0.00126501580234617, 0.33269914984703064, 0.060088250786066055, 0.9781800508499146, 0.992057740688324, 0.9862279295921326, 0.9598264694213867, 0.03332730755209923, 0.03275403380393982, 0.026203226298093796, 0.013101613149046898, 0.026203226298093796, 0.8974605202674866, 0.9918829798698425, 0.9840457439422607, 0.9961251020431519, 0.9882850646972656, 0.21381409466266632, 0.7798311710357666, 0.00032793573336675763, 0.00032793573336675763, 0.00032793573336675763, 0.005246971733868122, 0.982466995716095, 0.986271321773529, 0.13202674686908722, 0.8340226411819458, 0.028981482610106468, 0.9760067462921143, 0.843192458152771, 0.0010526747209951282, 0.009474072605371475, 0.0021053494419902563, 0.0010526747209951282, 0.13684771955013275, 0.006316048558801413, 0.9068125486373901, 0.0004968835855834186, 0.05316654592752457, 0.0144096240401268, 0.021862877532839775, 0.0019875343423336744, 0.9981569647789001, 0.11950280517339706, 0.8745432496070862, 0.004619996529072523, 0.020789984613656998, 0.16323988139629364, 0.0038499971851706505, 0.027719980105757713, 0.06082995608448982, 0.050819963216781616, 0.09778992831707001, 0.09624993056058884, 0.009239993058145046, 0.298759788274765, 0.05389995872974396, 0.05620995908975601, 0.05543996021151543, 0.047578830271959305, 0.06890726834535599, 0.013125194236636162, 0.008203246630728245, 0.08039181679487228, 0.004921948071569204, 0.0590633749961853, 0.0032812985591590405, 0.5594614148139954, 0.03609428554773331, 0.039375584572553635, 0.07875116914510727, 0.966124415397644, 0.0015734925400465727, 0.011014447547495365, 0.007867462001740932, 0.011014447547495365, 0.985126793384552, 0.04258891940116882, 0.9511525630950928, 0.0014458162477239966, 0.7865240573883057, 0.0028916324954479933, 0.023133059963583946, 0.18651029467582703, 0.003537229262292385, 0.0619015097618103, 0.00707445852458477, 0.0017686146311461926, 0.6367012858390808, 0.16271254420280457, 0.06367012858390808, 0.008843072690069675, 0.04244675114750862, 0.01238030195236206, 0.03431180492043495, 0.004700247198343277, 0.24864308536052704, 0.0018800989491865039, 0.0070503707975149155, 0.0018800989491865039, 0.422552227973938, 0.002820148365572095, 0.00047002473729662597, 0.27402442693710327, 0.0014100741827860475, 0.00047002473729662597, 0.9917742013931274, 0.10664089769124985, 0.10054713487625122, 0.094453364610672, 0.6398453712463379, 0.0060937656089663506, 0.024375062435865402, 0.018281297758221626, 0.0030468828044831753, 0.9864357113838196, 0.006287797819823027, 0.9871842265129089, 0.9901089072227478, 0.003505517030134797, 0.21383655071258545, 0.03505517169833183, 0.7396641373634338, 0.007011034060269594, 0.8566704392433167, 0.0010912999277934432, 0.0010912999277934432, 0.1309559941291809, 0.0010912999277934432, 0.0032738996669650078, 0.0010912999277934432, 0.0032738996669650078, 0.0010912999277934432, 0.05623699352145195, 0.008033855818212032, 0.028118496760725975, 0.9038088321685791, 0.8750940561294556, 0.01565774716436863, 0.0017397496849298477, 0.10264522582292557, 0.0017397496849298477, 0.9905288219451904, 0.9868350625038147, 0.009119587019085884, 0.15959277749061584, 0.1094350516796112, 0.7204474210739136, 0.9798399806022644, 0.002877769060432911, 0.03237490355968475, 0.002877769060432911, 0.022302711382508278, 0.0007194422651082277, 0.017986057326197624, 0.005036096088588238, 0.0007194422651082277, 0.03381378576159477, 0.08849140256643295, 0.7928254008293152, 0.9967568516731262, 0.0018236110918223858, 0.007815475575625896, 0.0333460308611393, 0.029308034107089043, 0.0013025793014094234, 0.9140198826789856, 0.0032564483117312193, 0.0005210317322053015, 0.003907737787812948, 0.0018236110918223858, 0.00026051586610265076, 0.0006512896507047117, 0.0011723213829100132, 0.0005210317322053015, 0.023195628076791763, 0.9587526321411133, 0.007731875870376825, 0.0031842275056988, 0.12418486922979355, 0.011144796386361122, 0.635253369808197, 0.21493536233901978, 0.0015921137528494, 0.004776341374963522, 0.0031842275056988, 0.0015921137528494, 0.0015921137528494, 0.15297959744930267, 0.03716641291975975, 0.1360556185245514, 0.043139584362506866, 0.17687229812145233, 0.17388570308685303, 0.033184297382831573, 0.03417982533574104, 0.0006636859034188092, 0.022565320134162903, 0.06039541959762573, 0.06736411899328232, 0.0517675019800663, 0.009623445570468903, 0.9881370663642883, 0.9924125671386719, 0.2884426712989807, 0.0966978669166565, 0.09316014498472214, 0.051414962857961655, 0.13632041215896606, 0.04080178216099739, 0.07924508303403854, 0.026886723935604095, 0.0259433314204216, 0.022405603900551796, 0.07240547984838486, 0.029952755197882652, 0.017216937616467476, 0.01933957450091839, 0.0159644465893507, 0.1269899159669876, 0.03845980018377304, 0.057326871901750565, 0.005805253051221371, 0.010159192606806755, 0.12408728152513504, 0.028300607576966286, 0.340332955121994, 0.061680812388658524, 0.0029026265256106853, 0.11465374380350113, 0.04063677042722702, 0.03338020294904709, 0.9858857989311218, 0.14433303475379944, 0.8371315598487854, 0.014433302916586399, 0.9929220080375671, 0.013452981598675251, 0.9730990529060364, 0.004484327509999275, 0.004484327509999275, 0.004484327509999275, 0.9431474804878235, 0.004438341129571199, 0.02219170518219471, 0.02663004770874977, 0.024562792852520943, 0.4982737898826599, 0.012281396426260471, 0.02807176299393177, 0.02280830778181553, 0.03158073127269745, 0.0017544851871207356, 0.3719508647918701, 0.008772425353527069, 0.02365388162434101, 0.18240782618522644, 0.0072781178168952465, 0.00636835303157568, 0.2456364780664444, 0.4880887567996979, 0.0004548823635559529, 0.04139429330825806, 0.004548823460936546, 0.0004548823635559529, 0.001149495248682797, 0.059773754328489304, 0.23909501731395721, 0.002298990497365594, 0.0310363732278347, 0.004597980994731188, 0.0931091159582138, 0.4138182997703552, 0.0816141664981842, 0.0195414200425148, 0.0551757737994194, 0.9847861528396606, 0.9744601845741272, 0.019107062369585037, 0.033500563353300095, 0.960349440574646, 0.9945258498191833, 0.9869053363800049, 0.9917203783988953, 0.39039483666419983, 0.0005437253857962787, 0.0005437253857962787, 0.005980979185551405, 0.44204872846603394, 0.009243331849575043, 0.00869960617274046, 0.09460821747779846, 0.002174901543185115, 0.0005437253857962787, 0.0010874507715925574, 0.03697332739830017, 0.00761215528473258, 0.004085893742740154, 0.03677304461598396, 0.49643608927726746, 0.08478229492902756, 0.18386521935462952, 0.06026693433523178, 0.004085893742740154, 0.029622729867696762, 0.04596630483865738, 0.03677304461598396, 0.006128840614110231, 0.010214734822511673, 0.9823223352432251, 0.016010381281375885, 0.02345707081258297, 0.07595623284578323, 0.15079545974731445, 0.002978675765916705, 0.06627553701400757, 0.3228139877319336, 0.14446577429771423, 0.04430780187249184, 0.020850729197263718, 0.037605781108140945, 0.0513821542263031, 0.008191358298063278, 0.03462710604071617, 0.9810007214546204, 0.9793188571929932, 0.1492185741662979, 0.04826731979846954, 0.17287902534008026, 0.057416025549173355, 0.07098135352134705, 0.06372547894716263, 0.05079109966754913, 0.09243348985910416, 0.08707045763731003, 0.08707045763731003, 0.02113666944205761, 0.011357015930116177, 0.06246358901262283, 0.024922341108322144, 0.01895647495985031, 0.9667801856994629, 0.9937247633934021, 0.023764297366142273, 0.9743362069129944, 0.015515570528805256, 0.977480947971344, 0.010274630039930344, 0.0011416255729272962, 0.987506091594696, 0.0011416255729272962, 0.9899179935455322, 0.0020415110047906637, 0.1082000881433487, 0.0020415110047906637, 0.006124533247202635, 0.22660772502422333, 0.006124533247202635, 0.11024159938097, 0.5369173884391785, 0.9901882410049438, 0.9966597557067871, 0.004931371659040451, 0.004931371659040451, 0.9714801907539368, 0.009862743318080902, 0.2158786952495575, 0.11275193095207214, 0.06187606230378151, 0.004125070758163929, 0.1347523182630539, 0.06875117868185043, 0.3100678324699402, 0.0013750236248597503, 0.003437558887526393, 0.012375212274491787, 0.07356376200914383, 0.0930175930261612, 0.7432376742362976, 0.0018061668379232287, 0.00812775082886219, 0.013546251691877842, 0.07856825739145279, 0.0018061668379232287, 0.05328192189335823, 0.002709250431507826, 0.004515417385846376, 0.9806318879127502, 0.9878696203231812, 0.00619965884834528, 0.1363925039768219, 0.8493532538414001, 0.19993185997009277, 0.013919306918978691, 0.12179393321275711, 0.024991482496261597, 0.20024821162223816, 0.014868350699543953, 0.04776852950453758, 0.03195113688707352, 0.0069596534594893456, 0.13856036961078644, 0.0996495857834816, 0.03195113688707352, 0.019297221675515175, 0.04776852950453758, 0.9903769493103027, 0.003010264365002513, 0.011246271431446075, 0.9848520159721375, 0.0016066101379692554, 0.0016066101379692554, 0.0028817313723266125, 0.0230538509786129, 0.0489894337952137, 0.8241751790046692, 0.060516357421875, 0.0028817313723266125, 0.0374625064432621, 0.9878552556037903, 0.985252320766449, 0.011912351474165916, 0.01786852814257145, 0.9678785800933838, 0.9850363731384277, 0.9920521378517151, 0.97584468126297, 0.005303503945469856, 0.005303503945469856, 0.005303503945469856, 0.9846230149269104, 0.07057949900627136, 0.14115899801254272, 0.040331143885850906, 0.7410847544670105, 0.0484534315764904, 0.18112772703170776, 0.06061083823442459, 0.013919348828494549, 0.055677395313978195, 0.011805017478764057, 0.0787588506937027, 0.18007056415081024, 0.1525842547416687, 0.1753133237361908, 0.0028191087767481804, 0.03101019561290741, 0.0072239660657942295, 0.0007047771941870451, 0.9884238839149475, 0.005559252575039864, 0.90059894323349, 0.09450729191303253, 0.9915356040000916, 0.2394537776708603, 0.0005083944415673614, 0.0035587609745562077, 0.0020335777662694454, 0.5165287256240845, 0.20691654086112976, 0.009659494273364544, 0.0020335777662694454, 0.0010167888831347227, 0.01779380440711975, 0.17534463107585907, 0.004496016073971987, 0.7508347034454346, 0.06519223749637604, 0.0022480080369859934, 0.007058680988848209, 0.0023528935853391886, 0.17176124453544617, 0.8141012191772461, 0.004705787170678377, 0.12895998358726501, 0.8566627502441406, 0.012281903065741062, 0.06206784024834633, 0.002864669542759657, 0.049654271453619, 0.022917356342077255, 0.0038195594679564238, 0.01241356786340475, 0.005729339085519314, 0.034853480756282806, 0.00047744493349455297, 0.7505434155464172, 0.025304580107331276, 0.008594008162617683, 0.007161673624068499, 0.013845902867615223, 0.009260311722755432, 0.9815930724143982, 0.9930619597434998, 0.004271234385669231, 0.9913706183433533, 0.09808481484651566, 0.005449156276881695, 0.893661618232727, 0.10822028666734695, 0.0008870515739545226, 0.005100546404719353, 0.00022176289348863065, 0.0006652886513620615, 0.8830597996711731, 0.00022176289348863065, 0.00022176289348863065, 0.0006652886513620615, 0.0004435257869772613, 0.996889054775238, 0.9912548065185547, 0.00012408221664372832, 0.09194491803646088, 0.861875057220459, 0.02618134766817093, 0.0004963288665749133, 0.0012408221373334527, 0.00012408221664372832, 0.00024816443328745663, 0.012656386010348797, 0.00024816443328745663, 0.0029779730830341578, 0.0009926577331498265, 0.00024816443328745663, 0.0004963288665749133, 0.2220047414302826, 0.5534912943840027, 0.07501529902219772, 0.0010137202916666865, 0.03243904933333397, 0.06994669884443283, 0.0030411609914153814, 0.014192083850502968, 0.0050686015747487545, 0.022301847115159035, 0.9676886200904846, 0.018974287435412407, 0.9893435835838318, 0.010560237802565098, 0.98210209608078, 0.01088202465325594, 0.002176404930651188, 0.01088202465325594, 0.3395191729068756, 0.6333338022232056, 0.9950902462005615, 0.0007738709100522101, 0.0007738709100522101, 0.0015477418201044202, 0.0007738709100522101, 0.9967457056045532, 0.9963042140007019, 0.991324245929718, 0.00376929366029799, 0.9921011924743652, 0.9894903898239136, 0.9969469904899597, 0.9944167137145996, 0.9828414916992188, 0.9935591816902161, 0.9902832508087158, 0.0054350923746824265, 0.021740369498729706, 0.9348358511924744, 0.03261055424809456, 0.0054350923746824265, 0.9796854853630066, 0.9951469898223877, 0.9882641434669495, 0.9853441715240479, 0.9908431172370911, 0.9953356981277466, 0.9906978607177734, 0.9934033155441284, 0.5869870781898499, 0.00028987013502046466, 0.33943793177604675, 0.0008696104632690549, 0.0614524707198143, 0.010435325093567371, 0.0005797402700409293, 0.16307267546653748, 0.8362701535224915, 0.9754801392555237, 0.021039767190814018, 0.17242898046970367, 0.03550008311867714, 0.5426441431045532, 0.02873816154897213, 0.0016904801595956087, 0.0016904801595956087, 0.07776208966970444, 0.126786008477211, 0.01352384127676487, 0.982389509677887, 0.9840160012245178, 0.013033324852585793, 0.9924458861351013, 0.2198275774717331, 0.004677182529121637, 0.7717351317405701, 0.004677182529121637, 0.19431452453136444, 0.7633784413337708, 0.024289315566420555, 0.01734951138496399, 0.9883566498756409, 0.0038618529215455055, 0.011585558764636517, 0.9654632210731506, 0.011585558764636517, 0.007199120707809925, 0.005235724151134491, 0.005562956910580397, 0.0003272327594459057, 0.0006544655188918114, 0.005235724151134491, 0.0035995603539049625, 0.0016361637972295284, 0.9679545164108276, 0.0016361637972295284, 0.0003272327594459057, 0.0006544655188918114, 0.0003272327594459057, 0.003357744077220559, 0.738703727722168, 0.2518308162689209, 0.009402429684996605, 0.9872551560401917, 0.17875033617019653, 0.11981536448001862, 0.10997379571199417, 0.06717441976070404, 0.1153523251414299, 0.056074049323797226, 0.049780022352933884, 0.0648856833577156, 0.061338141560554504, 0.0648856833577156, 0.015105661936104298, 0.043028250336647034, 0.005378531292080879, 0.04875009134411812, 0.9936319589614868, 0.9920192360877991, 0.014466364867985249, 0.053043339401483536, 0.9258473515510559, 0.12788109481334686, 0.48325589299201965, 0.0309606846421957, 0.006057525519281626, 0.0020191750954836607, 0.021537868306040764, 0.004711408633738756, 0.016153400763869286, 0.007403641939163208, 0.0033652917481958866, 0.024903159588575363, 0.2611466348171234, 0.010768934153020382, 0.9818072319030762, 0.006914135534316301, 0.9933018684387207, 0.003159203799441457, 0.03870024532079697, 0.26853230595588684, 0.022114425897598267, 0.028432833030819893, 0.07108208537101746, 0.12715794146060944, 0.01737562008202076, 0.003159203799441457, 0.38463306427001953, 0.019745023921132088, 0.00394900469109416, 0.012636815197765827, 0.9970778226852417, 0.06552519649267197, 0.10007484257221222, 0.1560690999031067, 0.05003742128610611, 0.09054391086101532, 0.03812374919652939, 0.04408058524131775, 0.05599425733089447, 0.35145333409309387, 0.02859281376004219, 0.007148203440010548, 0.008339570835232735, 0.0023827343247830868, 0.9834555387496948, 0.010811042971909046, 0.35238155722618103, 0.06398968398571014, 0.0026297131553292274, 0.010226662270724773, 0.038861315697431564, 0.102851003408432, 0.04850359633564949, 0.28400900959968567, 0.0017531421035528183, 0.03418627008795738, 0.04149102792143822, 0.004675045609474182, 0.0035062842071056366, 0.00445058848708868, 0.985805332660675, 0.00445058848708868, 0.00445058848708868, 0.00222529424354434, 0.014795041643083096, 0.004931680858135223, 0.9296218156814575, 0.04438512772321701, 0.004931680858135223, 0.9907320737838745, 0.9955239295959473, 0.1717734932899475, 0.030831139534711838, 0.1460244059562683, 0.07589203864336014, 0.08063528686761856, 0.11417686194181442, 0.055902618914842606, 0.05895185098052025, 0.02100583165884018, 0.09079939872026443, 0.04777132719755173, 0.024393869563937187, 0.047093719244003296, 0.034219179302453995, 0.010471145622432232, 0.000747938989661634, 0.03590107336640358, 0.6694054007530212, 0.16155482828617096, 0.03964076563715935, 0.021690230816602707, 0.059087179601192474, 0.000747938989661634, 0.000747938989661634, 0.010597409680485725, 0.06358446180820465, 0.005298704840242863, 0.026493525132536888, 0.8901824355125427, 0.0006769909523427486, 0.0013539819046854973, 0.0047389366663992405, 0.0006769909523427486, 0.0047389366663992405, 0.0047389366663992405, 0.2294999361038208, 0.7528139352798462, 0.14659550786018372, 0.20297838747501373, 0.6465237736701965, 0.06863610446453094, 0.19098743796348572, 0.0022381339222192764, 0.22157526016235352, 0.4871671497821808, 0.014174848794937134, 0.0022381339222192764, 0.010444625280797482, 0.0014920893590897322, 0.0007460446795448661, 0.4681539833545685, 0.17358195781707764, 0.013794592581689358, 0.018680177628993988, 0.008334233425557613, 0.05517837032675743, 0.015806304290890694, 0.03161260858178139, 0.03506125509738922, 0.007759458385407925, 0.005172972101718187, 0.06437476724386215, 0.1002981886267662, 0.0017243240727111697, 0.03093356266617775, 0.9589404463768005, 0.9901334047317505, 0.2005085051059723, 0.002527418080717325, 0.006739781703799963, 0.0033698908518999815, 0.20893323421478271, 0.1415354162454605, 0.3268794119358063, 0.1010967269539833, 0.00589730916544795, 0.0016849454259499907, 0.05316934734582901, 0.30838221311569214, 0.048261407762765884, 0.029447637498378754, 0.08588894456624985, 0.29693034291267395, 0.02699366770684719, 0.002453969791531563, 0.01799577847123146, 0.014723818749189377, 0.02617567777633667, 0.058077286928892136, 0.031083617359399796, 0.03526606410741806, 0.9592369794845581, 0.003167930291965604, 0.25026649236679077, 0.003167930291965604, 0.034847233444452286, 0.07286239415407181, 0.6304181218147278, 0.9910573959350586, 0.0051085432060062885, 0.0012683417880907655, 0.007610050495713949, 0.006975879892706871, 0.925255298614502, 0.0006341708940453827, 0.0570753775537014, 0.9911881685256958, 0.9933579564094543, 0.10159959644079208, 0.06259064376354218, 0.1198919340968132, 0.04517986625432968, 0.11173751950263977, 0.2014360874891281, 0.05708090215921402, 0.0705246701836586, 0.029752593487501144, 0.05113038420677185, 0.04363713786005974, 0.05223233252763748, 0.03592350333929062, 0.017190387472510338, 0.9939687848091125, 0.004040523432195187, 0.9899286031723022, 0.9940240383148193, 0.9890215396881104, 0.07263030111789703, 0.9177829027175903, 0.06970285624265671, 0.003983020316809416, 0.014604407362639904, 0.001327673438936472, 0.01194906048476696, 0.09758399426937103, 0.02854497916996479, 0.2847859561443329, 0.030536489561200142, 0.009957551024854183, 0.029872652143239975, 0.058417629450559616, 0.2894327938556671, 0.06903901696205139, 0.9961746335029602, 0.020734764635562897, 0.14369674026966095, 0.09740517288446426, 0.046291567385196686, 0.01832374557852745, 0.08776109665632248, 0.040505122393369675, 0.2034900188446045, 0.033272065222263336, 0.00964407715946436, 0.06606192886829376, 0.027003414928913116, 0.06461531668901443, 0.1417679339647293, 0.9908801913261414, 0.2038663774728775, 0.2690091133117676, 0.0960264652967453, 0.06311757117509842, 0.04894143342971802, 0.094507597386837, 0.04202212765812874, 0.0008438178338110447, 0.026495879516005516, 0.012319739907979965, 0.06514273583889008, 0.02700217068195343, 0.03375271335244179, 0.016876356676220894, 0.17428602278232574, 0.18614909052848816, 0.12405732274055481, 0.06133454665541649, 0.053257569670677185, 0.1260765641927719, 0.03912285715341568, 0.024988148361444473, 0.010853438638150692, 0.036598801612854004, 0.055276814848184586, 0.04379235953092575, 0.03407474607229233, 0.03016246296465397, 0.9923248291015625, 0.9890531897544861, 0.9783005118370056, 0.011413506232202053, 0.001630500890314579, 0.001630500890314579, 0.003261001780629158, 0.001630500890314579, 0.001630500890314579, 0.8195598125457764, 0.0024104700423777103, 0.0024104700423777103, 0.10123974084854126, 0.014462820254266262, 0.0024104700423777103, 0.055440813302993774, 0.030492449179291725, 0.18521340191364288, 0.029363099485635757, 0.057596851140260696, 0.13891005516052246, 0.04178595170378685, 0.0056467498652637005, 0.34896916151046753, 0.011293499730527401, 0.14455680549144745, 0.007905449718236923, 0.022756407037377357, 0.9709399938583374, 0.9838959574699402, 0.24487346410751343, 0.002550765173509717, 0.719315767288208, 0.03060918301343918, 0.985788106918335, 0.1490703970193863, 0.21718350052833557, 0.2596082389354706, 0.1175437644124031, 0.008173572830855846, 0.02607758902013302, 0.0027245243545621634, 0.003113741986453533, 0.04203551635146141, 0.07862198352813721, 0.0015568709932267666, 0.007395137567073107, 0.05098752677440643, 0.03580803424119949, 0.9854253530502319, 0.08032108098268509, 0.011659512296319008, 0.11357228457927704, 0.18007469177246094, 0.15114182233810425, 0.04966088384389877, 0.008204841986298561, 0.011659512296319008, 0.014682348817586899, 0.09716260433197021, 0.05959306284785271, 0.02375085838139057, 0.06045673042535782, 0.13818681240081787, 0.9975391626358032, 0.0009246108238585293, 0.09708413481712341, 0.1636561155319214, 0.043456707149744034, 0.19971594214439392, 0.017567604780197144, 0.02866293489933014, 0.31714150309562683, 0.06564737111330032, 0.038833655416965485, 0.02773832343518734, 0.15035389363765717, 0.053697820752859116, 0.7768284678459167, 0.017899272963404655, 0.9936724901199341, 0.997443675994873, 0.009372491389513016, 0.9841115474700928, 0.0053070406429469585, 0.8862758278846741, 0.10614081472158432, 0.9948844313621521, 0.9899500012397766, 0.9955103993415833, 0.9876090884208679, 0.04830159991979599, 0.03220106661319733, 0.02817593328654766, 0.7889261245727539, 0.10465346276760101, 0.9786216616630554, 0.006552758160978556, 0.9894664287567139, 0.006816990207880735, 0.04090194031596184, 0.9475616216659546, 0.9883444905281067, 0.04366936907172203, 0.06378672271966934, 0.10402142256498337, 0.00392533652484417, 0.022570686414837837, 0.07458139955997467, 0.11923210322856903, 0.05642671510577202, 0.21442151069641113, 0.08733873814344406, 0.03680003061890602, 0.15995746850967407, 0.008832007646560669, 0.005888004787266254, 0.9834631085395813, 0.9947571754455566, 0.9864102005958557, 0.9947707653045654, 0.9873818755149841, 0.9865776896476746, 0.006406348664313555, 0.013925452716648579, 0.7979284524917603, 0.06962726265192032, 0.05152417719364166, 0.05152417719364166, 0.0013925452949479222, 0.011140362359583378, 0.030099544674158096, 0.9631854295730591, 0.8376254439353943, 0.160804882645607, 0.9943873882293701, 0.15054965019226074, 0.1175721064209938, 0.002867612289264798, 0.01863948069512844, 0.001433806144632399, 0.005735224578529596, 0.6996974349021912, 0.12237343937158585, 0.005029045511037111, 0.003352697007358074, 0.001676348503679037, 0.005029045511037111, 0.011734439991414547, 0.09722821414470673, 0.038556016981601715, 0.4475850462913513, 0.26821577548980713, 0.001676348503679037, 0.9874635934829712, 0.005063916090875864, 0.9898915886878967, 0.9797518849372864, 0.013482823967933655, 0.9937379956245422, 0.10935261845588684, 0.003527503926306963, 0.003527503926306963, 0.003527503926306963, 0.8748209476470947, 0.003527503926306963, 0.9867292046546936, 0.9873594641685486, 0.9952496290206909, 0.9905971884727478, 0.9890680313110352, 0.006279797293245792, 0.9890236854553223, 0.006339895538985729, 0.16875799000263214, 0.7269574999809265, 0.09952393919229507, 0.9853193759918213, 0.09596297889947891, 0.010101365856826305, 0.7879065275192261, 0.1010136604309082, 0.9906407594680786, 0.9903098344802856, 0.9789888858795166, 0.012892205268144608, 0.9862537384033203, 0.9895650744438171, 0.0006989246467128396, 0.9973654747009277, 0.0006989246467128396, 0.003855426562950015, 0.9927723407745361, 0.0019277132814750075, 0.0006611744174733758, 0.01652936078608036, 0.8859737515449524, 0.0009917616844177246, 0.0009917616844177246, 0.00595056964084506, 0.0016529361018911004, 0.0003305872087366879, 0.004297633655369282, 0.05322454124689102, 0.02776932530105114, 0.0003305872087366879, 0.0003305872087366879, 0.0009917616844177246, 0.026208575814962387, 0.1372501701116562, 0.13793987035751343, 0.0827639251947403, 0.0034484968055039644, 0.0055175949819386005, 0.3931286334991455, 0.04276135936379433, 0.04276135936379433, 0.08897121995687485, 0.0034484968055039644, 0.03379526734352112, 0.18504026532173157, 0.14088505506515503, 0.09579434990882874, 0.11113641411066055, 0.07839420437812805, 0.15510453283786774, 0.020206620916724205, 0.029187342151999474, 0.013096883893013, 0.005051655229181051, 0.04134873300790787, 0.02750345692038536, 0.017400145530700684, 0.08007809519767761, 0.9929770231246948, 0.16184724867343903, 0.8223589658737183, 0.013122749514877796, 0.19343023002147675, 0.1299346536397934, 0.08031559735536575, 0.05466506630182266, 0.14507266879081726, 0.1379241645336151, 0.04289105162024498, 0.01639951951801777, 0.009251011535525322, 0.06685958057641983, 0.048357557505369186, 0.010512513108551502, 0.04373205453157425, 0.020184025168418884, 0.0009763748967088759, 0.010251936502754688, 0.21626703441143036, 0.0024409370962530375, 0.10740123689174652, 0.6507538557052612, 0.011228310875594616, 0.0020085254218429327, 0.0682898610830307, 0.02209377847611904, 0.004017050843685865, 0.01606820337474346, 0.21089516580104828, 0.030127879232168198, 0.6166172623634338, 0.01606820337474346, 0.0020085254218429327, 0.010042626410722733, 0.09443872421979904, 0.0764504000544548, 0.19697220623493195, 0.026982493698596954, 0.1268177181482315, 0.037775490432977676, 0.056663233786821365, 0.056663233786821365, 0.027881909161806107, 0.29410916566848755, 0.003597665810957551, 0.0017988329054787755, 0.021693652495741844, 0.010846826247870922, 0.9599441289901733, 0.989016056060791, 0.04108547419309616, 0.9536809921264648, 0.002490028738975525, 0.40182891488075256, 0.0007292720838449895, 0.5941483974456787, 0.0007292720838449895, 0.0005209086230024695, 0.00010418172314530239, 0.00020836344629060477, 0.0007292720838449895, 0.0008334537851624191, 0.9739848971366882, 0.021978281438350677, 0.0011567516485229135, 0.9837291240692139, 0.9904354214668274, 0.9921634793281555, 0.9886751770973206, 0.99317467212677, 0.1802845001220703, 0.007838456891477108, 0.004703073762357235, 0.003919228445738554, 0.0031353826634585857, 0.0007838456658646464, 0.7979548573493958, 0.0007838456658646464, 0.40421634912490845, 0.1904071718454361, 0.036698587238788605, 0.01223286334425211, 0.109032042324543, 0.004786772653460503, 0.013296590186655521, 0.036698587238788605, 0.013296590186655521, 0.01542404480278492, 0.026061316952109337, 0.1372208148241043, 0.0005318635958246887, 0.1390581578016281, 0.1581072062253952, 0.19865450263023376, 0.002993423957377672, 0.07293069362640381, 0.016872026026248932, 0.18259885907173157, 0.025308039039373398, 0.05306524410843849, 0.07238643616437912, 0.026940815150737762, 0.015239248983561993, 0.03292766213417053, 0.002993423957377672, 0.24325278401374817, 0.1578596979379654, 0.003525402629747987, 0.15433429181575775, 0.06737436354160309, 0.08539308607578278, 0.021152416244149208, 0.020760703831911087, 0.15276744961738586, 0.04543852433562279, 0.028986643999814987, 0.017627013847231865, 0.0011751342099159956, 0.9925511479377747, 0.9926550388336182, 0.08344309031963348, 0.11305192857980728, 0.12112706899642944, 0.11708950251340866, 0.08882651478052139, 0.00942099466919899, 0.0053834253922104836, 0.16554032266139984, 0.0013458563480526209, 0.2933966815471649, 0.0573868453502655, 0.6629170179367065, 0.010883712209761143, 0.006925998721271753, 0.26021966338157654, 0.9918654561042786, 0.9913726449012756, 0.9895525574684143, 0.08720956742763519, 0.8546537756919861, 0.04263579100370407, 0.005813971161842346, 0.005813971161842346, 0.0019379904260858893, 0.008262564428150654, 0.9915077686309814, 0.9919806718826294, 0.14089839160442352, 0.010064170695841312, 0.04169442132115364, 0.127958744764328, 0.01437738724052906, 0.4011290967464447, 0.01581512577831745, 0.023003818467259407, 0.00718869362026453, 0.020128341391682625, 0.010064170695841312, 0.08770205825567245, 0.09920396655797958, 0.9949886798858643, 0.9954058527946472, 0.0008407143759541214, 0.0033628575038164854, 0.9970612525939941], \"Term\": [\"abdomin\", \"abdomin\", \"abdomin\", \"abdomin\", \"abdomin\", \"abdomin\", \"abdomin\", \"abilifi\", \"abilifi\", \"abreva\", \"abus\", \"abus\", \"abus\", \"abus\", \"abus\", \"accid\", \"accid\", \"accid\", \"accid\", \"accid\", \"accid\", \"accid\", \"accomplish\", \"accutan\", \"accutan\", \"achi\", \"achiev\", \"achiev\", \"acid\", \"actual\", \"actual\", \"actual\", \"actual\", \"actual\", \"actual\", \"actual\", \"actual\", \"actual\", \"actual\", \"actual\", \"actual\", \"actual\", \"actual\", \"aczon\", \"adderal\", \"addict\", \"addict\", \"addict\", \"addict\", \"addict\", \"addict\", \"addict\", \"adhd\", \"adhd\", \"adhd\", \"adhd\", \"adipex\", \"adipex\", \"administ\", \"administ\", \"afterward\", \"aless\", \"allegra\", \"allergi\", \"allergi\", \"allergi\", \"allergi\", \"allergi\", \"alprazolam\", \"amaz\", \"amaz\", \"amaz\", \"amaz\", \"amaz\", \"amaz\", \"amaz\", \"amaz\", \"amaz\", \"amaz\", \"amaz\", \"amaz\", \"amaz\", \"amaz\", \"ambien\", \"ankl\", \"ankl\", \"antibiot\", \"antibiot\", \"antibiot\", \"antibiot\", \"antibiot\", \"antibiot\", \"anticip\", \"antidepress\", \"antidepress\", \"antidepress\", \"antidepress\", \"antidepress\", \"anxieti\", \"anxieti\", \"anxieti\", \"anxieti\", \"anxieti\", \"anxieti\", \"anxieti\", \"anxieti\", \"anxieti\", \"anxieti\", \"anxieti\", \"anxieti\", \"anxieti\", \"anxious\", \"anxious\", \"anxious\", \"anxious\", \"anxious\", \"anxious\", \"anxious\", \"anxious\", \"anxious\", \"anxious\", \"anxious\", \"anybodi\", \"appetit\", \"appetit\", \"appetit\", \"appetit\", \"appetit\", \"appetit\", \"appetit\", \"appetit\", \"appetit\", \"appetit\", \"appetit\", \"appli\", \"appli\", \"appli\", \"apri\", \"apri\", \"area\", \"area\", \"area\", \"area\", \"area\", \"area\", \"area\", \"area\", \"area\", \"area\", \"armpit\", \"asleep\", \"asthma\", \"asthma\", \"athlet\", \"ativan\", \"ativan\", \"ativan\", \"attack\", \"attack\", \"attack\", \"attack\", \"attack\", \"attack\", \"attack\", \"attack\", \"attack\", \"attempt\", \"attempt\", \"attempt\", \"attempt\", \"attempt\", \"aubra\", \"avian\", \"awak\", \"awak\", \"awak\", \"awaken\", \"away\", \"away\", \"away\", \"away\", \"away\", \"away\", \"away\", \"away\", \"away\", \"away\", \"away\", \"away\", \"away\", \"away\", \"bacteria\", \"bathroom\", \"bathroom\", \"bathroom\", \"bathroom\", \"bedtim\", \"bedtim\", \"bedtim\", \"bedtim\", \"beer\", \"beer\", \"begin\", \"begin\", \"begin\", \"begin\", \"begin\", \"begin\", \"begin\", \"begin\", \"begin\", \"begin\", \"begin\", \"begin\", \"begin\", \"begin\", \"belsomra\", \"belviq\", \"benadryl\", \"benicar\", \"best\", \"best\", \"best\", \"best\", \"best\", \"best\", \"best\", \"best\", \"best\", \"best\", \"best\", \"best\", \"best\", \"best\", \"better\", \"better\", \"better\", \"better\", \"better\", \"better\", \"better\", \"better\", \"better\", \"better\", \"better\", \"better\", \"better\", \"better\", \"beyaz\", \"bigger\", \"bike\", \"bing\", \"bipolar\", \"bipolar\", \"bipolar\", \"bipolar\", \"bipolar\", \"birth_control\", \"birth_control\", \"birth_control\", \"birth_control\", \"birth_control\", \"birth_control\", \"blackhead\", \"bladder\", \"bladder\", \"bladder\", \"bladder\", \"bleed\", \"bleed\", \"bleed\", \"blind\", \"blister\", \"blister\", \"bloat\", \"bloat\", \"bloat\", \"bloat\", \"bloat\", \"bloat\", \"bloat\", \"bloat\", \"blood\", \"blood\", \"blood\", \"blood\", \"blood\", \"blood\", \"blood\", \"blood\", \"blood\", \"blood\", \"blood\", \"blood\", \"blood\", \"blood_clot\", \"blood_clot\", \"blood_clot\", \"blood_pressur\", \"blood_pressur\", \"blood_pressur\", \"blood_sugar\", \"blood_sugar\", \"blood_sugar\", \"blood_sugar\", \"blood_sugar\", \"bodi\", \"bodi\", \"bodi\", \"bodi\", \"bodi\", \"bodi\", \"bodi\", \"bodi\", \"bodi\", \"bodi\", \"bodi\", \"bodi\", \"bodi\", \"bodi\", \"bone\", \"bone\", \"boob\", \"boob\", \"book\", \"book\", \"boost\", \"boost\", \"boost\", \"bothersom\", \"botox\", \"botox\", \"botox\", \"bottl\", \"bottl\", \"bottl\", \"bottl\", \"bottl\", \"bowel\", \"bowel_mov\", \"bowel_mov\", \"bowel_mov\", \"boyfriend\", \"boyfriend\", \"boyfriend\", \"boyfriend\", \"brain_zap\", \"brand\", \"brand\", \"brand\", \"brand\", \"brand\", \"brand\", \"brand\", \"brand\", \"bread\", \"break\", \"break\", \"break\", \"break\", \"break\", \"break\", \"break\", \"break\", \"break\", \"break\", \"break\", \"break\", \"break\", \"break\", \"break_out\", \"breakout\", \"breakout\", \"breakout\", \"breakthrough\", \"breakthrough\", \"breast\", \"breast\", \"breast\", \"breast\", \"breastfe\", \"breath\", \"breath\", \"breath\", \"breath\", \"breath\", \"breath\", \"breath\", \"breath\", \"breath\", \"breez\", \"brilliant\", \"brintellix\", \"brother\", \"brown_discharg\", \"bump\", \"bump\", \"bump\", \"bump\", \"bump\", \"bump\", \"bump\", \"bump\", \"bupropion\", \"burn\", \"burn\", \"burn\", \"burn\", \"burn\", \"burn\", \"buspar\", \"buspar\", \"bydureon\", \"bystol\", \"bystol\", \"calcium\", \"calm\", \"calm\", \"calm\", \"calm\", \"calm\", \"calm\", \"calm\", \"calm\", \"calm\", \"calori\", \"campral\", \"cancer\", \"cancer\", \"cancer\", \"cancer\", \"candi\", \"carb\", \"card\", \"cardiologist\", \"caus\", \"caus\", \"caus\", \"caus\", \"caus\", \"caus\", \"caus\", \"caus\", \"caus\", \"caus\", \"caus\", \"caus\", \"caus\", \"caus\", \"caution\", \"celebrex\", \"celexa\", \"cervix\", \"champix\", \"chang\", \"chang\", \"chang\", \"chang\", \"chang\", \"chang\", \"chang\", \"chang\", \"chang\", \"chang\", \"chang\", \"chang\", \"chang\", \"chang\", \"chantix\", \"chantix\", \"cheat\", \"cheek\", \"cheek\", \"cheek\", \"cheek\", \"chemo\", \"chest\", \"chest\", \"chest\", \"chest\", \"chest\", \"chest\", \"chest\", \"chest\", \"chest\", \"chest\", \"child\", \"child\", \"child\", \"child\", \"child\", \"child\", \"child\", \"child\", \"child\", \"child\", \"children\", \"children\", \"children\", \"children\", \"children\", \"children\", \"children\", \"children\", \"chill\", \"chill\", \"chill\", \"chin\", \"chin\", \"cholesterol\", \"chronic\", \"chronic\", \"chronic\", \"chronic\", \"chronic\", \"chronic\", \"chronic\", \"chronic\", \"chronic\", \"chronic\", \"chug\", \"ciali\", \"cigarett\", \"cigarett\", \"citalopram\", \"citalopram\", \"clean\", \"clean\", \"clean\", \"clean\", \"clean\", \"clean\", \"clean\", \"clean\", \"clean\", \"clean\", \"clear\", \"clear\", \"clear\", \"clear\", \"clear\", \"clear\", \"clear\", \"clear\", \"clear\", \"clear\", \"clear\", \"clear\", \"clear\", \"clear\", \"clindamycin\", \"clonazepam\", \"clonazepam\", \"clonidin\", \"clot\", \"clot\", \"cloud\", \"cluster\", \"codein\", \"cognit\", \"cold_sor\", \"colon\", \"colon\", \"colonoscopi\", \"come\", \"come\", \"come\", \"come\", \"come\", \"come\", \"come\", \"come\", \"come\", \"come\", \"come\", \"come\", \"come\", \"come\", \"comparison\", \"complet\", \"complet\", \"complet\", \"complet\", \"complet\", \"complet\", \"complet\", \"complet\", \"complet\", \"complet\", \"complet\", \"complet\", \"complet\", \"complet\", \"concentr\", \"concentr\", \"concentr\", \"concerta\", \"condom\", \"condom\", \"condom\", \"confirm\", \"congest\", \"congest\", \"congest\", \"conscious\", \"constip\", \"constip\", \"constip\", \"constip\", \"constip\", \"constip\", \"constip\", \"constip\", \"constip\", \"constip\", \"constip\", \"contact\", \"contracept\", \"contrav\", \"contrav\", \"control\", \"control\", \"control\", \"control\", \"control\", \"control\", \"control\", \"control\", \"control\", \"control\", \"control\", \"control\", \"control\", \"control\", \"convers\", \"copay\", \"copay\", \"copay\", \"cope\", \"cope\", \"copper\", \"cost\", \"cost\", \"cost\", \"cost\", \"cost\", \"cost\", \"cost\", \"cost\", \"cost\", \"cost\", \"cost\", \"cost\", \"cost\", \"cost\", \"cough\", \"cough\", \"cough\", \"couldn\", \"couldn\", \"couldn\", \"couldn\", \"couldn\", \"couldn\", \"couldn\", \"couldn\", \"couldn\", \"couldn\", \"couldn\", \"couldn\", \"couldn\", \"count\", \"count\", \"count\", \"count\", \"count\", \"count\", \"count\", \"coupon\", \"coupon\", \"coupon\", \"coupon\", \"cramp\", \"cramp\", \"cramp\", \"cramp\", \"cramp\", \"cramp\", \"cramp\", \"cramp\", \"cramp\", \"crampi\", \"crap\", \"crave\", \"crave\", \"crave\", \"crave\", \"crave\", \"crave\", \"crave\", \"crave\", \"cream\", \"cream\", \"creep\", \"crestor\", \"crush\", \"curb\", \"curb\", \"cycl\", \"cycl\", \"cycl\", \"cycl\", \"cycl\", \"cymbalta\", \"cymbalta\", \"cymbalta\", \"cymbalta\", \"cymbalta\", \"cymbalta\", \"cymbalta\", \"cystic\", \"cystic_acn\", \"cystic_acn\", \"cystic_acn\", \"daili\", \"daili\", \"daili\", \"daili\", \"daili\", \"daili\", \"daili\", \"daili\", \"daili\", \"daili\", \"daili\", \"daili\", \"daili\", \"daili\", \"daily_basi\", \"damag\", \"damag\", \"damag\", \"damag\", \"damag\", \"danger\", \"danger\", \"danger\", \"dehydr\", \"dehydr\", \"delay\", \"delay\", \"dentist\", \"dentist\", \"deplin\", \"depress\", \"depress\", \"depress\", \"depress\", \"depress\", \"depress\", \"depress\", \"depress\", \"depress\", \"depress\", \"depress\", \"depress\", \"depress\", \"depress\", \"dermatologist\", \"dermatologist\", \"dermatologist\", \"develop\", \"develop\", \"develop\", \"develop\", \"develop\", \"develop\", \"develop\", \"develop\", \"develop\", \"develop\", \"develop\", \"develop\", \"develop\", \"develop\", \"diabet\", \"diabet\", \"diabet\", \"diagnos\", \"diagnos\", \"diagnos\", \"diagnos\", \"diagnos\", \"diagnos\", \"diagnos\", \"diagnos\", \"diagnos\", \"diagnos\", \"diagnos\", \"diagnos\", \"diagnos\", \"diarrhea\", \"diarrhea\", \"diarrhea\", \"diarrhea\", \"diarrhea\", \"diarrhea\", \"diarrhea\", \"diarrhea\", \"diazepam\", \"diet\", \"diet\", \"diet\", \"diet\", \"diet\", \"diet\", \"diet\", \"diet\", \"diet_exercis\", \"diet_exercis\", \"differ\", \"differ\", \"differ\", \"differ\", \"differ\", \"differ\", \"differ\", \"differ\", \"differ\", \"differ\", \"differ\", \"differ\", \"differ\", \"differ\", \"differin\", \"dilaudid\", \"dilaudid\", \"disc\", \"discount\", \"discount_card\", \"discuss\", \"discuss\", \"disgust\", \"disord\", \"disord\", \"disord\", \"dizzi\", \"dizzi\", \"dizzi\", \"dizzi\", \"dizzi\", \"dizzi\", \"dizzi\", \"dizzi\", \"dizzi\", \"dizzi\", \"dizzi\", \"dizzi\", \"dizzi\", \"dizzy_spel\", \"dosag\", \"dosag\", \"dosag\", \"dosag\", \"dosag\", \"dosag\", \"dosag\", \"dosag\", \"dosag\", \"dosag\", \"dosag\", \"dosag\", \"dosag\", \"dose\", \"dose\", \"dose\", \"dose\", \"dose\", \"dose\", \"dose\", \"dose\", \"dose\", \"dose\", \"dose\", \"dose\", \"dose\", \"dose\", \"doxycyclin\", \"drink\", \"drink\", \"drink\", \"drink\", \"drink\", \"drink\", \"drink\", \"drink\", \"drive\", \"drive\", \"drive\", \"drive\", \"drive\", \"drive\", \"drive\", \"drive\", \"drive\", \"drive\", \"drive\", \"drive\", \"drive\", \"drive\", \"drop\", \"drop\", \"drop\", \"drop\", \"drop\", \"drop\", \"drop\", \"drop\", \"drop\", \"drop\", \"drop\", \"drop\", \"drop\", \"drowsi\", \"drowsi\", \"drowsi\", \"drowsi\", \"drowsi\", \"drowsi\", \"drowsi\", \"drowsi\", \"drysol\", \"duac\", \"eating_habit\", \"eating_habit\", \"effexor\", \"effexor\", \"effexor\", \"effexor\", \"effexor\", \"ejacul\", \"elavil\", \"elavil\", \"elavil\", \"elbow\", \"emergency_room\", \"emergency_room\", \"emergency_room\", \"emot\", \"emot\", \"emot\", \"emot\", \"emot\", \"emot\", \"emot\", \"emot\", \"emot\", \"emot\", \"emot\", \"emot\", \"enbrel\", \"endometriosi\", \"enema\", \"energi\", \"energi\", \"energi\", \"energi\", \"energi\", \"energi\", \"energi\", \"energi\", \"energi\", \"energi\", \"energi\", \"energi\", \"energi\", \"ensur\", \"epiduo\", \"epiduo\", \"epiduo\", \"erect\", \"escitalopram\", \"escitalopram\", \"essenti\", \"essenti\", \"estrogen\", \"everybodi\", \"everybodi\", \"everybodi\", \"exampl\", \"excedrin\", \"exercis\", \"exercis\", \"exercis\", \"exercis\", \"exercis\", \"exercis\", \"exercis\", \"exercis\", \"expens\", \"expens\", \"expens\", \"expens\", \"expens\", \"expens\", \"expens\", \"expens\", \"expens\", \"expens\", \"expens\", \"expens\", \"experi\", \"experi\", \"experi\", \"experi\", \"experi\", \"experi\", \"experi\", \"experi\", \"experi\", \"experi\", \"experi\", \"experi\", \"experi\", \"experi\", \"explod\", \"extrem\", \"extrem\", \"extrem\", \"extrem\", \"extrem\", \"extrem\", \"extrem\", \"extrem\", \"extrem\", \"extrem\", \"extrem\", \"extrem\", \"extrem\", \"extrem\", \"fabul\", \"face\", \"face\", \"face\", \"face\", \"face\", \"face\", \"faint\", \"faint\", \"faint\", \"faint\", \"faith\", \"fall_asleep\", \"fall_asleep\", \"falling_asleep\", \"family_friend\", \"father\", \"fatigu\", \"fatigu\", \"fatigu\", \"fatigu\", \"fatigu\", \"fatigu\", \"fatigu\", \"fatigu\", \"fatigu\", \"fatigu\", \"fatigu\", \"feet\", \"feet\", \"feet\", \"feet\", \"feet\", \"feet\", \"feet\", \"feet\", \"fell_asleep\", \"fentanyl\", \"fertil\", \"fertil\", \"fiber\", \"fibro\", \"fibro\", \"fibromyalgia\", \"fibromyalgia\", \"fibromyalgia\", \"fibromyalgia\", \"final\", \"final\", \"final\", \"final\", \"final\", \"final\", \"final\", \"final\", \"final\", \"final\", \"final\", \"final\", \"final\", \"final\", \"fine\", \"fine\", \"fine\", \"fine\", \"fine\", \"fine\", \"fine\", \"fine\", \"fine\", \"fine\", \"fine\", \"fine\", \"fine\", \"fine\", \"finish\", \"finish\", \"finish\", \"finish\", \"finish\", \"finish\", \"finish\", \"finish\", \"finish\", \"finish\", \"finish\", \"flagyl\", \"flare\", \"flare\", \"flare\", \"flare\", \"flare\", \"flare\", \"flash\", \"flash\", \"flash\", \"flash\", \"flash\", \"flash\", \"flash\", \"flash\", \"flash\", \"flash\", \"flavor\", \"fluctuat\", \"fluoxetin\", \"focalin\", \"focus\", \"focus\", \"food\", \"food\", \"food\", \"food\", \"food\", \"food\", \"food\", \"food\", \"food\", \"food\", \"food\", \"food\", \"foot\", \"foot\", \"foot\", \"foot\", \"forev\", \"forev\", \"forev\", \"forev\", \"forev\", \"forev\", \"fortun\", \"fractur\", \"frame\", \"freez\", \"friday\", \"friday\", \"friday\", \"friday\", \"friday\", \"fruit\", \"fruit\", \"function\", \"function\", \"function\", \"function\", \"function\", \"function\", \"function\", \"function\", \"function\", \"function\", \"gain\", \"gain\", \"gain\", \"gain\", \"gain\", \"gain\", \"gain\", \"gain\", \"gain\", \"gatorad\", \"generic\", \"generic\", \"generic\", \"generic\", \"generic\", \"generic\", \"generic\", \"generic\", \"generic\", \"generic\", \"generic\", \"genet\", \"gerd\", \"ginger\", \"glass\", \"glass_wat\", \"glucos\", \"goal\", \"goal\", \"godsend\", \"godsend\", \"gonna\", \"gonna\", \"good\", \"good\", \"good\", \"good\", \"good\", \"good\", \"good\", \"good\", \"good\", \"good\", \"good\", \"good\", \"good\", \"good\", \"grade\", \"grade\", \"grade\", \"great\", \"great\", \"great\", \"great\", \"great\", \"great\", \"great\", \"great\", \"great\", \"great\", \"great\", \"great\", \"great\", \"great\", \"groggi\", \"grow\", \"grow\", \"grow\", \"grow\", \"grow\", \"grow\", \"grow\", \"hair\", \"hair\", \"hair\", \"hair\", \"hair\", \"hair\", \"half\", \"half\", \"half\", \"half\", \"half\", \"half\", \"half\", \"half\", \"half\", \"half\", \"half\", \"half\", \"half\", \"half\", \"hallucin\", \"hallucin\", \"hangov\", \"happi\", \"happi\", \"happi\", \"happi\", \"happi\", \"happi\", \"happi\", \"happi\", \"happi\", \"happi\", \"happi\", \"happi\", \"happi\", \"harvoni\", \"haven\", \"haven\", \"haven\", \"haven\", \"haven\", \"haven\", \"haven\", \"haven\", \"haven\", \"haven\", \"haven\", \"haven\", \"haven\", \"haven\", \"head\", \"head\", \"head\", \"head\", \"head\", \"head\", \"head\", \"head\", \"head\", \"head\", \"head\", \"head\", \"head\", \"head\", \"headach\", \"headach\", \"headach\", \"headach\", \"headach\", \"headach\", \"headach\", \"headach\", \"headach\", \"headach\", \"headach\", \"headach\", \"headach\", \"headach\", \"heal\", \"heal\", \"heal\", \"heal\", \"heal\", \"heal\", \"heal\", \"heal\", \"heal\", \"healthi\", \"healthi\", \"healthi\", \"healthi\", \"healthi\", \"healthi\", \"healthi\", \"healthi\", \"healthi\", \"healthi\", \"healthi\", \"healthi\", \"hear\", \"hear\", \"hear\", \"hear\", \"hear\", \"hear\", \"hear\", \"hear\", \"hear\", \"hear\", \"hear\", \"heart\", \"heart\", \"heart\", \"heart\", \"heart\", \"heart\", \"heart\", \"heart\", \"heart_rac\", \"heart_rat\", \"heartburn\", \"heartburn\", \"heartburn\", \"heartburn\", \"heavi\", \"heavi\", \"heavi\", \"heavi\", \"heavi\", \"heavi\", \"heavi\", \"heavi\", \"heavi\", \"heavi\", \"heaviest\", \"help\", \"help\", \"help\", \"help\", \"help\", \"help\", \"help\", \"help\", \"help\", \"help\", \"help\", \"help\", \"help\", \"help\", \"herniated_disc\", \"heroin\", \"high\", \"high\", \"high\", \"high\", \"high\", \"high\", \"high\", \"high\", \"high\", \"high\", \"high\", \"high\", \"high\", \"high\", \"high_hop\", \"higher\", \"higher\", \"higher\", \"higher\", \"higher\", \"higher\", \"higher\", \"higher\", \"higher\", \"higher\", \"higher\", \"highest\", \"hive\", \"hive\", \"hive\", \"homework\", \"hopeless\", \"hormon\", \"hormon\", \"hormon\", \"hormon\", \"hormon\", \"hormon\", \"hormon\", \"horribl\", \"horribl\", \"horribl\", \"horribl\", \"horribl\", \"horribl\", \"horribl\", \"horribl\", \"horribl\", \"horribl\", \"horribl\", \"horribl\", \"horribl\", \"horribl\", \"hospit\", \"hospit\", \"hospit\", \"hospit\", \"hospit\", \"hospit\", \"hospit\", \"hospit\", \"hospit\", \"hospit\", \"hospit\", \"hospit\", \"hour\", \"hour\", \"hour\", \"hour\", \"hour\", \"hour\", \"hour\", \"hour\", \"hour\", \"hour\", \"hour\", \"hour\", \"hour\", \"hour\", \"humira\", \"hunger\", \"hunger\", \"hunger\", \"hungri\", \"hungri\", \"hungri\", \"hungri\", \"hungri\", \"hungri\", \"hydrocodon\", \"hydrocodon\", \"hydrocodon\", \"hypercar\", \"ibuprofen\", \"ibuprofen\", \"ibuprofen\", \"ibuprofen\", \"imitrex\", \"implanon\", \"implanon\", \"implant\", \"implant\", \"implant\", \"implant\", \"imposs\", \"imposs\", \"improv\", \"improv\", \"improv\", \"improv\", \"improv\", \"improv\", \"improv\", \"improv\", \"improv\", \"improv\", \"improv\", \"improv\", \"improv\", \"improv\", \"inch\", \"incontin\", \"inconveni\", \"increas\", \"increas\", \"increas\", \"increas\", \"increas\", \"increas\", \"increas\", \"increas\", \"increas\", \"increas\", \"increas\", \"increas\", \"increas\", \"increas\", \"indigest\", \"infect\", \"infect\", \"infect\", \"infect\", \"infect\", \"infect\", \"infect\", \"infect\", \"infect\", \"infect\", \"infect\", \"infus\", \"inhal\", \"inhal\", \"inject\", \"inject\", \"inject\", \"inject\", \"inject\", \"inject\", \"inject\", \"inject\", \"injection_sit\", \"injuri\", \"injuri\", \"injuri\", \"injuri\", \"insert\", \"insert\", \"insert\", \"insert\", \"insert\", \"insist\", \"insomnia\", \"insomnia\", \"insomnia\", \"insomnia\", \"insomnia\", \"insomnia\", \"insomnia\", \"insomnia\", \"insomnia\", \"insomnia\", \"insomnia\", \"insomnia\", \"insulin\", \"insulin\", \"insur\", \"insur\", \"insur\", \"insur\", \"insur\", \"insur\", \"insur\", \"insur\", \"insur\", \"insur\", \"insur\", \"insur\", \"insur\", \"insur\", \"intak\", \"intak\", \"intak\", \"intensifi\", \"interact\", \"interact\", \"interact\", \"intercours\", \"intercours\", \"intercours\", \"intercours\", \"intestin\", \"introduc\", \"invokana\", \"iron\", \"iron\", \"iron\", \"irregular\", \"irregular\", \"irregular\", \"irritable_bowel\", \"issu\", \"issu\", \"issu\", \"issu\", \"issu\", \"issu\", \"issu\", \"issu\", \"issu\", \"issu\", \"issu\", \"issu\", \"issu\", \"issu\", \"itch\", \"itch\", \"itch\", \"itch\", \"itch\", \"jitter\", \"joint\", \"joint\", \"joint\", \"joint\", \"joke\", \"journey\", \"junel\", \"keppra\", \"kidney\", \"kidney\", \"kidney\", \"kidney_ston\", \"kind\", \"kind\", \"kind\", \"kind\", \"kind\", \"kind\", \"kind\", \"kind\", \"kind\", \"kind\", \"kind\", \"kind\", \"klonopin\", \"klonopin\", \"knee\", \"knee\", \"knock\", \"knock\", \"knock\", \"knock\", \"lamict\", \"lamict\", \"lamict\", \"land\", \"lantus\", \"later\", \"later\", \"later\", \"later\", \"later\", \"later\", \"later\", \"later\", \"later\", \"later\", \"later\", \"later\", \"later\", \"later\", \"laxat\", \"leav\", \"leav\", \"leav\", \"leav\", \"leav\", \"leav\", \"leav\", \"leav\", \"leav\", \"leav\", \"leav\", \"leav\", \"leav\", \"leav\", \"leave_hous\", \"leave_hous\", \"lesion\", \"level\", \"level\", \"level\", \"level\", \"level\", \"level\", \"level\", \"level\", \"level\", \"level\", \"level\", \"level\", \"level\", \"level\", \"levora\", \"lexapro\", \"lexapro\", \"lexapro\", \"lialda\", \"light\", \"light\", \"light\", \"light\", \"light\", \"light\", \"light\", \"light\", \"light\", \"light\", \"light\", \"light\", \"lighter\", \"lighter\", \"lighter\", \"lighter\", \"lighter_short\", \"lighthead\", \"lighthead\", \"liletta\", \"linzess\", \"linzess\", \"liquid\", \"liquid\", \"liquid\", \"lisinopril\", \"lithium\", \"litr\", \"littl\", \"littl\", \"littl\", \"littl\", \"littl\", \"littl\", \"littl\", \"littl\", \"littl\", \"littl\", \"littl\", \"littl\", \"littl\", \"littl\", \"live\", \"live\", \"live\", \"live\", \"live\", \"live\", \"live\", \"live\", \"live\", \"live\", \"live\", \"live\", \"live\", \"liver\", \"liver\", \"liver\", \"liver\", \"loestrin\", \"loestrin\", \"look\", \"look\", \"look\", \"look\", \"look\", \"look\", \"look\", \"look\", \"look\", \"look\", \"look\", \"look\", \"look\", \"look\", \"loopi\", \"loos\", \"loos\", \"loos\", \"loos\", \"lortab\", \"lose\", \"lose\", \"lose\", \"lose\", \"lose\", \"lose\", \"lose\", \"lose\", \"lose\", \"lose\", \"lose\", \"lose\", \"lose\", \"lose\", \"loss\", \"loss\", \"loss\", \"loss\", \"loss\", \"loss\", \"loss\", \"loss\", \"loss\", \"loss\", \"loss\", \"loss\", \"loss\", \"love\", \"love\", \"love\", \"love\", \"love\", \"love\", \"love\", \"love\", \"love\", \"love\", \"love\", \"love\", \"love\", \"lower\", \"lower\", \"lower\", \"lower\", \"lower\", \"lower\", \"lower\", \"lower\", \"lower\", \"lower\", \"lower\", \"lower\", \"lower\", \"lower\", \"lung\", \"lung\", \"lung\", \"lutera\", \"luvox\", \"lyrica\", \"lyrica\", \"lyrica\", \"macrobid\", \"magnesium\", \"makeup\", \"makeup\", \"mania\", \"market\", \"market\", \"market\", \"market\", \"marri\", \"marri\", \"marriag\", \"marriag\", \"maxalt\", \"meal\", \"meal\", \"meal\", \"meal\", \"meal\", \"mean\", \"mean\", \"mean\", \"mean\", \"mean\", \"mean\", \"mean\", \"mean\", \"mean\", \"mean\", \"mean\", \"mean\", \"measur\", \"medicin\", \"medicin\", \"medicin\", \"medicin\", \"medicin\", \"medicin\", \"medicin\", \"medicin\", \"medicin\", \"medicin\", \"medicin\", \"melatonin\", \"metformin\", \"metformin\", \"methadon\", \"methadon\", \"methotrex\", \"microgestin\", \"midnight\", \"migrain\", \"migrain\", \"migrain\", \"migrain\", \"migrain\", \"migrain\", \"migrain\", \"milk\", \"million\", \"million\", \"minastrin\", \"minocyclin\", \"minut\", \"minut\", \"minut\", \"minut\", \"minut\", \"minut\", \"minut\", \"minut\", \"minut\", \"minut\", \"minut\", \"minut\", \"minut\", \"miralax\", \"mirena\", \"mirena\", \"mirena\", \"mirtazapin\", \"mirtazapin\", \"moistur\", \"moistur\", \"monday\", \"monday\", \"monday\", \"monistat\", \"monitor\", \"mood\", \"mood\", \"mood\", \"mood\", \"mood\", \"mood\", \"mood\", \"mood\", \"mood\", \"mood\", \"mood\", \"mood\", \"mood_sw\", \"mood_sw\", \"mood_sw\", \"mood_sw\", \"mood_sw\", \"mood_sw\", \"mood_sw\", \"mood_sw\", \"mood_sw\", \"moodi\", \"moodi\", \"moodi\", \"moodi\", \"moodi\", \"moodi\", \"moodi\", \"moodi\", \"morn\", \"morn\", \"morn\", \"morn\", \"morn\", \"morn\", \"morn\", \"morn\", \"morn\", \"morn\", \"morn\", \"morn\", \"morn\", \"morn\", \"mouth\", \"mouth\", \"mouth\", \"mouth\", \"mouth\", \"mouth\", \"mouth\", \"mouth\", \"mouth\", \"mouth\", \"mouth\", \"mouth\", \"mouth\", \"movement\", \"movement\", \"movement\", \"movement\", \"movement\", \"moviprep\", \"mucinex\", \"mucus\", \"muscl\", \"muscl\", \"muscl\", \"muscl\", \"muscl\", \"muscl\", \"muscl\", \"muscl\", \"muscl\", \"muscle_relax\", \"nail\", \"nail\", \"nail\", \"naproxen\", \"nausea\", \"nausea\", \"nausea\", \"nausea\", \"nausea\", \"nausea\", \"nausea\", \"nausea\", \"nausea\", \"nausea\", \"nausea\", \"nausea\", \"nausea\", \"nauseat\", \"nauseat\", \"nauseat\", \"nauseat\", \"nauseat\", \"nauseous\", \"nauseous\", \"nauseous\", \"nauseous\", \"nauseous\", \"nauseous\", \"nauseous\", \"nauseous\", \"nauseous\", \"nauseous\", \"nauseous\", \"nauseous\", \"nauseous\", \"neck\", \"neck\", \"neck\", \"neck\", \"neck\", \"neck\", \"neck\", \"need\", \"need\", \"need\", \"need\", \"need\", \"need\", \"need\", \"need\", \"need\", \"need\", \"need\", \"need\", \"need\", \"need\", \"negat\", \"negat\", \"negat\", \"negat\", \"negat\", \"negat\", \"negat\", \"negat\", \"negat\", \"negat\", \"negat\", \"negat\", \"negat\", \"nerv\", \"nerv\", \"nerv\", \"nerv\", \"nerv\", \"nerv\", \"nerv\", \"neurologist\", \"neurologist\", \"neurologist\", \"neurologist\", \"neurologist\", \"neurologist\", \"neurontin\", \"neurontin\", \"nexplanon\", \"nexplanon\", \"nexplanon\", \"nicotin\", \"night\", \"night\", \"night\", \"night\", \"night\", \"night\", \"night\", \"night\", \"night\", \"night\", \"night\", \"night\", \"night\", \"night\", \"nightmar\", \"nightmar\", \"nightmar\", \"nightmar\", \"nightmar\", \"nightmar\", \"nightmar\", \"nightmar\", \"nightmar\", \"nightmar\", \"nightmar\", \"nonstop\", \"norco\", \"norco\", \"normal\", \"normal\", \"normal\", \"normal\", \"normal\", \"normal\", \"normal\", \"normal\", \"normal\", \"normal\", \"normal\", \"normal\", \"normal\", \"normal\", \"nortriptylin\", \"notic\", \"notic\", \"notic\", \"notic\", \"notic\", \"notic\", \"notic\", \"notic\", \"notic\", \"notic\", \"notic\", \"notic\", \"notic\", \"notic\", \"nsaid\", \"nucynta\", \"numer\", \"numer\", \"numer\", \"numer\", \"nuva_r\", \"nuva_r\", \"nuvar\", \"nuvar\", \"nuvigil\", \"nuvigil\", \"obes\", \"obsess\", \"oili\", \"oili\", \"older\", \"older\", \"onset\", \"onset\", \"opiat\", \"opinion\", \"opinion\", \"opinion\", \"opinion\", \"optimist\", \"orsythia\", \"ortho\", \"ortho\", \"ortho_cyclen\", \"ortho_evra\", \"otezla\", \"ounc\", \"outbreak\", \"outbreak\", \"ovari\", \"ovarian_cyst\", \"overcom\", \"overeat\", \"overweight\", \"overweight\", \"overweight\", \"ovul\", \"ovul\", \"oxycodon\", \"oxycodon\", \"oxycodon\", \"oxycontin\", \"pack\", \"pack\", \"pack\", \"pack\", \"pack\", \"pack\", \"pack\", \"pack\", \"pack\", \"painkil\", \"painless\", \"painless\", \"painless\", \"painless\", \"panic\", \"panic\", \"panic\", \"panic\", \"panic\", \"panic\", \"panic_attack\", \"panic_attack\", \"panic_attack\", \"panic_attack\", \"panic_attack\", \"panic_attack\", \"pant\", \"panty_lin\", \"paper\", \"paragard\", \"paragard\", \"paraguard\", \"paranoid\", \"paranoid\", \"paranoid\", \"paranoid\", \"paranoid\", \"partial\", \"pass\", \"pass\", \"pass\", \"pass\", \"pass\", \"pass\", \"pass\", \"pass\", \"pass\", \"pass\", \"pass\", \"patch\", \"patch\", \"patch\", \"patch\", \"patch\", \"patch\", \"patch\", \"patch\", \"patch\", \"patch\", \"patch\", \"patch\", \"patienc\", \"paxil\", \"peak\", \"peel\", \"peel\", \"pelvi\", \"pelvic\", \"peopl\", \"peopl\", \"peopl\", \"peopl\", \"peopl\", \"peopl\", \"peopl\", \"peopl\", \"peopl\", \"peopl\", \"peopl\", \"peopl\", \"peopl\", \"peopl\", \"percent\", \"percocet\", \"perform\", \"period\", \"period\", \"period\", \"period\", \"period\", \"period\", \"period\", \"period\", \"period\", \"period\", \"period\", \"person\", \"person\", \"person\", \"person\", \"person\", \"person\", \"person\", \"person\", \"person\", \"person\", \"person\", \"person\", \"person\", \"petit\", \"pharmaceut\", \"pharmaci\", \"pharmaci\", \"pharmaci\", \"pharmaci\", \"pharmaci\", \"pharmaci\", \"pharmaci\", \"pharmaci\", \"pharmaci\", \"pharmaci\", \"pharmaci\", \"pharmaci\", \"phentermin\", \"phone\", \"phone\", \"piec\", \"piec\", \"pimpl\", \"pimpl\", \"pinch\", \"pinch\", \"place\", \"place\", \"place\", \"place\", \"place\", \"place\", \"place\", \"place\", \"place\", \"place\", \"place\", \"place\", \"place\", \"placement\", \"plan\", \"plan\", \"plan\", \"plan\", \"plan\", \"plan\", \"plan\", \"plan\", \"plan\", \"plan\", \"plan\", \"plan\", \"plan\", \"plan_step\", \"plaquenil\", \"plateau\", \"pmdd\", \"pmdd\", \"pocket\", \"pocket\", \"pocket\", \"pocket\", \"pocket\", \"poison\", \"polar\", \"poop\", \"portion\", \"pound\", \"pound\", \"pound\", \"pound\", \"pound\", \"pound\", \"powder\", \"predict\", \"prednison\", \"prednison\", \"prednison\", \"pregabalin\", \"pregnanc\", \"pregnanc\", \"pregnanc\", \"pregnanc\", \"pregnanc\", \"pregnanc\", \"pregnanc\", \"pregnant\", \"pregnant\", \"pregnant\", \"pregnant\", \"pregnant\", \"pregnant\", \"prep\", \"prescrib\", \"prescrib\", \"prescript\", \"prescript\", \"prescript\", \"prescript\", \"prescript\", \"prescript\", \"prescript\", \"prescript\", \"prescript\", \"prescript\", \"prescript\", \"prescript\", \"prescript\", \"prescript\", \"prevent\", \"prevent\", \"prevent\", \"prevent\", \"prevent\", \"prevent\", \"prevent\", \"prevent\", \"prevent\", \"prevent\", \"prevent\", \"prevent\", \"pristiq\", \"pristiq\", \"pristiq\", \"pristiq\", \"pristiq\", \"proactiv\", \"probiot\", \"probiot\", \"procedur\", \"procedur\", \"procedur\", \"procedur\", \"procedur\", \"process\", \"process\", \"process\", \"process\", \"process\", \"process\", \"process\", \"process\", \"process\", \"process\", \"product\", \"product\", \"product\", \"product\", \"product\", \"product\", \"product\", \"product\", \"product\", \"product\", \"product\", \"product\", \"prone\", \"proper\", \"proper\", \"proper\", \"proper\", \"proper\", \"proper\", \"proper\", \"proper\", \"propofol\", \"propranolol\", \"propranolol\", \"prostat\", \"provid\", \"provid\", \"provid\", \"provid\", \"provid\", \"prozac\", \"prozac\", \"prozac\", \"prozac\", \"prozac\", \"prozac\", \"prozac\", \"prozac\", \"prozac\", \"psoriasi\", \"psoriasi\", \"psoriasi\", \"psoriasi\", \"psychiatrist\", \"psychiatrist\", \"psychiatrist\", \"psychiatrist\", \"psychiatrist\", \"psychot\", \"puke\", \"pump\", \"pump\", \"pump\", \"pump\", \"quetiapin\", \"quit\", \"quit\", \"quit\", \"quit\", \"quit\", \"quit\", \"quit\", \"quit\", \"quit\", \"quit\", \"quit\", \"quit_smok\", \"quot\", \"quot\", \"quot\", \"quot\", \"quot\", \"quot\", \"quot\", \"quot\", \"quot\", \"quot\", \"quot\", \"quot\", \"quot\", \"quot\", \"radiat\", \"radiat\", \"radiat\", \"rash\", \"rash\", \"rash\", \"rash\", \"rash\", \"rash\", \"rash\", \"rash\", \"rash\", \"rash\", \"read\", \"read\", \"read\", \"read\", \"read\", \"read\", \"read\", \"read\", \"read\", \"read\", \"read\", \"read\", \"read\", \"read\", \"realiti\", \"reclipsen\", \"recommend\", \"recommend\", \"recommend\", \"recommend\", \"recommend\", \"recommend\", \"recommend\", \"recommend\", \"recommend\", \"recommend\", \"recommend\", \"recommend\", \"recommend\", \"recommend\", \"reduc\", \"reduc\", \"reduc\", \"reduc\", \"reduc\", \"reduc\", \"reduc\", \"reduc\", \"reduc\", \"reduc\", \"reduc\", \"reduc\", \"reduc\", \"reduc\", \"regain\", \"regimen\", \"regimen\", \"regimen\", \"reglan\", \"regret\", \"regret\", \"regret\", \"regret\", \"regret\", \"regul\", \"regul\", \"regul\", \"regul\", \"relax\", \"relax\", \"relax\", \"relax\", \"relax\", \"relax\", \"relax\", \"relax\", \"relax\", \"relief\", \"relief\", \"relief\", \"relief\", \"relief\", \"relief\", \"relief\", \"relief\", \"relief\", \"relief\", \"reliev\", \"reliev\", \"reliev\", \"reliev\", \"reliev\", \"reliev\", \"reliev\", \"reliev\", \"reliev\", \"reliev\", \"reliev\", \"relpax\", \"reluct\", \"reluct\", \"remark\", \"remark\", \"remeron\", \"remicad\", \"remiss\", \"remov\", \"remov\", \"remov\", \"remov\", \"remov\", \"remov\", \"remov\", \"remov\", \"remov\", \"remov\", \"remov\", \"remov\", \"remov\", \"rest\", \"rest\", \"rest\", \"rest\", \"rest\", \"rest\", \"rest\", \"rest\", \"rest\", \"rest\", \"rest\", \"rest\", \"restart\", \"result\", \"result\", \"result\", \"result\", \"result\", \"result\", \"result\", \"result\", \"result\", \"result\", \"result\", \"result\", \"result\", \"result\", \"retain\", \"rexulti\", \"right\", \"right\", \"right\", \"right\", \"right\", \"right\", \"right\", \"right\", \"right\", \"right\", \"right\", \"right\", \"right\", \"right\", \"ringing_ear\", \"ringing_ear\", \"rins\", \"rock\", \"rock\", \"rosacea\", \"rosacea\", \"rsquo\", \"rsquo\", \"rsquo\", \"rsquo\", \"salti\", \"sampl\", \"sampl\", \"sampl\", \"sampl\", \"sampl\", \"sampl\", \"sampl\", \"sampl\", \"saturday\", \"saxenda\", \"scalp\", \"scalp\", \"scalp\", \"scalp\", \"scar\", \"scar\", \"scar\", \"scar\", \"scar\", \"scar\", \"scar\", \"scar\", \"scar\", \"scar\", \"scar\", \"school\", \"school\", \"school\", \"school\", \"school\", \"school\", \"school\", \"school\", \"school\", \"school\", \"score\", \"screw\", \"search\", \"search\", \"search\", \"second\", \"second\", \"second\", \"second\", \"second\", \"second\", \"second\", \"second\", \"second\", \"second\", \"second\", \"second\", \"second\", \"second\", \"sedat\", \"sedat\", \"seizur\", \"seizur\", \"seizur\", \"seizur\", \"sens\", \"sens\", \"sens\", \"sens\", \"sens\", \"sens\", \"sens\", \"separ\", \"sept\", \"septemb\", \"septemb\", \"septemb\", \"seri\", \"serotonin\", \"sertralin\", \"sertralin\", \"sertralin\", \"sertralin\", \"serv\", \"seven\", \"seven\", \"seven\", \"seven\", \"sever\", \"sever\", \"sever\", \"sever\", \"sever\", \"sever\", \"sever\", \"sever\", \"sever\", \"sever\", \"sever\", \"sever\", \"sever\", \"sever\", \"sexually_act\", \"sharp\", \"sharp\", \"sharp\", \"shave\", \"shoot\", \"shoot\", \"shoot\", \"shoot\", \"shoot\", \"shoot\", \"shoot\", \"shoot\", \"shoot\", \"shoot\", \"shot\", \"shot\", \"shot\", \"shot\", \"shot\", \"shoulder\", \"shoulder\", \"shoulder\", \"shoulder\", \"shoulder\", \"shower\", \"shower\", \"shower\", \"sick\", \"sick\", \"sick\", \"sick\", \"sick\", \"sick\", \"sick\", \"sick\", \"sick\", \"sick\", \"sick\", \"sick\", \"sick\", \"sick\", \"singulair\", \"singulair\", \"sinus\", \"sinus\", \"sinus_infect\", \"sister\", \"sister\", \"sister\", \"skin\", \"skin\", \"skin\", \"skin\", \"skin\", \"skin\", \"skin\", \"skin\", \"skin\", \"skin\", \"skyla\", \"skyla_insert\", \"sleep\", \"sleep\", \"sleep\", \"sleep\", \"sleep\", \"sleep\", \"sleep\", \"sleep\", \"sleep\", \"sleep\", \"sleep\", \"sleep\", \"sleep\", \"sleep\", \"sleepi\", \"sleepi\", \"sleepi\", \"sleepi\", \"sleepi\", \"sleepi\", \"sleepi\", \"sleepi\", \"sleepi\", \"sleepi\", \"sleepless\", \"sleepless\", \"sluggish\", \"small_pric\", \"small_pric\", \"smell\", \"smell\", \"smell\", \"smell\", \"smell\", \"smile\", \"smoke\", \"smoke\", \"smoke\", \"smoke\", \"smoke\", \"smoke_fre\", \"smoker\", \"smoker\", \"snack\", \"sneez\", \"social\", \"soda\", \"solodyn\", \"soma\", \"soolantra\", \"sooner\", \"sooner\", \"sooner\", \"sooner\", \"sooner\", \"sooo\", \"sore_throat\", \"spell\", \"spike\", \"spinal\", \"spine\", \"spironolacton\", \"split\", \"spot\", \"spot\", \"spot\", \"spot\", \"spot\", \"spot\", \"spot\", \"spray\", \"spray\", \"sprintec\", \"sprintec\", \"state\", \"state\", \"state\", \"state\", \"state\", \"state\", \"state\", \"state\", \"state\", \"statin\", \"steadi\", \"steadi\", \"stelara\", \"step\", \"step\", \"step\", \"step\", \"steroid\", \"steroid\", \"steroid\", \"steroid\", \"sticki\", \"stiff\", \"stiff\", \"stiff\", \"stiff\", \"stomach\", \"stomach\", \"stomach\", \"stomach\", \"stomach\", \"stomach\", \"stomach\", \"stomach\", \"stomach\", \"stomach\", \"stomach\", \"stomach\", \"stomach\", \"stone\", \"stone\", \"stone\", \"stool\", \"stool\", \"stop\", \"stop\", \"stop\", \"stop\", \"stop\", \"stop\", \"stop\", \"stop\", \"stop\", \"stop\", \"stop\", \"stop\", \"stop\", \"stop\", \"strain\", \"strattera\", \"strength\", \"strength\", \"strength\", \"stress\", \"stress\", \"stress\", \"stress\", \"stress\", \"stress\", \"stress\", \"stress\", \"stress\", \"stress\", \"stress\", \"stress\", \"stress\", \"string\", \"string\", \"stroke\", \"stuff\", \"stuff\", \"stuff\", \"stuff\", \"stuff\", \"stuff\", \"stuff\", \"stuff\", \"stuff\", \"stuff\", \"stuff\", \"stuff\", \"stuff\", \"suboxon\", \"subsid\", \"subsid\", \"subsid\", \"subsid\", \"subsid\", \"subsid\", \"subsid\", \"subsid\", \"subsid\", \"subsid\", \"subsid\", \"subsid\", \"subsid\", \"subutex\", \"suffer\", \"suffer\", \"suffer\", \"suffer\", \"suffer\", \"suffer\", \"suffer\", \"suffer\", \"suffer\", \"suffer\", \"suffer\", \"suffer\", \"suffer\", \"suffer\", \"sugar\", \"sugar\", \"sugar\", \"sugar\", \"sugar\", \"suicid\", \"suicid\", \"suicid\", \"suicid\", \"suicid\", \"suppositori\", \"suprep\", \"sure\", \"sure\", \"sure\", \"sure\", \"sure\", \"sure\", \"sure\", \"sure\", \"sure\", \"sure\", \"sure\", \"sure\", \"sure\", \"sure\", \"surgeri\", \"surgeri\", \"surgeri\", \"surgeri\", \"surgeri\", \"surgeri\", \"surgeri\", \"surgeri\", \"surgeri\", \"surgeri\", \"swallow\", \"swallow\", \"swallow\", \"swallow\", \"swallow\", \"sweat\", \"sweat\", \"sweat\", \"sweat\", \"sweat\", \"sweat\", \"sweat\", \"sweat\", \"sweet\", \"sweet\", \"sweet\", \"swell\", \"swell\", \"swell\", \"swell\", \"swell\", \"swell\", \"swell\", \"swell\", \"swell\", \"swell\", \"switch\", \"switch\", \"switch\", \"switch\", \"switch\", \"switch\", \"switch\", \"switch\", \"switch\", \"switch\", \"switch\", \"switch\", \"switch\", \"switch\", \"synthroid\", \"synthroid\", \"tabl\", \"tablet\", \"tablet\", \"tablet\", \"tablet\", \"tablet\", \"tablet\", \"tablet\", \"tablet\", \"tablet\", \"tablet\", \"talk\", \"talk\", \"talk\", \"talk\", \"talk\", \"talk\", \"talk\", \"talk\", \"talk\", \"talk\", \"talk\", \"talk\", \"talk\", \"tamiflu\", \"tamiflu\", \"taper\", \"taper\", \"taper\", \"taper\", \"taper\", \"taper\", \"task\", \"task\", \"tast\", \"tast\", \"tast\", \"tast\", \"tast\", \"tast\", \"teacher\", \"tegretol\", \"tell\", \"tell\", \"tell\", \"tell\", \"tell\", \"tell\", \"tell\", \"tell\", \"tell\", \"tell\", \"tell\", \"tell\", \"tell\", \"tell\", \"tender\", \"tender\", \"tender_breast\", \"tendon\", \"tension\", \"term\", \"term\", \"test\", \"test\", \"test\", \"test\", \"test\", \"test\", \"test\", \"test\", \"test\", \"test\", \"test\", \"test\", \"test\", \"test\", \"testosteron\", \"thank\", \"thank\", \"thank\", \"thank\", \"thank\", \"thank\", \"thank\", \"thank\", \"thank\", \"thank\", \"thank\", \"thank\", \"thank\", \"thank\", \"therapist\", \"thing\", \"thing\", \"thing\", \"thing\", \"thing\", \"thing\", \"thing\", \"thing\", \"thing\", \"thing\", \"thing\", \"thing\", \"thing\", \"thing\", \"think\", \"think\", \"think\", \"think\", \"think\", \"think\", \"think\", \"think\", \"think\", \"think\", \"think\", \"think\", \"think\", \"think\", \"thirst\", \"thirsti\", \"thought\", \"thought\", \"thought\", \"thought\", \"thought\", \"thought\", \"thought\", \"throat\", \"throat\", \"throat\", \"throat\", \"throat\", \"throat\", \"throat\", \"throw\", \"throw\", \"throw\", \"throw\", \"throw\", \"throw\", \"throw\", \"throw\", \"throw\", \"throw\", \"throw\", \"thursday\", \"thursday\", \"ting\", \"tingl\", \"tingl\", \"tingl\", \"tingl\", \"tinnitus\", \"tire\", \"tire\", \"tire\", \"tire\", \"tire\", \"tire\", \"tire\", \"tire\", \"tire\", \"tire\", \"tire\", \"tire\", \"tire\", \"tire\", \"tissu\", \"today\", \"today\", \"today\", \"today\", \"today\", \"today\", \"today\", \"today\", \"today\", \"today\", \"today\", \"today\", \"today\", \"today\", \"toilet\", \"toler\", \"toler\", \"toler\", \"toler\", \"toler\", \"toler\", \"toler\", \"toler\", \"toler\", \"toler\", \"toler\", \"tongu\", \"tongu\", \"tongu\", \"tongu\", \"tonight\", \"topamax\", \"toradol\", \"toradol\", \"tramadol\", \"tramadol\", \"tramadol\", \"travel\", \"trazadon\", \"trazodon\", \"trintellix\", \"true\", \"true\", \"true\", \"true\", \"true\", \"truth\", \"tuesday\", \"tuesday\", \"tummi\", \"tummi\", \"tummi\", \"tumor\", \"twice\", \"twice\", \"twice\", \"twice\", \"twice\", \"twice\", \"twice\", \"twice\", \"twice\", \"twice\", \"twice\", \"twice\", \"twice\", \"twice\", \"twin\", \"type_diabet\", \"tysabri\", \"ulcer\", \"ultram\", \"ultrasound\", \"ultrasound\", \"uncomfort\", \"uncomfort\", \"uncomfort\", \"uncomfort\", \"uncomfort\", \"uncomfort\", \"uncomfort\", \"unexpect\", \"unexpect\", \"unprotect\", \"unprotect\", \"unsur\", \"upset\", \"upset\", \"upset\", \"upset\", \"upset\", \"upset\", \"upset\", \"urin\", \"urin\", \"urin\", \"urin\", \"urin\", \"urin\", \"urin\", \"urin\", \"urin\", \"urin\", \"urin\", \"urinary_tract\", \"urinary_tract\", \"urologist\", \"uterus\", \"uterus\", \"vaginal_dry\", \"valium\", \"valium\", \"valium\", \"valium\", \"valium\", \"valium\", \"valtrex\", \"vanish\", \"vertigo\", \"viagra\", \"vicodin\", \"vicodin\", \"victoza\", \"victoza\", \"viibryd\", \"viibryd\", \"viibryd\", \"vimpat\", \"violent\", \"violent\", \"violent\", \"violent\", \"viral_load\", \"visibl\", \"visual\", \"voic\", \"voic\", \"voltaren\", \"vomit\", \"vomit\", \"vomit\", \"vyvans\", \"vyvans\", \"vyvans\", \"wake\", \"wake\", \"wake\", \"wake\", \"wake\", \"wake\", \"wake\", \"wake\", \"wake\", \"wake\", \"wake\", \"wake\", \"wake\", \"wake\", \"walk\", \"walk\", \"walk\", \"walk\", \"walk\", \"walk\", \"walk\", \"walk\", \"walk\", \"walk\", \"walk\", \"walk\", \"want\", \"want\", \"want\", \"want\", \"want\", \"want\", \"want\", \"want\", \"want\", \"want\", \"want\", \"want\", \"want\", \"want\", \"wart\", \"wash\", \"wash\", \"wash\", \"wasn\", \"wasn\", \"wasn\", \"wasn\", \"wasn\", \"wasn\", \"wasn\", \"wasn\", \"wasn\", \"wasn\", \"wasn\", \"wasn\", \"wasn\", \"wasn\", \"water\", \"water\", \"water\", \"water\", \"water\", \"water\", \"water\", \"weak\", \"weak\", \"weak\", \"weak\", \"weak\", \"weak\", \"weak\", \"weak\", \"weak\", \"weak\", \"weak\", \"wear\", \"wear\", \"wear\", \"wear\", \"wear\", \"wear\", \"wear\", \"wear\", \"wear\", \"wear\", \"wear\", \"wear\", \"websit\", \"websit\", \"websit\", \"ween\", \"weigh\", \"weigh\", \"weigh\", \"weight\", \"weight\", \"weight\", \"weight\", \"weight\", \"weight\", \"weight\", \"weight\", \"weight\", \"wellbutrin\", \"wellbutrin\", \"wellbutrin\", \"welt\", \"wheez\", \"wine\", \"winter\", \"wise\", \"withdraw\", \"withdraw\", \"withdraw\", \"withdraw\", \"withdraw\", \"withdraw\", \"withdraw\", \"withdraw\", \"worri\", \"worri\", \"worri\", \"worri\", \"worri\", \"worri\", \"worri\", \"worri\", \"worri\", \"worri\", \"worri\", \"worri\", \"worri\", \"wors\", \"wors\", \"wors\", \"wors\", \"wors\", \"wors\", \"wors\", \"wors\", \"wors\", \"wors\", \"wors\", \"wors\", \"wors\", \"wors\", \"worst\", \"worst\", \"worst\", \"worst\", \"worst\", \"worst\", \"worst\", \"worst\", \"worst\", \"worst\", \"worst\", \"worst\", \"worst\", \"worthless\", \"wrist\", \"write\", \"write\", \"write\", \"write\", \"write\", \"write\", \"write\", \"write\", \"write\", \"write\", \"xanax\", \"xanax\", \"xanax\", \"xanax\", \"xanax\", \"xulan\", \"yasmin\", \"yawn\", \"yeast_infect\", \"yeast_infect\", \"yeast_infect\", \"yeast_infect\", \"yeast_infect\", \"yeast_infect\", \"yellow\", \"yellow\", \"zantac\", \"zero\", \"zero\", \"zero\", \"zero\", \"zero\", \"zero\", \"zero\", \"zero\", \"zero\", \"zero\", \"zero\", \"zero\", \"zero\", \"zofran\", \"zoloft\", \"zoloft\", \"zoloft\", \"zyprexa\"]}, \"R\": 30, \"lambda.step\": 0.01, \"plot.opts\": {\"xlab\": \"PC1\", \"ylab\": \"PC2\"}, \"topic.order\": [3, 11, 13, 8, 10, 7, 4, 14, 9, 6, 12, 5, 1, 2]};\n",
       "\n",
       "function LDAvis_load_lib(url, callback){\n",
       "  var s = document.createElement('script');\n",
       "  s.src = url;\n",
       "  s.async = true;\n",
       "  s.onreadystatechange = s.onload = callback;\n",
       "  s.onerror = function(){console.warn(\"failed to load library \" + url);};\n",
       "  document.getElementsByTagName(\"head\")[0].appendChild(s);\n",
       "}\n",
       "\n",
       "if(typeof(LDAvis) !== \"undefined\"){\n",
       "   // already loaded: just create the visualization\n",
       "   !function(LDAvis){\n",
       "       new LDAvis(\"#\" + \"ldavis_el615622767368391365022705363\", ldavis_el615622767368391365022705363_data);\n",
       "   }(LDAvis);\n",
       "}else if(typeof define === \"function\" && define.amd){\n",
       "   // require.js is available: use it to load d3/LDAvis\n",
       "   require.config({paths: {d3: \"https://cdnjs.cloudflare.com/ajax/libs/d3/3.5.5/d3.min\"}});\n",
       "   require([\"d3\"], function(d3){\n",
       "      window.d3 = d3;\n",
       "      LDAvis_load_lib(\"https://cdn.rawgit.com/bmabey/pyLDAvis/files/ldavis.v1.0.0.js\", function(){\n",
       "        new LDAvis(\"#\" + \"ldavis_el615622767368391365022705363\", ldavis_el615622767368391365022705363_data);\n",
       "      });\n",
       "    });\n",
       "}else{\n",
       "    // require.js not available: dynamically load d3 & LDAvis\n",
       "    LDAvis_load_lib(\"https://cdnjs.cloudflare.com/ajax/libs/d3/3.5.5/d3.min.js\", function(){\n",
       "         LDAvis_load_lib(\"https://cdn.rawgit.com/bmabey/pyLDAvis/files/ldavis.v1.0.0.js\", function(){\n",
       "                 new LDAvis(\"#\" + \"ldavis_el615622767368391365022705363\", ldavis_el615622767368391365022705363_data);\n",
       "            })\n",
       "         });\n",
       "}\n",
       "</script>"
      ],
      "text/plain": [
       "PreparedData(topic_coordinates=              x         y  topics  cluster       Freq\n",
       "topic                                                \n",
       "2     -0.208331  0.034089       1        1  14.495299\n",
       "10     0.023761  0.136900       2        1  11.914815\n",
       "12     0.062628 -0.066861       3        1  11.349153\n",
       "7     -0.070317  0.054661       4        1   7.651781\n",
       "9     -0.143855 -0.045810       5        1   6.681258\n",
       "6     -0.045754  0.083049       6        1   6.672179\n",
       "3      0.041685  0.005913       7        1   6.467477\n",
       "13     0.154218  0.084367       8        1   6.169417\n",
       "8      0.166801  0.042594       9        1   5.753879\n",
       "5      0.039558 -0.214029      10        1   5.409780\n",
       "11     0.036537 -0.210711      11        1   4.857543\n",
       "4      0.125407  0.065268      12        1   4.619827\n",
       "0     -0.116078  0.025425      13        1   4.493137\n",
       "1     -0.066262  0.005145      14        1   3.464453, topic_info=     Category          Freq           Term         Total  loglift  logprob\n",
       "term                                                                      \n",
       "83    Default  13552.000000         period  13552.000000  30.0000  30.0000\n",
       "232   Default   7677.000000           quot   7677.000000  29.0000  29.0000\n",
       "18    Default   9598.000000         weight   9598.000000  28.0000  28.0000\n",
       "4     Default   8447.000000        anxieti   8447.000000  27.0000  27.0000\n",
       "14    Default   6314.000000           lose   6314.000000  26.0000  26.0000\n",
       "196   Default   8059.000000          sleep   8059.000000  25.0000  25.0000\n",
       "148   Default   4509.000000           skin   4509.000000  24.0000  24.0000\n",
       "8     Default   7684.000000        depress   7684.000000  23.0000  23.0000\n",
       "11    Default   6852.000000           gain   6852.000000  22.0000  22.0000\n",
       "69    Default   6698.000000          cramp   6698.000000  21.0000  21.0000\n",
       "81    Default   4360.000000         nausea   4360.000000  20.0000  20.0000\n",
       "560   Default   3322.000000        migrain   3322.000000  19.0000  19.0000\n",
       "124   Default   7368.000000          night   7368.000000  18.0000  18.0000\n",
       "61    Default   3055.000000        stomach   3055.000000  17.0000  17.0000\n",
       "523   Default   4654.000000          bleed   4654.000000  16.0000  16.0000\n",
       "67    Default   5027.000000  birth_control   5027.000000  15.0000  15.0000\n",
       "110   Default   3210.000000         insert   3210.000000  14.0000  14.0000\n",
       "130   Default   6148.000000           dose   6148.000000  13.0000  13.0000\n",
       "94    Default   2592.000000           face   2592.000000  12.0000  12.0000\n",
       "506   Default   7837.000000           hour   7837.000000  11.0000  11.0000\n",
       "57    Default   3049.000000          pound   3049.000000  10.0000  10.0000\n",
       "482   Default   3064.000000          drink   3064.000000   9.0000   9.0000\n",
       "218   Default   3339.000000          clear   3339.000000   8.0000   8.0000\n",
       "73    Default   5236.000000        headach   5236.000000   7.0000   7.0000\n",
       "576   Default   3449.000000           spot   3449.000000   6.0000   6.0000\n",
       "650   Default   2372.000000           loss   2372.000000   5.0000   5.0000\n",
       "294   Default   2154.000000          dizzi   2154.000000   4.0000   4.0000\n",
       "739   Default   1523.000000  blood_pressur   1523.000000   3.0000   3.0000\n",
       "593   Default   3024.000000           wake   3024.000000   2.0000   2.0000\n",
       "60    Default   1292.000000          smoke   1292.000000   1.0000   1.0000\n",
       "...       ...           ...            ...           ...      ...      ...\n",
       "1666  Topic14    112.797699           book    115.829498   3.3361  -5.8737\n",
       "2437  Topic14    126.297440          boost    130.430359   3.3304  -5.7607\n",
       "1720  Topic14    127.559189       thursday    131.831009   3.3297  -5.7507\n",
       "1684  Topic14    103.039917          fruit    105.946808   3.3348  -5.9642\n",
       "214   Topic14   1101.774780           quit   1389.965576   3.1303  -3.5946\n",
       "996   Topic14    201.060791         monday    233.737213   3.2120  -5.2957\n",
       "1278  Topic14    163.506271         sister    183.514648   3.2472  -5.5024\n",
       "2340  Topic14    136.564316         pocket    152.652954   3.2512  -5.6825\n",
       "2227  Topic14    198.149841         friday    257.379089   3.1011  -5.3103\n",
       "3315  Topic14    129.213562          marri    143.886948   3.2551  -5.7378\n",
       "537   Topic14    290.979828          smell    459.473328   2.9058  -4.9260\n",
       "1220  Topic14    200.671707          count    304.402344   2.9459  -5.2976\n",
       "1792  Topic14    215.069687           foot    345.175415   2.8895  -5.2283\n",
       "1006  Topic14    449.174622           pack   1390.254272   2.2328  -4.4919\n",
       "648   Topic14    439.061920           hair   1341.785156   2.2455  -4.5147\n",
       "3241  Topic14    171.740829          sweet    266.038177   2.9250  -5.4533\n",
       "481   Topic14    304.918182          crave    976.501343   2.1987  -4.8793\n",
       "1276  Topic14    147.385574          seven    198.357880   3.0656  -5.6062\n",
       "63    Topic14    428.280212           want   5344.782715   0.8385  -4.5395\n",
       "720   Topic14    319.934631          today   2315.705811   1.3833  -4.8312\n",
       "17    Topic14    293.565125          thank   2073.811768   1.4076  -4.9172\n",
       "400   Topic14    425.668915           stop   8738.445312   0.3408  -4.5456\n",
       "227   Topic14    229.216064          insur   1316.834839   1.6143  -5.1646\n",
       "1627  Topic14    182.079605           grow    541.923584   2.2719  -5.3949\n",
       "527   Topic14    222.222580           half   2614.021729   0.8976  -5.1956\n",
       "99    Topic14    238.673080          think   7923.756348  -0.1399  -5.1242\n",
       "12    Topic14    232.517502           help  12280.115234  -0.6042  -5.1503\n",
       "231   Topic14    203.111038          notic   5304.713379   0.1000  -5.2855\n",
       "528   Topic14    188.398529          haven   3219.269287   0.5243  -5.3607\n",
       "215   Topic14    184.531342          begin   3023.470947   0.5663  -5.3815\n",
       "\n",
       "[1042 rows x 6 columns], token_table=      Topic      Freq          Term\n",
       "term                               \n",
       "468       1  0.003821       abdomin\n",
       "468       4  0.001911       abdomin\n",
       "468       5  0.221631       abdomin\n",
       "468       7  0.001911       abdomin\n",
       "468       8  0.026749       abdomin\n",
       "468      10  0.739408       abdomin\n",
       "468      13  0.003821       abdomin\n",
       "4519      4  0.988712       abilifi\n",
       "4519      8  0.008523       abilifi\n",
       "3784      2  0.992506        abreva\n",
       "1171      3  0.004561          abus\n",
       "1171      4  0.004561          abus\n",
       "1171      9  0.004561          abus\n",
       "1171     10  0.036484          abus\n",
       "1171     12  0.944027          abus\n",
       "1020      2  0.030907         accid\n",
       "1020      3  0.087569         accid\n",
       "1020      5  0.002576         accid\n",
       "1020      6  0.005151         accid\n",
       "1020     10  0.164836         accid\n",
       "1020     13  0.705704         accid\n",
       "1020     14  0.002576         accid\n",
       "4846      1  0.988848    accomplish\n",
       "2309      2  0.002158       accutan\n",
       "2309      7  0.994642       accutan\n",
       "3713     10  0.985810          achi\n",
       "2056      3  0.008495        achiev\n",
       "2056     13  0.985445        achiev\n",
       "3945      5  0.994228          acid\n",
       "0         1  0.207126        actual\n",
       "...     ...       ...           ...\n",
       "2576      1  0.991865         xulan\n",
       "1165      1  0.991373        yasmin\n",
       "894       2  0.989553          yawn\n",
       "1053      1  0.087210  yeast_infect\n",
       "1053      3  0.854654  yeast_infect\n",
       "1053      7  0.042636  yeast_infect\n",
       "1053     12  0.005814  yeast_infect\n",
       "1053     13  0.005814  yeast_infect\n",
       "1053     14  0.001938  yeast_infect\n",
       "1725      3  0.008263        yellow\n",
       "1725     10  0.991508        yellow\n",
       "4379      9  0.991981        zantac\n",
       "90        1  0.140898          zero\n",
       "90        2  0.010064          zero\n",
       "90        3  0.041694          zero\n",
       "90        4  0.127959          zero\n",
       "90        5  0.014377          zero\n",
       "90        6  0.401129          zero\n",
       "90        7  0.015815          zero\n",
       "90        8  0.023004          zero\n",
       "90        9  0.007189          zero\n",
       "90       10  0.020128          zero\n",
       "90       11  0.010064          zero\n",
       "90       13  0.087702          zero\n",
       "90       14  0.099204          zero\n",
       "1567     10  0.994989        zofran\n",
       "771       2  0.995406        zoloft\n",
       "771       3  0.000841        zoloft\n",
       "771       6  0.003363        zoloft\n",
       "2432      8  0.997061       zyprexa\n",
       "\n",
       "[3705 rows x 3 columns], R=30, lambda_step=0.01, plot_opts={'xlab': 'PC1', 'ylab': 'PC2'}, topic_order=[3, 11, 13, 8, 10, 7, 4, 14, 9, 6, 12, 5, 1, 2])"
      ]
     },
     "execution_count": 44,
     "metadata": {},
     "output_type": "execute_result"
    }
   ],
   "source": [
    "# Let's plot the visualization of topics\n",
    "import pyLDAvis\n",
    "import pyLDAvis.gensim \n",
    "import matplotlib.pyplot as plt\n",
    "%matplotlib inline\n",
    "pyLDAvis.enable_notebook()\n",
    "vis = pyLDAvis.gensim.prepare(model_lda, bow_corpus, dictionary)\n",
    "vis"
   ]
  },
  {
   "cell_type": "markdown",
   "metadata": {},
   "source": [
    "**Note : if you are viewing this on github, unfortunately you will not be able to see the interactive visualization above**"
   ]
  },
  {
   "cell_type": "markdown",
   "metadata": {},
   "source": [
    "This topic model interface gives us valuable insight into topics, their relative word probabilities, and topic similarities.\n",
    "\n",
    "On the left side we see the 14 topics projected onto a 2D space. It is easy to see now which of the topics are more or less present across our documents. For example, we know that topic 1 which is regarding birth control and periods is the topic with the highest presence and this matches what our word cloud gave us. Furthermore, the distance between topics informs us that there is a connection between topics 10 and 11 - they may have similar contexts or be mentioned together.\n",
    "\n",
    "On the right hand side, for a given topic we can investigate the words that lie within it. Using $\\lambda = 1$ simply shows us the same output as the topic model from gensim - the *frequency* of the terms pertaining to that topic. But a value of $\\lambda = 0$ essentially shows the distinctivness of words in topics. For example, in the topic about sleep disorders and insominia, the word abien has high exlclusivitiy within that topic and is virtually used nowhere else.\n",
    "\n",
    "Taddy (2011) proposed in a paper of a intuitive measure of ranking terms within topics : lift. It is defined in our case with 14 topics (and using the word sneez as an example)\n",
    "\n",
    "$$\\frac{P(\\text{sneeze in topic 3})}{P(\\text{sneeze in topic 1}) + P(\\text{sneeze in topic 2}) +  P(\\text{sneeze in topic 4}) +.... P(\\text{sneeze in topic 14}) } $$\n",
    "\n",
    "Therefore, it is just the ratio of the term's probability pertaining to a topic over the marginal and if this ratio is quite high then we say this term has high exclusivity. If sneeze appears with high probability in topic 3 but extremely low in the other topics, we can say we have high *lift*\n",
    "\n",
    "We can rank terms within topics via a formula and a tuning parameter $\\lambda$ by \n",
    "\n",
    "$$r(w, k | \\lambda) = {\\lambda}{log(\\theta_{kw})} + {(1 - \\lambda)}{log(\\frac{\\theta_{kw}}{p_{w}}}) $$\n",
    "\n",
    "\n",
    "If we set $ \\lambda = 0 $ then essentially we are removing the first term and our ranking of topics is only based on lift.\n",
    "\n",
    "It is worth noting that low values of lambda can actually lead to more interpretable topics due to great seperation distinction within the top terms, but extremely low values can often lead to low interpretability. A reader might want to choose $ \\lambda $ near 0.5 for a balance\n",
    "\n",
    "\n"
   ]
  },
  {
   "cell_type": "markdown",
   "metadata": {},
   "source": [
    "### 3.3 Mallet LDA"
   ]
  },
  {
   "cell_type": "markdown",
   "metadata": {},
   "source": [
    "We will also run another form of LDA which is called Mallet, and gensim provides a wrapper to this in which we can implement. It is often said that the Mallet version gives higher coherance scores and better quality of topics so we will try it and compare it with the original LDA from gensim."
   ]
  },
  {
   "cell_type": "code",
   "execution_count": 45,
   "metadata": {},
   "outputs": [
    {
     "name": "stderr",
     "output_type": "stream",
     "text": [
      "C:\\ProgramData\\Anaconda3\\lib\\site-packages\\smart_open\\smart_open_lib.py:398: UserWarning: This function is deprecated, use smart_open.open instead. See the migration notes for details: https://github.com/RaRe-Technologies/smart_open/blob/master/README.rst#migrating-to-the-new-open-function\n",
      "  'See the migration notes for details: %s' % _MIGRATION_NOTES_URL\n",
      "C:\\ProgramData\\Anaconda3\\lib\\site-packages\\smart_open\\smart_open_lib.py:398: UserWarning: This function is deprecated, use smart_open.open instead. See the migration notes for details: https://github.com/RaRe-Technologies/smart_open/blob/master/README.rst#migrating-to-the-new-open-function\n",
      "  'See the migration notes for details: %s' % _MIGRATION_NOTES_URL\n"
     ]
    }
   ],
   "source": [
    "mallet_path =  '/Users/javacash/Downloads/mallet-2.0.8/bin/mallet' # update this path\n",
    "ldamallet = gensim.models.wrappers.LdaMallet(mallet_path, corpus=bow_corpus, num_topics=14, id2word=dictionary)"
   ]
  },
  {
   "cell_type": "code",
   "execution_count": 46,
   "metadata": {},
   "outputs": [
    {
     "name": "stdout",
     "output_type": "stream",
     "text": [
      "Topic: 0 \n",
      "Words: 0.073*\"good\" + 0.069*\"thing\" + 0.068*\"littl\" + 0.048*\"notic\" + 0.038*\"great\" + 0.037*\"differ\" + 0.035*\"normal\" + 0.029*\"pretti\" + 0.029*\"coupl\" + 0.023*\"haven\"\n",
      "Topic: 1 \n",
      "Words: 0.068*\"headach\" + 0.054*\"experi\" + 0.047*\"stop\" + 0.044*\"sever\" + 0.043*\"migrain\" + 0.041*\"extrem\" + 0.031*\"nausea\" + 0.027*\"dizzi\" + 0.026*\"begin\" + 0.023*\"caus\"\n",
      "Topic: 2 \n",
      "Words: 0.028*\"caus\" + 0.025*\"stop\" + 0.021*\"itch\" + 0.020*\"infect\" + 0.019*\"burn\" + 0.018*\"blood_pressur\" + 0.017*\"swell\" + 0.017*\"immedi\" + 0.017*\"wors\" + 0.016*\"develop\"\n",
      "Topic: 3 \n",
      "Words: 0.105*\"sleep\" + 0.097*\"night\" + 0.068*\"hour\" + 0.042*\"morn\" + 0.039*\"wake\" + 0.032*\"tire\" + 0.025*\"great\" + 0.023*\"couldn\" + 0.020*\"insomnia\" + 0.017*\"half\"\n",
      "Topic: 4 \n",
      "Words: 0.097*\"anxieti\" + 0.090*\"depress\" + 0.019*\"panic_attack\" + 0.016*\"zoloft\" + 0.015*\"lexapro\" + 0.014*\"disord\" + 0.014*\"mood\" + 0.012*\"person\" + 0.012*\"cymbalta\" + 0.011*\"anxious\"\n",
      "Topic: 5 \n",
      "Words: 0.038*\"read\" + 0.028*\"decid\" + 0.025*\"worst\" + 0.025*\"wasn\" + 0.025*\"stop\" + 0.022*\"wait\" + 0.021*\"peopl\" + 0.020*\"happen\" + 0.019*\"sweat\" + 0.017*\"recommend\"\n",
      "Topic: 6 \n",
      "Words: 0.056*\"skin\" + 0.044*\"clear\" + 0.033*\"face\" + 0.027*\"product\" + 0.022*\"wors\" + 0.021*\"break\" + 0.020*\"result\" + 0.018*\"hair\" + 0.017*\"improv\" + 0.017*\"amaz\"\n",
      "Topic: 7 \n",
      "Words: 0.120*\"weight\" + 0.089*\"gain\" + 0.078*\"lose\" + 0.040*\"pound\" + 0.029*\"loss\" + 0.026*\"appetit\" + 0.018*\"energi\" + 0.018*\"chang\" + 0.016*\"exercis\" + 0.013*\"food\"\n",
      "Topic: 8 \n",
      "Words: 0.095*\"quot\" + 0.028*\"final\" + 0.017*\"quit\" + 0.016*\"live\" + 0.016*\"normal\" + 0.015*\"smoke\" + 0.015*\"miracl\" + 0.015*\"stay\" + 0.015*\"stop\" + 0.014*\"talk\"\n",
      "Topic: 9 \n",
      "Words: 0.043*\"switch\" + 0.036*\"love\" + 0.034*\"drive\" + 0.029*\"birth_control\" + 0.026*\"mood_sw\" + 0.025*\"differ\" + 0.024*\"bodi\" + 0.023*\"chang\" + 0.022*\"recommend\" + 0.022*\"horribl\"\n",
      "Topic: 10 \n",
      "Words: 0.026*\"shoot\" + 0.024*\"relief\" + 0.022*\"inject\" + 0.021*\"patch\" + 0.021*\"leav\" + 0.019*\"test\" + 0.017*\"walk\" + 0.017*\"surgeri\" + 0.017*\"diagnos\" + 0.015*\"blood\"\n",
      "Topic: 11 \n",
      "Words: 0.038*\"stomach\" + 0.037*\"drink\" + 0.034*\"hour\" + 0.030*\"minut\" + 0.025*\"sick\" + 0.024*\"water\" + 0.023*\"nausea\" + 0.022*\"dose\" + 0.020*\"mouth\" + 0.020*\"tast\"\n",
      "Topic: 12 \n",
      "Words: 0.151*\"period\" + 0.073*\"cramp\" + 0.053*\"bleed\" + 0.039*\"spot\" + 0.035*\"insert\" + 0.032*\"birth_control\" + 0.024*\"heavi\" + 0.024*\"light\" + 0.023*\"pregnant\" + 0.019*\"remov\"\n",
      "Topic: 13 \n",
      "Words: 0.058*\"dose\" + 0.031*\"daili\" + 0.024*\"dosag\" + 0.018*\"medicin\" + 0.017*\"high\" + 0.017*\"withdraw\" + 0.014*\"lower\" + 0.014*\"reduc\" + 0.012*\"suffer\" + 0.011*\"addict\"\n"
     ]
    }
   ],
   "source": [
    "topics_num=ldamallet.print_topics(-1)\n",
    "for idx, topic in topics_num:\n",
    "    print('Topic: {} \\nWords: {}'.format(idx, topic))"
   ]
  },
  {
   "cell_type": "markdown",
   "metadata": {},
   "source": [
    "Here we do see that some of the words in the topics do differ and more importantly mallet LDA may have seperated some of the topics. For example blood pressure is located in a topic that seems to be exlusively about blood pressure and it is seperated from anothr topic that is about dosage. The original LDA had a more clear representation of a topic obviously being about smoking, but in Mallet's version we are less convicned that smoking discussions are homogenous in the topic it was placed in. "
   ]
  },
  {
   "cell_type": "code",
   "execution_count": 47,
   "metadata": {},
   "outputs": [
    {
     "name": "stdout",
     "output_type": "stream",
     "text": [
      "\n",
      "Coherence Score is....  0.5504268653673317\n"
     ]
    }
   ],
   "source": [
    "# Getting the Coherance score\n",
    "CohLda = CoherenceModel(model=ldamallet, texts=tokenized_Reviews, dictionary=dictionary, coherence='c_v')\n",
    "coherencelda = CohLda.get_coherence()\n",
    "print ('\\nCoherence Score is.... ', coherencelda)"
   ]
  },
  {
   "cell_type": "markdown",
   "metadata": {},
   "source": [
    "We do see that our overall coherance score is in fact higher for the mallet version, so we will continue with this version in our following work."
   ]
  },
  {
   "cell_type": "markdown",
   "metadata": {},
   "source": [
    "## (4) Machine Learning Models : Distribution of Topics"
   ]
  },
  {
   "cell_type": "markdown",
   "metadata": {},
   "source": [
    "One way to represent drug review data is to represent the text by a distribution over topics. Essentially we have created a topic model, extracted the distribution of topics across our 14 built topics, and we are using this numerical representation as predictors in a machine learning model that maps to the rating of the drug. It will be interesting to see if this has any predictive power"
   ]
  },
  {
   "cell_type": "code",
   "execution_count": 48,
   "metadata": {},
   "outputs": [
    {
     "data": {
      "text/plain": [
       "'C:\\\\Users\\\\javacash\\\\AppData\\\\Local\\\\Temp\\\\3c3ea3_doctopics.txt'"
      ]
     },
     "execution_count": 48,
     "metadata": {},
     "output_type": "execute_result"
    }
   ],
   "source": [
    "ldamallet.fdoctopics()"
   ]
  },
  {
   "cell_type": "code",
   "execution_count": 50,
   "metadata": {},
   "outputs": [
    {
     "name": "stderr",
     "output_type": "stream",
     "text": [
      "C:\\ProgramData\\Anaconda3\\lib\\site-packages\\smart_open\\smart_open_lib.py:398: UserWarning: This function is deprecated, use smart_open.open instead. See the migration notes for details: https://github.com/RaRe-Technologies/smart_open/blob/master/README.rst#migrating-to-the-new-open-function\n",
      "  'See the migration notes for details: %s' % _MIGRATION_NOTES_URL\n"
     ]
    }
   ],
   "source": [
    "topic_distsMallet=list(ldamallet.read_doctopics('C:\\\\Users\\\\javacash\\\\Appdata\\\\Local\\\\Temp\\\\3c3ea3_doctopics.txt', eps=0, renorm=True))"
   ]
  },
  {
   "cell_type": "code",
   "execution_count": 51,
   "metadata": {},
   "outputs": [
    {
     "data": {
      "text/plain": [
       "[[0.08074534161490683,\n",
       "  0.08074534161490683,\n",
       "  0.051759834368530024,\n",
       "  0.08074534161490683,\n",
       "  0.15320910973084886,\n",
       "  0.051759834368530024,\n",
       "  0.051759834368530024,\n",
       "  0.12422360248447205,\n",
       "  0.051759834368530024,\n",
       "  0.051759834368530024,\n",
       "  0.06625258799171842,\n",
       "  0.051759834368530024,\n",
       "  0.051759834368530024,\n",
       "  0.051759834368530024],\n",
       " [0.07619047619047618,\n",
       "  0.05952380952380953,\n",
       "  0.07619047619047618,\n",
       "  0.05952380952380953,\n",
       "  0.05952380952380953,\n",
       "  0.05952380952380953,\n",
       "  0.07619047619047618,\n",
       "  0.05952380952380953,\n",
       "  0.05952380952380953,\n",
       "  0.07619047619047618,\n",
       "  0.09285714285714285,\n",
       "  0.09285714285714285,\n",
       "  0.05952380952380953,\n",
       "  0.09285714285714285]]"
      ]
     },
     "execution_count": 51,
     "metadata": {},
     "output_type": "execute_result"
    }
   ],
   "source": [
    "list_of_lists=[]\n",
    "for thing in topic_distsMallet:\n",
    "    for elem in thing:\n",
    "        list_of_lists.append(list(elem))\n",
    "#list_of_lists = [list(elem) for elem in topic_distsMallet[0]]\n",
    "for list1 in list_of_lists:\n",
    "    list1.reverse()\n",
    "    list1.pop()\n",
    "list_of_lists\n",
    "from itertools import chain\n",
    "list_of_lists=list(chain.from_iterable(list_of_lists))\n",
    "list_of_lists\n",
    "i=0\n",
    "train_vecsMallet=[]\n",
    "while i<len(list_of_lists):\n",
    "  train_vecsMallet.append(list_of_lists[i:i+14])\n",
    "  i+=14\n",
    "train_vecsMallet[0:2]\n"
   ]
  },
  {
   "cell_type": "markdown",
   "metadata": {},
   "source": [
    "Now we have got the distribution of topics per document"
   ]
  },
  {
   "cell_type": "code",
   "execution_count": 52,
   "metadata": {},
   "outputs": [],
   "source": [
    "class Topic_Modeling():\n",
    "    def __init__(self, data, model, corpus, n, other_variable = None):\n",
    "        self.data=data\n",
    "        self.model=model\n",
    "        self.corpus=corpus        \n",
    "        self.n = n\n",
    "        if other_variable is None:\n",
    "            self.other_variable=[]\n",
    "        else:\n",
    "            self.other_variable=other_variable\n",
    "    def distribution_list(self):        \n",
    "        train_vecs = []\n",
    "        for i in range(len(self.corpus)):\n",
    "            top_topics = self.model.get_document_topics(self.corpus[i], minimum_probability=0)\n",
    "            topic_vec = [top_topics[i][1] for i in range(self.n)]\n",
    "            if self.other_variable:\n",
    "                for variable in self.other_variable:\n",
    "                    topic_vec.extend([self.data[str(variable)][i]]) # length review\n",
    "            train_vecs.append(topic_vec)\n",
    "        return train_vecs\n",
    "\n",
    "Dist1 = Topic_Modeling(Reviews, model_lda, bow_corpus, 14)\n",
    "train_vecs=Dist1.distribution_list()"
   ]
  },
  {
   "cell_type": "code",
   "execution_count": 53,
   "metadata": {},
   "outputs": [
    {
     "data": {
      "text/plain": [
       "[0.0032476352,\n",
       " 0.0032476278,\n",
       " 0.0032476264,\n",
       " 0.0032476229,\n",
       " 0.0032476229,\n",
       " 0.0032476184,\n",
       " 0.14237279,\n",
       " 0.31415582,\n",
       " 0.18508816,\n",
       " 0.0032476203,\n",
       " 0.2462447,\n",
       " 0.0032476184,\n",
       " 0.08290992,\n",
       " 0.0032476333]"
      ]
     },
     "execution_count": 53,
     "metadata": {},
     "output_type": "execute_result"
    }
   ],
   "source": [
    "train_vecs[0]"
   ]
  },
  {
   "cell_type": "markdown",
   "metadata": {},
   "source": [
    "Our class method handled the distribution of topics for the LDA model and one can compare for the first document how the distribution of topics is different. Thuogh the distribution of topics does differ numerically, you can see that just in this example both Mallet and gensim's LDA yield the 8th topic as the most prevalent topic within the the first document But we will go ahead and utilize Mallet's data since at least by the coherance score it gave better results."
   ]
  },
  {
   "cell_type": "code",
   "execution_count": 54,
   "metadata": {},
   "outputs": [
    {
     "data": {
      "text/html": [
       "<div>\n",
       "<style scoped>\n",
       "    .dataframe tbody tr th:only-of-type {\n",
       "        vertical-align: middle;\n",
       "    }\n",
       "\n",
       "    .dataframe tbody tr th {\n",
       "        vertical-align: top;\n",
       "    }\n",
       "\n",
       "    .dataframe thead th {\n",
       "        text-align: right;\n",
       "    }\n",
       "</style>\n",
       "<table border=\"1\" class=\"dataframe\">\n",
       "  <thead>\n",
       "    <tr style=\"text-align: right;\">\n",
       "      <th></th>\n",
       "      <th>topic_1</th>\n",
       "      <th>topic_2</th>\n",
       "      <th>topic_3</th>\n",
       "      <th>topic_4</th>\n",
       "      <th>topic_5</th>\n",
       "      <th>topic_6</th>\n",
       "      <th>topic_7</th>\n",
       "      <th>topic_8</th>\n",
       "      <th>topic_9</th>\n",
       "      <th>topic_10</th>\n",
       "      <th>topic_11</th>\n",
       "      <th>topic_12</th>\n",
       "      <th>topic_13</th>\n",
       "      <th>topic_14</th>\n",
       "    </tr>\n",
       "  </thead>\n",
       "  <tbody>\n",
       "    <tr>\n",
       "      <th>0</th>\n",
       "      <td>0.080745</td>\n",
       "      <td>0.080745</td>\n",
       "      <td>0.051760</td>\n",
       "      <td>0.080745</td>\n",
       "      <td>0.153209</td>\n",
       "      <td>0.051760</td>\n",
       "      <td>0.051760</td>\n",
       "      <td>0.124224</td>\n",
       "      <td>0.051760</td>\n",
       "      <td>0.051760</td>\n",
       "      <td>0.066253</td>\n",
       "      <td>0.051760</td>\n",
       "      <td>0.051760</td>\n",
       "      <td>0.051760</td>\n",
       "    </tr>\n",
       "    <tr>\n",
       "      <th>1</th>\n",
       "      <td>0.076190</td>\n",
       "      <td>0.059524</td>\n",
       "      <td>0.076190</td>\n",
       "      <td>0.059524</td>\n",
       "      <td>0.059524</td>\n",
       "      <td>0.059524</td>\n",
       "      <td>0.076190</td>\n",
       "      <td>0.059524</td>\n",
       "      <td>0.059524</td>\n",
       "      <td>0.076190</td>\n",
       "      <td>0.092857</td>\n",
       "      <td>0.092857</td>\n",
       "      <td>0.059524</td>\n",
       "      <td>0.092857</td>\n",
       "    </tr>\n",
       "    <tr>\n",
       "      <th>2</th>\n",
       "      <td>0.087912</td>\n",
       "      <td>0.068681</td>\n",
       "      <td>0.068681</td>\n",
       "      <td>0.068681</td>\n",
       "      <td>0.068681</td>\n",
       "      <td>0.068681</td>\n",
       "      <td>0.068681</td>\n",
       "      <td>0.068681</td>\n",
       "      <td>0.068681</td>\n",
       "      <td>0.068681</td>\n",
       "      <td>0.087912</td>\n",
       "      <td>0.068681</td>\n",
       "      <td>0.068681</td>\n",
       "      <td>0.068681</td>\n",
       "    </tr>\n",
       "    <tr>\n",
       "      <th>3</th>\n",
       "      <td>0.075534</td>\n",
       "      <td>0.041051</td>\n",
       "      <td>0.075534</td>\n",
       "      <td>0.041051</td>\n",
       "      <td>0.052545</td>\n",
       "      <td>0.052545</td>\n",
       "      <td>0.041051</td>\n",
       "      <td>0.213465</td>\n",
       "      <td>0.121511</td>\n",
       "      <td>0.041051</td>\n",
       "      <td>0.052545</td>\n",
       "      <td>0.064039</td>\n",
       "      <td>0.041051</td>\n",
       "      <td>0.087028</td>\n",
       "    </tr>\n",
       "    <tr>\n",
       "      <th>4</th>\n",
       "      <td>0.082143</td>\n",
       "      <td>0.082143</td>\n",
       "      <td>0.044643</td>\n",
       "      <td>0.057143</td>\n",
       "      <td>0.057143</td>\n",
       "      <td>0.082143</td>\n",
       "      <td>0.044643</td>\n",
       "      <td>0.057143</td>\n",
       "      <td>0.044643</td>\n",
       "      <td>0.144643</td>\n",
       "      <td>0.057143</td>\n",
       "      <td>0.044643</td>\n",
       "      <td>0.157143</td>\n",
       "      <td>0.044643</td>\n",
       "    </tr>\n",
       "  </tbody>\n",
       "</table>\n",
       "</div>"
      ],
      "text/plain": [
       "    topic_1   topic_2   topic_3   topic_4   topic_5   topic_6   topic_7  \\\n",
       "0  0.080745  0.080745  0.051760  0.080745  0.153209  0.051760  0.051760   \n",
       "1  0.076190  0.059524  0.076190  0.059524  0.059524  0.059524  0.076190   \n",
       "2  0.087912  0.068681  0.068681  0.068681  0.068681  0.068681  0.068681   \n",
       "3  0.075534  0.041051  0.075534  0.041051  0.052545  0.052545  0.041051   \n",
       "4  0.082143  0.082143  0.044643  0.057143  0.057143  0.082143  0.044643   \n",
       "\n",
       "    topic_8   topic_9  topic_10  topic_11  topic_12  topic_13  topic_14  \n",
       "0  0.124224  0.051760  0.051760  0.066253  0.051760  0.051760  0.051760  \n",
       "1  0.059524  0.059524  0.076190  0.092857  0.092857  0.059524  0.092857  \n",
       "2  0.068681  0.068681  0.068681  0.087912  0.068681  0.068681  0.068681  \n",
       "3  0.213465  0.121511  0.041051  0.052545  0.064039  0.041051  0.087028  \n",
       "4  0.057143  0.044643  0.144643  0.057143  0.044643  0.157143  0.044643  "
      ]
     },
     "execution_count": 54,
     "metadata": {},
     "output_type": "execute_result"
    }
   ],
   "source": [
    "X=pd.DataFrame(pd.concat([pd.Series([doc[i] for doc in train_vecsMallet]) for i in range(14)], axis=1))\n",
    "topic_dists=X.rename(columns = lambda x : 'topic_' + str(x+1))\n",
    "topic_dists.head()"
   ]
  },
  {
   "cell_type": "code",
   "execution_count": 55,
   "metadata": {},
   "outputs": [
    {
     "data": {
      "text/html": [
       "<div>\n",
       "<style scoped>\n",
       "    .dataframe tbody tr th:only-of-type {\n",
       "        vertical-align: middle;\n",
       "    }\n",
       "\n",
       "    .dataframe tbody tr th {\n",
       "        vertical-align: top;\n",
       "    }\n",
       "\n",
       "    .dataframe thead th {\n",
       "        text-align: right;\n",
       "    }\n",
       "</style>\n",
       "<table border=\"1\" class=\"dataframe\">\n",
       "  <thead>\n",
       "    <tr style=\"text-align: right;\">\n",
       "      <th></th>\n",
       "      <th>topic_1</th>\n",
       "      <th>topic_2</th>\n",
       "      <th>topic_3</th>\n",
       "      <th>topic_4</th>\n",
       "      <th>topic_5</th>\n",
       "      <th>topic_6</th>\n",
       "      <th>topic_7</th>\n",
       "      <th>topic_8</th>\n",
       "      <th>topic_9</th>\n",
       "      <th>topic_10</th>\n",
       "      <th>topic_11</th>\n",
       "      <th>topic_12</th>\n",
       "      <th>topic_13</th>\n",
       "      <th>topic_14</th>\n",
       "      <th>dominant_topic</th>\n",
       "    </tr>\n",
       "  </thead>\n",
       "  <tbody>\n",
       "    <tr>\n",
       "      <th>0</th>\n",
       "      <td>0.080745</td>\n",
       "      <td>0.080745</td>\n",
       "      <td>0.051760</td>\n",
       "      <td>0.080745</td>\n",
       "      <td>0.153209</td>\n",
       "      <td>0.051760</td>\n",
       "      <td>0.051760</td>\n",
       "      <td>0.124224</td>\n",
       "      <td>0.051760</td>\n",
       "      <td>0.051760</td>\n",
       "      <td>0.066253</td>\n",
       "      <td>0.051760</td>\n",
       "      <td>0.051760</td>\n",
       "      <td>0.051760</td>\n",
       "      <td>topic_5</td>\n",
       "    </tr>\n",
       "    <tr>\n",
       "      <th>1</th>\n",
       "      <td>0.076190</td>\n",
       "      <td>0.059524</td>\n",
       "      <td>0.076190</td>\n",
       "      <td>0.059524</td>\n",
       "      <td>0.059524</td>\n",
       "      <td>0.059524</td>\n",
       "      <td>0.076190</td>\n",
       "      <td>0.059524</td>\n",
       "      <td>0.059524</td>\n",
       "      <td>0.076190</td>\n",
       "      <td>0.092857</td>\n",
       "      <td>0.092857</td>\n",
       "      <td>0.059524</td>\n",
       "      <td>0.092857</td>\n",
       "      <td>topic_11</td>\n",
       "    </tr>\n",
       "    <tr>\n",
       "      <th>2</th>\n",
       "      <td>0.087912</td>\n",
       "      <td>0.068681</td>\n",
       "      <td>0.068681</td>\n",
       "      <td>0.068681</td>\n",
       "      <td>0.068681</td>\n",
       "      <td>0.068681</td>\n",
       "      <td>0.068681</td>\n",
       "      <td>0.068681</td>\n",
       "      <td>0.068681</td>\n",
       "      <td>0.068681</td>\n",
       "      <td>0.087912</td>\n",
       "      <td>0.068681</td>\n",
       "      <td>0.068681</td>\n",
       "      <td>0.068681</td>\n",
       "      <td>topic_1</td>\n",
       "    </tr>\n",
       "    <tr>\n",
       "      <th>3</th>\n",
       "      <td>0.075534</td>\n",
       "      <td>0.041051</td>\n",
       "      <td>0.075534</td>\n",
       "      <td>0.041051</td>\n",
       "      <td>0.052545</td>\n",
       "      <td>0.052545</td>\n",
       "      <td>0.041051</td>\n",
       "      <td>0.213465</td>\n",
       "      <td>0.121511</td>\n",
       "      <td>0.041051</td>\n",
       "      <td>0.052545</td>\n",
       "      <td>0.064039</td>\n",
       "      <td>0.041051</td>\n",
       "      <td>0.087028</td>\n",
       "      <td>topic_8</td>\n",
       "    </tr>\n",
       "    <tr>\n",
       "      <th>4</th>\n",
       "      <td>0.082143</td>\n",
       "      <td>0.082143</td>\n",
       "      <td>0.044643</td>\n",
       "      <td>0.057143</td>\n",
       "      <td>0.057143</td>\n",
       "      <td>0.082143</td>\n",
       "      <td>0.044643</td>\n",
       "      <td>0.057143</td>\n",
       "      <td>0.044643</td>\n",
       "      <td>0.144643</td>\n",
       "      <td>0.057143</td>\n",
       "      <td>0.044643</td>\n",
       "      <td>0.157143</td>\n",
       "      <td>0.044643</td>\n",
       "      <td>topic_13</td>\n",
       "    </tr>\n",
       "  </tbody>\n",
       "</table>\n",
       "</div>"
      ],
      "text/plain": [
       "    topic_1   topic_2   topic_3   topic_4   topic_5   topic_6   topic_7  \\\n",
       "0  0.080745  0.080745  0.051760  0.080745  0.153209  0.051760  0.051760   \n",
       "1  0.076190  0.059524  0.076190  0.059524  0.059524  0.059524  0.076190   \n",
       "2  0.087912  0.068681  0.068681  0.068681  0.068681  0.068681  0.068681   \n",
       "3  0.075534  0.041051  0.075534  0.041051  0.052545  0.052545  0.041051   \n",
       "4  0.082143  0.082143  0.044643  0.057143  0.057143  0.082143  0.044643   \n",
       "\n",
       "    topic_8   topic_9  topic_10  topic_11  topic_12  topic_13  topic_14  \\\n",
       "0  0.124224  0.051760  0.051760  0.066253  0.051760  0.051760  0.051760   \n",
       "1  0.059524  0.059524  0.076190  0.092857  0.092857  0.059524  0.092857   \n",
       "2  0.068681  0.068681  0.068681  0.087912  0.068681  0.068681  0.068681   \n",
       "3  0.213465  0.121511  0.041051  0.052545  0.064039  0.041051  0.087028   \n",
       "4  0.057143  0.044643  0.144643  0.057143  0.044643  0.157143  0.044643   \n",
       "\n",
       "  dominant_topic  \n",
       "0        topic_5  \n",
       "1       topic_11  \n",
       "2        topic_1  \n",
       "3        topic_8  \n",
       "4       topic_13  "
      ]
     },
     "execution_count": 55,
     "metadata": {},
     "output_type": "execute_result"
    }
   ],
   "source": [
    "#topic_dists.rename(columns={topic_dists.columns[14]: \"word_length\" },inplace=True)\n",
    "topic_lists=[]\n",
    "for i in list(range(1,15)):\n",
    "    name='topic_' + str(i)\n",
    "    topic_lists.append(name)\n",
    "topic_lists\n",
    "topic_dists['dominant_topic'] = topic_dists[topic_lists].idxmax(axis=1)\n",
    "topic_dists.head()"
   ]
  },
  {
   "cell_type": "code",
   "execution_count": 57,
   "metadata": {},
   "outputs": [
    {
     "data": {
      "text/plain": [
       "[Text(0, 0.5, 'Frequency'), Text(0.5, 0, 'Dominant Topic')]"
      ]
     },
     "execution_count": 57,
     "metadata": {},
     "output_type": "execute_result"
    },
    {
     "data": {
      "image/png": "[encoded data removed]",
      "text/plain": [
       "<Figure size 792x432 with 1 Axes>"
      ]
     },
     "metadata": {},
     "output_type": "display_data"
    }
   ],
   "source": [
    "topic_data=pd.DataFrame(topic_dists.dominant_topic.value_counts().reset_index())\n",
    "plt.figure(figsize=(11, 6))\n",
    "sns.set_style(\"whitegrid\")\n",
    "ax = sns.barplot(x=\"index\", y=\"dominant_topic\", data=topic_data)\n",
    "ax.set_title(\"Frequency Counts of dominant topics\")\n",
    "ax.set(xlabel='Dominant Topic',ylabel='Frequency')"
   ]
  },
  {
   "cell_type": "markdown",
   "metadata": {},
   "source": [
    "Our variable indicating the dominant topic tells us that topic 4 and 8 which are about depression / anxiety and pregnancy / birth control related conditions are most often the dominant topic that is discussed, respectively. This matches exactly what we had seen in our word cloud and the topic model visualization tool"
   ]
  },
  {
   "cell_type": "code",
   "execution_count": 58,
   "metadata": {},
   "outputs": [
    {
     "data": {
      "text/html": [
       "<div>\n",
       "<style scoped>\n",
       "    .dataframe tbody tr th:only-of-type {\n",
       "        vertical-align: middle;\n",
       "    }\n",
       "\n",
       "    .dataframe tbody tr th {\n",
       "        vertical-align: top;\n",
       "    }\n",
       "\n",
       "    .dataframe thead th {\n",
       "        text-align: right;\n",
       "    }\n",
       "</style>\n",
       "<table border=\"1\" class=\"dataframe\">\n",
       "  <thead>\n",
       "    <tr style=\"text-align: right;\">\n",
       "      <th></th>\n",
       "      <th>topic_1</th>\n",
       "      <th>topic_2</th>\n",
       "      <th>topic_3</th>\n",
       "      <th>topic_4</th>\n",
       "      <th>topic_5</th>\n",
       "      <th>topic_6</th>\n",
       "      <th>topic_7</th>\n",
       "      <th>topic_8</th>\n",
       "      <th>topic_9</th>\n",
       "      <th>topic_10</th>\n",
       "      <th>...</th>\n",
       "      <th>topic_12</th>\n",
       "      <th>topic_13</th>\n",
       "      <th>topic_14</th>\n",
       "      <th>dominant_topic</th>\n",
       "      <th>drugName</th>\n",
       "      <th>condition</th>\n",
       "      <th>review</th>\n",
       "      <th>rating</th>\n",
       "      <th>usefulCount</th>\n",
       "      <th>year</th>\n",
       "    </tr>\n",
       "  </thead>\n",
       "  <tbody>\n",
       "    <tr>\n",
       "      <th>0</th>\n",
       "      <td>0.080745</td>\n",
       "      <td>0.080745</td>\n",
       "      <td>0.051760</td>\n",
       "      <td>0.080745</td>\n",
       "      <td>0.153209</td>\n",
       "      <td>0.051760</td>\n",
       "      <td>0.051760</td>\n",
       "      <td>0.124224</td>\n",
       "      <td>0.051760</td>\n",
       "      <td>0.051760</td>\n",
       "      <td>...</td>\n",
       "      <td>0.051760</td>\n",
       "      <td>0.051760</td>\n",
       "      <td>0.051760</td>\n",
       "      <td>topic_5</td>\n",
       "      <td>Mirtazapine</td>\n",
       "      <td>Depression</td>\n",
       "      <td>antidepress citalopram fluoxetin amitriptylin ...</td>\n",
       "      <td>10</td>\n",
       "      <td>22</td>\n",
       "      <td>2012</td>\n",
       "    </tr>\n",
       "    <tr>\n",
       "      <th>1</th>\n",
       "      <td>0.076190</td>\n",
       "      <td>0.059524</td>\n",
       "      <td>0.076190</td>\n",
       "      <td>0.059524</td>\n",
       "      <td>0.059524</td>\n",
       "      <td>0.059524</td>\n",
       "      <td>0.076190</td>\n",
       "      <td>0.059524</td>\n",
       "      <td>0.059524</td>\n",
       "      <td>0.076190</td>\n",
       "      <td>...</td>\n",
       "      <td>0.092857</td>\n",
       "      <td>0.059524</td>\n",
       "      <td>0.092857</td>\n",
       "      <td>topic_11</td>\n",
       "      <td>Mesalamine</td>\n",
       "      <td>Crohn's Disease, Maintenance</td>\n",
       "      <td>crohn_diseas asacol complaint tablet happi res...</td>\n",
       "      <td>8</td>\n",
       "      <td>17</td>\n",
       "      <td>2009</td>\n",
       "    </tr>\n",
       "    <tr>\n",
       "      <th>2</th>\n",
       "      <td>0.087912</td>\n",
       "      <td>0.068681</td>\n",
       "      <td>0.068681</td>\n",
       "      <td>0.068681</td>\n",
       "      <td>0.068681</td>\n",
       "      <td>0.068681</td>\n",
       "      <td>0.068681</td>\n",
       "      <td>0.068681</td>\n",
       "      <td>0.068681</td>\n",
       "      <td>0.068681</td>\n",
       "      <td>...</td>\n",
       "      <td>0.068681</td>\n",
       "      <td>0.068681</td>\n",
       "      <td>0.068681</td>\n",
       "      <td>topic_1</td>\n",
       "      <td>Bactrim</td>\n",
       "      <td>Urinary Tract Infection</td>\n",
       "      <td>quick reduct</td>\n",
       "      <td>9</td>\n",
       "      <td>3</td>\n",
       "      <td>2017</td>\n",
       "    </tr>\n",
       "  </tbody>\n",
       "</table>\n",
       "<p>3 rows × 21 columns</p>\n",
       "</div>"
      ],
      "text/plain": [
       "    topic_1   topic_2   topic_3   topic_4   topic_5   topic_6   topic_7  \\\n",
       "0  0.080745  0.080745  0.051760  0.080745  0.153209  0.051760  0.051760   \n",
       "1  0.076190  0.059524  0.076190  0.059524  0.059524  0.059524  0.076190   \n",
       "2  0.087912  0.068681  0.068681  0.068681  0.068681  0.068681  0.068681   \n",
       "\n",
       "    topic_8   topic_9  topic_10  ...   topic_12  topic_13  topic_14  \\\n",
       "0  0.124224  0.051760  0.051760  ...   0.051760  0.051760  0.051760   \n",
       "1  0.059524  0.059524  0.076190  ...   0.092857  0.059524  0.092857   \n",
       "2  0.068681  0.068681  0.068681  ...   0.068681  0.068681  0.068681   \n",
       "\n",
       "   dominant_topic     drugName                     condition  \\\n",
       "0         topic_5  Mirtazapine                    Depression   \n",
       "1        topic_11   Mesalamine  Crohn's Disease, Maintenance   \n",
       "2         topic_1      Bactrim       Urinary Tract Infection   \n",
       "\n",
       "                                              review rating  usefulCount  year  \n",
       "0  antidepress citalopram fluoxetin amitriptylin ...     10           22  2012  \n",
       "1  crohn_diseas asacol complaint tablet happi res...      8           17  2009  \n",
       "2                                       quick reduct      9            3  2017  \n",
       "\n",
       "[3 rows x 21 columns]"
      ]
     },
     "execution_count": 58,
     "metadata": {},
     "output_type": "execute_result"
    }
   ],
   "source": [
    "Reviews_data= Reviews[['drugName','condition','review','rating','usefulCount','year']]\n",
    "Reviews_data1=pd.merge(topic_dists, Reviews_data, left_index=True, right_index=True)\n",
    "Reviews_data1.head(3)\n"
   ]
  },
  {
   "cell_type": "code",
   "execution_count": 59,
   "metadata": {},
   "outputs": [],
   "source": [
    "Reviews_data1['dominant_topic'] = Reviews_data1['dominant_topic'].astype('category')"
   ]
  },
  {
   "cell_type": "code",
   "execution_count": 60,
   "metadata": {},
   "outputs": [
    {
     "name": "stderr",
     "output_type": "stream",
     "text": [
      "C:\\ProgramData\\Anaconda3\\lib\\site-packages\\statsmodels\\stats\\libqsturng\\qsturng_.py:755: DeprecationWarning: In future, it will be an error for 'np.bool_' scalars to be interpreted as an index\n",
      "  scipy.stats.t.isf((1.+p)/2., (v,1e38)[v>1e38])\n"
     ]
    },
    {
     "data": {
      "text/html": [
       "<div>\n",
       "<style scoped>\n",
       "    .dataframe tbody tr th:only-of-type {\n",
       "        vertical-align: middle;\n",
       "    }\n",
       "\n",
       "    .dataframe tbody tr th {\n",
       "        vertical-align: top;\n",
       "    }\n",
       "\n",
       "    .dataframe thead th {\n",
       "        text-align: right;\n",
       "    }\n",
       "</style>\n",
       "<table border=\"1\" class=\"dataframe\">\n",
       "  <thead>\n",
       "    <tr style=\"text-align: right;\">\n",
       "      <th></th>\n",
       "      <th>group1</th>\n",
       "      <th>group2</th>\n",
       "      <th>meandiff</th>\n",
       "      <th>lower</th>\n",
       "      <th>upper</th>\n",
       "      <th>reject</th>\n",
       "    </tr>\n",
       "  </thead>\n",
       "  <tbody>\n",
       "    <tr>\n",
       "      <th>75</th>\n",
       "      <td>topic_3</td>\n",
       "      <td>topic_9</td>\n",
       "      <td>1.9339</td>\n",
       "      <td>1.6611</td>\n",
       "      <td>2.2067</td>\n",
       "      <td>True</td>\n",
       "    </tr>\n",
       "    <tr>\n",
       "      <th>69</th>\n",
       "      <td>topic_2</td>\n",
       "      <td>topic_9</td>\n",
       "      <td>1.7023</td>\n",
       "      <td>1.4139</td>\n",
       "      <td>1.9908</td>\n",
       "      <td>True</td>\n",
       "    </tr>\n",
       "    <tr>\n",
       "      <th>24</th>\n",
       "      <td>topic_10</td>\n",
       "      <td>topic_9</td>\n",
       "      <td>1.6790</td>\n",
       "      <td>1.3826</td>\n",
       "      <td>1.9754</td>\n",
       "      <td>True</td>\n",
       "    </tr>\n",
       "    <tr>\n",
       "      <th>71</th>\n",
       "      <td>topic_3</td>\n",
       "      <td>topic_5</td>\n",
       "      <td>1.5378</td>\n",
       "      <td>1.3357</td>\n",
       "      <td>1.7399</td>\n",
       "      <td>True</td>\n",
       "    </tr>\n",
       "    <tr>\n",
       "      <th>16</th>\n",
       "      <td>topic_10</td>\n",
       "      <td>topic_14</td>\n",
       "      <td>1.4774</td>\n",
       "      <td>1.1853</td>\n",
       "      <td>1.7694</td>\n",
       "      <td>True</td>\n",
       "    </tr>\n",
       "  </tbody>\n",
       "</table>\n",
       "</div>"
      ],
      "text/plain": [
       "      group1    group2  meandiff   lower   upper  reject\n",
       "75   topic_3   topic_9    1.9339  1.6611  2.2067    True\n",
       "69   topic_2   topic_9    1.7023  1.4139  1.9908    True\n",
       "24  topic_10   topic_9    1.6790  1.3826  1.9754    True\n",
       "71   topic_3   topic_5    1.5378  1.3357  1.7399    True\n",
       "16  topic_10  topic_14    1.4774  1.1853  1.7694    True"
      ]
     },
     "execution_count": 60,
     "metadata": {},
     "output_type": "execute_result"
    }
   ],
   "source": [
    "from statsmodels.stats.multicomp import (pairwise_tukeyhsd, MultiComparison)\n",
    "Results = pairwise_tukeyhsd(Reviews_data1['rating'], Reviews_data1['dominant_topic'])\n",
    "df = pd.DataFrame(data=Results._results_table.data[1:], columns=Results._results_table.data[0])\n",
    "df=df[df.reject == True]\n",
    "df.sort_values(by='meandiff', ascending=False)[0:5]"
   ]
  },
  {
   "cell_type": "markdown",
   "metadata": {},
   "source": [
    "We see that out of the over 90 comparisons that we can make with dominant topics, the top 5 of them that have significant mean differences are in the table above."
   ]
  },
  {
   "cell_type": "code",
   "execution_count": 61,
   "metadata": {},
   "outputs": [
    {
     "data": {
      "text/html": [
       "<div>\n",
       "<style scoped>\n",
       "    .dataframe tbody tr th:only-of-type {\n",
       "        vertical-align: middle;\n",
       "    }\n",
       "\n",
       "    .dataframe tbody tr th {\n",
       "        vertical-align: top;\n",
       "    }\n",
       "\n",
       "    .dataframe thead th {\n",
       "        text-align: right;\n",
       "    }\n",
       "</style>\n",
       "<table border=\"1\" class=\"dataframe\">\n",
       "  <thead>\n",
       "    <tr style=\"text-align: right;\">\n",
       "      <th></th>\n",
       "      <th>topic_1</th>\n",
       "      <th>topic_2</th>\n",
       "      <th>topic_3</th>\n",
       "      <th>topic_4</th>\n",
       "      <th>topic_5</th>\n",
       "      <th>topic_6</th>\n",
       "      <th>topic_7</th>\n",
       "      <th>topic_8</th>\n",
       "      <th>topic_9</th>\n",
       "      <th>topic_10</th>\n",
       "      <th>topic_11</th>\n",
       "      <th>topic_12</th>\n",
       "      <th>topic_13</th>\n",
       "      <th>topic_14</th>\n",
       "      <th>rating</th>\n",
       "      <th>New_Rating</th>\n",
       "    </tr>\n",
       "  </thead>\n",
       "  <tbody>\n",
       "    <tr>\n",
       "      <th>0</th>\n",
       "      <td>0.080745</td>\n",
       "      <td>0.080745</td>\n",
       "      <td>0.051760</td>\n",
       "      <td>0.080745</td>\n",
       "      <td>0.153209</td>\n",
       "      <td>0.051760</td>\n",
       "      <td>0.051760</td>\n",
       "      <td>0.124224</td>\n",
       "      <td>0.051760</td>\n",
       "      <td>0.051760</td>\n",
       "      <td>0.066253</td>\n",
       "      <td>0.051760</td>\n",
       "      <td>0.051760</td>\n",
       "      <td>0.051760</td>\n",
       "      <td>10</td>\n",
       "      <td>GREAT</td>\n",
       "    </tr>\n",
       "    <tr>\n",
       "      <th>1</th>\n",
       "      <td>0.076190</td>\n",
       "      <td>0.059524</td>\n",
       "      <td>0.076190</td>\n",
       "      <td>0.059524</td>\n",
       "      <td>0.059524</td>\n",
       "      <td>0.059524</td>\n",
       "      <td>0.076190</td>\n",
       "      <td>0.059524</td>\n",
       "      <td>0.059524</td>\n",
       "      <td>0.076190</td>\n",
       "      <td>0.092857</td>\n",
       "      <td>0.092857</td>\n",
       "      <td>0.059524</td>\n",
       "      <td>0.092857</td>\n",
       "      <td>8</td>\n",
       "      <td>GREAT</td>\n",
       "    </tr>\n",
       "    <tr>\n",
       "      <th>2</th>\n",
       "      <td>0.087912</td>\n",
       "      <td>0.068681</td>\n",
       "      <td>0.068681</td>\n",
       "      <td>0.068681</td>\n",
       "      <td>0.068681</td>\n",
       "      <td>0.068681</td>\n",
       "      <td>0.068681</td>\n",
       "      <td>0.068681</td>\n",
       "      <td>0.068681</td>\n",
       "      <td>0.068681</td>\n",
       "      <td>0.087912</td>\n",
       "      <td>0.068681</td>\n",
       "      <td>0.068681</td>\n",
       "      <td>0.068681</td>\n",
       "      <td>9</td>\n",
       "      <td>GREAT</td>\n",
       "    </tr>\n",
       "    <tr>\n",
       "      <th>3</th>\n",
       "      <td>0.075534</td>\n",
       "      <td>0.041051</td>\n",
       "      <td>0.075534</td>\n",
       "      <td>0.041051</td>\n",
       "      <td>0.052545</td>\n",
       "      <td>0.052545</td>\n",
       "      <td>0.041051</td>\n",
       "      <td>0.213465</td>\n",
       "      <td>0.121511</td>\n",
       "      <td>0.041051</td>\n",
       "      <td>0.052545</td>\n",
       "      <td>0.064039</td>\n",
       "      <td>0.041051</td>\n",
       "      <td>0.087028</td>\n",
       "      <td>9</td>\n",
       "      <td>GREAT</td>\n",
       "    </tr>\n",
       "    <tr>\n",
       "      <th>4</th>\n",
       "      <td>0.082143</td>\n",
       "      <td>0.082143</td>\n",
       "      <td>0.044643</td>\n",
       "      <td>0.057143</td>\n",
       "      <td>0.057143</td>\n",
       "      <td>0.082143</td>\n",
       "      <td>0.044643</td>\n",
       "      <td>0.057143</td>\n",
       "      <td>0.044643</td>\n",
       "      <td>0.144643</td>\n",
       "      <td>0.057143</td>\n",
       "      <td>0.044643</td>\n",
       "      <td>0.157143</td>\n",
       "      <td>0.044643</td>\n",
       "      <td>9</td>\n",
       "      <td>GREAT</td>\n",
       "    </tr>\n",
       "  </tbody>\n",
       "</table>\n",
       "</div>"
      ],
      "text/plain": [
       "    topic_1   topic_2   topic_3   topic_4   topic_5   topic_6   topic_7  \\\n",
       "0  0.080745  0.080745  0.051760  0.080745  0.153209  0.051760  0.051760   \n",
       "1  0.076190  0.059524  0.076190  0.059524  0.059524  0.059524  0.076190   \n",
       "2  0.087912  0.068681  0.068681  0.068681  0.068681  0.068681  0.068681   \n",
       "3  0.075534  0.041051  0.075534  0.041051  0.052545  0.052545  0.041051   \n",
       "4  0.082143  0.082143  0.044643  0.057143  0.057143  0.082143  0.044643   \n",
       "\n",
       "    topic_8   topic_9  topic_10  topic_11  topic_12  topic_13  topic_14  \\\n",
       "0  0.124224  0.051760  0.051760  0.066253  0.051760  0.051760  0.051760   \n",
       "1  0.059524  0.059524  0.076190  0.092857  0.092857  0.059524  0.092857   \n",
       "2  0.068681  0.068681  0.068681  0.087912  0.068681  0.068681  0.068681   \n",
       "3  0.213465  0.121511  0.041051  0.052545  0.064039  0.041051  0.087028   \n",
       "4  0.057143  0.044643  0.144643  0.057143  0.044643  0.157143  0.044643   \n",
       "\n",
       "   rating New_Rating  \n",
       "0      10      GREAT  \n",
       "1       8      GREAT  \n",
       "2       9      GREAT  \n",
       "3       9      GREAT  \n",
       "4       9      GREAT  "
      ]
     },
     "execution_count": 61,
     "metadata": {},
     "output_type": "execute_result"
    }
   ],
   "source": [
    "model_data=Reviews_data1.drop(['dominant_topic', 'drugName', 'condition','review','usefulCount','year'], axis=1)\n",
    "model_data['New_Rating'] = np.where(\n",
    "     model_data['rating'].between(1,6, inclusive=True), \n",
    "    'BAD', \n",
    "     np.where(\n",
    "        model_data['rating'].between(7,10, inclusive=True), 'GREAT','None'\n",
    "     )\n",
    ")\n",
    "model_data.head()"
   ]
  },
  {
   "cell_type": "code",
   "execution_count": 62,
   "metadata": {},
   "outputs": [
    {
     "data": {
      "text/html": [
       "<div>\n",
       "<style scoped>\n",
       "    .dataframe tbody tr th:only-of-type {\n",
       "        vertical-align: middle;\n",
       "    }\n",
       "\n",
       "    .dataframe tbody tr th {\n",
       "        vertical-align: top;\n",
       "    }\n",
       "\n",
       "    .dataframe thead th {\n",
       "        text-align: right;\n",
       "    }\n",
       "</style>\n",
       "<table border=\"1\" class=\"dataframe\">\n",
       "  <thead>\n",
       "    <tr style=\"text-align: right;\">\n",
       "      <th></th>\n",
       "      <th>topic_1</th>\n",
       "      <th>topic_2</th>\n",
       "      <th>topic_3</th>\n",
       "      <th>topic_4</th>\n",
       "      <th>topic_5</th>\n",
       "      <th>topic_6</th>\n",
       "      <th>topic_7</th>\n",
       "      <th>topic_8</th>\n",
       "      <th>topic_9</th>\n",
       "      <th>topic_10</th>\n",
       "      <th>topic_11</th>\n",
       "      <th>topic_12</th>\n",
       "      <th>topic_13</th>\n",
       "      <th>topic_14</th>\n",
       "      <th>New_Rating</th>\n",
       "    </tr>\n",
       "  </thead>\n",
       "  <tbody>\n",
       "    <tr>\n",
       "      <th>0</th>\n",
       "      <td>0.080745</td>\n",
       "      <td>0.080745</td>\n",
       "      <td>0.051760</td>\n",
       "      <td>0.080745</td>\n",
       "      <td>0.153209</td>\n",
       "      <td>0.051760</td>\n",
       "      <td>0.051760</td>\n",
       "      <td>0.124224</td>\n",
       "      <td>0.051760</td>\n",
       "      <td>0.051760</td>\n",
       "      <td>0.066253</td>\n",
       "      <td>0.051760</td>\n",
       "      <td>0.051760</td>\n",
       "      <td>0.051760</td>\n",
       "      <td>GREAT</td>\n",
       "    </tr>\n",
       "    <tr>\n",
       "      <th>1</th>\n",
       "      <td>0.076190</td>\n",
       "      <td>0.059524</td>\n",
       "      <td>0.076190</td>\n",
       "      <td>0.059524</td>\n",
       "      <td>0.059524</td>\n",
       "      <td>0.059524</td>\n",
       "      <td>0.076190</td>\n",
       "      <td>0.059524</td>\n",
       "      <td>0.059524</td>\n",
       "      <td>0.076190</td>\n",
       "      <td>0.092857</td>\n",
       "      <td>0.092857</td>\n",
       "      <td>0.059524</td>\n",
       "      <td>0.092857</td>\n",
       "      <td>GREAT</td>\n",
       "    </tr>\n",
       "    <tr>\n",
       "      <th>2</th>\n",
       "      <td>0.087912</td>\n",
       "      <td>0.068681</td>\n",
       "      <td>0.068681</td>\n",
       "      <td>0.068681</td>\n",
       "      <td>0.068681</td>\n",
       "      <td>0.068681</td>\n",
       "      <td>0.068681</td>\n",
       "      <td>0.068681</td>\n",
       "      <td>0.068681</td>\n",
       "      <td>0.068681</td>\n",
       "      <td>0.087912</td>\n",
       "      <td>0.068681</td>\n",
       "      <td>0.068681</td>\n",
       "      <td>0.068681</td>\n",
       "      <td>GREAT</td>\n",
       "    </tr>\n",
       "    <tr>\n",
       "      <th>3</th>\n",
       "      <td>0.075534</td>\n",
       "      <td>0.041051</td>\n",
       "      <td>0.075534</td>\n",
       "      <td>0.041051</td>\n",
       "      <td>0.052545</td>\n",
       "      <td>0.052545</td>\n",
       "      <td>0.041051</td>\n",
       "      <td>0.213465</td>\n",
       "      <td>0.121511</td>\n",
       "      <td>0.041051</td>\n",
       "      <td>0.052545</td>\n",
       "      <td>0.064039</td>\n",
       "      <td>0.041051</td>\n",
       "      <td>0.087028</td>\n",
       "      <td>GREAT</td>\n",
       "    </tr>\n",
       "    <tr>\n",
       "      <th>4</th>\n",
       "      <td>0.082143</td>\n",
       "      <td>0.082143</td>\n",
       "      <td>0.044643</td>\n",
       "      <td>0.057143</td>\n",
       "      <td>0.057143</td>\n",
       "      <td>0.082143</td>\n",
       "      <td>0.044643</td>\n",
       "      <td>0.057143</td>\n",
       "      <td>0.044643</td>\n",
       "      <td>0.144643</td>\n",
       "      <td>0.057143</td>\n",
       "      <td>0.044643</td>\n",
       "      <td>0.157143</td>\n",
       "      <td>0.044643</td>\n",
       "      <td>GREAT</td>\n",
       "    </tr>\n",
       "  </tbody>\n",
       "</table>\n",
       "</div>"
      ],
      "text/plain": [
       "    topic_1   topic_2   topic_3   topic_4   topic_5   topic_6   topic_7  \\\n",
       "0  0.080745  0.080745  0.051760  0.080745  0.153209  0.051760  0.051760   \n",
       "1  0.076190  0.059524  0.076190  0.059524  0.059524  0.059524  0.076190   \n",
       "2  0.087912  0.068681  0.068681  0.068681  0.068681  0.068681  0.068681   \n",
       "3  0.075534  0.041051  0.075534  0.041051  0.052545  0.052545  0.041051   \n",
       "4  0.082143  0.082143  0.044643  0.057143  0.057143  0.082143  0.044643   \n",
       "\n",
       "    topic_8   topic_9  topic_10  topic_11  topic_12  topic_13  topic_14  \\\n",
       "0  0.124224  0.051760  0.051760  0.066253  0.051760  0.051760  0.051760   \n",
       "1  0.059524  0.059524  0.076190  0.092857  0.092857  0.059524  0.092857   \n",
       "2  0.068681  0.068681  0.068681  0.087912  0.068681  0.068681  0.068681   \n",
       "3  0.213465  0.121511  0.041051  0.052545  0.064039  0.041051  0.087028   \n",
       "4  0.057143  0.044643  0.144643  0.057143  0.044643  0.157143  0.044643   \n",
       "\n",
       "  New_Rating  \n",
       "0      GREAT  \n",
       "1      GREAT  \n",
       "2      GREAT  \n",
       "3      GREAT  \n",
       "4      GREAT  "
      ]
     },
     "execution_count": 62,
     "metadata": {},
     "output_type": "execute_result"
    }
   ],
   "source": [
    "model_data.drop('rating',axis=1,inplace=True)\n",
    "model_data.head()"
   ]
  },
  {
   "cell_type": "markdown",
   "metadata": {},
   "source": [
    "It is here that we realize that our dataset has imbalanced classes, where there are almost twice as many \"Great\" reviews as \"BAD\" reviews. We should correct for this seperation in class counts by randomly undersampling the majority class. Of course, as with other imbalanced class methods, by randomly undersampling we might lose information in the data,  but random undersampling has been shown to work pretty well in most cases."
   ]
  },
  {
   "cell_type": "code",
   "execution_count": 63,
   "metadata": {},
   "outputs": [],
   "source": [
    "from sklearn.ensemble import RandomForestClassifier\n",
    "from sklearn import metrics\n",
    "from sklearn.linear_model import LogisticRegression\n",
    "from sklearn import svm\n",
    "from sklearn.model_selection import KFold\n",
    "from sklearn.model_selection import StratifiedKFold\n",
    "from sklearn.metrics import classification_report\n",
    "from sklearn.metrics import f1_score\n",
    "from sklearn.metrics import recall_score, accuracy_score\n",
    "from sklearn.metrics import confusion_matrix\n",
    "from sklearn.discriminant_analysis import LinearDiscriminantAnalysis\n",
    "from sklearn.linear_model import SGDClassifier\n",
    "from sklearn.model_selection import GridSearchCV\n",
    "\n"
   ]
  },
  {
   "cell_type": "code",
   "execution_count": 64,
   "metadata": {},
   "outputs": [
    {
     "name": "stdout",
     "output_type": "stream",
     "text": [
      "Distribution of class labels before resampling Counter({'GREAT': 35440, 'BAD': 18326}) \n",
      "Distribution of class labels after resampling Counter({'BAD': 18326, 'GREAT': 18326}) \n"
     ]
    }
   ],
   "source": [
    "bads = len(model_data[model_data['New_Rating'] == 'BAD'])\n",
    "good_indices = model_data[model_data.New_Rating == 'GREAT'].index\n",
    "random_indices = np.random.choice(good_indices,bads, replace=False)\n",
    "bads_indices= model_data[model_data.New_Rating == 'BAD'].index\n",
    "under_sample_indices = np.concatenate([bads_indices,random_indices])\n",
    "under_sample = model_data.loc[under_sample_indices]\n",
    "under_sample.New_Rating.value_counts()\n",
    "from collections import Counter\n",
    "print(\"Distribution of class labels before resampling {} \" . format(Counter(model_data.New_Rating)))\n",
    "print(\"Distribution of class labels after resampling {} \" .format(Counter(under_sample.New_Rating)))"
   ]
  },
  {
   "cell_type": "markdown",
   "metadata": {},
   "source": [
    "Now we have that our classes are even and we have undersampled our majority class to be equivalent to the minority class, we can build our machine learning model from this and see what how our results turn out."
   ]
  },
  {
   "cell_type": "code",
   "execution_count": 65,
   "metadata": {},
   "outputs": [
    {
     "name": "stdout",
     "output_type": "stream",
     "text": [
      "Reports for model :  Softmax Regression\n",
      "              precision    recall  f1-score   support\n",
      "\n",
      "         BAD       0.62      0.61      0.61      4538\n",
      "       GREAT       0.62      0.63      0.62      4625\n",
      "\n",
      "   micro avg       0.62      0.62      0.62      9163\n",
      "   macro avg       0.62      0.62      0.62      9163\n",
      "weighted avg       0.62      0.62      0.62      9163\n",
      "\n",
      "[[2757 1781]\n",
      " [1720 2905]]\n"
     ]
    },
    {
     "name": "stderr",
     "output_type": "stream",
     "text": [
      "C:\\ProgramData\\Anaconda3\\lib\\site-packages\\sklearn\\ensemble\\forest.py:246: FutureWarning: The default value of n_estimators will change from 10 in version 0.20 to 100 in 0.22.\n",
      "  \"10 in version 0.20 to 100 in 0.22.\", FutureWarning)\n"
     ]
    },
    {
     "name": "stdout",
     "output_type": "stream",
     "text": [
      "Reports for model :  Random Forest\n",
      "              precision    recall  f1-score   support\n",
      "\n",
      "         BAD       0.58      0.66      0.62      4538\n",
      "       GREAT       0.61      0.52      0.57      4625\n",
      "\n",
      "   micro avg       0.59      0.59      0.59      9163\n",
      "   macro avg       0.60      0.59      0.59      9163\n",
      "weighted avg       0.60      0.59      0.59      9163\n",
      "\n",
      "[[3014 1524]\n",
      " [2198 2427]]\n",
      "Reports for model :  SVM\n",
      "              precision    recall  f1-score   support\n",
      "\n",
      "         BAD       0.62      0.61      0.61      4538\n",
      "       GREAT       0.62      0.63      0.63      4625\n",
      "\n",
      "   micro avg       0.62      0.62      0.62      9163\n",
      "   macro avg       0.62      0.62      0.62      9163\n",
      "weighted avg       0.62      0.62      0.62      9163\n",
      "\n",
      "[[2755 1783]\n",
      " [1709 2916]]\n",
      "Reports for model :  Naive Bayes\n",
      "              precision    recall  f1-score   support\n",
      "\n",
      "         BAD       0.57      0.72      0.64      4538\n",
      "       GREAT       0.63      0.47      0.54      4625\n",
      "\n",
      "   micro avg       0.59      0.59      0.59      9163\n",
      "   macro avg       0.60      0.60      0.59      9163\n",
      "weighted avg       0.60      0.59      0.59      9163\n",
      "\n",
      "[[3257 1281]\n",
      " [2439 2186]]\n"
     ]
    },
    {
     "data": {
      "text/plain": [
       "[0.617878800710364, 0.5918791837839404, 0.6188480118269764, 0.5879394481062556]"
      ]
     },
     "execution_count": 65,
     "metadata": {},
     "output_type": "execute_result"
    }
   ],
   "source": [
    "from sklearn.metrics import f1_score\n",
    "from sklearn.model_selection import RandomizedSearchCV\n",
    "from sklearn.model_selection import train_test_split\n",
    "from sklearn.svm import SVC \n",
    "from sklearn.linear_model import SGDClassifier\n",
    "from sklearn.naive_bayes import GaussianNB\n",
    "X_train , X_test , y_train , y_test = train_test_split(under_sample.drop(['New_Rating'], axis = 1), under_sample[['New_Rating']] , test_size = 0.25, random_state=42)\n",
    "\n",
    "f1_scores=[]\n",
    "models = [['Softmax Regression',LogisticRegression(solver='newton-cg')],\n",
    "           ['Random Forest', RandomForestClassifier()],\n",
    "         ['SVM', SVC(kernel='linear')],\n",
    "         ['Naive Bayes', GaussianNB()]]\n",
    "for name,model in models:\n",
    "    model = model\n",
    "    if name=='Random Forest':\n",
    "        max_features = ['auto', 'sqrt']\n",
    "        n_estimators = [int(x) for x in np.linspace(start = 200, stop = 2000, num = 10)]\n",
    "        random_grid={'max_features : ' : max_features, 'n_estimators :' : n_estimators}\n",
    "        classifier=RandomizedSearchCV(estimator = model, param_distributions = random_grid, n_iter = 100, cv = 3, verbose=2, random_state=42, n_jobs = -1)\n",
    "    classifier=model.fit(X_train, np.ravel(y_train, order='C'))\n",
    "    predictions = classifier.predict(X_test)\n",
    "    f1_scores.append(f1_score(y_test, predictions, average='weighted'))  \n",
    "    print(\"Reports for model : \" + \" \" + name)\n",
    "    print(classification_report(y_test, predictions))\n",
    "    print(confusion_matrix(y_test, predictions))\n",
    "\n",
    "f1_scores"
   ]
  },
  {
   "cell_type": "code",
   "execution_count": null,
   "metadata": {},
   "outputs": [],
   "source": [
    "df = pd.DataFrame({'F1_Scores': f1_scores, 'classifiers': ['Logistic Regression', 'Random Forest', 'SVM', 'NB']})\n",
    "sns.set_style(\"whitegrid\")\n",
    "plt.figure(figsize=(7, 5))\n",
    "ax = sns.barplot(x=\"classifiers\", y=\"F1_Scores\", data=df)\n",
    "ax.set_ylim([.30, .65])  \n",
    "ax.set_title(\"Classifiers and their F1 Scores\")\n",
    "ax.set(xlabel='Classifier',ylabel='F1 Score')"
   ]
  },
  {
   "cell_type": "markdown",
   "metadata": {},
   "source": [
    "## 4.1 Results "
   ]
  },
  {
   "cell_type": "markdown",
   "metadata": {},
   "source": [
    "Each of our classifiers was not able to achieve high accuracy as noted by the confusion matrix and the F1 scores, each of the models only performs marginally better than guessing in this binary classification setting. Logistic Regression, however, did perform best and we could tune hyperparameters in effort to get slightly better results. Morever, it is not surprising to see that Logistic Regression and SVM performed similarly in predictability because their intuition for classification is very related\n",
    "\n",
    "The challenge here is that possibly for this dataset in particular, the distribution of topics are not good input features for machine learning models that predict the reviewer satisfaction. We may need to add better features that would make our model learn better connections between the predictors and target variable. Because the problem with topic modeling is about inferring the hidden structure of the text and it does not represent the text in a literal way, this could also contribute to the poor features.\n",
    "\n",
    "But this does not mean we cannot improve. There are adjusted methods of LDA topic modeling that allow the user to specify seed words (or priors) for the topic model to converge into a certain direction. This is to say that we can specify that we want the words *joint* and *knee* to be one topic for itself. According to individuals that developed these methods, they say that when we have for example two topics that should be on their own but are frequently mentioned together or there are not enough documents about them, the topics will get mixed together.\n",
    "\n",
    "The implementation we just described can be done through GuidedLDA, and there is documentation for it in the following link. It would take several iterations of finding topics that one expects to be comprised of in this corpus and setting seed words to get better quality topics, so we omit this process in the sake of time but one can refer to think link below to learn more.\n",
    "\n",
    "https://github.com/vi3k6i5/GuidedLDA"
   ]
  },
  {
   "cell_type": "markdown",
   "metadata": {},
   "source": [
    "We now turn our attention to a different problem : Text Classification. In this way, we will read in the text directly and vectorize our reviews so that we can use it to predict the rating. "
   ]
  },
  {
   "cell_type": "markdown",
   "metadata": {},
   "source": [
    "## (5) Text Classification"
   ]
  },
  {
   "cell_type": "markdown",
   "metadata": {},
   "source": [
    "We will begin our discussion of text classification by introducing the Naive Bayes classifier and how it solve problems, which is one of the most accurate and useful classifiers in machine learning as well as NLP tasks.\n",
    "\n",
    "Naive bayes falls under a probabilistic algorithm that utilizes Bayes Theorem and probability to assign a class to a given text. It is probabalisitc because if there are $ C $ classes $ C1 $ and $ C2 $ , the method will calculate the probability of the text pertaining to each class and then assign the class with the highest one.\n",
    "\n",
    "Let's consider a toy example of a training set of 5 obervations\n",
    "\n",
    "-  **Math is fun | MATH**\n",
    "-  **Made him quit smoking | HEALTH**\n",
    "-  **I lost apetitite | HEALTH**\n",
    "-  **Chantix made him quit | HEALTH**\n",
    "-  **math is like your soul | MATH**\n",
    "\n",
    "And the following test observation\n",
    "\n",
    "-  **Fun made me quit smoking soul | ? **\n",
    "\n",
    "So we want to know which class the test observation belongs to and to do that we need to find\n",
    "\n",
    "$$ P(\\text{MATH} | \\text{fun made me quit smoking soul}) $$\n",
    "$$ P(\\text{HEALTH} | \\text{fun made me quit smoking soul}) $$\n",
    "\n",
    "Given that bayes rules is\n",
    "\n",
    "$$ P(A | B ) = \\frac{P(B | A)P(A)}{P(B)}$$\n",
    "\n",
    "We can now write\n",
    "\n",
    "$$ P(\\text{MATH} | \\text{fun made me quit smoking soul}) = \\frac{P(\\text{fun made me quit smoking soul}|\\text{MATH})*P(\\text{MATH})}{P(\\text{fun made me quit smoking soul})} $$\n",
    "\n",
    "and\n",
    "\n",
    "$$ P(\\text{HEALTH} | \\text{fun made me quit smoking soul}) = \\frac{P(\\text{fun made me quit smoking soul}|\\text{HEALTH})*P(\\text{HEALTH})}{P(\\text{fun made me quit smoking soul})} $$\n",
    "\n",
    "Note that we can ignore the denominator because we are only interested in *comparing* the posterior probabilities\n",
    "\n",
    "Fortunately the naive assumption allows us to assume independence between words in a sentence so we can actually say that the numerator is\n",
    "\n",
    "$$P(Fun | HEALTH) * P(made | HEALTH) * P(me | HEALTH) * P(quit | HEALTH) * P(smoking | HEALTH) * P(soul | HEALTH)$$\n",
    "\n",
    "and we can say it similarly for the other class\n",
    "\n",
    "In the following expression, since there will be times that a word does not appear within the text of a certain class, we apply **Laplace Smoothing** by adding 1 to each count and normalizing adding the number of vocabulary in the divisor.\n",
    "\n",
    "So we get\n",
    "\n",
    "$$ \\frac{0 + 1}{11 +14} \\times \\frac{2+ 1}{11 +14} \\times \\frac{0+ 1}{11 +14} \\times \\frac{2+1}{11 +14} \\times \\frac{1+1}{11 +14} \\times \\frac{0+ 1}{11 +14} $$\n",
    "\n",
    "and multiply that quantity by the prior which is $$ P (HEALTH) = \\frac{3}{5} $$\n",
    "\n",
    "All one would do next follow the same procedure for the MATH class and compare which of the posterior probabilities are greater and the given text is assigned to that class. This is the general idea of how this classifier works with text data and now we will do some coding and see what kind of results we get\n"
   ]
  },
  {
   "cell_type": "markdown",
   "metadata": {},
   "source": [
    "As we did before, we once again randomly undersample the majority class so we have a balanced dataset"
   ]
  },
  {
   "cell_type": "code",
   "execution_count": 66,
   "metadata": {},
   "outputs": [
    {
     "name": "stdout",
     "output_type": "stream",
     "text": [
      "Distribution of class labels before resampling Counter({'GREAT': 35440, 'BAD': 18326}) \n",
      "Distribution of class labels after resampling Counter({'BAD': 18326, 'GREAT': 18326}) \n"
     ]
    }
   ],
   "source": [
    "model_data1=pd.concat([Reviews.review, model_data.New_Rating],axis=1)\n",
    "bads = len(model_data1[model_data1['New_Rating'] == 'BAD'])\n",
    "good_indices = model_data1[model_data1.New_Rating == 'GREAT'].index\n",
    "random_indices = np.random.choice(good_indices,bads, replace=False)\n",
    "bads_indices= model_data1[model_data1.New_Rating == 'BAD'].index\n",
    "under_sample_indices = np.concatenate([bads_indices,random_indices])\n",
    "under_sample1 = model_data1.loc[under_sample_indices]\n",
    "under_sample.New_Rating.value_counts()\n",
    "print(\"Distribution of class labels before resampling {} \" . format(Counter(model_data1.New_Rating)))\n",
    "print(\"Distribution of class labels after resampling {} \" .format(Counter(under_sample1.New_Rating)))"
   ]
  },
  {
   "cell_type": "code",
   "execution_count": 67,
   "metadata": {},
   "outputs": [
    {
     "data": {
      "text/plain": [
       "<27489x15203 sparse matrix of type '<class 'numpy.int64'>'\n",
       "\twith 523015 stored elements in Compressed Sparse Row format>"
      ]
     },
     "execution_count": 67,
     "metadata": {},
     "output_type": "execute_result"
    }
   ],
   "source": [
    "from sklearn.model_selection import train_test_split\n",
    "#Split data into train and test sets\n",
    "X_train, X_test, y_train, y_test = train_test_split(under_sample1['review'],under_sample1['New_Rating'],random_state=0)\n",
    "from sklearn.feature_extraction.text import CountVectorizer\n",
    "from sklearn.naive_bayes import MultinomialNB\n",
    "from sklearn.metrics import roc_auc_score\n",
    "#Train and evaluate the model\n",
    "vect = CountVectorizer().fit(X_train)\n",
    "X_train_vectorized = vect.transform(X_train)\n",
    "X_train_vectorized"
   ]
  },
  {
   "cell_type": "markdown",
   "metadata": {},
   "source": [
    "Vectorizing our text gives us a sparse matrix which is 27489 x 15203. It is sparse because per document, much of the features (individual vocabularies) are not contained and so we have many zero values across our matrix. "
   ]
  },
  {
   "cell_type": "code",
   "execution_count": 68,
   "metadata": {},
   "outputs": [
    {
     "name": "stdout",
     "output_type": "stream",
     "text": [
      "[[3414 1099]\n",
      " [1151 3499]]\n",
      "              precision    recall  f1-score   support\n",
      "\n",
      "         BAD       0.75      0.76      0.75      4513\n",
      "       GREAT       0.76      0.75      0.76      4650\n",
      "\n",
      "   micro avg       0.75      0.75      0.75      9163\n",
      "   macro avg       0.75      0.75      0.75      9163\n",
      "weighted avg       0.75      0.75      0.75      9163\n",
      "\n"
     ]
    }
   ],
   "source": [
    "clfrNB = MultinomialNB(alpha = 8)\n",
    "clfrNB.fit(X_train_vectorized, y_train)\n",
    "preds = clfrNB.predict(vect.transform(X_test))\n",
    "print(confusion_matrix(y_test, preds))\n",
    "print(classification_report(y_test, preds))"
   ]
  },
  {
   "cell_type": "markdown",
   "metadata": {},
   "source": [
    "We have achieved higher precision, recall, and F1 Scores using this prediction method. We went from an F1 score of about .60 to .75 now, a very good baseline classifier.  "
   ]
  },
  {
   "cell_type": "markdown",
   "metadata": {},
   "source": [
    "SVMs are aso another commonly used method to for document classification. We will implement LinearSVC() rather than SVC(kernel = 'linear') because the latter does not scale well with the number of training instances and may be too slow on large datasets. String kernels are also used in document classification, but we should always try with the linear kernel first with an effective grid search across C and the penalty. Although we have data now with a high number of features, we will set duality = False because we are still in the case that the number of features < number of training instances\n",
    "\n",
    "In summary here are a few other ways we can implement an SVM classifier here\n",
    "\n",
    "-  **SGDClassifier(loss=\"hinge\", alpha=1/(m*C))**\n",
    "-  **SVC(kernel=\"linear\", C=1)**\n"
   ]
  },
  {
   "cell_type": "code",
   "execution_count": 71,
   "metadata": {},
   "outputs": [
    {
     "name": "stdout",
     "output_type": "stream",
     "text": [
      "[[3539  974]\n",
      " [1166 3484]]\n",
      "              precision    recall  f1-score   support\n",
      "\n",
      "         BAD       0.75      0.78      0.77      4513\n",
      "       GREAT       0.78      0.75      0.77      4650\n",
      "\n",
      "   micro avg       0.77      0.77      0.77      9163\n",
      "   macro avg       0.77      0.77      0.77      9163\n",
      "weighted avg       0.77      0.77      0.77      9163\n",
      "\n"
     ]
    }
   ],
   "source": [
    "from sklearn.svm import LinearSVC\n",
    "C = [0.001, 0.01, 0.1, 1, 10]\n",
    "penalty = ['l1','l2']\n",
    "param_grid = {'C': C, 'penalty': penalty}\n",
    "grid_search = GridSearchCV(LinearSVC(max_iter=10000, dual=False), param_grid, cv=3)\n",
    "grid_search.fit(X_train_vectorized, y_train)\n",
    "preds = grid_search.predict(vect.transform(X_test))\n",
    "print(confusion_matrix(y_test, preds))\n",
    "print(classification_report(y_test, preds))"
   ]
  },
  {
   "cell_type": "markdown",
   "metadata": {},
   "source": [
    "It turns out that the SVC performed better for this classification task than Naive Bayes, with an F1 score of .77. Of course there are more ways to structure our text to increase predictive power further, but a linear SVM classifier nonetheless, is still performing well."
   ]
  },
  {
   "cell_type": "markdown",
   "metadata": {},
   "source": [
    "## Acknowledgements"
   ]
  },
  {
   "cell_type": "markdown",
   "metadata": {},
   "source": [
    "Thank you to UCLA statistics professor Chen Miles for supervising me with this project and providing me with the input I needed to succeed\n",
    "\n",
    "Also a big thanks to many members of stack-overflow who provided me first-hand help with either coding issues, importing modules, and understanding how to structure text data in a corpus"
   ]
  },
  {
   "cell_type": "markdown",
   "metadata": {},
   "source": [
    "## References"
   ]
  },
  {
   "cell_type": "markdown",
   "metadata": {},
   "source": [
    "Sievert, Carson, and Kenneth Shirley. \"LDAvis: A method for visualizing and interpreting topics.\" *The Stanford Natural Language Processing Group*, 27 June 2014\n",
    "\n",
    "Géron, Aurélien. *Hands-On Machine Learning with Scikit-Learn and TensorFlow: Concepts, Tools, and Techniques to Build Intelligent Systems*. O'Reilly Media, 2017.\n",
    "\n",
    "Chollet, Francois. *Deep Learning with Python*. Manning Publications, 2017.\n",
    "\n",
    "Jurafsky, Dan, and James H. Martin. *Speech and Language Processing: An Introduction to Natural Language Processing, Computational Linguistics, and Speech Recognition*. 2nd ed., Prentice Hall, 2008.\n",
    "\n",
    "Moore, Ajinkya. \"Survey of resampling techniques for improving classification performance in unbalanced datasets.\" 22 Aug. 2016, https://arxiv.org/pdf/1608.06048.pdf.\n",
    "\n",
    "\"Topic Modeling with Gensim (Python).\" *Machine Learning Plus*, 4 Dec. 2018, www.machinelearningplus.com/nlp/topic-modeling-gensim-python/."
   ]
  }
 ],
 "metadata": {
  "kernelspec": {
   "display_name": "Python 3",
   "language": "python",
   "name": "python3"
  },
  "language_info": {
   "codemirror_mode": {
    "name": "ipython",
    "version": 3
   },
   "file_extension": ".py",
   "mimetype": "text/x-python",
   "name": "python",
   "nbconvert_exporter": "python",
   "pygments_lexer": "ipython3",
   "version": "3.7.1"
  }
 },
 "nbformat": 4,
 "nbformat_minor": 2
}
